{
  "nbformat": 4,
  "nbformat_minor": 0,
  "metadata": {
    "accelerator": "GPU",
    "colab": {
      "name": "trabalho_antoniommenezes.ipynb",
      "provenance": [],
      "collapsed_sections": [],
      "toc_visible": true
    },
    "kernelspec": {
      "display_name": "Python 3",
      "language": "python",
      "name": "python3"
    },
    "language_info": {
      "codemirror_mode": {
        "name": "ipython",
        "version": 3
      },
      "file_extension": ".py",
      "mimetype": "text/x-python",
      "name": "python",
      "nbconvert_exporter": "python",
      "pygments_lexer": "ipython3",
      "version": "3.7.0"
    }
  },
  "cells": [
    {
      "cell_type": "markdown",
      "metadata": {
        "colab_type": "text",
        "id": "pC5YoXrAneLo"
      },
      "source": [
        "# Trabalho Deep Learning\n",
        "\n"
      ]
    },
    {
      "cell_type": "markdown",
      "metadata": {
        "colab_type": "text",
        "id": "SS50hpqhneLp"
      },
      "source": [
        "## Bibliotecas Utilizadas"
      ]
    },
    {
      "cell_type": "code",
      "metadata": {
        "colab_type": "code",
        "id": "9W4BgYdDneLr",
        "colab": {
          "base_uri": "https://localhost:8080/",
          "height": 811
        },
        "outputId": "60612b00-2cfb-4903-d2e8-66cb893e35f5"
      },
      "source": [
        "# Básicas\n",
        "import pandas as pd\n",
        "import numpy as np\n",
        "import csv\n",
        "\n",
        "# Salvar e carregar arquivos\n",
        "import pickle\n",
        "\n",
        "# Preprocessamento de textos\n",
        "# NLTK\n",
        "import nltk\n",
        "from nltk import word_tokenize\n",
        "from nltk.tokenize import RegexpTokenizer\n",
        "from nltk.stem import PorterStemmer\n",
        "from nltk.corpus import stopwords\n",
        "nltk.download('stopwords')\n",
        "nltk.download('punkt')\n",
        "\n",
        "# Spacy\n",
        "!python -m spacy download pt_core_news_sm\n",
        "import spacy\n",
        "spacy.prefer_gpu() \n",
        "import pt_core_news_sm\n",
        "#nlp = spacy.load(\"pt_core_news_sm\")\n",
        "nlp = pt_core_news_sm.load()\n",
        "from spacy.symbols import nsubj, VERB, obj\n",
        "\n",
        "import re\n",
        "from string import punctuation\n",
        "from unicodedata import normalize\n",
        "!pip install Unidecode\n",
        "from unidecode import unidecode\n",
        "\n",
        "# Métricas, estatísticas e visualização\n",
        "import matplotlib.pyplot as plt\n",
        "from sklearn.metrics import accuracy_score, f1_score, confusion_matrix\n",
        "from sklearn.metrics import precision_score, recall_score\n",
        "from statistics import mean \n",
        "\n",
        "# Vetorização\n",
        "from sklearn.feature_extraction.text import CountVectorizer, TfidfVectorizer\n",
        "\n",
        "# Modelos e auxiliares\n",
        "from sklearn import model_selection\n",
        "from sklearn.model_selection import train_test_split\n",
        "from sklearn.model_selection import StratifiedKFold\n",
        "\n",
        "# Classificadores\n",
        "from sklearn.naive_bayes import MultinomialNB\n",
        "from sklearn import naive_bayes, svm\n",
        "from sklearn.linear_model import LogisticRegression, SGDClassifier\n",
        "from sklearn.ensemble import RandomForestClassifier\n",
        "from sklearn.svm import LinearSVC\n",
        "from sklearn.pipeline import Pipeline\n",
        "from sklearn.preprocessing import LabelEncoder, LabelBinarizer\n",
        "\n",
        "# Keras\n",
        "from keras import layers\n",
        "from keras.layers.core import Dense, Activation, Flatten\n",
        "from keras.layers import LSTM, SpatialDropout1D, Dropout, Bidirectional, GRU\n",
        "from keras.layers.embeddings import Embedding\n",
        "from keras.utils import to_categorical\n",
        "from keras.utils import np_utils\n",
        "from keras.preprocessing import sequence\n",
        "from keras.preprocessing.text import Tokenizer\n",
        "from keras.models import Model\n",
        "from keras.models import Sequential\n",
        "from keras.models import load_model\n",
        "from keras.preprocessing.text import one_hot\n",
        "from keras.callbacks import ModelCheckpoint, EarlyStopping\n",
        "\n",
        "# Utilitárias\n",
        "!pip install googletrans\n",
        "from googletrans import Translator\n",
        "!pip install wget\n",
        "import wget\n",
        "import zipfile"
      ],
      "execution_count": 1,
      "outputs": [
        {
          "output_type": "stream",
          "text": [
            "[nltk_data] Downloading package stopwords to /root/nltk_data...\n",
            "[nltk_data]   Package stopwords is already up-to-date!\n",
            "[nltk_data] Downloading package punkt to /root/nltk_data...\n",
            "[nltk_data]   Package punkt is already up-to-date!\n",
            "Requirement already satisfied: pt_core_news_sm==2.2.5 from https://github.com/explosion/spacy-models/releases/download/pt_core_news_sm-2.2.5/pt_core_news_sm-2.2.5.tar.gz#egg=pt_core_news_sm==2.2.5 in /usr/local/lib/python3.6/dist-packages (2.2.5)\n",
            "Requirement already satisfied: spacy>=2.2.2 in /usr/local/lib/python3.6/dist-packages (from pt_core_news_sm==2.2.5) (2.2.4)\n",
            "Requirement already satisfied: setuptools in /usr/local/lib/python3.6/dist-packages (from spacy>=2.2.2->pt_core_news_sm==2.2.5) (49.6.0)\n",
            "Requirement already satisfied: thinc==7.4.0 in /usr/local/lib/python3.6/dist-packages (from spacy>=2.2.2->pt_core_news_sm==2.2.5) (7.4.0)\n",
            "Requirement already satisfied: catalogue<1.1.0,>=0.0.7 in /usr/local/lib/python3.6/dist-packages (from spacy>=2.2.2->pt_core_news_sm==2.2.5) (1.0.0)\n",
            "Requirement already satisfied: wasabi<1.1.0,>=0.4.0 in /usr/local/lib/python3.6/dist-packages (from spacy>=2.2.2->pt_core_news_sm==2.2.5) (0.7.1)\n",
            "Requirement already satisfied: murmurhash<1.1.0,>=0.28.0 in /usr/local/lib/python3.6/dist-packages (from spacy>=2.2.2->pt_core_news_sm==2.2.5) (1.0.2)\n",
            "Requirement already satisfied: tqdm<5.0.0,>=4.38.0 in /usr/local/lib/python3.6/dist-packages (from spacy>=2.2.2->pt_core_news_sm==2.2.5) (4.41.1)\n",
            "Requirement already satisfied: preshed<3.1.0,>=3.0.2 in /usr/local/lib/python3.6/dist-packages (from spacy>=2.2.2->pt_core_news_sm==2.2.5) (3.0.2)\n",
            "Requirement already satisfied: cymem<2.1.0,>=2.0.2 in /usr/local/lib/python3.6/dist-packages (from spacy>=2.2.2->pt_core_news_sm==2.2.5) (2.0.3)\n",
            "Requirement already satisfied: plac<1.2.0,>=0.9.6 in /usr/local/lib/python3.6/dist-packages (from spacy>=2.2.2->pt_core_news_sm==2.2.5) (1.1.3)\n",
            "Requirement already satisfied: blis<0.5.0,>=0.4.0 in /usr/local/lib/python3.6/dist-packages (from spacy>=2.2.2->pt_core_news_sm==2.2.5) (0.4.1)\n",
            "Requirement already satisfied: srsly<1.1.0,>=1.0.2 in /usr/local/lib/python3.6/dist-packages (from spacy>=2.2.2->pt_core_news_sm==2.2.5) (1.0.2)\n",
            "Requirement already satisfied: numpy>=1.15.0 in /usr/local/lib/python3.6/dist-packages (from spacy>=2.2.2->pt_core_news_sm==2.2.5) (1.18.5)\n",
            "Requirement already satisfied: requests<3.0.0,>=2.13.0 in /usr/local/lib/python3.6/dist-packages (from spacy>=2.2.2->pt_core_news_sm==2.2.5) (2.23.0)\n",
            "Requirement already satisfied: importlib-metadata>=0.20; python_version < \"3.8\" in /usr/local/lib/python3.6/dist-packages (from catalogue<1.1.0,>=0.0.7->spacy>=2.2.2->pt_core_news_sm==2.2.5) (1.7.0)\n",
            "Requirement already satisfied: chardet<4,>=3.0.2 in /usr/local/lib/python3.6/dist-packages (from requests<3.0.0,>=2.13.0->spacy>=2.2.2->pt_core_news_sm==2.2.5) (3.0.4)\n",
            "Requirement already satisfied: certifi>=2017.4.17 in /usr/local/lib/python3.6/dist-packages (from requests<3.0.0,>=2.13.0->spacy>=2.2.2->pt_core_news_sm==2.2.5) (2020.6.20)\n",
            "Requirement already satisfied: idna<3,>=2.5 in /usr/local/lib/python3.6/dist-packages (from requests<3.0.0,>=2.13.0->spacy>=2.2.2->pt_core_news_sm==2.2.5) (2.10)\n",
            "Requirement already satisfied: urllib3!=1.25.0,!=1.25.1,<1.26,>=1.21.1 in /usr/local/lib/python3.6/dist-packages (from requests<3.0.0,>=2.13.0->spacy>=2.2.2->pt_core_news_sm==2.2.5) (1.24.3)\n",
            "Requirement already satisfied: zipp>=0.5 in /usr/local/lib/python3.6/dist-packages (from importlib-metadata>=0.20; python_version < \"3.8\"->catalogue<1.1.0,>=0.0.7->spacy>=2.2.2->pt_core_news_sm==2.2.5) (3.1.0)\n",
            "\u001b[38;5;2m✔ Download and installation successful\u001b[0m\n",
            "You can now load the model via spacy.load('pt_core_news_sm')\n",
            "Requirement already satisfied: Unidecode in /usr/local/lib/python3.6/dist-packages (1.1.1)\n",
            "Requirement already satisfied: googletrans in /usr/local/lib/python3.6/dist-packages (3.0.0)\n",
            "Requirement already satisfied: httpx==0.13.3 in /usr/local/lib/python3.6/dist-packages (from googletrans) (0.13.3)\n",
            "Requirement already satisfied: hstspreload in /usr/local/lib/python3.6/dist-packages (from httpx==0.13.3->googletrans) (2020.9.9)\n",
            "Requirement already satisfied: rfc3986<2,>=1.3 in /usr/local/lib/python3.6/dist-packages (from httpx==0.13.3->googletrans) (1.4.0)\n",
            "Requirement already satisfied: certifi in /usr/local/lib/python3.6/dist-packages (from httpx==0.13.3->googletrans) (2020.6.20)\n",
            "Requirement already satisfied: httpcore==0.9.* in /usr/local/lib/python3.6/dist-packages (from httpx==0.13.3->googletrans) (0.9.1)\n",
            "Requirement already satisfied: sniffio in /usr/local/lib/python3.6/dist-packages (from httpx==0.13.3->googletrans) (1.1.0)\n",
            "Requirement already satisfied: idna==2.* in /usr/local/lib/python3.6/dist-packages (from httpx==0.13.3->googletrans) (2.10)\n",
            "Requirement already satisfied: chardet==3.* in /usr/local/lib/python3.6/dist-packages (from httpx==0.13.3->googletrans) (3.0.4)\n",
            "Requirement already satisfied: h11<0.10,>=0.8 in /usr/local/lib/python3.6/dist-packages (from httpcore==0.9.*->httpx==0.13.3->googletrans) (0.9.0)\n",
            "Requirement already satisfied: h2==3.* in /usr/local/lib/python3.6/dist-packages (from httpcore==0.9.*->httpx==0.13.3->googletrans) (3.2.0)\n",
            "Requirement already satisfied: contextvars>=2.1; python_version < \"3.7\" in /usr/local/lib/python3.6/dist-packages (from sniffio->httpx==0.13.3->googletrans) (2.4)\n",
            "Requirement already satisfied: hyperframe<6,>=5.2.0 in /usr/local/lib/python3.6/dist-packages (from h2==3.*->httpcore==0.9.*->httpx==0.13.3->googletrans) (5.2.0)\n",
            "Requirement already satisfied: hpack<4,>=3.0 in /usr/local/lib/python3.6/dist-packages (from h2==3.*->httpcore==0.9.*->httpx==0.13.3->googletrans) (3.0.0)\n",
            "Requirement already satisfied: immutables>=0.9 in /usr/local/lib/python3.6/dist-packages (from contextvars>=2.1; python_version < \"3.7\"->sniffio->httpx==0.13.3->googletrans) (0.14)\n",
            "Requirement already satisfied: wget in /usr/local/lib/python3.6/dist-packages (3.2)\n"
          ],
          "name": "stdout"
        }
      ]
    },
    {
      "cell_type": "code",
      "metadata": {
        "colab_type": "code",
        "id": "JzY7tworneLv",
        "colab": {}
      },
      "source": [
        "# Stopwords\n",
        "\n",
        "lista_extra = ['casa','ficar','sentir','havia','noite','pessoas','pessoa','alguem','carro',\n",
        "               'escola','pensar','trabalho','garota','homem','falar','colega','coisas','amigo',\n",
        "               'passar','querer','amigos','voltar','ouvir','esperar','comigo','perceber',\n",
        "               'acontecer','dinheiro','amiga','contar','familia','pedir','classe','chegar',\n",
        "               'sido','conhecer','estudar','professor','fiquei','onibus','causa','quase','crianca',\n",
        "               'tirar','semana','universidade','realmente','deveria','frente','situacao','aula',\n",
        "               'filme','trabalhar','menino','maneira','repente','manha','poderia','hora','dormir',\n",
        "               'assistir','morar','perguntar','comecou','comer','motivo','entender','dias','carta',\n",
        "               'parar','ligar','horas','mulher','conversar','hospital','cachorro','andar','mudar',\n",
        "               'sensacao','sala','jovem','comprar','cidade','senti','sendo','resultado','pude',\n",
        "               'comportamento','sentar','estrada','notas','preparar','anos','seguinte','achar',\n",
        "               'parecer','visitar','dirigir','apartamento','ninguem','semanas','colocar','volta',\n",
        "               'marido','porta','tratar','entao','precisar','cama','comecei','escrever','cerca',\n",
        "               'decidir','ingles','viagem','causar','nota','parente','aparecer','chamar','aulas',\n",
        "               'livro','emprego','acho','disse','vamos','alguem','alguém','gostaria','hoje','outro',\n",
        "               'queria','vejo']\n",
        "\n",
        "all_stopwords = set(stopwords.words('portuguese') + list(punctuation) + list(nlp.Defaults.stop_words) + lista_extra)\n",
        "#all_stopwords = set(stopwords.words('portuguese') + list(punctuation))\n"
      ],
      "execution_count": 2,
      "outputs": []
    },
    {
      "cell_type": "markdown",
      "metadata": {
        "id": "mpdorC1-44w9",
        "colab_type": "text"
      },
      "source": [
        "### DataSets Usados\n",
        "Os datasets originalmente em língua inglesa foram traduzidos para o português"
      ]
    },
    {
      "cell_type": "markdown",
      "metadata": {
        "id": "_HriJ3-744w9",
        "colab_type": "text"
      },
      "source": [
        "#### Dataset ISEAR\n",
        "Fonte: http://www.affective-sciences.org/index.php/download_file/view/395/296/\n",
        "<br><br>\n",
        "Classes de emoções:<br>\n",
        "alegria, culpa, desgosto, medo, raiva, tristeza, vergonha"
      ]
    },
    {
      "cell_type": "code",
      "metadata": {
        "colab_type": "code",
        "id": "apI1vAV3neLx",
        "colab": {}
      },
      "source": [
        "#df_isear = pd.read_csv('isear_data.csv', engine='python', sep ='|', encoding=\"utf-8\")\n",
        "#df_isear.columns = ['emotion','text']\n",
        "#df_isear['texto'] = ''"
      ],
      "execution_count": 3,
      "outputs": []
    },
    {
      "cell_type": "code",
      "metadata": {
        "colab_type": "code",
        "id": "PUV3xnj5neL0",
        "colab": {}
      },
      "source": [
        "# Traduzir sentenças do dataset ISEAR em português\n",
        "# translator = Translator()\n",
        "def ingles_para_portugues(text):\n",
        "    translator = Translator()\n",
        "    return (translator.translate(text, src='en', dest='pt').text)"
      ],
      "execution_count": 4,
      "outputs": []
    },
    {
      "cell_type": "code",
      "metadata": {
        "colab_type": "code",
        "id": "HRt-R4XBneL3",
        "colab": {}
      },
      "source": [
        "#%%time\n",
        "#n_sem_traducoes = [df_isear[df_isear['texto'] == ''].index]\n",
        "#i = 0\n",
        "#while i <= 499 and len(n_sem_traducoes) > 0:\n",
        "#    df_isear.loc[n_sem_traducoes[0][i], ['texto']] = ingles_para_portugues( df_isear.loc[n_sem_traducoes[0][i]].at['text'] )\n",
        "#    i = i + 1\n",
        "\n",
        "# df_isear['texto'] = df_isear['text'].apply(ingles_para_portugues)"
      ],
      "execution_count": 5,
      "outputs": []
    },
    {
      "cell_type": "code",
      "metadata": {
        "colab_type": "code",
        "id": "xDOdhcPnneL6",
        "colab": {}
      },
      "source": [
        "#df_isear['emotion'] = np.where(df_isear['emotion'] == 'joy', 'alegria', df_isear['emotion'])\n",
        "#df_isear['emotion'] = np.where(df_isear['emotion'] == 'fear', 'medo', df_isear['emotion'])\n",
        "#df_isear['emotion'] = np.where(df_isear['emotion'] == 'anger', 'raiva', df_isear['emotion'])\n",
        "#df_isear['emotion'] = np.where(df_isear['emotion'] == 'sadness', 'tristeza', df_isear['emotion'])\n",
        "#df_isear['emotion'] = np.where(df_isear['emotion'] == 'disgust', 'desgosto', df_isear['emotion'])\n",
        "#df_isear['emotion'] = np.where(df_isear['emotion'] == 'shame', 'vergonha', df_isear['emotion'])\n",
        "#df_isear['emotion'] = np.where(df_isear['emotion'] == 'guilt', 'culpa', df_isear['emotion'])"
      ],
      "execution_count": 6,
      "outputs": []
    },
    {
      "cell_type": "code",
      "metadata": {
        "colab_type": "code",
        "id": "zHvbF3s8neL8",
        "colab": {}
      },
      "source": [
        "#df_isear.columns = ['classe','texto']"
      ],
      "execution_count": 7,
      "outputs": []
    },
    {
      "cell_type": "code",
      "metadata": {
        "colab_type": "code",
        "id": "NJgq-NkkneL_",
        "colab": {}
      },
      "source": [
        "#df_isear.to_csv('isear_ptbr_data.csv', index=False, sep ='|', encoding=\"utf-8\", columns=['classe','texto'])"
      ],
      "execution_count": 8,
      "outputs": []
    },
    {
      "cell_type": "markdown",
      "metadata": {
        "id": "a5HRzVZM44xX",
        "colab_type": "text"
      },
      "source": [
        "#### Carregando o dataset ISEAR já traduzido"
      ]
    },
    {
      "cell_type": "code",
      "metadata": {
        "colab_type": "code",
        "id": "I6mm6XzZneME",
        "colab": {}
      },
      "source": [
        "# Carregar dataset ISEAR traduzido para português\n",
        "wget.download('http://originalmente.com.br/download/isear_ptbr_data.csv')\n",
        "\n",
        "df_isear = pd.read_csv('isear_ptbr_data.csv', engine='python', sep ='|', encoding=\"utf-8\")\n",
        "df_isear = df_isear[df_isear['classe'] != 'culpa']\n",
        "df_isear = df_isear[df_isear['classe'] != 'vergonha']"
      ],
      "execution_count": 9,
      "outputs": []
    },
    {
      "cell_type": "code",
      "metadata": {
        "colab_type": "code",
        "id": "B3ywkps-neMH",
        "colab": {
          "base_uri": "https://localhost:8080/",
          "height": 195
        },
        "outputId": "e082a883-2026-4c1e-ea8c-87c0c60cf0b2"
      },
      "source": [
        "df_isear.head()"
      ],
      "execution_count": 10,
      "outputs": [
        {
          "output_type": "execute_result",
          "data": {
            "text/html": [
              "<div>\n",
              "<style scoped>\n",
              "    .dataframe tbody tr th:only-of-type {\n",
              "        vertical-align: middle;\n",
              "    }\n",
              "\n",
              "    .dataframe tbody tr th {\n",
              "        vertical-align: top;\n",
              "    }\n",
              "\n",
              "    .dataframe thead th {\n",
              "        text-align: right;\n",
              "    }\n",
              "</style>\n",
              "<table border=\"1\" class=\"dataframe\">\n",
              "  <thead>\n",
              "    <tr style=\"text-align: right;\">\n",
              "      <th></th>\n",
              "      <th>classe</th>\n",
              "      <th>texto</th>\n",
              "    </tr>\n",
              "  </thead>\n",
              "  <tbody>\n",
              "    <tr>\n",
              "      <th>0</th>\n",
              "      <td>alegria</td>\n",
              "      <td>Durante o período de paixão, cada vez que nos ...</td>\n",
              "    </tr>\n",
              "    <tr>\n",
              "      <th>1</th>\n",
              "      <td>medo</td>\n",
              "      <td>Quando me envolvi em um acidente de trânsito.</td>\n",
              "    </tr>\n",
              "    <tr>\n",
              "      <th>2</th>\n",
              "      <td>raiva</td>\n",
              "      <td>Quando dirigia para casa após vários dias de t...</td>\n",
              "    </tr>\n",
              "    <tr>\n",
              "      <th>3</th>\n",
              "      <td>tristeza</td>\n",
              "      <td>Quando perdi a pessoa que mais significava par...</td>\n",
              "    </tr>\n",
              "    <tr>\n",
              "      <th>4</th>\n",
              "      <td>desgosto</td>\n",
              "      <td>A vez que derrubei um cervo - a visão dos feri...</td>\n",
              "    </tr>\n",
              "  </tbody>\n",
              "</table>\n",
              "</div>"
            ],
            "text/plain": [
              "     classe                                              texto\n",
              "0   alegria  Durante o período de paixão, cada vez que nos ...\n",
              "1      medo      Quando me envolvi em um acidente de trânsito.\n",
              "2     raiva  Quando dirigia para casa após vários dias de t...\n",
              "3  tristeza  Quando perdi a pessoa que mais significava par...\n",
              "4  desgosto  A vez que derrubei um cervo - a visão dos feri..."
            ]
          },
          "metadata": {
            "tags": []
          },
          "execution_count": 10
        }
      ]
    },
    {
      "cell_type": "code",
      "metadata": {
        "colab_type": "code",
        "id": "v7I7ICmRneMK",
        "colab": {
          "base_uri": "https://localhost:8080/",
          "height": 122
        },
        "outputId": "a25c8306-bb12-466c-8cb1-a6164ff27312"
      },
      "source": [
        "# Distribuição das classes\n",
        "df_isear['classe'].value_counts()"
      ],
      "execution_count": 11,
      "outputs": [
        {
          "output_type": "execute_result",
          "data": {
            "text/plain": [
              "medo        1081\n",
              "alegria     1081\n",
              "raiva       1071\n",
              "desgosto    1067\n",
              "tristeza    1067\n",
              "Name: classe, dtype: int64"
            ]
          },
          "metadata": {
            "tags": []
          },
          "execution_count": 11
        }
      ]
    },
    {
      "cell_type": "markdown",
      "metadata": {
        "id": "d5m02nVbB7bg",
        "colab_type": "text"
      },
      "source": [
        "#### Dataset Daily Dialog\n",
        "Fonte: http://yanran.li/dailydialog.html\n",
        "<br><br>\n",
        "Classes de emoções:<br>\n",
        "0: neutro, 1: raiva, 2: desgosto, 3: medo, 4: alegria, 5: tristeza, 6: surpresa"
      ]
    },
    {
      "cell_type": "code",
      "metadata": {
        "id": "vRKY9avM44xr",
        "colab_type": "code",
        "colab": {}
      },
      "source": [
        "#wget.download('http://originalmente.com.br/download/dailydialog.zip')\n",
        "#with zipfile.ZipFile('dailydialog.zip', 'r') as file:\n",
        "#  file.extractall()"
      ],
      "execution_count": 13,
      "outputs": []
    },
    {
      "cell_type": "code",
      "metadata": {
        "id": "agHJOn0444xv",
        "colab_type": "code",
        "colab": {
          "base_uri": "https://localhost:8080/",
          "height": 123
        },
        "outputId": "65673581-6e12-42db-cc02-b63be3ab1cde"
      },
      "source": [
        "'''\n",
        "df_daily = pd.read_csv('dailydialog.csv', engine='python', sep ='|', encoding=\"utf-8\")\n",
        "df_daily.columns = ['emotion','text']\n",
        "df_daily['texto'] = ''\n",
        "df_daily = df_daily[df_daily['emotion'] != 0]\n",
        "df_daily = df_daily[df_daily['emotion'] != 6]\n",
        "df_daily['emotion'] = np.where(df_daily['emotion'] == 4, 'alegria', df_daily['emotion'])\n",
        "df_daily['emotion'] = np.where(df_daily['emotion'] == 3, 'medo', df_daily['emotion'])\n",
        "df_daily['emotion'] = np.where(df_daily['emotion'] == 1, 'raiva', df_daily['emotion'])\n",
        "df_daily['emotion'] = np.where(df_daily['emotion'] == 5, 'tristeza', df_daily['emotion'])\n",
        "df_daily['emotion'] = np.where(df_daily['emotion'] == 2, 'desgosto', df_daily['emotion'])\n",
        "'''"
      ],
      "execution_count": 14,
      "outputs": [
        {
          "output_type": "execute_result",
          "data": {
            "application/vnd.google.colaboratory.intrinsic+json": {
              "type": "string"
            },
            "text/plain": [
              "'\\ndf_daily = pd.read_csv(\\'dailydialog.csv\\', engine=\\'python\\', sep =\\'|\\', encoding=\"utf-8\")\\ndf_daily.columns = [\\'emotion\\',\\'text\\']\\ndf_daily[\\'texto\\'] = \\'\\'\\ndf_daily = df_daily[df_daily[\\'emotion\\'] != 0]\\ndf_daily = df_daily[df_daily[\\'emotion\\'] != 6]\\ndf_daily[\\'emotion\\'] = np.where(df_daily[\\'emotion\\'] == 4, \\'alegria\\', df_daily[\\'emotion\\'])\\ndf_daily[\\'emotion\\'] = np.where(df_daily[\\'emotion\\'] == 3, \\'medo\\', df_daily[\\'emotion\\'])\\ndf_daily[\\'emotion\\'] = np.where(df_daily[\\'emotion\\'] == 1, \\'raiva\\', df_daily[\\'emotion\\'])\\ndf_daily[\\'emotion\\'] = np.where(df_daily[\\'emotion\\'] == 5, \\'tristeza\\', df_daily[\\'emotion\\'])\\ndf_daily[\\'emotion\\'] = np.where(df_daily[\\'emotion\\'] == 2, \\'desgosto\\', df_daily[\\'emotion\\'])\\n'"
            ]
          },
          "metadata": {
            "tags": []
          },
          "execution_count": 14
        }
      ]
    },
    {
      "cell_type": "code",
      "metadata": {
        "id": "DQXkD9_044x0",
        "colab_type": "code",
        "colab": {
          "base_uri": "https://localhost:8080/",
          "height": 88
        },
        "outputId": "541db05d-da93-4be4-bf81-e680d958bfec"
      },
      "source": [
        "'''\n",
        "df_daily['emotion'] = np.where(df_daily['emotion'] == '4', 'alegria', df_daily['emotion'])\n",
        "df_daily['emotion'] = np.where(df_daily['emotion'] == '3', 'medo', df_daily['emotion'])\n",
        "df_daily['emotion'] = np.where(df_daily['emotion'] == '1', 'raiva', df_daily['emotion'])\n",
        "df_daily['emotion'] = np.where(df_daily['emotion'] == '5', 'tristeza', df_daily['emotion'])\n",
        "df_daily['emotion'] = np.where(df_daily['emotion'] == '2', 'desgosto', df_daily['emotion'])\n",
        "'''"
      ],
      "execution_count": 15,
      "outputs": [
        {
          "output_type": "execute_result",
          "data": {
            "application/vnd.google.colaboratory.intrinsic+json": {
              "type": "string"
            },
            "text/plain": [
              "\"\\ndf_daily['emotion'] = np.where(df_daily['emotion'] == '4', 'alegria', df_daily['emotion'])\\ndf_daily['emotion'] = np.where(df_daily['emotion'] == '3', 'medo', df_daily['emotion'])\\ndf_daily['emotion'] = np.where(df_daily['emotion'] == '1', 'raiva', df_daily['emotion'])\\ndf_daily['emotion'] = np.where(df_daily['emotion'] == '5', 'tristeza', df_daily['emotion'])\\ndf_daily['emotion'] = np.where(df_daily['emotion'] == '2', 'desgosto', df_daily['emotion'])\\n\""
            ]
          },
          "metadata": {
            "tags": []
          },
          "execution_count": 15
        }
      ]
    },
    {
      "cell_type": "code",
      "metadata": {
        "id": "y00XHXct44x3",
        "colab_type": "code",
        "colab": {}
      },
      "source": [
        "#df_daily.emotion.value_counts()"
      ],
      "execution_count": 16,
      "outputs": []
    },
    {
      "cell_type": "code",
      "metadata": {
        "id": "GdMqzPXI44x6",
        "colab_type": "code",
        "colab": {
          "base_uri": "https://localhost:8080/",
          "height": 70
        },
        "outputId": "78938144-e339-473e-b7ba-ed3a3a193519"
      },
      "source": [
        "'''\n",
        "%%time\n",
        "n_sem_traducoes = [df_daily[df_daily['texto'] == ''].index]\n",
        "i = 0\n",
        "while i < 2000 and len(df_daily[df_daily['texto'] == '']) > 0:\n",
        "    df_daily.loc[n_sem_traducoes[0][i], ['texto']] = ingles_para_portugues( df_daily.loc[n_sem_traducoes[0][i]].at['text'] )\n",
        "    i = i + 1\n",
        "\n",
        "# df_daily['texto'] = df_daily['text'].apply(ingles_para_portugues)\n",
        "'''"
      ],
      "execution_count": 17,
      "outputs": [
        {
          "output_type": "execute_result",
          "data": {
            "application/vnd.google.colaboratory.intrinsic+json": {
              "type": "string"
            },
            "text/plain": [
              "\"\\n%%time\\nn_sem_traducoes = [df_daily[df_daily['texto'] == ''].index]\\ni = 0\\nwhile i < 2000 and len(df_daily[df_daily['texto'] == '']) > 0:\\n    df_daily.loc[n_sem_traducoes[0][i], ['texto']] = ingles_para_portugues( df_daily.loc[n_sem_traducoes[0][i]].at['text'] )\\n    i = i + 1\\n\\n# df_daily['texto'] = df_daily['text'].apply(ingles_para_portugues)\\n\""
            ]
          },
          "metadata": {
            "tags": []
          },
          "execution_count": 17
        }
      ]
    },
    {
      "cell_type": "code",
      "metadata": {
        "id": "w6efluF444x_",
        "colab_type": "code",
        "colab": {}
      },
      "source": [
        "#df_daily.to_csv('dailydialog_ptbr.csv', index=False, sep ='|', encoding=\"utf-8\", columns=['emotion','texto'])"
      ],
      "execution_count": 18,
      "outputs": []
    },
    {
      "cell_type": "markdown",
      "metadata": {
        "id": "HilrTCIn44yC",
        "colab_type": "text"
      },
      "source": [
        "#### Carregando o dataset Daily Dialog já traduzido"
      ]
    },
    {
      "cell_type": "code",
      "metadata": {
        "id": "_lz6cFbN44yD",
        "colab_type": "code",
        "colab": {}
      },
      "source": [
        "# Carregar dataset Daily Dialog traduzido para português\n",
        "wget.download('http://originalmente.com.br/download/dailydialog_ptbr.zip')\n",
        "with zipfile.ZipFile('dailydialog_ptbr.zip', 'r') as file:\n",
        "  file.extractall()"
      ],
      "execution_count": 19,
      "outputs": []
    },
    {
      "cell_type": "code",
      "metadata": {
        "id": "X9JSV9ms44yI",
        "colab_type": "code",
        "colab": {}
      },
      "source": [
        "df_daily = pd.read_csv('dailydialog_ptbr.csv', engine='python', sep ='|', encoding=\"utf-8\")"
      ],
      "execution_count": 20,
      "outputs": []
    },
    {
      "cell_type": "code",
      "metadata": {
        "id": "G94ETRs444yK",
        "colab_type": "code",
        "colab": {
          "base_uri": "https://localhost:8080/",
          "height": 195
        },
        "outputId": "5aa8fb16-efa9-4803-ebb6-e378a0a4ce6f"
      },
      "source": [
        "df_daily.head()"
      ],
      "execution_count": 21,
      "outputs": [
        {
          "output_type": "execute_result",
          "data": {
            "text/html": [
              "<div>\n",
              "<style scoped>\n",
              "    .dataframe tbody tr th:only-of-type {\n",
              "        vertical-align: middle;\n",
              "    }\n",
              "\n",
              "    .dataframe tbody tr th {\n",
              "        vertical-align: top;\n",
              "    }\n",
              "\n",
              "    .dataframe thead th {\n",
              "        text-align: right;\n",
              "    }\n",
              "</style>\n",
              "<table border=\"1\" class=\"dataframe\">\n",
              "  <thead>\n",
              "    <tr style=\"text-align: right;\">\n",
              "      <th></th>\n",
              "      <th>emotion</th>\n",
              "      <th>texto</th>\n",
              "    </tr>\n",
              "  </thead>\n",
              "  <tbody>\n",
              "    <tr>\n",
              "      <th>0</th>\n",
              "      <td>alegria</td>\n",
              "      <td>Essa é uma boa ideia . Ouvi dizer que Mary e S...</td>\n",
              "    </tr>\n",
              "    <tr>\n",
              "      <th>1</th>\n",
              "      <td>alegria</td>\n",
              "      <td>Parece ótimo para mim! Se estiverem dispostos,...</td>\n",
              "    </tr>\n",
              "    <tr>\n",
              "      <th>2</th>\n",
              "      <td>alegria</td>\n",
              "      <td>Bom. Vamos agora.</td>\n",
              "    </tr>\n",
              "    <tr>\n",
              "      <th>3</th>\n",
              "      <td>alegria</td>\n",
              "      <td>Tudo certo .</td>\n",
              "    </tr>\n",
              "    <tr>\n",
              "      <th>4</th>\n",
              "      <td>alegria</td>\n",
              "      <td>Estou olhando meu horóscopo deste mês! Minha p...</td>\n",
              "    </tr>\n",
              "  </tbody>\n",
              "</table>\n",
              "</div>"
            ],
            "text/plain": [
              "   emotion                                              texto\n",
              "0  alegria  Essa é uma boa ideia . Ouvi dizer que Mary e S...\n",
              "1  alegria  Parece ótimo para mim! Se estiverem dispostos,...\n",
              "2  alegria                                  Bom. Vamos agora.\n",
              "3  alegria                                       Tudo certo .\n",
              "4  alegria  Estou olhando meu horóscopo deste mês! Minha p..."
            ]
          },
          "metadata": {
            "tags": []
          },
          "execution_count": 21
        }
      ]
    },
    {
      "cell_type": "code",
      "metadata": {
        "id": "eti1wk2x44yN",
        "colab_type": "code",
        "colab": {}
      },
      "source": [
        "df_daily = df_daily[df_daily['texto'] != '']\n",
        "df_daily = df_daily.reset_index(drop=True)\n",
        "df_daily = df_daily[['emotion','texto']]\n",
        "df_daily.columns = ['classe','texto']"
      ],
      "execution_count": 22,
      "outputs": []
    },
    {
      "cell_type": "markdown",
      "metadata": {
        "id": "OegVvqIz44yP",
        "colab_type": "text"
      },
      "source": [
        "### Unindo os Dois Datasets (ISEAR e Daily Dialog)"
      ]
    },
    {
      "cell_type": "code",
      "metadata": {
        "colab_type": "code",
        "id": "fPdx0bJgneMh",
        "colab": {}
      },
      "source": [
        "df = pd.concat([df_isear, df_daily])\n",
        "df = df.dropna()"
      ],
      "execution_count": 23,
      "outputs": []
    },
    {
      "cell_type": "code",
      "metadata": {
        "colab_type": "code",
        "id": "uHchgEwAneMk",
        "colab": {}
      },
      "source": [
        "# Definição da lista de classes para uso diverso\n",
        "labels_classes = df.classe.unique().tolist()\n",
        "labels_classes.sort()"
      ],
      "execution_count": 24,
      "outputs": []
    },
    {
      "cell_type": "code",
      "metadata": {
        "id": "VOCXMJTY44yY",
        "colab_type": "code",
        "colab": {
          "base_uri": "https://localhost:8080/",
          "height": 122
        },
        "outputId": "495a6b68-0512-46f5-bd0e-1ea3cbd7d56a"
      },
      "source": [
        "df['classe'].value_counts()"
      ],
      "execution_count": 25,
      "outputs": [
        {
          "output_type": "execute_result",
          "data": {
            "text/plain": [
              "alegria     13966\n",
              "tristeza     2217\n",
              "raiva        2093\n",
              "desgosto     1420\n",
              "medo         1255\n",
              "Name: classe, dtype: int64"
            ]
          },
          "metadata": {
            "tags": []
          },
          "execution_count": 25
        }
      ]
    },
    {
      "cell_type": "markdown",
      "metadata": {
        "colab_type": "text",
        "id": "Kt-fcX2kneMN"
      },
      "source": [
        "## Funções auxiliares"
      ]
    },
    {
      "cell_type": "code",
      "metadata": {
        "id": "p8IUR4KX44yc",
        "colab_type": "code",
        "colab": {}
      },
      "source": [
        "def limpar_texto_simples(texto):\n",
        "       \n",
        "    # remove caracteres especiais e números\n",
        "    # texto = re.sub(r'[^a-zA-Z_]',' ',texto)\n",
        "    \n",
        "    texto = re.sub(r'[^\\w\\s]', '',texto)\n",
        "    \n",
        "    texto = texto.lower()\n",
        "    \n",
        "    texto = texto.translate(str.maketrans('', '', punctuation))\n",
        "    \n",
        "    \n",
        "    # tokenização com nltk\n",
        "    palavras = word_tokenize(texto, language='portuguese')\n",
        "    \n",
        "    palavras = [palavra for palavra in palavras if palavra not in ['não','nao'] and len(palavra) > 3 and palavra not in all_stopwords]\n",
        "    \n",
        "    #tokens = tokenizer.tokenize(texto)\n",
        "    #tokens = [palavra for palavra in tokens if palavra not in ['não','nao'] and len(palavra) > 3 and palavra not in all_stopwords]\n",
        "    #texto = ' '.join(tokens)\n",
        "    \n",
        "    return ' '.join(palavras).strip()"
      ],
      "execution_count": 26,
      "outputs": []
    },
    {
      "cell_type": "code",
      "metadata": {
        "colab_type": "code",
        "id": "4pfKmcBmneMN",
        "colab": {}
      },
      "source": [
        "# Realiza uma limpeza básica de um texto, preparando-o para classificação.\n",
        "def limpar_texto(texto):\n",
        "\n",
        "    # Converte para minúsculas\n",
        "    texto = texto.lower()\n",
        "    \n",
        "    # Remove stopwords\n",
        "    tokens = tokenizer.tokenize(texto)\n",
        "    tokens = [palavra for palavra in tokens if palavra not in all_stopwords]\n",
        "    texto = ' '.join(tokens)  \n",
        "    \n",
        "    # Remove acentos\n",
        "    texto = normalize('NFKD', texto).encode('ASCII', 'ignore').decode('ASCII')\n",
        "    \n",
        "    # Remove caracteres especiais e números\n",
        "    texto = re.sub(r'[^a-zA-Z_]',' ',texto)\n",
        "    \n",
        "    # Remove espaços extras e palavras menores do que um tamanho mínimo (no exemplo abaixo, 3 caracteres)\n",
        "    tokens = tokenizer.tokenize(texto)\n",
        "    tokens = [palavra for palavra in tokens if palavra not in ['não','nao'] and len(palavra) > 3] #and palavra not in all_stopwords]      \n",
        "    texto = ' '.join(tokens)  \n",
        "    \n",
        "    return texto"
      ],
      "execution_count": 27,
      "outputs": []
    },
    {
      "cell_type": "code",
      "metadata": {
        "colab_type": "code",
        "id": "rzXAMUgOneMQ",
        "colab": {}
      },
      "source": [
        "def get_nome_entidade(text, label):\n",
        "    if label == 'PER':\n",
        "        return ''\n",
        "        #return 'pessoa'\n",
        "    elif label == 'ORG':\n",
        "        return ''\n",
        "        #return 'organização'\n",
        "    elif label == 'LOC':\n",
        "        #return 'localização'\n",
        "        return ''\n",
        "    elif label == 'MISC':\n",
        "        return ''\n",
        "        #return text\n",
        "    else:\n",
        "        return text"
      ],
      "execution_count": 28,
      "outputs": []
    },
    {
      "cell_type": "code",
      "metadata": {
        "colab_type": "code",
        "id": "_4s7stpaneMT",
        "colab": {}
      },
      "source": [
        "def replace_text_with_ents(text):\n",
        "    new_text = text\n",
        "    doc = nlp(text)\n",
        "    for ent in doc.ents:\n",
        "        new_text = new_text.replace(ent.text, get_nome_entidade(ent.text, ent.label_))\n",
        "    return new_text    "
      ],
      "execution_count": 29,
      "outputs": []
    },
    {
      "cell_type": "code",
      "metadata": {
        "colab_type": "code",
        "id": "hoeDzZdUneMV",
        "colab": {}
      },
      "source": [
        "def get_sentenca_principal(text):\n",
        "    doc_s = nlp(text)\n",
        "    sentencas = []\n",
        "    sentencas = [sent.text for sent in doc_s.sents]\n",
        "    \n",
        "    i = 0\n",
        "    s = sentencas[i]\n",
        "    doc_s = nlp(s)\n",
        "    tokens = [token.text for token in doc_s if token.pos_ == 'VERB']\n",
        "    while len(tokens) == 0 and i < len(sentencas):\n",
        "        i = i + 1\n",
        "        s += ' ' +sentencas[i]\n",
        "        doc_s = nlp(s)\n",
        "        tokens = [token.text for token in doc_s if token.pos_ == 'VERB']\n",
        "        \n",
        "    return s"
      ],
      "execution_count": 30,
      "outputs": []
    },
    {
      "cell_type": "code",
      "metadata": {
        "colab_type": "code",
        "id": "kVAdCX0NneMZ",
        "colab": {}
      },
      "source": [
        "# Calcula métricas de desempenho do classificador. \n",
        "def get_metrics(y_test, y_predicted):  \n",
        "    precision = round(precision_score(y_test, y_predicted, pos_label=1, average='macro'),4)             \n",
        "    recall = round(recall_score(y_test, y_predicted, pos_label=1, average='macro'),4)\n",
        "    f1 = round(f1_score(y_test, y_predicted, pos_label=1, average='macro'),4)\n",
        "    accuracy = round(accuracy_score(y_test, y_predicted),4)\n",
        "    return accuracy, precision, recall, f1"
      ],
      "execution_count": 31,
      "outputs": []
    },
    {
      "cell_type": "code",
      "metadata": {
        "colab_type": "code",
        "id": "4gbaXmDHneMc",
        "colab": {}
      },
      "source": [
        "# Função para exibir gráfico da matriz de confusão\n",
        "def plot_confusion_matrix(cm,\n",
        "                          target_names,\n",
        "                          title='Confusion matrix',\n",
        "                          cmap=None,\n",
        "                          normalize=True):\n",
        "    \"\"\"\n",
        "    given a sklearn confusion matrix (cm), make a nice plot\n",
        "\n",
        "    Arguments\n",
        "    ---------\n",
        "    cm:           confusion matrix from sklearn.metrics.confusion_matrix\n",
        "\n",
        "    target_names: given classification classes such as [0, 1, 2]\n",
        "                  the class names, for example: ['high', 'medium', 'low']\n",
        "\n",
        "    title:        the text to display at the top of the matrix\n",
        "\n",
        "    cmap:         the gradient of the values displayed from matplotlib.pyplot.cm\n",
        "                  see http://matplotlib.org/examples/color/colormaps_reference.html\n",
        "                  plt.get_cmap('jet') or plt.cm.Blues\n",
        "\n",
        "    normalize:    If False, plot the raw numbers\n",
        "                  If True, plot the proportions\n",
        "\n",
        "    Usage\n",
        "    -----\n",
        "    plot_confusion_matrix(cm           = cm,                  # confusion matrix created by\n",
        "                                                              # sklearn.metrics.confusion_matrix\n",
        "                          normalize    = True,                # show proportions\n",
        "                          target_names = y_labels_vals,       # list of names of the classes\n",
        "                          title        = best_estimator_name) # title of graph\n",
        "\n",
        "    Citiation\n",
        "    ---------\n",
        "    http://scikit-learn.org/stable/auto_examples/model_selection/plot_confusion_matrix.html\n",
        "\n",
        "    \"\"\"\n",
        "    import matplotlib.pyplot as plt\n",
        "    import numpy as np\n",
        "    import itertools\n",
        "\n",
        "    accuracy = np.trace(cm) / float(np.sum(cm))\n",
        "    misclass = 1 - accuracy\n",
        "\n",
        "    if cmap is None:\n",
        "        cmap = plt.get_cmap('Blues')\n",
        "\n",
        "    plt.figure(figsize=(8, 6))\n",
        "    plt.imshow(cm, interpolation='nearest', cmap=cmap)\n",
        "    plt.title(title)\n",
        "    plt.colorbar()\n",
        "\n",
        "    if target_names is not None:\n",
        "        tick_marks = np.arange(len(target_names))\n",
        "        plt.xticks(tick_marks, target_names, rotation=45)\n",
        "        plt.yticks(tick_marks, target_names)\n",
        "\n",
        "    if normalize:\n",
        "        cm = cm.astype('float') / cm.sum(axis=1)[:, np.newaxis]\n",
        "\n",
        "\n",
        "    thresh = cm.max() / 1.5 if normalize else cm.max() / 2\n",
        "    for i, j in itertools.product(range(cm.shape[0]), range(cm.shape[1])):\n",
        "        if normalize:\n",
        "            plt.text(j, i, \"{:0.4f}\".format(cm[i, j]),\n",
        "                     horizontalalignment=\"center\",\n",
        "                     color=\"white\" if cm[i, j] > thresh else \"black\")\n",
        "        else:\n",
        "            plt.text(j, i, \"{:,}\".format(cm[i, j]),\n",
        "                     horizontalalignment=\"center\",\n",
        "                     color=\"white\" if cm[i, j] > thresh else \"black\")\n",
        "\n",
        "\n",
        "    plt.tight_layout()\n",
        "    plt.ylabel('True label')\n",
        "    plt.xlabel('Predicted label\\naccuracy={:0.4f}; misclass={:0.4f}'.format(accuracy, misclass))\n",
        "    plt.show()"
      ],
      "execution_count": 32,
      "outputs": []
    },
    {
      "cell_type": "markdown",
      "metadata": {
        "colab_type": "text",
        "id": "NOGqCV4MneMe"
      },
      "source": [
        "## Inicialização"
      ]
    },
    {
      "cell_type": "code",
      "metadata": {
        "colab_type": "code",
        "id": "1OpHOETAneMf",
        "colab": {}
      },
      "source": [
        "tokenizer = RegexpTokenizer(r'\\w+')\n",
        "random_state=660601\n"
      ],
      "execution_count": 33,
      "outputs": []
    },
    {
      "cell_type": "markdown",
      "metadata": {
        "colab_type": "text",
        "id": "NQHv-X9dneMm"
      },
      "source": [
        "## Preparando os textos para classificação"
      ]
    },
    {
      "cell_type": "markdown",
      "metadata": {
        "colab_type": "text",
        "id": "hLlzAblGneMn"
      },
      "source": [
        "### Pré-processamento com Spacy"
      ]
    },
    {
      "cell_type": "code",
      "metadata": {
        "colab_type": "code",
        "id": "PhCM9eHQneMn",
        "colab": {}
      },
      "source": [
        "df['pre'] = df['texto']\n",
        "\n",
        "#from nltk.stem.snowball import SnowballStemmer\n",
        "\n",
        "#stemmer = SnowballStemmer(language='portuguese')\n",
        "\n",
        "def pre_processar_texto(texto):\n",
        "    if len(texto) == 0:\n",
        "        return None\n",
        "        \n",
        "    text = texto\n",
        "    text = replace_text_with_ents(text)\n",
        "    new_text = text\n",
        "    \n",
        "    if len(text) < 1000000:\n",
        "        doc = nlp(text)        \n",
        "        chosen_tokens = list()\n",
        "        tokens = [token for token in doc if not token.text in all_stopwords]\n",
        "        \n",
        "        for token in tokens:\n",
        "            if token.is_alpha and token.pos_ not in ['CCONJ','DET','PUNCT','ADP','SYM','NUM']:\n",
        "                \n",
        "                if token.pos_ == 'VERB':\n",
        "                    chosen_tokens.append(token.lemma_ + ' ')\n",
        "                else: \n",
        "                    chosen_tokens.append(token.text.lower() + ' ')                        \n",
        "                                    \n",
        "        if len(''.join(chosen_tokens).strip()) > 0:\n",
        "            new_text = unidecode(''.join(chosen_tokens).strip())\n",
        "\n",
        "        \n",
        "    else:\n",
        "        chosen_tokens = list()\n",
        "        \n",
        "        for part_text in text.split('.'):\n",
        "            doc = nlp(part_text)\n",
        "            tokens = [token for token in doc if not token.text in all_stopwords]\n",
        "            for token in tokens:\n",
        "                if token.is_alpha and token.pos_ not in ['CCONJ','DET','PUNCT','ADP','SYM','NUM']:\n",
        "                    \n",
        "                    if token.pos_ == 'VERB':\n",
        "                        chosen_tokens.append(token.lemma_ + ' ')\n",
        "                    else: \n",
        "                        chosen_tokens.append(token.text.lower() + ' ')\n",
        "                                                        \n",
        "        if len(''.join(chosen_tokens).strip()) > 0:\n",
        "            new_text = unidecode(''.join(chosen_tokens).strip())\n",
        "            \n",
        "    return new_text\n",
        "    "
      ],
      "execution_count": 34,
      "outputs": []
    },
    {
      "cell_type": "code",
      "metadata": {
        "colab_type": "code",
        "id": "_Cc5vCXpneMp",
        "colab": {}
      },
      "source": [
        "df['pre'] = df['texto']"
      ],
      "execution_count": 35,
      "outputs": []
    },
    {
      "cell_type": "code",
      "metadata": {
        "colab_type": "code",
        "id": "RwjyYU2vneMt",
        "colab": {
          "base_uri": "https://localhost:8080/",
          "height": 52
        },
        "outputId": "a55371b2-da69-49e8-c5f6-32cd9af8f25f"
      },
      "source": [
        "%%time\n",
        "#for i in range(0, len(df)):\n",
        "#  pre_processar(i)\n",
        "\n",
        "#df['pre'] = df['pre'].apply(get_sentenca_principal)\n",
        "#df['pre'] = df['pre'].apply(pre_processar_texto)\n",
        "#df['pre'] = df['pre'].apply(limpar_texto)"
      ],
      "execution_count": 36,
      "outputs": [
        {
          "output_type": "stream",
          "text": [
            "CPU times: user 3 µs, sys: 0 ns, total: 3 µs\n",
            "Wall time: 5.25 µs\n"
          ],
          "name": "stdout"
        }
      ]
    },
    {
      "cell_type": "code",
      "metadata": {
        "id": "yAvBNH-k44y-",
        "colab_type": "code",
        "colab": {
          "base_uri": "https://localhost:8080/",
          "height": 52
        },
        "outputId": "5911c9ac-e4f0-47e1-a55e-22bb2caab704"
      },
      "source": [
        "%%time\n",
        "#df['pre'] = df['pre'].apply(limpar_texto)\n",
        "df['pre'] = df['pre'].apply(limpar_texto_simples)"
      ],
      "execution_count": 37,
      "outputs": [
        {
          "output_type": "stream",
          "text": [
            "CPU times: user 2.32 s, sys: 3.63 ms, total: 2.33 s\n",
            "Wall time: 2.33 s\n"
          ],
          "name": "stdout"
        }
      ]
    },
    {
      "cell_type": "code",
      "metadata": {
        "colab_type": "code",
        "id": "tB7N01UrneMw",
        "colab": {
          "base_uri": "https://localhost:8080/",
          "height": 87
        },
        "outputId": "0718d83c-4540-48a4-e27a-d71d6d2b861a"
      },
      "source": [
        "# Algum NA?\n",
        "df.isna().sum()"
      ],
      "execution_count": 38,
      "outputs": [
        {
          "output_type": "execute_result",
          "data": {
            "text/plain": [
              "classe    0\n",
              "texto     0\n",
              "pre       0\n",
              "dtype: int64"
            ]
          },
          "metadata": {
            "tags": []
          },
          "execution_count": 38
        }
      ]
    },
    {
      "cell_type": "code",
      "metadata": {
        "id": "oiO3kUKH44zF",
        "colab_type": "code",
        "colab": {
          "base_uri": "https://localhost:8080/",
          "height": 47
        },
        "outputId": "e0c9665f-67f1-48f0-d66c-5cfe4d4f6a9c"
      },
      "source": [
        "df[df['pre'].isna()].head(20)"
      ],
      "execution_count": 39,
      "outputs": [
        {
          "output_type": "execute_result",
          "data": {
            "text/html": [
              "<div>\n",
              "<style scoped>\n",
              "    .dataframe tbody tr th:only-of-type {\n",
              "        vertical-align: middle;\n",
              "    }\n",
              "\n",
              "    .dataframe tbody tr th {\n",
              "        vertical-align: top;\n",
              "    }\n",
              "\n",
              "    .dataframe thead th {\n",
              "        text-align: right;\n",
              "    }\n",
              "</style>\n",
              "<table border=\"1\" class=\"dataframe\">\n",
              "  <thead>\n",
              "    <tr style=\"text-align: right;\">\n",
              "      <th></th>\n",
              "      <th>classe</th>\n",
              "      <th>texto</th>\n",
              "      <th>pre</th>\n",
              "    </tr>\n",
              "  </thead>\n",
              "  <tbody>\n",
              "  </tbody>\n",
              "</table>\n",
              "</div>"
            ],
            "text/plain": [
              "Empty DataFrame\n",
              "Columns: [classe, texto, pre]\n",
              "Index: []"
            ]
          },
          "metadata": {
            "tags": []
          },
          "execution_count": 39
        }
      ]
    },
    {
      "cell_type": "code",
      "metadata": {
        "id": "zQkHRalv44zI",
        "colab_type": "code",
        "colab": {}
      },
      "source": [
        "#df = df.dropna()"
      ],
      "execution_count": 40,
      "outputs": []
    },
    {
      "cell_type": "code",
      "metadata": {
        "colab_type": "code",
        "id": "Urh_jty-neM0",
        "colab": {
          "base_uri": "https://localhost:8080/",
          "height": 122
        },
        "outputId": "9c2771e9-704c-4dac-c232-73cf89d0fcae"
      },
      "source": [
        "df.classe.value_counts()"
      ],
      "execution_count": 41,
      "outputs": [
        {
          "output_type": "execute_result",
          "data": {
            "text/plain": [
              "alegria     13966\n",
              "tristeza     2217\n",
              "raiva        2093\n",
              "desgosto     1420\n",
              "medo         1255\n",
              "Name: classe, dtype: int64"
            ]
          },
          "metadata": {
            "tags": []
          },
          "execution_count": 41
        }
      ]
    },
    {
      "cell_type": "code",
      "metadata": {
        "colab_type": "code",
        "id": "tninfQqYneM6",
        "colab": {}
      },
      "source": [
        "#df.to_csv('antoniommenezes_dataset.csv', index=False, sep ='|', encoding=\"utf-8\")"
      ],
      "execution_count": 42,
      "outputs": []
    },
    {
      "cell_type": "code",
      "metadata": {
        "id": "e5yIV6D744zY",
        "colab_type": "code",
        "colab": {}
      },
      "source": [
        "#df = pd.read_csv('antoniommenezes_dataset.csv', engine='python', sep ='|', encoding=\"utf-8\")"
      ],
      "execution_count": 43,
      "outputs": []
    },
    {
      "cell_type": "markdown",
      "metadata": {
        "colab_type": "text",
        "id": "WHM8BonJneM8"
      },
      "source": [
        "## Vetorização"
      ]
    },
    {
      "cell_type": "code",
      "metadata": {
        "colab_type": "code",
        "id": "oj_vxzgyneM9",
        "colab": {
          "base_uri": "https://localhost:8080/",
          "height": 52
        },
        "outputId": "6d719c91-a749-458f-8547-a5ffd6236afc"
      },
      "source": [
        "vec = CountVectorizer()\n",
        "vec.fit(df['pre'].tolist())\n",
        "bag_of_words = vec.transform(df['pre'].tolist())\n",
        "sum_words = bag_of_words.sum(axis=0)\n",
        "words_freq = [(word, sum_words[0, idx]) for word, idx in vec.vocabulary_.items()]\n",
        "words_freq =sorted(words_freq, key = lambda x: x[1], reverse=True)\n",
        "\n",
        "vectorizer = CountVectorizer(ngram_range=(1, 2), analyzer='word', binary=True, stop_words=all_stopwords, min_df=1, max_df=0.50) #, max_features=20000\n",
        "vectorizer.fit_transform(df['pre'].tolist())\n"
      ],
      "execution_count": 44,
      "outputs": [
        {
          "output_type": "execute_result",
          "data": {
            "text/plain": [
              "<20951x66147 sparse matrix of type '<class 'numpy.int64'>'\n",
              "\twith 140021 stored elements in Compressed Sparse Row format>"
            ]
          },
          "metadata": {
            "tags": []
          },
          "execution_count": 44
        }
      ]
    },
    {
      "cell_type": "code",
      "metadata": {
        "id": "rT8yqNkX44zi",
        "colab_type": "code",
        "colab": {
          "base_uri": "https://localhost:8080/",
          "height": 34
        },
        "outputId": "08510e50-ac8e-4b85-bf53-96acffe750c1"
      },
      "source": [
        "len(vectorizer.vocabulary_)"
      ],
      "execution_count": 45,
      "outputs": [
        {
          "output_type": "execute_result",
          "data": {
            "text/plain": [
              "66147"
            ]
          },
          "metadata": {
            "tags": []
          },
          "execution_count": 45
        }
      ]
    },
    {
      "cell_type": "code",
      "metadata": {
        "colab_type": "code",
        "id": "i430qNYOneM_",
        "colab": {}
      },
      "source": [
        "df_most_freq = pd.DataFrame(words_freq)\n",
        "df_most_freq.columns = ['word','freq']\n",
        "df_most_freq = df_most_freq.head(100)"
      ],
      "execution_count": 46,
      "outputs": []
    },
    {
      "cell_type": "code",
      "metadata": {
        "colab_type": "code",
        "id": "9aEvb6IeneNB",
        "colab": {
          "base_uri": "https://localhost:8080/",
          "height": 343
        },
        "outputId": "a3693e19-983c-4dc4-a2be-66f2f181dde9"
      },
      "source": [
        "df_most_freq.head(10)"
      ],
      "execution_count": 47,
      "outputs": [
        {
          "output_type": "execute_result",
          "data": {
            "text/html": [
              "<div>\n",
              "<style scoped>\n",
              "    .dataframe tbody tr th:only-of-type {\n",
              "        vertical-align: middle;\n",
              "    }\n",
              "\n",
              "    .dataframe tbody tr th {\n",
              "        vertical-align: top;\n",
              "    }\n",
              "\n",
              "    .dataframe thead th {\n",
              "        text-align: right;\n",
              "    }\n",
              "</style>\n",
              "<table border=\"1\" class=\"dataframe\">\n",
              "  <thead>\n",
              "    <tr style=\"text-align: right;\">\n",
              "      <th></th>\n",
              "      <th>word</th>\n",
              "      <th>freq</th>\n",
              "    </tr>\n",
              "  </thead>\n",
              "  <tbody>\n",
              "    <tr>\n",
              "      <th>0</th>\n",
              "      <td>ótimo</td>\n",
              "      <td>657</td>\n",
              "    </tr>\n",
              "    <tr>\n",
              "      <th>1</th>\n",
              "      <td>feliz</td>\n",
              "      <td>650</td>\n",
              "    </tr>\n",
              "    <tr>\n",
              "      <th>2</th>\n",
              "      <td>certo</td>\n",
              "      <td>489</td>\n",
              "    </tr>\n",
              "    <tr>\n",
              "      <th>3</th>\n",
              "      <td>gosto</td>\n",
              "      <td>423</td>\n",
              "    </tr>\n",
              "    <tr>\n",
              "      <th>4</th>\n",
              "      <td>sinto</td>\n",
              "      <td>335</td>\n",
              "    </tr>\n",
              "    <tr>\n",
              "      <th>5</th>\n",
              "      <td>medo</td>\n",
              "      <td>332</td>\n",
              "    </tr>\n",
              "    <tr>\n",
              "      <th>6</th>\n",
              "      <td>melhor</td>\n",
              "      <td>324</td>\n",
              "    </tr>\n",
              "    <tr>\n",
              "      <th>7</th>\n",
              "      <td>ideia</td>\n",
              "      <td>322</td>\n",
              "    </tr>\n",
              "    <tr>\n",
              "      <th>8</th>\n",
              "      <td>claro</td>\n",
              "      <td>312</td>\n",
              "    </tr>\n",
              "    <tr>\n",
              "      <th>9</th>\n",
              "      <td>prazer</td>\n",
              "      <td>270</td>\n",
              "    </tr>\n",
              "  </tbody>\n",
              "</table>\n",
              "</div>"
            ],
            "text/plain": [
              "     word  freq\n",
              "0   ótimo   657\n",
              "1   feliz   650\n",
              "2   certo   489\n",
              "3   gosto   423\n",
              "4   sinto   335\n",
              "5    medo   332\n",
              "6  melhor   324\n",
              "7   ideia   322\n",
              "8   claro   312\n",
              "9  prazer   270"
            ]
          },
          "metadata": {
            "tags": []
          },
          "execution_count": 47
        }
      ]
    },
    {
      "cell_type": "markdown",
      "metadata": {
        "colab_type": "text",
        "id": "xdUn9j4sneNI"
      },
      "source": [
        "## Treinando e testando classificadores"
      ]
    },
    {
      "cell_type": "code",
      "metadata": {
        "colab_type": "code",
        "id": "AsotuvehneNI",
        "colab": {
          "base_uri": "https://localhost:8080/",
          "height": 34
        },
        "outputId": "b36ae33b-1c51-41c1-efb3-d3fa6d327d90"
      },
      "source": [
        "# Vamos dividir da seguinte forma: 70% para treino, 30% para teste. Os registros deverão ser embaralhados, mas\n",
        "# a distribuição das classes deve permanecer a mesma para os dois conjuntos de dados\n",
        "df_train, df_test = train_test_split(df, test_size=0.30, stratify=df['classe'], shuffle=True, random_state=random_state)\n",
        "print('Tamanho do Treino:',len(df_train),'- Tamanho do Teste:',len(df_test))"
      ],
      "execution_count": 48,
      "outputs": [
        {
          "output_type": "stream",
          "text": [
            "Tamanho do Treino: 14665 - Tamanho do Teste: 6286\n"
          ],
          "name": "stdout"
        }
      ]
    },
    {
      "cell_type": "code",
      "metadata": {
        "colab_type": "code",
        "id": "tjG5snKYneNL",
        "colab": {
          "base_uri": "https://localhost:8080/",
          "height": 225
        },
        "outputId": "84559000-fa37-4f30-f7c9-3f234d6ccea3"
      },
      "source": [
        "# Distribuição das classes na massa de treino\n",
        "df_train.groupby('classe').count()"
      ],
      "execution_count": 49,
      "outputs": [
        {
          "output_type": "execute_result",
          "data": {
            "text/html": [
              "<div>\n",
              "<style scoped>\n",
              "    .dataframe tbody tr th:only-of-type {\n",
              "        vertical-align: middle;\n",
              "    }\n",
              "\n",
              "    .dataframe tbody tr th {\n",
              "        vertical-align: top;\n",
              "    }\n",
              "\n",
              "    .dataframe thead th {\n",
              "        text-align: right;\n",
              "    }\n",
              "</style>\n",
              "<table border=\"1\" class=\"dataframe\">\n",
              "  <thead>\n",
              "    <tr style=\"text-align: right;\">\n",
              "      <th></th>\n",
              "      <th>texto</th>\n",
              "      <th>pre</th>\n",
              "    </tr>\n",
              "    <tr>\n",
              "      <th>classe</th>\n",
              "      <th></th>\n",
              "      <th></th>\n",
              "    </tr>\n",
              "  </thead>\n",
              "  <tbody>\n",
              "    <tr>\n",
              "      <th>alegria</th>\n",
              "      <td>9776</td>\n",
              "      <td>9776</td>\n",
              "    </tr>\n",
              "    <tr>\n",
              "      <th>desgosto</th>\n",
              "      <td>994</td>\n",
              "      <td>994</td>\n",
              "    </tr>\n",
              "    <tr>\n",
              "      <th>medo</th>\n",
              "      <td>878</td>\n",
              "      <td>878</td>\n",
              "    </tr>\n",
              "    <tr>\n",
              "      <th>raiva</th>\n",
              "      <td>1465</td>\n",
              "      <td>1465</td>\n",
              "    </tr>\n",
              "    <tr>\n",
              "      <th>tristeza</th>\n",
              "      <td>1552</td>\n",
              "      <td>1552</td>\n",
              "    </tr>\n",
              "  </tbody>\n",
              "</table>\n",
              "</div>"
            ],
            "text/plain": [
              "          texto   pre\n",
              "classe               \n",
              "alegria    9776  9776\n",
              "desgosto    994   994\n",
              "medo        878   878\n",
              "raiva      1465  1465\n",
              "tristeza   1552  1552"
            ]
          },
          "metadata": {
            "tags": []
          },
          "execution_count": 49
        }
      ]
    },
    {
      "cell_type": "markdown",
      "metadata": {
        "colab_type": "text",
        "id": "bVXH47vPneNM"
      },
      "source": [
        "### Regressão Logística"
      ]
    },
    {
      "cell_type": "code",
      "metadata": {
        "colab_type": "code",
        "id": "lJ8cm6ohneNF",
        "colab": {}
      },
      "source": [
        "clf = LogisticRegression(solver='sag', C=7, max_iter=20000, n_jobs=-1, random_state=random_state, multi_class='multinomial') "
      ],
      "execution_count": 50,
      "outputs": []
    },
    {
      "cell_type": "markdown",
      "metadata": {
        "colab_type": "text",
        "id": "LKTy0kPbneNN"
      },
      "source": [
        "#### Bag of Words"
      ]
    },
    {
      "cell_type": "code",
      "metadata": {
        "colab_type": "code",
        "id": "GcKycurVneNN",
        "scrolled": true,
        "colab": {
          "base_uri": "https://localhost:8080/",
          "height": 105
        },
        "outputId": "efd2c4ec-3a2e-4916-f789-8afbbbc4b079"
      },
      "source": [
        "# Treina o classificador com a massa de treino\n",
        "X_train = vectorizer.transform(df_train['pre'].tolist())\n",
        "y_train =  df_train['classe'].tolist()\n",
        "clf.fit(X_train, y_train)"
      ],
      "execution_count": 51,
      "outputs": [
        {
          "output_type": "execute_result",
          "data": {
            "text/plain": [
              "LogisticRegression(C=7, class_weight=None, dual=False, fit_intercept=True,\n",
              "                   intercept_scaling=1, l1_ratio=None, max_iter=20000,\n",
              "                   multi_class='multinomial', n_jobs=-1, penalty='l2',\n",
              "                   random_state=660601, solver='sag', tol=0.0001, verbose=0,\n",
              "                   warm_start=False)"
            ]
          },
          "metadata": {
            "tags": []
          },
          "execution_count": 51
        }
      ]
    },
    {
      "cell_type": "code",
      "metadata": {
        "colab_type": "code",
        "id": "Agt0kN1zneNP",
        "colab": {}
      },
      "source": [
        "# Avalia a performance do classificador treinado, usando a massa reservada para testes\n",
        "X_test = vectorizer.transform(df_test['pre'].tolist())\n",
        "y_test =  df_test['classe'].tolist()\n",
        "y_predicted = clf.predict(X_test)"
      ],
      "execution_count": 52,
      "outputs": []
    },
    {
      "cell_type": "code",
      "metadata": {
        "colab_type": "code",
        "id": "W4rZlEa8neNR",
        "colab": {
          "base_uri": "https://localhost:8080/",
          "height": 34
        },
        "outputId": "47cae9fe-9baa-4c54-99da-48e731d31b36"
      },
      "source": [
        "# Obtém as métricas de desempenho\n",
        "accuracy, precision, recall, f1 = get_metrics(y_test, y_predicted)\n",
        "print('Acurácia:',accuracy,'- Precisão:',precision,'- Recall:',recall,'- F1:',f1)"
      ],
      "execution_count": 53,
      "outputs": [
        {
          "output_type": "stream",
          "text": [
            "Acurácia: 0.7919 - Precisão: 0.6966 - Recall: 0.5496 - F1: 0.6033\n"
          ],
          "name": "stdout"
        }
      ]
    },
    {
      "cell_type": "code",
      "metadata": {
        "colab_type": "code",
        "id": "6PPcESLuneNU",
        "colab": {
          "base_uri": "https://localhost:8080/",
          "height": 467
        },
        "outputId": "6982301c-dcbd-4d6b-b41e-79bf6b7135ad"
      },
      "source": [
        "plot_confusion_matrix(cm           = confusion_matrix(y_test, y_predicted), \n",
        "                      normalize    = False,\n",
        "                      target_names = labels_classes,\n",
        "                      title        = \"Matriz de Confusão\")"
      ],
      "execution_count": 54,
      "outputs": [
        {
          "output_type": "display_data",
          "data": {
            "image/png": "[encoded data removed]",
            "text/plain": [
              "<Figure size 576x432 with 2 Axes>"
            ]
          },
          "metadata": {
            "tags": [],
            "needs_background": "light"
          }
        }
      ]
    },
    {
      "cell_type": "markdown",
      "metadata": {
        "colab_type": "text",
        "id": "_zA-f9S7neNY"
      },
      "source": [
        "#### TF-IDF"
      ]
    },
    {
      "cell_type": "code",
      "metadata": {
        "colab_type": "code",
        "id": "mrQjGX_WneNY",
        "colab": {}
      },
      "source": [
        "# TFIDF\n",
        "Tfidf_vectorizer = TfidfVectorizer(ngram_range=(1, 2)) #, max_features=10000)\n",
        "Tfidf_vectorizer.fit(df_train['pre'])\n",
        "X_train_Tfidf = Tfidf_vectorizer.transform(df_train['pre'].tolist())"
      ],
      "execution_count": 55,
      "outputs": []
    },
    {
      "cell_type": "code",
      "metadata": {
        "colab_type": "code",
        "id": "noeFpRoaneNb",
        "colab": {
          "base_uri": "https://localhost:8080/",
          "height": 105
        },
        "outputId": "304e9ca4-45e8-4b16-d8ab-94c989387106"
      },
      "source": [
        "clf2 = LogisticRegression(solver='sag', C=7, max_iter=50000, n_jobs=-1, random_state=random_state, multi_class='multinomial')\n",
        "clf2.fit(X_train_Tfidf, y_train)\n"
      ],
      "execution_count": 56,
      "outputs": [
        {
          "output_type": "execute_result",
          "data": {
            "text/plain": [
              "LogisticRegression(C=7, class_weight=None, dual=False, fit_intercept=True,\n",
              "                   intercept_scaling=1, l1_ratio=None, max_iter=50000,\n",
              "                   multi_class='multinomial', n_jobs=-1, penalty='l2',\n",
              "                   random_state=660601, solver='sag', tol=0.0001, verbose=0,\n",
              "                   warm_start=False)"
            ]
          },
          "metadata": {
            "tags": []
          },
          "execution_count": 56
        }
      ]
    },
    {
      "cell_type": "code",
      "metadata": {
        "colab_type": "code",
        "id": "yU5njUfRneNe",
        "colab": {}
      },
      "source": [
        "# Avalia a performance do classificador treinado, usando a massa reservada para testes\n",
        "X_test_Tfidf = Tfidf_vectorizer.transform(df_test['pre'].tolist())\n",
        "y_test_Tfidf =  df_test['classe'].tolist()\n",
        "y_predicted_Tfidf = clf2.predict(X_test_Tfidf)"
      ],
      "execution_count": 57,
      "outputs": []
    },
    {
      "cell_type": "code",
      "metadata": {
        "colab_type": "code",
        "id": "CGgyGqmeneNh",
        "colab": {
          "base_uri": "https://localhost:8080/",
          "height": 34
        },
        "outputId": "fbed5f8c-7d6e-46a0-cdad-d4ebaf9d9136"
      },
      "source": [
        "# Obtém as métricas de desempenho\n",
        "accuracy, precision, recall, f1 = get_metrics(y_test_Tfidf, y_predicted_Tfidf)\n",
        "print('Acurácia:',accuracy,'- Precisão:',precision,'- Recall:',recall,'- F1:',f1)"
      ],
      "execution_count": 58,
      "outputs": [
        {
          "output_type": "stream",
          "text": [
            "Acurácia: 0.7996 - Precisão: 0.7049 - Recall: 0.5665 - F1: 0.6189\n"
          ],
          "name": "stdout"
        }
      ]
    },
    {
      "cell_type": "code",
      "metadata": {
        "colab_type": "code",
        "id": "xBBEXI7KneNj",
        "colab": {
          "base_uri": "https://localhost:8080/",
          "height": 467
        },
        "outputId": "5c4f322d-8065-4a24-96c0-4e0646343991"
      },
      "source": [
        "plot_confusion_matrix(cm           = confusion_matrix(y_test, y_predicted_Tfidf), \n",
        "                      normalize    = False,\n",
        "                      target_names = labels_classes,\n",
        "                      title        = \"Matriz de Confusão\")"
      ],
      "execution_count": 59,
      "outputs": [
        {
          "output_type": "display_data",
          "data": {
            "image/png": "[encoded data removed]",
            "text/plain": [
              "<Figure size 576x432 with 2 Axes>"
            ]
          },
          "metadata": {
            "tags": [],
            "needs_background": "light"
          }
        }
      ]
    },
    {
      "cell_type": "markdown",
      "metadata": {
        "colab_type": "text",
        "id": "vP3Wneu9neNl"
      },
      "source": [
        "### Naïve Bayes"
      ]
    },
    {
      "cell_type": "code",
      "metadata": {
        "colab_type": "code",
        "id": "GeFovUk5neNm",
        "colab": {
          "base_uri": "https://localhost:8080/",
          "height": 34
        },
        "outputId": "ab76d4b7-01cb-4c75-e745-5b321f7471b9"
      },
      "source": [
        "nb = MultinomialNB()\n",
        "nb.fit(X_train, y_train)\n",
        "score = nb.score(X_train, y_train)\n",
        "print(score)"
      ],
      "execution_count": 60,
      "outputs": [
        {
          "output_type": "stream",
          "text": [
            "0.9294919877258779\n"
          ],
          "name": "stdout"
        }
      ]
    },
    {
      "cell_type": "code",
      "metadata": {
        "colab_type": "code",
        "id": "WvES0EPineNo",
        "colab": {
          "base_uri": "https://localhost:8080/",
          "height": 281
        },
        "outputId": "e217cb43-4d32-4a03-9594-0053c0482a3b"
      },
      "source": [
        "%%time\n",
        "from sklearn.metrics import classification_report\n",
        "\n",
        "y_predicted_nb = nb.predict(X_test)\n",
        "\n",
        "print('accuracy %s' % accuracy_score(y_test, y_predicted_nb))\n",
        "print(classification_report(y_test, y_predicted_nb))"
      ],
      "execution_count": 61,
      "outputs": [
        {
          "output_type": "stream",
          "text": [
            "accuracy 0.7893732103086223\n",
            "              precision    recall  f1-score   support\n",
            "\n",
            "     alegria       0.83      0.97      0.89      4190\n",
            "    desgosto       0.72      0.35      0.47       426\n",
            "        medo       0.75      0.47      0.58       377\n",
            "       raiva       0.60      0.41      0.49       628\n",
            "    tristeza       0.64      0.49      0.55       665\n",
            "\n",
            "    accuracy                           0.79      6286\n",
            "   macro avg       0.71      0.54      0.60      6286\n",
            "weighted avg       0.77      0.79      0.77      6286\n",
            "\n",
            "CPU times: user 50.6 ms, sys: 959 µs, total: 51.6 ms\n",
            "Wall time: 52.9 ms\n"
          ],
          "name": "stdout"
        }
      ]
    },
    {
      "cell_type": "code",
      "metadata": {
        "colab_type": "code",
        "id": "FoCU2Y4OneNq",
        "colab": {
          "base_uri": "https://localhost:8080/",
          "height": 467
        },
        "outputId": "cd32a52a-2157-4309-9f94-e28722f16a86"
      },
      "source": [
        "plot_confusion_matrix(cm           = confusion_matrix(y_test, y_predicted_nb), \n",
        "                      normalize    = False,\n",
        "                      target_names = labels_classes,\n",
        "                      title        = \"Matriz de Confusão\")"
      ],
      "execution_count": 62,
      "outputs": [
        {
          "output_type": "display_data",
          "data": {
            "image/png": "[encoded data removed]",
            "text/plain": [
              "<Figure size 576x432 with 2 Axes>"
            ]
          },
          "metadata": {
            "tags": [],
            "needs_background": "light"
          }
        }
      ]
    },
    {
      "cell_type": "markdown",
      "metadata": {
        "colab_type": "text",
        "id": "iXQ7AzGlneNs"
      },
      "source": [
        "### Support Vector Machines (SVM)"
      ]
    },
    {
      "cell_type": "code",
      "metadata": {
        "colab_type": "code",
        "id": "J38h2YTJneNt",
        "colab": {
          "base_uri": "https://localhost:8080/",
          "height": 90
        },
        "outputId": "ae57e59a-db1e-4484-d658-f97fc6112b7e"
      },
      "source": [
        "# Com Bag of Words\n",
        "svm_bow = svm.LinearSVC(C=1.0, multi_class='crammer_singer', class_weight = 'balanced')\n",
        "svm_bow.fit(X_train,y_train)\n",
        "\n",
        "y_predicted_svm_bow = svm_bow.predict(X_test)\n",
        "\n",
        "print(\"SVM Accuracy Score -> \",accuracy_score(y_test, y_predicted_svm_bow)*100)"
      ],
      "execution_count": 63,
      "outputs": [
        {
          "output_type": "stream",
          "text": [
            "SVM Accuracy Score ->  77.26694241170856\n"
          ],
          "name": "stdout"
        },
        {
          "output_type": "stream",
          "text": [
            "/usr/local/lib/python3.6/dist-packages/sklearn/svm/_base.py:947: ConvergenceWarning: Liblinear failed to converge, increase the number of iterations.\n",
            "  \"the number of iterations.\", ConvergenceWarning)\n"
          ],
          "name": "stderr"
        }
      ]
    },
    {
      "cell_type": "code",
      "metadata": {
        "colab_type": "code",
        "id": "aAtUlNjLneNz",
        "colab": {
          "base_uri": "https://localhost:8080/",
          "height": 467
        },
        "outputId": "0295dd93-49e4-471b-866c-9c5e895d971f"
      },
      "source": [
        "plot_confusion_matrix(cm           = confusion_matrix(y_test, y_predicted_svm_bow), \n",
        "                      normalize    = False,\n",
        "                      target_names = labels_classes,\n",
        "                      title        = \"Matriz de Confusão\")"
      ],
      "execution_count": 64,
      "outputs": [
        {
          "output_type": "display_data",
          "data": {
            "image/png": "[encoded data removed]",
            "text/plain": [
              "<Figure size 576x432 with 2 Axes>"
            ]
          },
          "metadata": {
            "tags": [],
            "needs_background": "light"
          }
        }
      ]
    },
    {
      "cell_type": "code",
      "metadata": {
        "colab_type": "code",
        "id": "5kMbQAV3neN1",
        "colab": {
          "base_uri": "https://localhost:8080/",
          "height": 90
        },
        "outputId": "2332c017-814e-471c-90c6-6dc17b01efd9"
      },
      "source": [
        "# Fit vetor de treino TFIDF no classificador\n",
        "SVM = svm.LinearSVC(C=1.0, multi_class='crammer_singer', class_weight = 'balanced')\n",
        "#svm.SVC(C=1.0, kernel='linear', degree=3, gamma='auto')\n",
        "SVM.fit(X_train_Tfidf,y_train)\n",
        "\n",
        "y_predicted_svm_tfidf = SVM.predict(X_test_Tfidf)\n",
        "\n",
        "print(\"SVM Accuracy Score -> \",accuracy_score(y_test, y_predicted_svm_tfidf)*100)"
      ],
      "execution_count": 65,
      "outputs": [
        {
          "output_type": "stream",
          "text": [
            "SVM Accuracy Score ->  78.04645243398028\n"
          ],
          "name": "stdout"
        },
        {
          "output_type": "stream",
          "text": [
            "/usr/local/lib/python3.6/dist-packages/sklearn/svm/_base.py:947: ConvergenceWarning: Liblinear failed to converge, increase the number of iterations.\n",
            "  \"the number of iterations.\", ConvergenceWarning)\n"
          ],
          "name": "stderr"
        }
      ]
    },
    {
      "cell_type": "code",
      "metadata": {
        "colab_type": "code",
        "id": "hhxvIPshneN3",
        "colab": {
          "base_uri": "https://localhost:8080/",
          "height": 467
        },
        "outputId": "fd332116-d4be-4e73-e28e-8b7d870041ed"
      },
      "source": [
        "plot_confusion_matrix(cm           = confusion_matrix(y_test, y_predicted_svm_tfidf), \n",
        "                      normalize    = False,\n",
        "                      target_names = labels_classes,\n",
        "                      title        = \"Matriz de Confusão\")"
      ],
      "execution_count": 66,
      "outputs": [
        {
          "output_type": "display_data",
          "data": {
            "image/png": "[encoded data removed]",
            "text/plain": [
              "<Figure size 576x432 with 2 Axes>"
            ]
          },
          "metadata": {
            "tags": [],
            "needs_background": "light"
          }
        }
      ]
    },
    {
      "cell_type": "markdown",
      "metadata": {
        "colab_type": "text",
        "id": "vPVwyzxlneN5"
      },
      "source": [
        "### RNN com LSTM"
      ]
    },
    {
      "cell_type": "code",
      "metadata": {
        "id": "BbrWwekg440p",
        "colab_type": "code",
        "colab": {
          "base_uri": "https://localhost:8080/",
          "height": 195
        },
        "outputId": "c5faccf7-edf8-43dd-8852-ca1b923bba2c"
      },
      "source": [
        "df_train.head()"
      ],
      "execution_count": 67,
      "outputs": [
        {
          "output_type": "execute_result",
          "data": {
            "text/html": [
              "<div>\n",
              "<style scoped>\n",
              "    .dataframe tbody tr th:only-of-type {\n",
              "        vertical-align: middle;\n",
              "    }\n",
              "\n",
              "    .dataframe tbody tr th {\n",
              "        vertical-align: top;\n",
              "    }\n",
              "\n",
              "    .dataframe thead th {\n",
              "        text-align: right;\n",
              "    }\n",
              "</style>\n",
              "<table border=\"1\" class=\"dataframe\">\n",
              "  <thead>\n",
              "    <tr style=\"text-align: right;\">\n",
              "      <th></th>\n",
              "      <th>classe</th>\n",
              "      <th>texto</th>\n",
              "      <th>pre</th>\n",
              "    </tr>\n",
              "  </thead>\n",
              "  <tbody>\n",
              "    <tr>\n",
              "      <th>11306</th>\n",
              "      <td>alegria</td>\n",
              "      <td>Obrigado pela sua compreensão, senhor. Vou res...</td>\n",
              "      <td>compreensão senhor reservar</td>\n",
              "    </tr>\n",
              "    <tr>\n",
              "      <th>9664</th>\n",
              "      <td>alegria</td>\n",
              "      <td>Esta é a primeira vez! Você deve ter ganhado n...</td>\n",
              "      <td>ganhado loteria</td>\n",
              "    </tr>\n",
              "    <tr>\n",
              "      <th>13058</th>\n",
              "      <td>alegria</td>\n",
              "      <td>ESTÁ BEM . Compreendo . Obrigado .</td>\n",
              "      <td>compreendo</td>\n",
              "    </tr>\n",
              "    <tr>\n",
              "      <th>13617</th>\n",
              "      <td>raiva</td>\n",
              "      <td>O que há de errado nisso? Eu fico louca por ci...</td>\n",
              "      <td>errado nisso fico louca cigarro</td>\n",
              "    </tr>\n",
              "    <tr>\n",
              "      <th>204</th>\n",
              "      <td>alegria</td>\n",
              "      <td>Já vi isso tantas vezes em livros, mas nunca i...</td>\n",
              "      <td>tantas livros imaginei veria pessoalmente</td>\n",
              "    </tr>\n",
              "  </tbody>\n",
              "</table>\n",
              "</div>"
            ],
            "text/plain": [
              "        classe  ...                                        pre\n",
              "11306  alegria  ...                compreensão senhor reservar\n",
              "9664   alegria  ...                            ganhado loteria\n",
              "13058  alegria  ...                                 compreendo\n",
              "13617    raiva  ...            errado nisso fico louca cigarro\n",
              "204    alegria  ...  tantas livros imaginei veria pessoalmente\n",
              "\n",
              "[5 rows x 3 columns]"
            ]
          },
          "metadata": {
            "tags": []
          },
          "execution_count": 67
        }
      ]
    },
    {
      "cell_type": "code",
      "metadata": {
        "colab_type": "code",
        "id": "OdhnH4EaneN7",
        "colab": {
          "base_uri": "https://localhost:8080/",
          "height": 246
        },
        "outputId": "8b3ef757-246c-4d53-9cbd-1cea19e8e662"
      },
      "source": [
        "# Conversões para repassar ao Keras\n",
        "\n",
        "y_train = df_train['classe'].tolist()\n",
        "y_test = df_test['classe'].tolist()\n",
        "\n",
        "encoder = LabelBinarizer()\n",
        "y_train_enc = encoder.fit_transform(y_train)\n",
        "y_test_enc = encoder.fit_transform(y_test)\n",
        "print('y_train label_encoder', y_train_enc[:5])\n",
        "print('y_test label_encoder', y_test_enc[:5])\n",
        "\n",
        "print('Shape of label tensor y_train:', len(y_train_enc))\n",
        "print('Shape of label tensor y_test:', len(y_test_enc))\n",
        "\n",
        "textos_train = df_train['pre'].tolist()\n",
        "textos_test = df_test['pre'].tolist()\n",
        "\n",
        "tokenizer_keras = Tokenizer(num_words=10000)\n",
        "tokenizer_keras.fit_on_texts(textos_train)\n",
        "\n",
        "word_index = tokenizer_keras.word_index\n",
        "print('Found %s unique tokens.' % len(word_index))\n",
        "\n",
        "X_train = tokenizer_keras.texts_to_sequences(textos_train)\n",
        "X_test = tokenizer_keras.texts_to_sequences(textos_test)\n",
        "\n",
        "vocab_size = len(tokenizer_keras.word_index) + 1\n",
        "index_of_words = tokenizer_keras.word_index"
      ],
      "execution_count": 68,
      "outputs": [
        {
          "output_type": "stream",
          "text": [
            "y_train label_encoder [[1 0 0 0 0]\n",
            " [1 0 0 0 0]\n",
            " [1 0 0 0 0]\n",
            " [0 0 0 1 0]\n",
            " [1 0 0 0 0]]\n",
            "y_test label_encoder [[1 0 0 0 0]\n",
            " [1 0 0 0 0]\n",
            " [1 0 0 0 0]\n",
            " [1 0 0 0 0]\n",
            " [1 0 0 0 0]]\n",
            "Shape of label tensor y_train: 14665\n",
            "Shape of label tensor y_test: 6286\n",
            "Found 11761 unique tokens.\n"
          ],
          "name": "stdout"
        }
      ]
    },
    {
      "cell_type": "code",
      "metadata": {
        "colab_type": "code",
        "id": "rhR9U4qbneN8",
        "colab": {
          "base_uri": "https://localhost:8080/",
          "height": 107
        },
        "outputId": "924ccdd8-ff94-450b-982d-205dcc396633"
      },
      "source": [
        "print(vocab_size)\n",
        "print(textos_train[3])\n",
        "print(X_train[3])\n",
        "print(index_of_words)"
      ],
      "execution_count": 69,
      "outputs": [
        {
          "output_type": "stream",
          "text": [
            "11762\n",
            "errado nisso fico louca cigarro\n",
            "[169, 151, 58, 2966, 1155]\n",
            "{'feliz': 1, 'ótimo': 2, 'certo': 3, 'gosto': 4, 'melhor': 5, 'medo': 6, 'sinto': 7, 'ideia': 8, 'claro': 9, 'prazer': 10, 'exame': 11, 'durante': 12, 'namorado': 13, 'verdade': 14, 'sozinho': 15, 'morreu': 16, 'encontrar': 17, 'raiva': 18, 'legal': 19, 'espero': 20, 'podemos': 21, 'soube': 22, 'triste': 23, 'pais': 24, 'senhor': 25, 'algum': 26, 'problemas': 27, 'namorada': 28, 'irmão': 29, 'comida': 30, 'novamente': 31, 'sair': 32, 'festa': 33, 'ajuda': 34, 'desculpe': 35, 'vida': 36, 'jantar': 37, 'muitas': 38, 'maravilhoso': 39, 'família': 40, 'amanhã': 41, 'manhã': 42, 'irmã': 43, 'recebi': 44, 'aniversário': 45, 'ajudar': 46, 'sorte': 47, 'ônibus': 48, 'férias': 49, 'ouvi': 50, 'lindo': 51, 'alguma': 52, 'nenhum': 53, 'perfeito': 54, 'cara': 55, 'tchau': 56, 'interessante': 57, 'fico': 58, 'devo': 59, 'feito': 60, 'música': 61, 'pensei': 62, 'exames': 63, 'passado': 64, 'parabéns': 65, 'consegui': 66, 'fazendo': 67, 'deixeme': 68, 'levar': 69, 'sabia': 70, 'certa': 71, 'muita': 72, 'enojado': 73, 'mundo': 74, 'juntos': 75, 'gentil': 76, 'descobri': 77, 'morte': 78, 'café': 79, 'veio': 80, 'filho': 81, 'deixar': 82, 'gosta': 83, 'simplesmente': 84, 'preciso': 85, 'acidente': 86, 'problema': 87, 'jogo': 88, 'passei': 89, 'nome': 90, 'esperava': 91, 'inglês': 92, 'empresa': 93, 'sério': 94, 'achei': 95, 'ficou': 96, 'começou': 97, 'perdi': 98, 'excelente': 99, 'acabei': 100, 'acha': 101, 'encontrei': 102, 'difícil': 103, 'consigo': 104, 'presente': 105, 'deixou': 106, 'conhecêlo': 107, 'alegria': 108, 'finalmente': 109, 'terrível': 110, 'nojo': 111, 'verão': 112, 'restaurante': 113, 'esposa': 114, 'ruim': 115, 'entrar': 116, 'doente': 117, 'natal': 118, 'divertido': 119, 'importante': 120, 'resultados': 121, 'casamento': 122, 'deus': 123, 'relacionamento': 124, 'fica': 125, 'esperando': 126, 'exatamente': 127, 'suficiente': 128, 'gostei': 129, 'zangado': 130, 'conheci': 131, 'jogar': 132, 'pensando': 133, 'olha': 134, 'ansioso': 135, 'pena': 136, 'telefone': 137, 'começar': 138, 'precisa': 139, 'ótima': 140, 'boas': 141, 'falando': 142, 'percebi': 143, 'mesma': 144, 'incrível': 145, 'criança': 146, 'bêbado': 147, 'indo': 148, 'lamento': 149, 'situação': 150, 'nisso': 151, 'adoraria': 152, 'olhada': 153, 'colegas': 154, 'ninguém': 155, 'senhora': 156, 'bonito': 157, 'emocionante': 158, 'agradável': 159, 'receio': 160, 'aconteceu': 161, 'dança': 162, 'parecia': 163, 'pronto': 164, 'conseguir': 165, 'faculdade': 166, 'disseram': 167, 'linda': 168, 'errado': 169, 'entendo': 170, 'última': 171, 'rápido': 172, 'tomar': 173, 'mesa': 174, 'odeio': 175, 'china': 176, 'estarei': 177, 'perder': 178, 'sucesso': 179, 'várias': 180, 'futebol': 181, 'amor': 182, 'encontro': 183, 'velho': 184, 'descobrir': 185, 'bonita': 186, 'pagar': 187, 'trazer': 188, 'bolsa': 189, 'crianças': 190, 'fantástico': 191, 'cabelo': 192, 'querida': 193, 'sábado': 194, 'vestido': 195, 'terminar': 196, 'horrível': 197, 'sensação': 198, 'quente': 199, 'passada': 200, 'possa': 201, 'dizendo': 202, 'escritório': 203, 'água': 204, 'animado': 205, 'longo': 206, 'discussão': 207, 'cartão': 208, 'cabeça': 209, 'tristeza': 210, 'loja': 211, 'mary': 212, 'tentando': 213, 'gostou': 214, 'flores': 215, 'convidar': 216, 'fotos': 217, 'totalmente': 218, 'tendo': 219, 'existem': 220, 'parque': 221, 'minutos': 222, 'tentou': 223, 'recentemente': 224, 'acreditar': 225, 'conosco': 226, 'acabou': 227, 'escuro': 228, 'conseguia': 229, 'fácil': 230, 'bicicleta': 231, 'bemvindo': 232, 'aprecio': 233, 'bons': 234, 'livre': 235, 'preocupe': 236, 'praia': 237, 'fato': 238, 'bebida': 239, 'iria': 240, 'reprovado': 241, 'exterior': 242, 'notícias': 243, 'melhores': 244, 'especialmente': 245, 'diga': 246, 'tantas': 247, 'conta': 248, 'modo': 249, 'quiser': 250, 'bebê': 251, 'favorito': 252, 'fresco': 253, 'motorista': 254, 'contato': 255, 'cuidar': 256, 'alunos': 257, 'chance': 258, 'curso': 259, 'reunião': 260, 'chefe': 261, 'show': 262, 'pegou': 263, 'homens': 264, 'olhos': 265, 'olhe': 266, 'forte': 267, 'período': 268, 'absolutamente': 269, 'sentia': 270, 'lista': 271, 'saindo': 272, 'chinesa': 273, 'cheio': 274, 'pedido': 275, 'aceito': 276, 'espere': 277, 'saiu': 278, 'ganhei': 279, 'adoro': 280, 'negócios': 281, 'amava': 282, 'interessado': 283, 'passou': 284, 'definitivamente': 285, 'devemos': 286, 'estudos': 287, 'gostar': 288, 'entendi': 289, 'sentimentos': 290, 'ligou': 291, 'experimentar': 292, 'vinho': 293, 'dançar': 294, 'lembrar': 295, 'entanto': 296, 'pediu': 297, 'serviço': 298, 'vêlo': 299, 'casar': 300, 'filha': 301, 'mencione': 302, 'palavras': 303, 'vontade': 304, 'acredito': 305, 'ajudálo': 306, 'gostava': 307, 'passeio': 308, 'entrei': 309, 'caro': 310, 'história': 311, 'apareceu': 312, 'frequência': 313, 'trem': 314, 'lembro': 315, 'pudesse': 316, 'menina': 317, 'voltei': 318, 'procurando': 319, 'receber': 320, 'refeição': 321, 'país': 322, 'acordo': 323, 'escolha': 324, 'culpa': 325, 'partida': 326, 'alta': 327, 'nele': 328, 'ensino': 329, 'cheguei': 330, 'vista': 331, 'pequeno': 332, 'quis': 333, 'prometeu': 334, 'voltou': 335, 'pior': 336, 'roupas': 337, 'inteligente': 338, 'livros': 339, 'doença': 340, 'injustamente': 341, 'trabalhando': 342, 'filhos': 343, 'sonho': 344, 'cozinha': 345, 'informações': 346, 'faça': 347, 'faleceu': 348, 'provavelmente': 349, 'semestre': 350, 'agradeço': 351, 'notícia': 352, 'delicioso': 353, 'venha': 354, 'ficaria': 355, 'propósito': 356, 'bola': 357, 'atrasado': 358, 'voltando': 359, 'especial': 360, 'câncer': 361, 'divertir': 362, 'briga': 363, 'assunto': 364, 'aprender': 365, 'preço': 366, 'experiência': 367, 'felizes': 368, 'animais': 369, 'deixa': 370, 'maravilhosa': 371, 'imediatamente': 372, 'alto': 373, 'parentes': 374, 'médico': 375, 'diferentes': 376, 'comprei': 377, 'chão': 378, 'time': 379, 'conversa': 380, 'ficava': 381, 'assustado': 382, 'andando': 383, 'jardim': 384, 'sentado': 385, 'entrevista': 386, 'beber': 387, 'futuro': 388, 'selecionado': 389, 'jornal': 390, 'início': 391, 'devido': 392, 'filmes': 393, 'concordo': 394, 'conheço': 395, 'antigo': 396, 'manter': 397, 'teste': 398, 'entrou': 399, 'coração': 400, 'apaixonado': 401, 'temia': 402, 'tênis': 403, 'ficando': 404, 'meia': 405, 'estação': 406, 'prêmio': 407, 'banheiro': 408, 'domingo': 409, 'sapatos': 410, 'estudante': 411, 'perdeu': 412, 'cansado': 413, 'série': 414, 'escolher': 415, 'satisfeito': 416, 'almoço': 417, 'polícia': 418, 'cinema': 419, 'líder': 420, 'unza': 421, 'saudável': 422, 'precisava': 423, 'aluno': 424, 'centro': 425, 'próximos': 426, 'gato': 427, 'louco': 428, 'pedi': 429, 'sozinha': 430, 'john': 431, 'hotel': 432, 'goste': 433, 'conseguiu': 434, 'significa': 435, 'pequim': 436, 'clima': 437, 'plano': 438, 'operação': 439, 'tirei': 440, 'apresentação': 441, 'dólares': 442, 'minuto': 443, 'útil': 444, 'olhar': 445, 'jack': 446, 'longa': 447, 'rádio': 448, 'carteira': 449, 'diferente': 450, 'professora': 451, 'acabado': 452, 'normalmente': 453, 'sextafeira': 454, 'barco': 455, 'acordei': 456, 'caixa': 457, 'equipe': 458, 'conveniente': 459, 'chinês': 460, 'médio': 461, 'esperamos': 462, 'olhando': 463, 'possamos': 464, 'bater': 465, 'saia': 466, 'moda': 467, 'direção': 468, 'nadar': 469, 'formulário': 470, 'adorável': 471, 'passagem': 472, 'farto': 473, 'ocupado': 474, 'meninos': 475, 'janela': 476, 'desejo': 477, 'campo': 478, 'mostrar': 479, 'admitido': 480, 'meninas': 481, 'mente': 482, 'prato': 483, 'apesar': 484, 'juntar': 485, 'cheiro': 486, 'superior': 487, 'cena': 488, 'adorar': 489, 'deixado': 490, 'principalmente': 491, 'velha': 492, 'público': 493, 'redor': 494, 'bateu': 495, 'trás': 496, 'época': 497, 'computador': 498, 'foto': 499, 'compras': 500, 'conhecia': 501, 'caminhar': 502, 'branco': 503, 'neve': 504, 'farei': 505, 'bela': 506, 'gravemente': 507, 'única': 508, 'parou': 509, 'primavera': 510, 'acontece': 511, 'decisão': 512, 'matemática': 513, 'estudantes': 514, 'cerveja': 515, 'visita': 516, 'saúde': 517, 'relógio': 518, 'estranho': 519, 'boca': 520, 'importa': 521, 'terror': 522, 'azul': 523, 'sentimento': 524, 'banco': 525, 'geralmente': 526, 'caso': 527, 'tirou': 528, 'ganhar': 529, 'papai': 530, 'sentido': 531, 'nervoso': 532, 'roubado': 533, 'aeroporto': 534, 'mensagem': 535, 'vestibular': 536, 'basta': 537, 'jeito': 538, 'mamãe': 539, 'preso': 540, 'funeral': 541, 'extremamente': 542, 'verdadeira': 543, 'secundária': 544, 'infelizmente': 545, 'ficará': 546, 'dirigindo': 547, 'rapidamente': 548, 'vêla': 549, 'programa': 550, 'carne': 551, 'discutir': 552, 'lugares': 553, 'papel': 554, 'conversando': 555, 'estilo': 556, 'assistindo': 557, 'ganhou': 558, 'preparado': 559, 'simples': 560, 'continuar': 561, 'preocupado': 562, 'droga': 563, 'haha': 564, 'reserva': 565, 'respeito': 566, 'cozinhar': 567, 'ficamos': 568, 'chegou': 569, 'membros': 570, 'prédio': 571, 'inverno': 572, 'obter': 573, 'primo': 574, 'morto': 575, 'promoção': 576, 'evento': 577, 'rosto': 578, 'esqueci': 579, 'precisamos': 580, 'negócio': 581, 'sangue': 582, 'mulheres': 583, 'graças': 584, 'aproveitar': 585, 'chamado': 586, 'acontecendo': 587, 'linha': 588, 'floresta': 589, 'escolhido': 590, 'verificar': 591, 'carona': 592, 'perda': 593, 'ensinar': 594, 'padrão': 595, 'humor': 596, 'palestra': 597, 'pego': 598, 'segurança': 599, 'único': 600, 'palestras': 601, 'mercado': 602, 'erro': 603, 'saído': 604, 'confortável': 605, 'corpo': 606, 'grávida': 607, 'chegando': 608, 'árvore': 609, 'morrer': 610, 'atenção': 611, 'pequena': 612, 'estúpido': 613, 'trânsito': 614, 'principal': 615, 'morava': 616, 'verdadeiro': 617, 'piquenique': 618, 'vale': 619, 'deixando': 620, 'meianoite': 621, 'prestes': 622, 'belo': 623, 'biblioteca': 624, 'ingressos': 625, 'combina': 626, 'xícara': 627, 'liguei': 628, 'aceitar': 629, 'falecido': 630, 'cuidado': 631, 'acontecido': 632, 'brilhante': 633, 'atitude': 634, 'ouvido': 635, 'montanhas': 636, 'acampamento': 637, 'visão': 638, 'visto': 639, 'vídeo': 640, 'íamos': 641, 'oferecer': 642, 'comprou': 643, 'chorar': 644, 'terra': 645, 'coloquei': 646, 'esperei': 647, 'tantos': 648, 'resto': 649, 'costumava': 650, 'própria': 651, 'começo': 652, 'recibo': 653, 'emoção': 654, 'usando': 655, 'aproveite': 656, 'segundafeira': 657, 'sopa': 658, 'costas': 659, 'frio': 660, 'esqui': 661, 'medicina': 662, 'completamente': 663, 'sentindo': 664, 'prova': 665, 'outono': 666, 'bolo': 667, 'relações': 668, 'cantar': 669, 'decidi': 670, 'concerto': 671, 'leve': 672, 'doutor': 673, 'oportunidade': 674, 'peixe': 675, 'direito': 676, 'lixo': 677, 'histórias': 678, 'inteiro': 679, 'projeto': 680, 'pressa': 681, 'resposta': 682, 'vizinho': 683, 'gentileza': 684, 'ambiente': 685, 'contou': 686, 'compreensão': 687, 'pessoalmente': 688, 'troco': 689, 'avisar': 690, 'jovens': 691, 'faria': 692, 'convite': 693, 'impressionante': 694, 'perguntou': 695, 'quantos': 696, 'garoto': 697, 'beleza': 698, 'caminhando': 699, 'concurso': 700, 'viajar': 701, 'tipos': 702, 'daqui': 703, 'volte': 704, 'termos': 705, 'amizade': 706, 'quão': 707, 'relatório': 708, 'presentes': 709, 'roupa': 710, 'vivo': 711, 'responsável': 712, 'anterior': 713, 'email': 714, 'decidimos': 715, 'brincando': 716, 'conhecimento': 717, 'roubou': 718, 'jogos': 719, 'dificuldade': 720, 'física': 721, 'surpreso': 722, 'perdido': 723, 'trouxe': 724, 'gerente': 725, 'lendo': 726, 'injusto': 727, 'morrendo': 728, 'enviar': 729, 'fizeram': 730, 'pessoal': 731, 'fique': 732, 'lago': 733, 'convidou': 734, 'companhia': 735, 'móveis': 736, 'divertimos': 737, 'abrir': 738, 'idade': 739, 'informado': 740, 'pensava': 741, 'peguei': 742, 'frango': 743, 'concordar': 744, 'tratamento': 745, 'sonhei': 746, 'atender': 747, 'treinamento': 748, 'ficarei': 749, 'causou': 750, 'fome': 751, 'suco': 752, 'quebrou': 753, 'dificuldades': 754, 'banda': 755, 'garrafa': 756, 'felizmente': 757, 'dever': 758, 'chineses': 759, 'olhei': 760, 'informação': 761, 'assisti': 762, 'deixei': 763, 'espécie': 764, 'real': 765, 'corte': 766, 'atencioso': 767, 'molho': 768, 'oferta': 769, 'penso': 770, 'desapontado': 771, 'condições': 772, 'colocou': 773, 'objetivo': 774, 'ansiosos': 775, 'gostaríamos': 776, 'poderíamos': 777, 'agradecer': 778, 'crédito': 779, 'existe': 780, 'irei': 781, 'admissão': 782, 'trabalhei': 783, 'insultado': 784, 'favorita': 785, 'nela': 786, 'américa': 787, 'ligação': 788, 'decidiu': 789, 'banho': 790, 'terminei': 791, 'design': 792, 'compartilhar': 793, 'seguir': 794, 'correr': 795, 'prometo': 796, 'inesperadamente': 797, 'david': 798, 'recusou': 799, 'cerimônia': 800, 'sabendo': 801, 'afinal': 802, 'internet': 803, 'cores': 804, 'paciência': 805, 'desagradável': 806, 'doces': 807, 'diretor': 808, 'começaram': 809, 'assento': 810, 'camisa': 811, 'cliente': 812, 'comportou': 813, 'departamento': 814, 'bati': 815, 'basquete': 816, 'espaço': 817, 'total': 818, 'monica': 819, 'bairro': 820, 'chocolate': 821, 'limpar': 822, 'áfrica': 823, 'corredor': 824, 'chuva': 825, 'capaz': 826, 'encontrou': 827, 'estaria': 828, 'passando': 829, 'ferido': 830, 'vendas': 831, 'pesquisa': 832, 'parecem': 833, 'horário': 834, 'palavra': 835, 'dormindo': 836, 'sortudo': 837, 'clube': 838, 'nasceu': 839, 'steven': 840, 'mora': 841, 'aposto': 842, 'chorando': 843, 'trata': 844, 'lindos': 845, 'ligando': 846, 'governo': 847, 'tamanho': 848, 'vegetais': 849, 'adoeceu': 850, 'orgulhoso': 851, 'verde': 852, 'noivo': 853, 'peça': 854, 'perna': 855, 'consideração': 856, 'abaixo': 857, 'rude': 858, 'tocar': 859, 'animal': 860, 'funciona': 861, 'montanha': 862, 'engraçado': 863, 'volto': 864, 'seguida': 865, 'diverti': 866, 'planos': 867, 'comemorar': 868, 'buscar': 869, 'ações': 870, 'últimos': 871, 'paciente': 872, 'bagunça': 873, 'assistente': 874, 'forçado': 875, 'fizemos': 876, 'areia': 877, 'ouvindo': 878, 'feira': 879, 'sentese': 880, 'desempenho': 881, 'legais': 882, 'falou': 883, 'ouça': 884, 'caras': 885, 'campus': 886, 'determinado': 887, 'suja': 888, 'pense': 889, 'espera': 890, 'guerra': 891, 'chateado': 892, 'produtos': 893, 'levado': 894, 'ótimos': 895, 'senso': 896, 'exercício': 897, 'ouviu': 898, 'contrato': 899, 'junto': 900, 'geladeira': 901, 'feriado': 902, 'igreja': 903, 'pele': 904, 'tocando': 905, 'leva': 906, 'teatro': 907, 'elevador': 908, 'conseguimos': 909, 'wang': 910, 'formatura': 911, 'perfeitamente': 912, 'gostamos': 913, 'ataque': 914, 'tornou': 915, 'táxi': 916, 'cobra': 917, 'aumento': 918, 'arte': 919, 'consegue': 920, 'enorme': 921, 'calças': 922, 'escreveu': 923, 'cadeira': 924, 'conhecemos': 925, 'pedaços': 926, 'ligue': 927, 'social': 928, 'contando': 929, 'querido': 930, 'lavar': 931, 'morrido': 932, 'preocupar': 933, 'turma': 934, 'ladrões': 935, 'certifiquese': 936, 'esqueça': 937, 'colégio': 938, 'perguntas': 939, 'opinião': 940, 'rosa': 941, 'picante': 942, 'pratos': 943, 'ficaram': 944, 'surpresa': 945, 'elogio': 946, 'acredite': 947, 'deixe': 948, 'bêbados': 949, 'bonde': 950, 'distância': 951, 'carros': 952, 'sofreu': 953, 'permissão': 954, 'praticar': 955, 'especiais': 956, 'cheia': 957, 'amante': 958, 'telefonema': 959, 'separação': 960, 'prisão': 961, 'pesadelo': 962, 'gritando': 963, 'aprendi': 964, 'quebrei': 965, 'experimento': 966, 'tarefa': 967, 'saímos': 968, 'ultimamente': 969, 'álcool': 970, 'copo': 971, 'aceita': 972, 'árduo': 973, 'seguro': 974, 'biologia': 975, 'maria': 976, 'pensado': 977, 'sobrinho': 978, 'meiodia': 979, 'continue': 980, 'convidado': 981, 'véspera': 982, 'viajando': 983, 'visitei': 984, 'ciências': 985, 'noiva': 986, 'senhorita': 987, 'deliberadamente': 988, 'cair': 989, 'hobby': 990, 'tratado': 991, 'possibilidade': 992, 'estudado': 993, 'excelentes': 994, 'pensa': 995, 'sobrinha': 996, 'desculpas': 997, 'lidar': 998, 'vermelho': 999, 'festival': 1000, 'conhece': 1001, 'estadia': 1002, 'haviam': 1003, 'esquina': 1004, 'vieram': 1005, 'comum': 1006, 'corri': 1007, 'atraente': 1008, 'gelo': 1009, 'fundo': 1010, 'alice': 1011, 'pequenas': 1012, 'aceitação': 1013, 'deseja': 1014, 'parado': 1015, 'planejando': 1016, 'esquiar': 1017, 'atacado': 1018, 'esquecer': 1019, 'nojento': 1020, 'mover': 1021, 'escura': 1022, 'cadáver': 1023, 'estudando': 1024, 'correu': 1025, 'duro': 1026, 'refeitório': 1027, 'fala': 1028, 'terno': 1029, 'obtive': 1030, 'errada': 1031, 'fila': 1032, 'paul': 1033, 'fofo': 1034, 'ajudou': 1035, 'quartos': 1036, 'arma': 1037, 'briguei': 1038, 'dito': 1039, 'ouro': 1040, 'doce': 1041, 'trabalhado': 1042, 'psicologia': 1043, 'folga': 1044, 'preto': 1045, 'passamos': 1046, 'mentiu': 1047, 'recebeu': 1048, 'brincar': 1049, 'profissional': 1050, 'caminhada': 1051, 'cooperação': 1052, 'fantástica': 1053, 'dando': 1054, 'gritar': 1055, 'terrivelmente': 1056, 'avião': 1057, 'gostam': 1058, 'natureza': 1059, 'lembrese': 1060, 'procurar': 1061, 'particular': 1062, 'gravata': 1063, 'ocasião': 1064, 'confiança': 1065, 'incidente': 1066, 'pegue': 1067, 'importo': 1068, 'celular': 1069, 'chamada': 1070, 'acaba': 1071, 'motivos': 1072, 'interessantes': 1073, 'matar': 1074, 'atropelado': 1075, 'barraca': 1076, 'natação': 1077, 'tranquilo': 1078, 'aldeia': 1079, 'conjunto': 1080, 'barulho': 1081, 'felicidades': 1082, 'cachorros': 1083, 'contrário': 1084, 'tido': 1085, 'sexuais': 1086, 'tempestade': 1087, 'perfeita': 1088, 'idiota': 1089, 'velhos': 1090, 'esperado': 1091, 'romântico': 1092, 'conhecêla': 1093, 'sofá': 1094, 'barato': 1095, 'impressionado': 1096, 'tratou': 1097, 'aparência': 1098, 'reação': 1099, 'especialista': 1100, 'braços': 1101, 'amigas': 1102, 'relaxar': 1103, 'lindas': 1104, 'mãos': 1105, 'ocorreu': 1106, 'convidálo': 1107, 'caiu': 1108, 'rosas': 1109, 'acima': 1110, 'cometi': 1111, 'ótimas': 1112, 'dúvida': 1113, 'motor': 1114, 'exército': 1115, 'superar': 1116, 'amigável': 1117, 'competição': 1118, 'olho': 1119, 'ousa': 1120, 'opiniões': 1121, 'provar': 1122, 'super': 1123, 'natural': 1124, 'escada': 1125, 'metrô': 1126, 'artigo': 1127, 'varanda': 1128, 'moro': 1129, 'ruins': 1130, 'razão': 1131, 'sujo': 1132, 'imaginar': 1133, 'ameaçou': 1134, 'primeiros': 1135, 'cortar': 1136, 'corrida': 1137, 'pista': 1138, 'merece': 1139, 'máquina': 1140, 'fazêlo': 1141, 'continua': 1142, 'lembra': 1143, 'obviamente': 1144, 'adora': 1145, 'ideal': 1146, 'londres': 1147, 'casal': 1148, 'acusado': 1149, 'aceitou': 1150, 'diversão': 1151, 'assinar': 1152, 'programas': 1153, 'desses': 1154, 'cigarro': 1155, 'discoteca': 1156, 'presidente': 1157, 'vermelhas': 1158, 'preços': 1159, 'deveriam': 1160, 'luzes': 1161, 'organizar': 1162, 'lojas': 1163, 'shopping': 1164, 'sabor': 1165, 'tiro': 1166, 'clientes': 1167, 'capacidade': 1168, 'jogando': 1169, 'segredo': 1170, 'regras': 1171, 'ideias': 1172, 'lotado': 1173, 'rose': 1174, 'língua': 1175, 'italiano': 1176, 'srta': 1177, 'médicos': 1178, 'falhar': 1179, 'quebrado': 1180, 'começa': 1181, 'familiares': 1182, 'sofrido': 1183, 'ligarei': 1184, 'preencher': 1185, 'mantenha': 1186, 'pessoais': 1187, 'importaria': 1188, 'certos': 1189, 'comi': 1190, 'divirtase': 1191, 'apaixonei': 1192, 'controlar': 1193, 'vinha': 1194, 'diferença': 1195, 'virar': 1196, 'fumar': 1197, 'certificado': 1198, 'necessidade': 1199, 'primária': 1200, 'culpado': 1201, 'mudanças': 1202, 'apostar': 1203, 'parceiro': 1204, 'irmãs': 1205, 'acidentalmente': 1206, 'puder': 1207, 'comemos': 1208, 'marca': 1209, 'considerado': 1210, 'chorei': 1211, 'devíamos': 1212, 'vendo': 1213, 'deprimido': 1214, 'próximas': 1215, 'nacional': 1216, 'ciúme': 1217, 'evitar': 1218, 'suporto': 1219, 'ação': 1220, 'colar': 1221, 'seção': 1222, 'caindo': 1223, 'metros': 1224, 'comendo': 1225, 'baixa': 1226, 'tornar': 1227, 'participar': 1228, 'inteira': 1229, 'pegando': 1230, 'estranhos': 1231, 'impossível': 1232, 'sente': 1233, 'movimento': 1234, 'entendeu': 1235, 'terminou': 1236, 'trabalha': 1237, 'desapareceu': 1238, 'chato': 1239, 'correndo': 1240, 'estacionamento': 1241, 'egoísta': 1242, 'controle': 1243, 'falava': 1244, 'braço': 1245, 'falo': 1246, 'disco': 1247, 'pare': 1248, 'sexualmente': 1249, 'servem': 1250, 'digamos': 1251, 'consequências': 1252, 'grave': 1253, 'brigando': 1254, 'fogo': 1255, 'mostra': 1256, 'mudança': 1257, 'vomitou': 1258, 'flor': 1259, 'esporte': 1260, 'peter': 1261, 'pobre': 1262, 'cabana': 1263, 'deram': 1264, 'temporada': 1265, 'mike': 1266, 'suponho': 1267, 'sintome': 1268, 'cavalo': 1269, 'reservas': 1270, 'sigame': 1271, 'habilidades': 1272, 'costumo': 1273, 'anatomia': 1274, 'alegre': 1275, 'mudou': 1276, 'convidados': 1277, 'acompanhar': 1278, 'grama': 1279, 'bebidas': 1280, 'iremos': 1281, 'exposição': 1282, 'batendo': 1283, 'toque': 1284, 'prefere': 1285, 'venda': 1286, 'cunhado': 1287, 'força': 1288, 'qualidade': 1289, 'queriam': 1290, 'coma': 1291, 'acaso': 1292, 'apresentar': 1293, 'cargo': 1294, 'consertar': 1295, 'gente': 1296, 'sexo': 1297, 'oral': 1298, 'moedas': 1299, 'pagando': 1300, 'esquecido': 1301, 'salto': 1302, 'irmãos': 1303, 'podíamos': 1304, 'panela': 1305, 'sincero': 1306, 'interesse': 1307, 'durou': 1308, 'contente': 1309, 'motoristas': 1310, 'documentos': 1311, 'aluguel': 1312, 'maçã': 1313, 'peixes': 1314, 'europa': 1315, 'péssimo': 1316, 'ausência': 1317, 'enganado': 1318, 'melhorar': 1319, 'almoçar': 1320, 'rápida': 1321, 'espírito': 1322, 'silêncio': 1323, 'aérea': 1324, 'feijão': 1325, 'próprias': 1326, 'dágua': 1327, 'tarefas': 1328, 'enojou': 1329, 'ópera': 1330, 'motocicleta': 1331, 'casou': 1332, 'câmera': 1333, 'quilômetros': 1334, 'serem': 1335, 'entrando': 1336, 'pensou': 1337, 'professores': 1338, 'lutar': 1339, 'base': 1340, 'conclusão': 1341, 'cheira': 1342, 'ovos': 1343, 'tocou': 1344, 'pensamento': 1345, 'importantes': 1346, 'smith': 1347, 'subir': 1348, 'recebendo': 1349, 'divertindo': 1350, 'mantêlo': 1351, 'descer': 1352, 'ouço': 1353, 'normal': 1354, 'vinhos': 1355, 'favoritos': 1356, 'erros': 1357, 'experimentou': 1358, 'acusou': 1359, 'jenny': 1360, 'aproximou': 1361, 'lutando': 1362, 'acabamos': 1363, 'cometeu': 1364, 'susan': 1365, 'sono': 1366, 'resolvido': 1367, 'ficado': 1368, 'deva': 1369, 'fraco': 1370, 'comeu': 1371, 'lisa': 1372, 'aberta': 1373, 'temo': 1374, 'buscálo': 1375, 'pontuação': 1376, 'separar': 1377, 'gostado': 1378, 'churrasco': 1379, 'grato': 1380, 'altura': 1381, 'repetir': 1382, 'sugestões': 1383, 'lembrome': 1384, 'prometido': 1385, 'passe': 1386, 'instituto': 1387, 'esforço': 1388, 'topo': 1389, 'comentário': 1390, 'cumprir': 1391, 'mundial': 1392, 'endereço': 1393, 'pedaço': 1394, 'expectativas': 1395, 'peso': 1396, 'responsabilidade': 1397, 'feitos': 1398, 'exnamorado': 1399, 'estudo': 1400, 'mandar': 1401, 'viver': 1402, 'recusei': 1403, 'projetos': 1404, 'namorados': 1405, 'yuan': 1406, 'promovido': 1407, 'curto': 1408, 'músculos': 1409, 'tentativa': 1410, 'sozinhos': 1411, 'específico': 1412, 'consulta': 1413, 'estados': 1414, 'voce': 1415, 'encontrado': 1416, 'necessário': 1417, 'taça': 1418, 'começamos': 1419, 'levando': 1420, 'nariz': 1421, 'assistia': 1422, 'chave': 1423, 'richard': 1424, 'exceto': 1425, 'noites': 1426, 'fechado': 1427, 'pressão': 1428, 'pescar': 1429, 'ganha': 1430, 'cursos': 1431, 'funcionários': 1432, 'casado': 1433, 'campainha': 1434, 'parecido': 1435, 'separamos': 1436, 'clássica': 1437, 'garotas': 1438, 'alimentos': 1439, 'felicidade': 1440, 'faremos': 1441, 'aberto': 1442, 'paisagem': 1443, 'gritou': 1444, 'prazo': 1445, 'entende': 1446, 'profunda': 1447, 'jane': 1448, 'realidade': 1449, 'cães': 1450, 'rico': 1451, 'frutas': 1452, 'bombaim': 1453, 'usou': 1454, 'variedade': 1455, 'próprios': 1456, 'certas': 1457, 'caixas': 1458, 'imaginei': 1459, 'bebemos': 1460, 'mapa': 1461, 'militar': 1462, 'reclamar': 1463, 'escritórios': 1464, 'enojada': 1465, 'estável': 1466, 'caminhão': 1467, 'emprestado': 1468, 'mesmos': 1469, 'dirigia': 1470, 'repreendeu': 1471, 'apaixonar': 1472, 'bebendo': 1473, 'vizinhos': 1474, 'jeans': 1475, 'anúncio': 1476, 'valsa': 1477, 'sally': 1478, 'sugerir': 1479, 'conseguido': 1480, 'agradecemos': 1481, 'procuro': 1482, 'internacional': 1483, 'defender': 1484, 'gavetas': 1485, 'confiava': 1486, 'limpo': 1487, 'perdemos': 1488, 'sanduíche': 1489, 'pergunta': 1490, 'feita': 1491, 'prima': 1492, 'dores': 1493, 'energia': 1494, 'velocidade': 1495, 'morta': 1496, 'infância': 1497, 'marcar': 1498, 'dados': 1499, 'interior': 1500, 'abril': 1501, 'daria': 1502, 'personalidade': 1503, 'febre': 1504, 'sinta': 1505, 'ladrão': 1506, 'admira': 1507, 'sugestão': 1508, 'baile': 1509, 'saco': 1510, 'visitas': 1511, 'pega': 1512, 'estômago': 1513, 'encontramos': 1514, 'estudei': 1515, 'ingresso': 1516, 'brigar': 1517, 'provas': 1518, 'setembro': 1519, 'estrangeiros': 1520, 'apartamentos': 1521, 'velhas': 1522, 'entregar': 1523, 'parei': 1524, 'decepção': 1525, 'repentinamente': 1526, 'experimentei': 1527, 'honra': 1528, 'disposto': 1529, 'lilongwe': 1530, 'educação': 1531, 'aguento': 1532, 'bagagem': 1533, 'ouvidos': 1534, 'performance': 1535, 'fechar': 1536, 'campeonato': 1537, 'irritado': 1538, 'resolver': 1539, 'empresas': 1540, 'cantora': 1541, 'dançarina': 1542, 'ligo': 1543, 'cardíaco': 1544, 'procura': 1545, 'disponível': 1546, 'falado': 1547, 'saboroso': 1548, 'promover': 1549, 'gatinho': 1550, 'tutor': 1551, 'detalhes': 1552, 'henry': 1553, 'conflito': 1554, 'lágrimas': 1555, 'falsas': 1556, 'recente': 1557, 'taiwan': 1558, 'personagens': 1559, 'vitória': 1560, 'peças': 1561, 'aranha': 1562, 'atmosfera': 1563, 'subindo': 1564, 'matérias': 1565, 'alívio': 1566, 'revista': 1567, 'acampar': 1568, 'agosto': 1569, 'casas': 1570, 'janet': 1571, 'bordo': 1572, 'sujeira': 1573, 'perdendo': 1574, 'envelope': 1575, 'química': 1576, 'conhecelo': 1577, 'recepção': 1578, 'fins': 1579, 'desfrutar': 1580, 'rock': 1581, 'estranha': 1582, 'publicar': 1583, 'pacote': 1584, 'albergue': 1585, 'maltratado': 1586, 'muitíssimo': 1587, 'ensolarado': 1588, 'maio': 1589, 'bilhete': 1590, 'tortura': 1591, 'méxico': 1592, 'central': 1593, 'boate': 1594, 'anel': 1595, 'baixas': 1596, 'coragem': 1597, 'acabaram': 1598, 'passear': 1599, 'momentos': 1600, 'torta': 1601, 'prefiro': 1602, 'maçãs': 1603, 'lotada': 1604, 'forçou': 1605, 'servir': 1606, 'segurar': 1607, 'companheiro': 1608, 'oportunidades': 1609, 'levei': 1610, 'jogou': 1611, 'museu': 1612, 'passeios': 1613, 'efeito': 1614, 'suficientes': 1615, 'dente': 1616, 'garagem': 1617, 'encontrarmos': 1618, 'suéter': 1619, 'voltarei': 1620, 'continuou': 1621, 'lento': 1622, 'pósgraduação': 1623, 'autoridade': 1624, 'carreira': 1625, 'fruta': 1626, 'edição': 1627, 'bravo': 1628, 'espancado': 1629, 'igual': 1630, 'índia': 1631, 'venho': 1632, 'lily': 1633, 'mentiras': 1634, 'usado': 1635, 'estaremos': 1636, 'chapéu': 1637, 'botão': 1638, 'atirar': 1639, 'apreciar': 1640, 'fortes': 1641, 'direto': 1642, 'partido': 1643, 'buraco': 1644, 'parada': 1645, 'idéia': 1646, 'óleo': 1647, 'disseramme': 1648, 'sonhos': 1649, 'vestidos': 1650, 'assuntos': 1651, 'sabem': 1652, 'rapaz': 1653, 'golfe': 1654, 'exercícios': 1655, 'peito': 1656, 'roma': 1657, 'frase': 1658, 'ensaio': 1659, 'fracasso': 1660, 'sofri': 1661, 'online': 1662, 'compromisso': 1663, 'sobremesa': 1664, 'chegamos': 1665, 'tribunal': 1666, 'apresse': 1667, 'vemos': 1668, 'vêlos': 1669, 'envolveu': 1670, 'aborrecido': 1671, 'violência': 1672, 'entrada': 1673, 'eventos': 1674, 'discurso': 1675, 'corra': 1676, 'atingiu': 1677, 'impressão': 1678, 'temi': 1679, 'tradicional': 1680, 'extra': 1681, 'oficial': 1682, 'pulso': 1683, 'justo': 1684, 'mudei': 1685, 'tomado': 1686, 'assustador': 1687, 'chamou': 1688, 'veria': 1689, 'consiga': 1690, 'dançando': 1691, 'faca': 1692, 'parede': 1693, 'eleito': 1694, 'completa': 1695, 'encosta': 1696, 'vermelha': 1697, 'fortuna': 1698, 'curva': 1699, 'computadores': 1700, 'conhecesse': 1701, 'portão': 1702, 'gordo': 1703, 'pintura': 1704, 'casaco': 1705, 'pedindo': 1706, 'helen': 1707, 'turísticos': 1708, 'famoso': 1709, 'palácio': 1710, 'atualmente': 1711, 'compra': 1712, 'perigoso': 1713, 'economia': 1714, 'quantidade': 1715, 'pago': 1716, 'abertura': 1717, 'acordado': 1718, 'modelo': 1719, 'chega': 1720, 'brilhando': 1721, 'falhei': 1722, 'planejar': 1723, 'plantas': 1724, 'suicídio': 1725, 'alimentação': 1726, 'respondeu': 1727, 'dizia': 1728, 'conversei': 1729, 'cantor': 1730, 'rodovia': 1731, 'zhang': 1732, 'valeu': 1733, 'sorvete': 1734, 'champanhe': 1735, 'francês': 1736, 'produto': 1737, 'itens': 1738, 'traz': 1739, 'laranja': 1740, 'site': 1741, 'deparei': 1742, 'chegado': 1743, 'precioso': 1744, 'sombra': 1745, 'pássaro': 1746, 'barata': 1747, 'poderei': 1748, 'sugeriu': 1749, 'viria': 1750, 'trocar': 1751, 'batatas': 1752, 'havíamos': 1753, 'planejado': 1754, 'cobras': 1755, 'cansada': 1756, 'leválos': 1757, 'escolar': 1758, 'chata': 1759, 'balcão': 1760, 'reunir': 1761, 'atual': 1762, 'honrado': 1763, 'inscrição': 1764, 'visitando': 1765, 'dormi': 1766, 'fizesse': 1767, 'metade': 1768, 'escolares': 1769, 'intenções': 1770, 'salada': 1771, 'animada': 1772, 'bronzeado': 1773, 'bife': 1774, 'mortos': 1775, 'terremoto': 1776, 'gastar': 1777, 'almoçando': 1778, 'bemsucedido': 1779, 'daqueles': 1780, 'mostraram': 1781, 'herói': 1782, 'puro': 1783, 'dême': 1784, 'abri': 1785, 'branca': 1786, 'salário': 1787, 'licença': 1788, 'ombros': 1789, 'descobrimos': 1790, 'sofrer': 1791, 'aceitei': 1792, 'músicas': 1793, 'adequado': 1794, 'pareciam': 1795, 'trazendo': 1796, 'nojenta': 1797, 'realizar': 1798, 'tímido': 1799, 'queda': 1800, 'escrito': 1801, 'poucas': 1802, 'enfermaria': 1803, 'dessas': 1804, 'jake': 1805, 'tento': 1806, 'membro': 1807, 'hotéis': 1808, 'adoráveis': 1809, 'atraso': 1810, 'terminando': 1811, 'estimação': 1812, 'quebrar': 1813, 'autoridades': 1814, 'culto': 1815, 'agitado': 1816, 'milhão': 1817, 'garçom': 1818, 'desconto': 1819, 'paraíso': 1820, 'árbitro': 1821, 'gelada': 1822, 'pede': 1823, 'deslumbrante': 1824, 'esperança': 1825, 'testes': 1826, 'extras': 1827, 'joguei': 1828, 'contei': 1829, 'multidão': 1830, 'york': 1831, 'trapaceando': 1832, 'passa': 1833, 'kate': 1834, 'profundo': 1835, 'explicar': 1836, 'deitado': 1837, 'particularmente': 1838, 'vargas': 1839, 'fabuloso': 1840, 'sujeito': 1841, 'últimas': 1842, 'tentado': 1843, 'maravilha': 1844, 'ganhando': 1845, 'despedir': 1846, 'amada': 1847, 'reclamação': 1848, 'começando': 1849, 'entrega': 1850, 'piscina': 1851, 'assustou': 1852, 'veterinário': 1853, 'antiga': 1854, 'poço': 1855, 'visitou': 1856, 'proposta': 1857, 'cumprimentos': 1858, 'seguindo': 1859, 'beijo': 1860, 'acadêmico': 1861, 'inesperada': 1862, 'conte': 1863, 'torre': 1864, 'unidos': 1865, 'difíceis': 1866, 'satisfeitos': 1867, 'transporte': 1868, 'academia': 1869, 'capa': 1870, 'zâmbia': 1871, 'pizza': 1872, 'vaga': 1873, 'emocionalmente': 1874, 'departamentos': 1875, 'macarrão': 1876, 'fria': 1877, 'machucar': 1878, 'qualificado': 1879, 'faminto': 1880, 'aviso': 1881, 'gasolina': 1882, 'dirigi': 1883, 'insultou': 1884, 'enviou': 1885, 'vencer': 1886, 'monte': 1887, 'minhocas': 1888, 'cuide': 1889, 'xadrez': 1890, 'torna': 1891, 'traiu': 1892, 'porto': 1893, 'terríveis': 1894, 'arroz': 1895, 'elogios': 1896, 'trinta': 1897, 'fizer': 1898, 'prontos': 1899, 'milhões': 1900, 'tirado': 1901, 'mistura': 1902, 'refogado': 1903, 'assumir': 1904, 'assaltado': 1905, 'contas': 1906, 'negativo': 1907, 'tentamos': 1908, 'washington': 1909, 'pesada': 1910, 'ilha': 1911, 'austrália': 1912, 'piadas': 1913, 'dentes': 1914, 'quantas': 1915, 'pagamento': 1916, 'conversamos': 1917, 'fumaça': 1918, 'escuridão': 1919, 'chances': 1920, 'aparente': 1921, 'bobo': 1922, 'baratas': 1923, 'quartafeira': 1924, 'material': 1925, 'funcionar': 1926, 'antigos': 1927, 'título': 1928, 'recebemos': 1929, 'pernas': 1930, 'mesas': 1931, 'popular': 1932, 'explicação': 1933, 'seda': 1934, 'fábrica': 1935, 'maneiras': 1936, 'bungee': 1937, 'bilhetes': 1938, 'causado': 1939, 'levou': 1940, 'discos': 1941, 'inscrever': 1942, 'abriu': 1943, 'livrar': 1944, 'frank': 1945, 'pareço': 1946, 'morando': 1947, 'agrediu': 1948, 'podre': 1949, 'deixaram': 1950, 'gostas': 1951, 'pecado': 1952, 'televisão': 1953, 'solar': 1954, 'quarenta': 1955, 'tome': 1956, 'irmãzinha': 1957, 'alemão': 1958, 'insultar': 1959, 'vidro': 1960, 'atos': 1961, 'diabos': 1962, 'fantasmas': 1963, 'haver': 1964, 'ingredientes': 1965, 'ricos': 1966, 'pudéssemos': 1967, 'calma': 1968, 'street': 1969, 'vestindo': 1970, 'organização': 1971, 'caneta': 1972, 'aconteça': 1973, 'imagem': 1974, 'desconhecida': 1975, 'invadiu': 1976, 'oferece': 1977, 'adolescente': 1978, 'decidiram': 1979, 'rush': 1980, 'lucy': 1981, 'voar': 1982, 'trabalhava': 1983, 'empregos': 1984, 'chama': 1985, 'slides': 1986, 'idiotas': 1987, 'gravatas': 1988, 'prometer': 1989, 'leválo': 1990, 'decepcionante': 1991, 'incomodado': 1992, 'piloto': 1993, 'dedos': 1994, 'encerrar': 1995, 'salão': 1996, 'vento': 1997, 'agiu': 1998, 'janelas': 1999, 'sichuan': 2000, 'passaporte': 2001, 'animados': 2002, 'chegada': 2003, 'americano': 2004, 'enganou': 2005, 'white': 2006, 'rapazes': 2007, 'dezesseis': 2008, 'paris': 2009, 'estresse': 2010, 'diria': 2011, 'aliviar': 2012, 'familiar': 2013, 'embaixo': 2014, 'realizada': 2015, 'acontecesse': 2016, 'garantir': 2017, 'esforços': 2018, 'quantia': 2019, 'marketing': 2020, 'preocupação': 2021, 'quintal': 2022, 'aceitamos': 2023, 'lançar': 2024, 'noturna': 2025, 'pagou': 2026, 'virá': 2027, 'objeto': 2028, 'decoração': 2029, 'passos': 2030, 'separei': 2031, 'piada': 2032, 'espalhando': 2033, 'boatos': 2034, 'direi': 2035, 'árvores': 2036, 'maquiagem': 2037, 'linguagem': 2038, 'candidato': 2039, 'álbum': 2040, 'perigo': 2041, 'sociedade': 2042, 'martin': 2043, 'separaram': 2044, 'comentários': 2045, 'desejava': 2046, 'significava': 2047, 'ordem': 2048, 'tapa': 2049, 'reportagem': 2050, 'envolvido': 2051, 'fugir': 2052, 'mínimo': 2053, 'cinquenta': 2054, 'açúcar': 2055, 'lenta': 2056, 'solidão': 2057, 'boneco': 2058, 'colina': 2059, 'treino': 2060, 'política': 2061, 'voltado': 2062, 'costuma': 2063, 'verá': 2064, 'enfrentar': 2065, 'saladas': 2066, 'esqueceu': 2067, 'fundamental': 2068, 'tráfego': 2069, 'vender': 2070, 'investir': 2071, 'malaui': 2072, 'stanley': 2073, 'anna': 2074, 'amarelo': 2075, 'críquete': 2076, 'sentimos': 2077, 'lenço': 2078, 'mencionou': 2079, 'luta': 2080, 'empolgante': 2081, 'saiba': 2082, 'desconhecido': 2083, 'vomitar': 2084, 'ajudará': 2085, 'descendo': 2086, 'risco': 2087, 'entendia': 2088, 'jogadores': 2089, 'fazermos': 2090, 'assentos': 2091, 'habilidade': 2092, 'nascimento': 2093, 'convidei': 2094, 'pânico': 2095, 'tomou': 2096, 'acabar': 2097, 'prêmios': 2098, 'fonte': 2099, 'cruel': 2100, 'retornos': 2101, 'coloque': 2102, 'estacionado': 2103, 'surpreendente': 2104, 'acordou': 2105, 'satisfação': 2106, 'literatura': 2107, 'gostando': 2108, 'ativa': 2109, 'mães': 2110, 'sintase': 2111, 'confortáveis': 2112, 'policial': 2113, 'caminhei': 2114, 'disponíveis': 2115, 'perseguido': 2116, 'compro': 2117, 'pareceu': 2118, 'pinturas': 2119, 'peço': 2120, 'preocupada': 2121, 'atravessando': 2122, 'considerava': 2123, 'trancou': 2124, 'queira': 2125, 'maiores': 2126, 'sogros': 2127, 'orientação': 2128, 'nancy': 2129, 'estuda': 2130, 'ocupada': 2131, 'orquestra': 2132, 'saborear': 2133, 'ruídos': 2134, 'quadrados': 2135, 'desculpa': 2136, 'altos': 2137, 'digo': 2138, 'famosa': 2139, 'george': 2140, 'informar': 2141, 'falei': 2142, 'acabara': 2143, 'recebido': 2144, 'salvavidas': 2145, 'desculpar': 2146, 'navegando': 2147, 'decepcionado': 2148, 'cale': 2149, 'roubar': 2150, 'incomodar': 2151, 'cartas': 2152, 'blog': 2153, 'palestrante': 2154, 'comido': 2155, 'mestrado': 2156, 'março': 2157, 'mostrou': 2158, 'taxas': 2159, 'paguei': 2160, 'maravilhosamente': 2161, 'causando': 2162, 'irritou': 2163, 'gostaram': 2164, 'road': 2165, '1984': 2166, 'pensaram': 2167, 'locais': 2168, 'poderiam': 2169, 'casei': 2170, 'caminhava': 2171, 'verdes': 2172, 'hábito': 2173, '1983': 2174, 'repulsa': 2175, 'terminado': 2176, 'costumam': 2177, 'magoado': 2178, 'estrela': 2179, 'universitário': 2180, 'anunciados': 2181, 'continuamente': 2182, 'bill': 2183, 'responsabilidades': 2184, 'vimos': 2185, 'camisas': 2186, 'traga': 2187, 'cheque': 2188, 'abusada': 2189, 'humano': 2190, 'roubaram': 2191, 'cadáveres': 2192, 'prática': 2193, 'margaret': 2194, 'quadro': 2195, 'hall': 2196, 'agressivo': 2197, 'ajudando': 2198, 'comparecer': 2199, 'finais': 2200, 'parker': 2201, 'canadá': 2202, 'aborto': 2203, 'diretamente': 2204, 'acertei': 2205, 'parcialmente': 2206, 'câmeras': 2207, 'digital': 2208, 'chame': 2209, 'quilos': 2210, 'agradar': 2211, 'macio': 2212, 'utensílios': 2213, 'criar': 2214, 'sapo': 2215, 'urso': 2216, 'acalmar': 2217, 'elegante': 2218, 'pimenta': 2219, 'tailândia': 2220, 'baker': 2221, 'comunidade': 2222, 'estraguei': 2223, 'revistas': 2224, 'mentir': 2225, 'dragão': 2226, 'poemas': 2227, 'desligar': 2228, 'hospitalidade': 2229, 'nevando': 2230, 'ameixa': 2231, 'acampando': 2232, 'praticando': 2233, 'sessão': 2234, 'cérebro': 2235, 'tomamos': 2236, 'sofia': 2237, 'alegou': 2238, 'copa': 2239, 'ligaram': 2240, 'adorei': 2241, 'constantemente': 2242, 'insulto': 2243, 'malas': 2244, 'profundamente': 2245, 'tirando': 2246, 'adivinha': 2247, 'fogos': 2248, 'artifício': 2249, 'esplêndido': 2250, 'deliciosa': 2251, 'cuspiu': 2252, 'deixam': 2253, 'íntimos': 2254, 'danificado': 2255, 'paga': 2256, 'continuaram': 2257, 'atrasada': 2258, 'morreria': 2259, 'estações': 2260, 'punido': 2261, 'perguntei': 2262, 'conheceu': 2263, 'egoístas': 2264, 'questões': 2265, 'francesa': 2266, 'mestre': 2267, 'colocado': 2268, 'selos': 2269, 'hambúrgueres': 2270, 'celebrar': 2271, 'beisebol': 2272, 'incêndio': 2273, 'drink': 2274, 'intervalo': 2275, 'divórcio': 2276, 'atriz': 2277, 'hobbies': 2278, 'esportes': 2279, 'viagens': 2280, 'comportar': 2281, 'referência': 2282, 'emprestou': 2283, 'gasta': 2284, 'japão': 2285, 'cantando': 2286, 'mantém': 2287, 'osso': 2288, 'aprendeu': 2289, 'ansiedade': 2290, 'precisam': 2291, 'reservado': 2292, 'sexual': 2293, 'sentados': 2294, 'falamos': 2295, 'solução': 2296, 'certificação': 2297, 'atalho': 2298, 'localizado': 2299, 'pensamentos': 2300, 'indiferença': 2301, 'prometeram': 2302, 'famosos': 2303, 'dicas': 2304, 'franco': 2305, 'respirar': 2306, 'ocidentais': 2307, 'discutimos': 2308, 'junho': 2309, 'tentam': 2310, 'janeiro': 2311, 'invadiram': 2312, 'cobrar': 2313, 'discutindo': 2314, 'adicionar': 2315, 'informal': 2316, 'food': 2317, 'correio': 2318, 'xangai': 2319, 'vala': 2320, 'tornando': 2321, 'negativos': 2322, 'azar': 2323, 'interromper': 2324, 'morreram': 2325, 'confrontado': 2326, 'jumping': 2327, 'negativa': 2328, 'mandado': 2329, 'explodir': 2330, 'malawi': 2331, 'rompimento': 2332, 'fisicamente': 2333, 'empurrou': 2334, 'iguais': 2335, 'encontros': 2336, 'pretendia': 2337, 'sabíamos': 2338, 'bebido': 2339, 'paredes': 2340, 'vaso': 2341, 'sentamos': 2342, 'ferida': 2343, 'divertidos': 2344, 'pássaros': 2345, 'inútil': 2346, 'selvagens': 2347, 'ocupados': 2348, 'nomes': 2349, 'estabelecer': 2350, 'formal': 2351, 'sabores': 2352, 'passo': 2353, 'jill': 2354, 'manteiga': 2355, 'haverá': 2356, 'céus': 2357, 'cantina': 2358, 'estúpida': 2359, 'desistir': 2360, 'cumpriu': 2361, 'promessa': 2362, 'data': 2363, 'folhas': 2364, 'deveríamos': 2365, 'taxa': 2366, 'baixos': 2367, 'brian': 2368, 'pular': 2369, 'situações': 2370, 'administrar': 2371, 'guia': 2372, 'mudaram': 2373, 'pronta': 2374, 'reservar': 2375, 'loteria': 2376, 'tela': 2377, 'atacou': 2378, 'multa': 2379, 'dará': 2380, 'liberdade': 2381, 'company': 2382, 'modelos': 2383, 'concordou': 2384, 'excesso': 2385, 'mensagens': 2386, 'sofrendo': 2387, 'movendo': 2388, 'abertas': 2389, 'fita': 2390, 'recusaram': 2391, 'pipoca': 2392, 'todd': 2393, 'conseguindo': 2394, 'violino': 2395, 'steve': 2396, 'dentista': 2397, 'ofertas': 2398, 'atraiu': 2399, 'fantasma': 2400, 'sentadas': 2401, 'inacreditável': 2402, 'detestava': 2403, 'ternos': 2404, 'dormia': 2405, 'anunciou': 2406, 'indelicada': 2407, 'presas': 2408, 'dólar': 2409, 'afastar': 2410, 'ouvilo': 2411, 'estampa': 2412, 'leopardo': 2413, 'obtendo': 2414, 'sons': 2415, 'anúncios': 2416, 'direitos': 2417, 'brisa': 2418, 'informando': 2419, 'graduação': 2420, 'respeitava': 2421, 'comportado': 2422, 'segundos': 2423, 'perdoe': 2424, 'posto': 2425, 'hesite': 2426, 'encontraremos': 2427, 'instrutor': 2428, 'terem': 2429, 'fresca': 2430, 'infantil': 2431, 'conheceram': 2432, 'lentamente': 2433, 'james': 2434, 'grosso': 2435, 'enfim': 2436, 'fôlego': 2437, 'ajustar': 2438, 'beijar': 2439, 'descobrindo': 2440, 'conheça': 2441, 'engarrafamento': 2442, 'benefício': 2443, 'miserável': 2444, 'monitor': 2445, 'completo': 2446, 'danças': 2447, 'firme': 2448, 'sentirá': 2449, 'lábios': 2450, 'separado': 2451, 'ligações': 2452, 'tortas': 2453, 'sirvase': 2454, 'dirigiu': 2455, 'trazido': 2456, 'embarcar': 2457, 'gastamos': 2458, 'morder': 2459, 'pediram': 2460, 'juro': 2461, 'feedback': 2462, 'papo': 2463, 'encontre': 2464, 'queimado': 2465, 'liquidação': 2466, 'emoções': 2467, 'passagens': 2468, 'chicago': 2469, 'encorajador': 2470, 'primos': 2471, 'perdida': 2472, 'foxtrot': 2473, 'frustrado': 2474, 'repentina': 2475, 'amar': 2476, 'alex': 2477, 'submetido': 2478, 'remédios': 2479, 'casos': 2480, 'queridas': 2481, 'entretanto': 2482, 'rastejando': 2483, 'sede': 2484, 'inferno': 2485, 'ódio': 2486, 'ganhamos': 2487, 'pegava': 2488, 'brincos': 2489, 'senta': 2490, 'voltaria': 2491, 'estuprada': 2492, 'engenharia': 2493, 'violento': 2494, 'ausente': 2495, 'curtir': 2496, 'aprovado': 2497, 'telefonou': 2498, 'espanhol': 2499, 'cuspindo': 2500, 'amado': 2501, 'paixão': 2502, 'curta': 2503, 'sindicato': 2504, 'esquerda': 2505, 'tenta': 2506, 'paramos': 2507, 'idosa': 2508, 'grátis': 2509, 'aproximar': 2510, 'grau': 2511, 'calçada': 2512, 'incomum': 2513, 'embarque': 2514, 'sentirei': 2515, 'elétrica': 2516, 'jogava': 2517, 'explodiu': 2518, 'preconceito': 2519, 'solitário': 2520, 'toalha': 2521, 'deixo': 2522, 'cabeceira': 2523, 'colecionar': 2524, 'danos': 2525, 'artista': 2526, 'obraprima': 2527, 'íngreme': 2528, 'saísse': 2529, 'ella': 2530, 'provador': 2531, 'verifique': 2532, 'recebo': 2533, 'comprimento': 2534, 'mudamos': 2535, 'ferroviária': 2536, 'mark': 2537, 'vendido': 2538, 'fascinante': 2539, 'preocupa': 2540, 'seca': 2541, 'atingido': 2542, 'aparelho': 2543, 'organizado': 2544, 'importar': 2545, 'preencha': 2546, 'escalar': 2547, 'grace': 2548, 'coloca': 2549, 'volume': 2550, 'costume': 2551, 'feiras': 2552, 'apresentações': 2553, 'candidatos': 2554, 'ruas': 2555, 'tutorial': 2556, 'canções': 2557, 'concordado': 2558, 'olhou': 2559, 'circunstâncias': 2560, 'décimo': 2561, 'clássico': 2562, 'incômodo': 2563, 'laptop': 2564, 'subi': 2565, 'auckland': 2566, 'parava': 2567, 'allen': 2568, 'resultou': 2569, 'pedras': 2570, 'cadeiras': 2571, 'maravilhosas': 2572, 'demorar': 2573, 'grãbretanha': 2574, 'envolver': 2575, 'capacete': 2576, 'redondo': 2577, 'tatar': 2578, 'administração': 2579, 'casada': 2580, 'beira': 2581, 'supermercado': 2582, 'bloco': 2583, 'tamanhos': 2584, 'possui': 2585, 'horríveis': 2586, 'colinas': 2587, 'edifícios': 2588, 'limpeza': 2589, 'abusou': 2590, 'formidável': 2591, 'bolsas': 2592, 'matinal': 2593, 'têlo': 2594, 'dado': 2595, 'coloco': 2596, 'margem': 2597, 'falha': 2598, 'atrair': 2599, 'média': 2600, 'entediado': 2601, 'compensar': 2602, 'vomitei': 2603, 'rato': 2604, 'financeiro': 2605, 'físico': 2606, 'proximidades': 2607, 'roll': 2608, 'casual': 2609, 'abatido': 2610, 'serve': 2611, 'achava': 2612, 'internado': 2613, 'engraçada': 2614, 'batepapo': 2615, 'meados': 2616, 'alojamento': 2617, 'noticiário': 2618, 'ameaça': 2619, 'supervisor': 2620, 'texto': 2621, 'leitura': 2622, 'bemvinda': 2623, 'importância': 2624, 'generoso': 2625, 'atividades': 2626, 'caridade': 2627, 'onda': 2628, 'efeitos': 2629, 'creche': 2630, 'costa': 2631, 'saía': 2632, 'notei': 2633, 'demorou': 2634, 'shirley': 2635, 'razoável': 2636, 'coleta': 2637, 'debate': 2638, 'escrevendo': 2639, 'esquiando': 2640, 'rede': 2641, 'cabelos': 2642, 'provei': 2643, 'acerta': 2644, 'pesca': 2645, 'machuquei': 2646, 'arrumar': 2647, 'iriam': 2648, 'zelândia': 2649, 'rick': 2650, 'tentava': 2651, 'intenso': 2652, 'falhado': 2653, 'entrado': 2654, 'críticas': 2655, 'ryan': 2656, 'progresso': 2657, 'testemunhei': 2658, 'soubesse': 2659, 'correto': 2660, 'galinha': 2661, 'transferência': 2662, 'pintar': 2663, 'leão': 2664, 'sentime': 2665, 'confiei': 2666, 'pornográfico': 2667, 'saio': 2668, 'pacotes': 2669, 'selva': 2670, 'enredo': 2671, 'cheios': 2672, 'assistirem': 2673, 'resultando': 2674, 'gravidez': 2675, 'golpe': 2676, 'matéria': 2677, 'frequentemente': 2678, 'chef': 2679, 'lucas': 2680, 'rindo': 2681, 'parto': 2682, 'brava': 2683, 'júnior': 2684, 'sofrimento': 2685, 'padrões': 2686, 'participei': 2687, 'fogueira': 2688, 'chamas': 2689, 'mentes': 2690, 'colchão': 2691, 'cenário': 2692, 'pobres': 2693, 'dispensado': 2694, 'relacionado': 2695, 'julgamento': 2696, 'particulares': 2697, 'tranquila': 2698, 'carnaval': 2699, 'aterrorizado': 2700, 'inglaterra': 2701, 'couro': 2702, 'jornais': 2703, 'retiro': 2704, 'terçafeira': 2705, 'reagiu': 2706, 'divulgados': 2707, 'explicações': 2708, 'dalian': 2709, 'encher': 2710, 'seguido': 2711, 'encontrálo': 2712, 'brinde': 2713, 'enviado': 2714, 'milhares': 2715, 'entusiasmo': 2716, 'cuidese': 2717, 'refeições': 2718, 'acontecimento': 2719, 'embrulhar': 2720, 'desagradáveis': 2721, 'interessada': 2722, 'pausa': 2723, 'pechincha': 2724, 'jogada': 2725, 'armário': 2726, 'passageiros': 2727, 'corpos': 2728, 'forno': 2729, 'graus': 2730, 'aprovação': 2731, 'conseguiria': 2732, 'bingo': 2733, 'estúpidas': 2734, 'desisti': 2735, 'boné': 2736, 'standard': 2737, 'culpar': 2738, 'anteriormente': 2739, 'qualifiquei': 2740, 'crocantes': 2741, 'cebola': 2742, 'observação': 2743, 'inseguro': 2744, 'graz': 2745, 'inteligentes': 2746, 'alugar': 2747, 'reuniões': 2748, 'tema': 2749, 'convencido': 2750, 'líderes': 2751, 'normas': 2752, 'pura': 2753, 'centenas': 2754, 'contanto': 2755, 'concorda': 2756, 'fáceis': 2757, 'virei': 2758, 'transação': 2759, 'rejeitado': 2760, 'propor': 2761, 'estrangeira': 2762, 'ator': 2763, 'ridículo': 2764, 'oficiais': 2765, 'exausto': 2766, 'ahahah': 2767, 'flórida': 2768, 'salvou': 2769, 'baby': 2770, 'accord': 2771, 'avançar': 2772, 'acreditava': 2773, 'focas': 2774, 'consertálo': 2775, 'despedido': 2776, 'permanecer': 2777, 'magra': 2778, 'facial': 2779, 'remessa': 2780, 'combinar': 2781, 'reduzido': 2782, 'tecnologia': 2783, 'corremos': 2784, 'conduta': 2785, 'expressão': 2786, 'confiar': 2787, 'esconder': 2788, 'consentimento': 2789, 'francis': 2790, 'compensa': 2791, 'confiável': 2792, 'romance': 2793, 'matou': 2794, 'assassino': 2795, 'batido': 2796, 'distinção': 2797, 'figuras': 2798, 'verbalmente': 2799, 'cachoeira': 2800, 'gritos': 2801, 'silenciosa': 2802, 'mato': 2803, 'chinesas': 2804, 'betty': 2805, 'colocálo': 2806, 'aquecimento': 2807, 'fecha': 2808, 'envergonhado': 2809, 'culinária': 2810, 'come': 2811, 'derrapou': 2812, 'aguentar': 2813, 'figura': 2814, 'demos': 2815, 'perfume': 2816, 'irritante': 2817, 'conflitos': 2818, 'mordeu': 2819, 'mútua': 2820, 'moram': 2821, 'segue': 2822, 'pesquisas': 2823, 'nadava': 2824, 'carla': 2825, 'resort': 2826, 'incluindo': 2827, 'dissecação': 2828, 'estada': 2829, 'bang': 2830, 'objetivos': 2831, 'usada': 2832, 'atrasar': 2833, 'processo': 2834, 'gostariam': 2835, 'enfadonho': 2836, 'médica': 2837, 'regular': 2838, 'galhos': 2839, 'perseguiu': 2840, 'graça': 2841, 'lama': 2842, 'presa': 2843, 'kevin': 2844, 'lindamente': 2845, 'exposições': 2846, 'incríveis': 2847, 'respostas': 2848, 'perigosa': 2849, 'entendem': 2850, 'neuropsicologia': 2851, 'prostituta': 2852, 'oposta': 2853, 'adormecer': 2854, 'avisado': 2855, 'infeliz': 2856, 'chaves': 2857, 'vergonha': 2858, 'líquido': 2859, 'vestir': 2860, 'abraçamos': 2861, 'guardaroupa': 2862, 'fogão': 2863, 'festas': 2864, 'leite': 2865, 'sangrando': 2866, 'mandou': 2867, 'tony': 2868, 'deliciosos': 2869, 'publicidade': 2870, 'administrativo': 2871, 'injusta': 2872, 'daniel': 2873, 'mental': 2874, 'expressou': 2875, 'bacharelado': 2876, 'queríamos': 2877, 'rodas': 2878, 'abra': 2879, 'basicamente': 2880, 'boato': 2881, 'namorando': 2882, 'poluição': 2883, 'despesas': 2884, 'venceu': 2885, 'seminário': 2886, 'empregado': 2887, 'espaçoso': 2888, 'excursão': 2889, 'calor': 2890, 'preparei': 2891, 'pretendo': 2892, 'tornálo': 2893, 'frança': 2894, 'populares': 2895, 'duvido': 2896, 'crescer': 2897, 'marquei': 2898, 'abusar': 2899, 'quintafeira': 2900, 'adultos': 2901, 'tornam': 2902, 'quebraram': 2903, 'indecentes': 2904, 'declaração': 2905, 'explosão': 2906, 'pensamos': 2907, 'batom': 2908, 'ásia': 2909, 'fiel': 2910, 'garganta': 2911, 'lata': 2912, 'pear': 2913, 'sociais': 2914, 'partiu': 2915, 'perguntando': 2916, 'naturais': 2917, 'custar': 2918, 'bulgária': 2919, 'contado': 2920, 'cultura': 2921, 'perdêlo': 2922, 'interno': 2923, 'desaparecido': 2924, 'vítimas': 2925, 'julie': 2926, 'incrivelmente': 2927, 'reprovei': 2928, 'emprestar': 2929, 'relatórios': 2930, 'mudando': 2931, 'policiais': 2932, 'alfândega': 2933, 'chatice': 2934, 'chegará': 2935, 'equipes': 2936, 'contratar': 2937, 'comportava': 2938, 'adivinhar': 2939, 'informática': 2940, 'liderança': 2941, 'stadium': 2942, 'fumantes': 2943, 'lido': 2944, 'okapi': 2945, 'fontes': 2946, 'ficarão': 2947, 'cartões': 2948, 'náusea': 2949, 'sentiria': 2950, 'latas': 2951, 'mergulho': 2952, 'encontraram': 2953, 'acender': 2954, 'visitantes': 2955, 'provocar': 2956, 'canta': 2957, 'afogar': 2958, 'vendedora': 2959, 'cruzamento': 2960, 'dezembro': 2961, 'solo': 2962, 'aconteceram': 2963, 'ganhado': 2964, 'compreendo': 2965, 'louca': 2966, 'pegamos': 2967, 'prenderam': 2968, 'inesquecível': 2969, 'arquivos': 2970, 'idosos': 2971, 'penhasco': 2972, 'tratava': 2973, 'reagi': 2974, 'impressionantes': 2975, 'metal': 2976, 'bolas': 2977, 'identidade': 2978, 'perderia': 2979, 'sabiam': 2980, 'jesus': 2981, 'cruzar': 2982, 'apaixonada': 2983, 'demitido': 2984, 'dividimos': 2985, 'puxa': 2986, 'desenho': 2987, 'trabalhamos': 2988, 'quanta': 2989, 'atrase': 2990, 'apagadas': 2991, 'trouxesse': 2992, 'empréstimos': 2993, 'surfar': 2994, 'ofereceram': 2995, 'provadores': 2996, 'suave': 2997, 'edifício': 2998, 'guarda': 2999, 'colocaram': 3000, 'países': 3001, 'frisbee': 3002, 'castelo': 3003, 'deveres': 3004, 'anfitrião': 3005, 'pilha': 3006, 'atropelou': 3007, 'imagine': 3008, 'silencioso': 3009, 'escrevi': 3010, 'virou': 3011, 'amei': 3012, 'acertar': 3013, 'àquele': 3014, 'torneio': 3015, 'descrição': 3016, 'bioquímica': 3017, 'derrubado': 3018, 'lembrei': 3019, 'políticos': 3020, 'rugby': 3021, 'blacks': 3022, 'telhado': 3023, 'piorar': 3024, 'calmo': 3025, 'travou': 3026, 'superfície': 3027, 'coloridas': 3028, 'lição': 3029, 'instalar': 3030, 'comovido': 3031, 'brigas': 3032, 'alma': 3033, 'tira': 3034, 'empregador': 3035, 'respire': 3036, 'tirálo': 3037, 'dispostos': 3038, 'necessidades': 3039, 'bagunçou': 3040, 'correta': 3041, 'fratura': 3042, 'maldito': 3043, 'lidando': 3044, 'naturalmente': 3045, 'participantes': 3046, 'estranhas': 3047, 'ampla': 3048, 'seleção': 3049, 'camarão': 3050, 'direta': 3051, 'platina': 3052, 'culpou': 3053, 'revigorado': 3054, 'cantou': 3055, 'desenvolvimento': 3056, 'categoria': 3057, 'devoluções': 3058, 'reconhecer': 3059, 'biscoitos': 3060, 'atravessei': 3061, 'aventura': 3062, 'isolada': 3063, 'tango': 3064, 'apreciado': 3065, 'assine': 3066, 'ondas': 3067, 'águas': 3068, 'permitir': 3069, 'questionário': 3070, 'viva': 3071, 'honestamente': 3072, 'pasmo': 3073, 'caligrafia': 3074, 'furioso': 3075, 'desperdício': 3076, 'largura': 3077, 'pareça': 3078, 'ativo': 3079, 'touro': 3080, 'pulou': 3081, 'fritas': 3082, 'banquete': 3083, 'pegueme': 3084, 'encantado': 3085, 'rochas': 3086, 'autoconfiança': 3087, 'limites': 3088, 'lance': 3089, 'rejeitada': 3090, 'gordon': 3091, 'imprimir': 3092, 'voltava': 3093, 'problemático': 3094, 'tijolo': 3095, 'incapacidade': 3096, 'inesperado': 3097, 'resfriado': 3098, 'clara': 3099, 'mencionado': 3100, 'formação': 3101, 'confronto': 3102, 'partes': 3103, 'acalorada': 3104, 'currículo': 3105, 'marcha': 3106, 'confio': 3107, 'dilbert': 3108, 'adequadamente': 3109, 'vivendo': 3110, 'tina': 3111, 'primeiras': 3112, 'lançado': 3113, 'viajou': 3114, 'atendêlo': 3115, 'shows': 3116, 'participando': 3117, 'formou': 3118, 'provocação': 3119, 'calça': 3120, 'humana': 3121, 'tratada': 3122, 'matando': 3123, 'extremo': 3124, 'injustiça': 3125, 'irresponsabilidade': 3126, 'gastando': 3127, 'impostos': 3128, 'doentes': 3129, 'microônibus': 3130, 'receitas': 3131, 'marcou': 3132, 'fantásticos': 3133, 'antiguidades': 3134, 'recomendação': 3135, 'apuros': 3136, 'inimigos': 3137, 'open': 3138, 'fale': 3139, 'vantagens': 3140, 'ameaçado': 3141, 'sentada': 3142, 'torradas': 3143, 'davis': 3144, 'veículo': 3145, 'estradas': 3146, 'regar': 3147, 'morri': 3148, 'adulto': 3149, 'pisei': 3150, 'escuros': 3151, 'prostitutas': 3152, 'enviaremos': 3153, 'entristeceu': 3154, 'concertos': 3155, 'medir': 3156, 'pescoço': 3157, 'emprestadas': 3158, 'odiaria': 3159, 'aceite': 3160, 'mmmm': 3161, 'cristo': 3162, 'entendido': 3163, 'visitálo': 3164, 'cidades': 3165, 'espanha': 3166, 'áreas': 3167, 'bônus': 3168, 'amantes': 3169, 'lanche': 3170, 'quisesse': 3171, 'jones': 3172, 'reforma': 3173, 'xícaras': 3174, 'cervejas': 3175, 'piano': 3176, 'templos': 3177, 'ajude': 3178, 'gangue': 3179, 'comia': 3180, 'conteúdo': 3181, 'inscreva': 3182, 'conversava': 3183, 'moto': 3184, 'funcionaria': 3185, 'empresário': 3186, 'conteme': 3187, 'acabando': 3188, 'saias': 3189, 'ficariam': 3190, 'padrasto': 3191, 'delegacia': 3192, 'investigação': 3193, 'chover': 3194, 'roubando': 3195, 'desgostoso': 3196, 'microfone': 3197, 'confuso': 3198, 'criativo': 3199, 'damos': 3200, 'devesse': 3201, 'gaveta': 3202, 'folk': 3203, 'violinista': 3204, 'pianista': 3205, 'dependia': 3206, 'perdidamente': 3207, 'calouros': 3208, 'blocos': 3209, 'míope': 3210, 'qualificadas': 3211, 'johnny': 3212, 'vovó': 3213, 'emprestados': 3214, 'buscasse': 3215, 'entendiam': 3216, 'movimentos': 3217, 'andares': 3218, 'livremente': 3219, 'concreto': 3220, 'dinamarca': 3221, 'concordaram': 3222, 'afasia': 3223, 'linhas': 3224, 'círculos': 3225, 'cirurgia': 3226, 'acordar': 3227, 'conhecíamos': 3228, 'depósito': 3229, 'máxima': 3230, 'insiste': 3231, 'batata': 3232, 'agradecimentos': 3233, 'sugiro': 3234, 'canto': 3235, 'vive': 3236, 'billy': 3237, 'automóveis': 3238, 'indústria': 3239, 'bate': 3240, 'combinação': 3241, 'audição': 3242, 'desistiu': 3243, 'milhas': 3244, 'custaria': 3245, 'apressar': 3246, 'julia': 3247, 'intensa': 3248, 'detesto': 3249, 'dissertação': 3250, 'estragou': 3251, 'detestei': 3252, 'bemsucedidos': 3253, 'excolega': 3254, 'remoto': 3255, 'superiores': 3256, 'inocente': 3257, 'talento': 3258, 'cuidando': 3259, 'anteontem': 3260, 'atendeu': 3261, 'região': 3262, 'atingida': 3263, 'atingir': 3264, 'agricultura': 3265, 'censurou': 3266, 'juntas': 3267, 'reconciliar': 3268, 'recebia': 3269, 'preparando': 3270, 'orgulho': 3271, 'continuei': 3272, 'ferramentas': 3273, 'busca': 3274, 'coberta': 3275, 'entraria': 3276, 'magro': 3277, 'louros': 3278, 'queimar': 3279, 'delícia': 3280, 'alianças': 3281, 'novembro': 3282, 'fezes': 3283, 'suíça': 3284, 'gripe': 3285, 'salvo': 3286, 'aprendido': 3287, 'apreciaria': 3288, 'enganar': 3289, 'fofos': 3290, 'luxo': 3291, 'vôlei': 3292, 'fields': 3293, 'copeland': 3294, 'preta': 3295, 'lisonjear': 3296, 'perseguindo': 3297, 'cresceu': 3298, 'trabalhador': 3299, 'perspectiva': 3300, 'emails': 3301, 'fazenda': 3302, 'zona': 3303, 'taipei': 3304, 'deixada': 3305, 'corresponder': 3306, 'publicado': 3307, 'permitiram': 3308, 'oponente': 3309, 'sentiu': 3310, 'praça': 3311, 'clínica': 3312, 'checkup': 3313, 'segui': 3314, 'coleção': 3315, 'tratando': 3316, 'vila': 3317, 'canja': 3318, 'repreendido': 3319, 'educado': 3320, 'armados': 3321, 'poucos': 3322, 'brigamos': 3323, 'velejar': 3324, 'personagem': 3325, 'descrições': 3326, 'dieta': 3327, 'apetite': 3328, 'doer': 3329, 'obrigou': 3330, 'exposto': 3331, 'mecânico': 3332, 'intercâmbio': 3333, 'japonês': 3334, 'concentrar': 3335, 'mozart': 3336, 'beethoven': 3337, 'involuntariamente': 3338, 'resultante': 3339, 'espremer': 3340, 'acordada': 3341, 'iniciativa': 3342, 'usados': 3343, 'propriedade': 3344, 'externo': 3345, 'ricky': 3346, 'coloridos': 3347, 'saborosos': 3348, 'partilhar': 3349, 'tornei': 3350, 'graduado': 3351, 'mudado': 3352, 'ignorando': 3353, 'espontâneo': 3354, 'contava': 3355, 'perco': 3356, 'crânio': 3357, 'chego': 3358, 'voando': 3359, 'absurdo': 3360, 'esôfago': 3361, 'inchada': 3362, 'necrotério': 3363, 'ditado': 3364, 'experiências': 3365, 'ponta': 3366, 'alerta': 3367, 'etiópia': 3368, 'souvenirs': 3369, 'joanne': 3370, 'vendidos': 3371, 'negros': 3372, 'saudáveis': 3373, 'halloween': 3374, 'designer': 3375, 'williams': 3376, 'desmaiou': 3377, 'socorros': 3378, 'gostoso': 3379, 'impotente': 3380, 'selvagem': 3381, 'caros': 3382, 'sistemas': 3383, 'esmagado': 3384, 'praticamente': 3385, 'reservei': 3386, 'complicado': 3387, 'loucos': 3388, 'planejei': 3389, 'voluntários': 3390, 'soldado': 3391, 'ralo': 3392, 'doris': 3393, 'mostrava': 3394, 'lembrava': 3395, 'parcial': 3396, 'karen': 3397, 'pegálos': 3398, 'claramente': 3399, 'aproximando': 3400, 'grécia': 3401, 'molhada': 3402, 'dedo': 3403, 'proteger': 3404, 'drogas': 3405, 'canal': 3406, 'farfalhar': 3407, 'lençóis': 3408, 'divisão': 3409, 'recomendo': 3410, 'corretamente': 3411, 'restaurantes': 3412, 'antecedência': 3413, 'voluntário': 3414, 'reprovada': 3415, 'mochila': 3416, 'rabo': 3417, 'surf': 3418, 'considerei': 3419, 'facilmente': 3420, 'empréstimo': 3421, 'cozinheira': 3422, 'requer': 3423, 'acabo': 3424, 'operada': 3425, 'cunhada': 3426, 'jogamos': 3427, 'balé': 3428, 'viena': 3429, 'irrelevantes': 3430, 'persuadir': 3431, 'coco': 3432, 'penny': 3433, 'rumba': 3434, 'flagrante': 3435, 'criei': 3436, 'medalha': 3437, 'frutos': 3438, 'acusoume': 3439, 'vantagem': 3440, 'engenheiro': 3441, 'karaokê': 3442, 'separados': 3443, 'mínima': 3444, 'registro': 3445, 'gotemburgo': 3446, 'destruído': 3447, 'divertida': 3448, 'reprovar': 3449, 'despedida': 3450, 'cancelada': 3451, 'repentino': 3452, 'agindo': 3453, 'orçamento': 3454, 'estomacal': 3455, 'anotações': 3456, 'andava': 3457, 'respiração': 3458, 'ramo': 3459, 'nascer': 3460, 'mexer': 3461, 'cobertos': 3462, 'frescos': 3463, 'adicione': 3464, 'alho': 3465, 'gengibre': 3466, 'perdidas': 3467, 'lucro': 3468, 'colorado': 3469, 'temer': 3470, 'seguiu': 3471, 'levantar': 3472, 'precisavam': 3473, 'altamente': 3474, 'votar': 3475, 'gostosa': 3476, 'sarah': 3477, 'suportar': 3478, 'fornecer': 3479, 'confidenciais': 3480, 'irmos': 3481, 'contínuo': 3482, 'sonhado': 3483, 'surra': 3484, 'propus': 3485, 'bêbada': 3486, 'sustentar': 3487, 'cercado': 3488, 'lenha': 3489, 'sujas': 3490, 'frustrante': 3491, 'clássicos': 3492, 'óbvio': 3493, 'longas': 3494, 'fugi': 3495, 'bosque': 3496, 'reservados': 3497, 'apanhado': 3498, 'pertencia': 3499, 'aprecie': 3500, 'lutas': 3501, 'importe': 3502, 'cuidados': 3503, 'wilson': 3504, 'crenças': 3505, 'turno': 3506, 'compartilhamos': 3507, 'recomendar': 3508, 'atrações': 3509, 'paisagens': 3510, 'piso': 3511, 'perdêla': 3512, 'trabalharam': 3513, 'positivo': 3514, 'documentário': 3515, 'cometer': 3516, 'exploração': 3517, 'elvis': 3518, 'fadas': 3519, 'trago': 3520, 'rígidas': 3521, 'palavrões': 3522, 'capazes': 3523, 'abrimos': 3524, 'culpando': 3525, 'alcoólatra': 3526, 'altas': 3527, 'manga': 3528, 'choro': 3529, 'pergunto': 3530, 'corajoso': 3531, 'adormeci': 3532, 'emocionado': 3533, 'custo': 3534, 'incomodou': 3535, 'odiei': 3536, 'padrinho': 3537, 'solteiro': 3538, 'cuidei': 3539, 'páginas': 3540, 'punição': 3541, 'oscar': 3542, 'brilhantes': 3543, 'pensam': 3544, 'menu': 3545, 'históricas': 3546, 'confusão': 3547, 'dormitório': 3548, 'obrigadacomo': 3549, 'ocidental': 3550, 'concentrado': 3551, 'acontecem': 3552, 'belas': 3553, 'derrubar': 3554, 'pato': 3555, 'pano': 3556, 'esfarrapado': 3557, 'nanjing': 3558, 'enfrentaria': 3559, 'década': 3560, 'típico': 3561, 'romanos': 3562, 'raramente': 3563, 'rejeitou': 3564, 'estrangeiro': 3565, 'candidatura': 3566, 'aproximava': 3567, 'preferência': 3568, 'joan': 3569, 'orgulhosos': 3570, 'delicado': 3571, 'usavam': 3572, 'barbie': 3573, 'veste': 3574, 'arrependi': 3575, 'línguas': 3576, 'azuis': 3577, 'índias': 3578, 'conhecidos': 3579, 'transferido': 3580, 'thomas': 3581, 'graves': 3582, 'convidaram': 3583, 'comissão': 3584, 'acusaram': 3585, 'fofoca': 3586, '1000': 3587, 'serra': 3588, 'galpão': 3589, 'quadra': 3590, 'secretário': 3591, 'apresentou': 3592, 'encontra': 3593, 'software': 3594, 'cigarros': 3595, 'fragrância': 3596, 'elétrico': 3597, 'criticando': 3598, 'aeróbica': 3599, 'badminton': 3600, 'vencemos': 3601, 'pudemos': 3602, 'apavorante': 3603, 'fechamento': 3604, 'hiena': 3605, 'nervosa': 3606, 'orgânica': 3607, 'supostos': 3608, 'coluna': 3609, 'cortou': 3610, 'feminino': 3611, 'funcionando': 3612, 'tratadas': 3613, 'marrom': 3614, 'perguntado': 3615, 'devolver': 3616, 'irão': 3617, 'inferiores': 3618, 'sentarse': 3619, 'entretenimento': 3620, 'hainburg': 3621, 'jogador': 3622, 'ingressar': 3623, 'cancelar': 3624, 'papéis': 3625, 'coletar': 3626, 'insetos': 3627, 'mahjong': 3628, 'anunciado': 3629, 'matado': 3630, 'partiram': 3631, 'físicas': 3632, 'aposentadoria': 3633, 'telegrama': 3634, 'ocidente': 3635, 'olimpíadas': 3636, 'aliviado': 3637, 'anteriores': 3638, 'contribuição': 3639, 'estocolmo': 3640, 'usei': 3641, 'bebo': 3642, 'bens': 3643, 'conquista': 3644, 'cortando': 3645, 'joelhos': 3646, 'falavam': 3647, 'presença': 3648, 'aquecer': 3649, 'combustível': 3650, 'brilhar': 3651, 'mentira': 3652, 'loucura': 3653, 'arrependo': 3654, 'bochechas': 3655, 'adiar': 3656, 'imprudente': 3657, 'entediante': 3658, 'bolinhos': 3659, 'madrid': 3660, 'moderna': 3661, 'espiritual': 3662, 'empolgado': 3663, 'histórico': 3664, 'esportivo': 3665, 'canadense': 3666, 'inundado': 3667, 'interesses': 3668, 'levantou': 3669, 'escritor': 3670, 'escolas': 3671, 'roubada': 3672, 'cera': 3673, 'revendedor': 3674, 'observe': 3675, 'entregue': 3676, 'convocação': 3677, 'percebemos': 3678, 'amável': 3679, 'retribuir': 3680, 'patos': 3681, 'recusar': 3682, 'destino': 3683, 'bemsucedida': 3684, 'recorde': 3685, 'correram': 3686, 'caminhos': 3687, 'tanque': 3688, 'parecendo': 3689, 'beiramar': 3690, 'regularmente': 3691, 'assistiu': 3692, 'vício': 3693, 'adquirir': 3694, 'porão': 3695, 'brincava': 3696, 'saudades': 3697, 'injustos': 3698, 'charmosa': 3699, 'relaxe': 3700, 'dama': 3701, 'aviseme': 3702, 'amamos': 3703, 'prontas': 3704, 'marrocos': 3705, 'trabalhavam': 3706, 'imagino': 3707, 'monstro': 3708, 'neles': 3709, 'fedorenta': 3710, 'estreita': 3711, 'comparar': 3712, 'recebêlo': 3713, 'chegaram': 3714, 'pertencer': 3715, 'roubo': 3716, 'devêssemos': 3717, 'escolheu': 3718, 'caminhadas': 3719, 'símbolo': 3720, 'segurou': 3721, 'estilos': 3722, 'musicais': 3723, 'pisar': 3724, 'notou': 3725, 'aconteceria': 3726, 'medida': 3727, 'invejo': 3728, 'deserta': 3729, 'cachorrinho': 3730, 'tour': 3731, 'deixálo': 3732, 'ofereceu': 3733, 'zoológico': 3734, 'casamos': 3735, 'chocado': 3736, 'positiva': 3737, 'vende': 3738, 'cafeteria': 3739, 'opções': 3740, 'artigos': 3741, 'protetor': 3742, 'feitas': 3743, 'aguentei': 3744, 'mereço': 3745, 'sentisse': 3746, 'combinado': 3747, 'neta': 3748, 'ensinei': 3749, 'contratado': 3750, 'contaram': 3751, 'visa': 3752, 'cantamos': 3753, 'cabines': 3754, 'verme': 3755, 'sinal': 3756, 'preparou': 3757, 'emocional': 3758, 'devolvêlo': 3759, 'rolo': 3760, 'escorreguei': 3761, 'riqueza': 3762, 'michelle': 3763, 'escreva': 3764, 'bebeu': 3765, 'mantido': 3766, 'arrancar': 3767, 'olímpicos': 3768, 'permitia': 3769, 'bebia': 3770, 'dave': 3771, 'cruzadas': 3772, 'bagunçado': 3773, 'asma': 3774, 'reclamava': 3775, 'apresentálo': 3776, 'erradas': 3777, 'óbvia': 3778, 'tenso': 3779, 'galho': 3780, 'frigideira': 3781, 'realizado': 3782, 'amigáveis': 3783, 'apertado': 3784, 'importava': 3785, 'meios': 3786, 'óculos': 3787, 'percebe': 3788, 'anthony': 3789, 'contabilidade': 3790, 'entraremos': 3791, 'vejamos': 3792, 'levaram': 3793, 'atuação': 3794, 'escalada': 3795, 'esgotado': 3796, 'aguardando': 3797, 'levála': 3798, 'escolhe': 3799, 'procurei': 3800, 'funcionou': 3801, 'vacas': 3802, 'esperávamos': 3803, 'fechada': 3804, 'chamadas': 3805, 'ganho': 3806, 'escovar': 3807, 'lusaka': 3808, 'cindy': 3809, 'transformou': 3810, 'adotado': 3811, 'cancelado': 3812, 'assinatura': 3813, 'páscoa': 3814, 'freqüentemente': 3815, 'caráter': 3816, 'assassinato': 3817, 'inicialmente': 3818, 'jornada': 3819, 'perdia': 3820, 'íntimas': 3821, 'indiano': 3822, 'michael': 3823, 'incomoda': 3824, 'coca': 3825, 'acerte': 3826, 'divorciar': 3827, 'rebocado': 3828, 'péssima': 3829, 'possuem': 3830, 'pulei': 3831, 'proprietário': 3832, 'devia': 3833, 'cheiram': 3834, 'brasil': 3835, 'enoja': 3836, 'bunda': 3837, 'engolir': 3838, 'exibição': 3839, 'queremos': 3840, 'passaram': 3841, 'cerebrais': 3842, 'beco': 3843, 'aplica': 3844, 'navegar': 3845, 'rainha': 3846, 'equipamentos': 3847, 'macintosh': 3848, 'ultrajante': 3849, 'kensington': 3850, 'administrado': 3851, 'lanternas': 3852, 'honesto': 3853, 'prioridade': 3854, 'bruto': 3855, 'veremos': 3856, 'nuvens': 3857, 'saída': 3858, 'humanas': 3859, 'ferimentos': 3860, 'idéias': 3861, 'karren': 3862, 'episódio': 3863, 'high': 3864, 'school': 3865, 'estudava': 3866, 'bottoms': 3867, 'concluí': 3868, 'complicada': 3869, 'magnífica': 3870, 'dirigido': 3871, 'horror': 3872, 'leio': 3873, 'm160': 3874, 'yellowstone': 3875, 'canyon': 3876, 'escapar': 3877, 'aplicar': 3878, 'espingarda': 3879, 'integridade': 3880, 'precisei': 3881, 'políticas': 3882, 'adoram': 3883, 'treinador': 3884, 'têla': 3885, 'dificilmente': 3886, 'avós': 3887, 'atrevi': 3888, 'fede': 3889, 'aproveitei': 3890, 'lembrarei': 3891, 'bebês': 3892, 'chamando': 3893, 'semelhante': 3894, 'implorando': 3895, 'caderno': 3896, 'imagens': 3897, 'comparação': 3898, 'demandas': 3899, 'contratando': 3900, 'achou': 3901, 'cantores': 3902, 'tristes': 3903, 'pulmão': 3904, 'park': 3905, 'machucou': 3906, 'jeanine': 3907, 'diagnóstico': 3908, 'alcançar': 3909, 'sobreviver': 3910, 'observar': 3911, 'rolos': 3912, 'colher': 3913, 'admiro': 3914, 'esperanças': 3915, 'farmácia': 3916, 'deitada': 3917, 'atletas': 3918, 'ciência': 3919, 'engano': 3920, 'incapaz': 3921, 'escala': 3922, 'britney': 3923, 'comovente': 3924, 'enviei': 3925, 'aumentar': 3926, 'memória': 3927, 'fast': 3928, 'terminal': 3929, 'ombro': 3930, 'americanos': 3931, 'esquerdo': 3932, 'voltaram': 3933, 'medalhas': 3934, 'praias': 3935, 'hong': 3936, 'coleções': 3937, 'atropelada': 3938, 'whoa': 3939, 'telefônica': 3940, 'status': 3941, 'enviálo': 3942, 'peckham': 3943, 'colagem': 3944, 'urinar': 3945, 'conhaque': 3946, 'portos': 3947, 'uniforme': 3948, 'reagan': 3949, 'sobrevivência': 3950, 'pedalar': 3951, 'descemos': 3952, 'rapel': 3953, 'avanços': 3954, 'logotipo': 3955, 'decorada': 3956, 'bonitos': 3957, 'preguei': 3958, 'desviar': 3959, 'sólida': 3960, 'valer': 3961, 'simpatia': 3962, 'douglas': 3963, 'interessar': 3964, 'bagunçando': 3965, 'existência': 3966, 'vagas': 3967, 'america': 3968, 'entramos': 3969, 'trepatrepa': 3970, 'popper': 3971, 'dorme': 3972, 'fitas': 3973, 'refazer': 3974, 'chás': 3975, 'seattle': 3976, 'mostrarlhe': 3977, 'mala': 3978, 'bata': 3979, 'fluente': 3980, 'águia': 3981, 'pratica': 3982, 'balde': 3983, 'partirmos': 3984, 'molhados': 3985, 'automático': 3986, 'viajava': 3987, 'jaquetas': 3988, 'botas': 3989, 'arrecadar': 3990, 'questionando': 3991, 'moeda': 3992, 'bolso': 3993, 'pegarei': 3994, 'hospedado': 3995, 'fracas': 3996, 'liga': 3997, 'insultuosa': 3998, 'página': 3999, 'valentão': 4000, 'valia': 4001, 'recuperando': 4002, 'arrogantes': 4003, 'emocionantes': 4004, 'envelheceu': 4005, 'pública': 4006, 'lisonjeia': 4007, 'chique': 4008, 'estande': 4009, 'torturas': 4010, 'cansei': 4011, 'conseguiam': 4012, 'degraus': 4013, 'participaram': 4014, 'juízes': 4015, 'cientistas': 4016, 'union': 4017, 'barulhos': 4018, 'fechou': 4019, 'firmeza': 4020, 'percebido': 4021, 'pedalando': 4022, 'usuário': 4023, 'estressante': 4024, 'catapora': 4025, 'contagiante': 4026, 'divertiu': 4027, 'nessas': 4028, 'jantamos': 4029, 'lembram': 4030, 'misturar': 4031, 'vivian': 4032, 'cais': 4033, 'limpei': 4034, 'arrumado': 4035, 'previsão': 4036, 'descobriram': 4037, 'conselhos': 4038, 'vence': 4039, 'dedicar': 4040, 'decidindo': 4041, 'posteriormente': 4042, 'paralisado': 4043, 'confiante': 4044, 'secos': 4045, 'limão': 4046, 'serviços': 4047, 'diligência': 4048, 'malia': 4049, 'fardo': 4050, 'envolveram': 4051, 'feminina': 4052, 'enrola': 4053, 'poupamos': 4054, 'impulsionar': 4055, 'enfermeira': 4056, 'recompensa': 4057, 'falsos': 4058, 'operados': 4059, 'editoriais': 4060, 'encorajadora': 4061, 'daisy': 4062, 'navegava': 4063, 'esperançosamente': 4064, 'levo': 4065, 'segura': 4066, 'século': 4067, 'melodia': 4068, 'aéreas': 4069, 'junta': 4070, 'revelado': 4071, 'mandoume': 4072, 'versão': 4073, 'comércio': 4074, 'suar': 4075, 'ucla': 4076, 'avançada': 4077, 'curvas': 4078, 'plataforma': 4079, 'olhado': 4080, 'benefícios': 4081, 'profundas': 4082, 'treinar': 4083, 'perigos': 4084, 'firmes': 4085, 'pirando': 4086, 'matt': 4087, 'snowboard': 4088, 'levantando': 4089, 'esboço': 4090, 'impressionou': 4091, 'canais': 4092, 'conforto': 4093, 'tailandesa': 4094, 'calção': 4095, 'assustados': 4096, 'compartilhado': 4097, 'desenvolveu': 4098, 'tagarela': 4099, 'continuo': 4100, 'explorar': 4101, 'king': 4102, 'otário': 4103, 'limpando': 4104, 'percebendo': 4105, 'mcdonalds': 4106, 'peles': 4107, 'comunitário': 4108, 'segurando': 4109, 'cabine': 4110, 'compartilhei': 4111, 'organizando': 4112, 'morria': 4113, 'roncando': 4114, 'pérola': 4115, 'vítima': 4116, 'ebay': 4117, 'padre': 4118, 'confundi': 4119, 'vitrines': 4120, 'humanos': 4121, 'intermediária': 4122, 'coro': 4123, 'pedra': 4124, 'construímos': 4125, 'deslizando': 4126, 'estragada': 4127, 'descreveu': 4128, 'harvard': 4129, 'conferência': 4130, 'boasvindas': 4131, 'estágio': 4132, 'caesar': 4133, 'complexo': 4134, 'dançarino': 4135, 'intenção': 4136, 'pneu': 4137, 'dianteiro': 4138, 'estourou': 4139, 'dava': 4140, 'universitários': 4141, 'continental': 4142, 'perderá': 4143, 'secadora': 4144, 'períodos': 4145, 'pico': 4146, 'filas': 4147, 'abandonada': 4148, 'ellen': 4149, 'podes': 4150, 'reclamando': 4151, 'transparente': 4152, 'nuclear': 4153, 'promissor': 4154, 'comprarei': 4155, 'açougue': 4156, 'prepararei': 4157, 'incomodálo': 4158, 'estimo': 4159, '2000': 4160, 'optei': 4161, 'estrelado': 4162, 'grant': 4163, 'sequestrados': 4164, 'estuprados': 4165, 'afastei': 4166, 'pavarotti': 4167, 'apaixonarse': 4168, 'provocado': 4169, 'guitarra': 4170, 'especialidade': 4171, 'decência': 4172, 'gritado': 4173, 'vital': 4174, 'feitio': 4175, 'baterias': 4176, 'gasto': 4177, 'aspecto': 4178, 'notar': 4179, 'forrest': 4180, 'encorajar': 4181, 'uniu': 4182, 'house': 4183, 'peters': 4184, 'felix': 4185, 'mendelssohn': 4186, 'cordeiro': 4187, 'santander': 4188, 'sombras': 4189, 'passageiro': 4190, 'fechei': 4191, 'rígido': 4192, 'sorrisos': 4193, 'bilhão': 4194, 'festejar': 4195, 'poeira': 4196, 'teleférico': 4197, 'biológico': 4198, 'luar': 4199, 'terça': 4200, 'bordel': 4201, 'resignei': 4202, 'yoga': 4203, 'autógrafos': 4204, 'vizinha': 4205, 'maravilhosos': 4206, 'honras': 4207, 'poderosa': 4208, 'caxemiras': 4209, 'acessíveis': 4210, 'medido': 4211, 'medindo': 4212, 'hortelã': 4213, 'idioma': 4214, 'enjoado': 4215, 'unidade': 4216, 'colocava': 4217, 'envelhecendo': 4218, 'publicamente': 4219, 'acusações': 4220, 'localizada': 4221, 'paranóico': 4222, 'cauteloso': 4223, 'privacidade': 4224, 'molestado': 4225, 'roubados': 4226, 'sairia': 4227, 'viajei': 4228, 'raios': 4229, 'verem': 4230, 'arrepender': 4231, 'espalhar': 4232, 'guardanapos': 4233, 'coolers': 4234, 'brigo': 4235, 'tornaram': 4236, 'perfeitos': 4237, 'promete': 4238, 'selecionados': 4239, 'tradução': 4240, 'congelar': 4241, 'custam': 4242, 'bandidos': 4243, 'gastou': 4244, 'xelins': 4245, 'morávamos': 4246, 'perturbar': 4247, 'encontraria': 4248, 'malassombrada': 4249, 'manteremos': 4250, 'publicações': 4251, 'descoberto': 4252, 'decisões': 4253, 'reconstruir': 4254, 'conquistado': 4255, 'desertas': 4256, 'ignorar': 4257, 'fundos': 4258, 'ligamos': 4259, 'verei': 4260, 'providenciar': 4261, 'classificado': 4262, 'lisonjeie': 4263, 'desafiado': 4264, 'espiei': 4265, 'maurine': 4266, 'extrato': 4267, 'bancário': 4268, 'mostrando': 4269, 'investimentos': 4270, 'denunciar': 4271, 'grosseira': 4272, 'apreço': 4273, 'truque': 4274, 'cervo': 4275, 'ginástica': 4276, 'jogado': 4277, 'ranger': 4278, 'flauta': 4279, 'elenco': 4280, 'vendem': 4281, 'desista': 4282, 'marcado': 4283, 'quatrocentos': 4284, 'yuanes': 4285, 'beba': 4286, 'banqueiro': 4287, 'mapas': 4288, 'holandês': 4289, 'diferenças': 4290, 'extrovertida': 4291, 'matálo': 4292, 'equilíbrio': 4293, 'emprestada': 4294, 'apaixonou': 4295, 'consumidor': 4296, 'denise': 4297, 'observei': 4298, 'jeff': 4299, 'ouvimos': 4300, 'garden': 4301, 'trigésimo': 4302, 'unidades': 4303, 'quinhentos': 4304, 'dormitórios': 4305, 'jackson': 4306, 'galeria': 4307, 'recémchegado': 4308, 'solicitar': 4309, 'aliviada': 4310, 'cheias': 4311, 'névoa': 4312, 'estragadas': 4313, 'roubos': 4314, 'associação': 4315, 'tocado': 4316, 'formas': 4317, 'câmbio': 4318, 'procurála': 4319, 'engana': 4320, 'feroz': 4321, 'agrado': 4322, 'checkin': 4323, 'checkout': 4324, 'outubro': 4325, 'oceano': 4326, 'verte': 4327, 'arranjou': 4328, 'abruptamente': 4329, 'picar': 4330, 'sophie': 4331, 'inseto': 4332, 'besouropreto': 4333, 'ofendi': 4334, 'abordou': 4335, 'abre': 4336, 'automobilística': 4337, 'quiosque': 4338, 'impróprio': 4339, 'velas': 4340, 'recebe': 4341, 'chen': 4342, 'afoguei': 4343, 'patins': 4344, 'fino': 4345, 'inicial': 4346, 'preocupou': 4347, 'colocando': 4348, 'escalando': 4349, 'autor': 4350, 'cometido': 4351, 'tornouse': 4352, 'egoísmo': 4353, 'permaneceu': 4354, 'descrever': 4355, 'desconfortável': 4356, 'comprovante': 4357, 'fraternidade': 4358, 'boys': 4359, 'sobreviveu': 4360, 'juntaram': 4361, 'ando': 4362, 'economizar': 4363, 'apertei': 4364, 'descreve': 4365, 'pálpebra': 4366, 'descanso': 4367, 'gastei': 4368, 'vulcões': 4369, 'erupção': 4370, 'enchentes': 4371, 'deslizamentos': 4372, 'furacão': 4373, 'liliana': 4374, 'afirmam': 4375, 'atividade': 4376, 'sísmica': 4377, 'tsunami': 4378, 'afetando': 4379, 'honduras': 4380, 'guatemala': 4381, 'panamá': 4382, 'atento': 4383, 'atualizações': 4384, 'aranhas': 4385, 'satisfaz': 4386, 'orador': 4387, 'nomeado': 4388, 'seriamente': 4389, 'portobello': 4390, 'desprezou': 4391, 'tolerar': 4392, 'descontentamento': 4393, 'poema': 4394, 'pesquisar': 4395, 'coroa': 4396, 'discuto': 4397, 'valem': 4398, 'visitálos': 4399, 'irresponsável': 4400, 'ficarmos': 4401, 'entediados': 4402, 'envolvi': 4403, 'girou': 4404, 'poste': 4405, 'riacho': 4406, 'considerados': 4407, 'arremessador': 4408, 'corda': 4409, 'infundado': 4410, 'carinho': 4411, 'enguia': 4412, 'cortei': 4413, 'termina': 4414, 'apreciada': 4415, 'ficção': 4416, 'científica': 4417, 'anéis': 4418, 'noivado': 4419, 'vagabundo': 4420, 'moradia': 4421, 'compartilhada': 4422, 'crescente': 4423, 'crônica': 4424, 'magnífico': 4425, 'origens': 4426, 'opor': 4427, 'restantes': 4428, 'troca': 4429, 'entusiasmada': 4430, 'neto': 4431, 'maddie': 4432, 'honesta': 4433, 'masculino': 4434, 'acompanhado': 4435, 'tigelas': 4436, 'decepcionou': 4437, 'evitálo': 4438, 'materializar': 4439, 'risada': 4440, 'falhasse': 4441, 'disparou': 4442, 'cristã': 4443, 'positivamente': 4444, 'significativo': 4445, 'breakdance': 4446, 'temporariamente': 4447, 'recusada': 4448, 'escopo': 4449, 'impulso': 4450, 'atribuição': 4451, 'resolução': 4452, 'pares': 4453, 'gata': 4454, 'criticar': 4455, 'contos': 4456, 'registrar': 4457, 'açougueiros': 4458, 'enojaram': 4459, 'retirada': 4460, 'preguiçoso': 4461, 'amanda': 4462, 'invadida': 4463, 'alfaiates': 4464, 'arrepios': 4465, 'mocha': 4466, 'mantêlos': 4467, 'cuidava': 4468, 'suíte': 4469, 'negou': 4470, 'implicar': 4471, 'prestar': 4472, 'técnicas': 4473, 'essência': 4474, 'embriagado': 4475, 'assaltada': 4476, 'desumano': 4477, 'curar': 4478, 'transtorno': 4479, 'irracional': 4480, 'lâmpada': 4481, 'declarada': 4482, 'incluído': 4483, 'sorri': 4484, 'duche': 4485, 'entrasse': 4486, 'pinos': 4487, 'provou': 4488, 'pegajoso': 4489, 'mineração': 4490, 'wallaby': 4491, 'onça': 4492, 'evitando': 4493, 'robinson': 4494, 'disselhe': 4495, 'recuou': 4496, 'religião': 4497, 'armadilha': 4498, 'causadas': 4499, 'frágil': 4500, 'papelada': 4501, 'pamela': 4502, 'farão': 4503, 'sofro': 4504, 'obrigatórias': 4505, 'levam': 4506, 'kebabs': 4507, 'hilton': 4508, 'viajo': 4509, 'viram': 4510, 'repetido': 4511, 'procedimento': 4512, 'chutou': 4513, 'econômica': 4514, 'loiro': 4515, 'injustificado': 4516, 'impaciente': 4517, 'cancelei': 4518, 'moderno': 4519, 'divorciaram': 4520, 'escultura': 4521, 'sacos': 4522, 'materiais': 4523, 'famílias': 4524, 'egito': 4525, 'esgotamos': 4526, 'panelas': 4527, 'lâmina': 4528, 'bolsos': 4529, 'buquê': 4530, 'coçar': 4531, 'zíper': 4532, 'algodão': 4533, 'ligava': 4534, 'aliança': 4535, 'diamante': 4536, 'apito': 4537, 'impedir': 4538, 'alemã': 4539, 'famintas': 4540, 'acompanharem': 4541, 'medidas': 4542, 'cometendo': 4543, 'arruinado': 4544, 'figurar': 4545, 'separada': 4546, 'chicote': 4547, 'definitivo': 4548, 'pagasse': 4549, 'calese': 4550, 'usadas': 4551, 'serena': 4552, 'conversado': 4553, 'roubadas': 4554, 'falaremos': 4555, 'vômito': 4556, 'sufocando': 4557, 'bemhumorado': 4558, 'troféu': 4559, 'trair': 4560, 'financeiramente': 4561, 'irritada': 4562, 'mentiroso': 4563, 'insultandoa': 4564, 'obedecer': 4565, 'enfrentei': 4566, 'casaria': 4567, 'maestro': 4568, 'gênio': 4569, 'sensato': 4570, 'planejamos': 4571, 'programação': 4572, 'mosca': 4573, 'suicidado': 4574, 'perfeitas': 4575, 'escrevia': 4576, 'tampa': 4577, 'disciplinas': 4578, 'american': 4579, 'disseme': 4580, 'causada': 4581, 'amostras': 4582, 'barcos': 4583, 'outfielder': 4584, 'joga': 4585, 'frases': 4586, 'tensão': 4587, 'necessitado': 4588, 'cruzando': 4589, 'prosseguir': 4590, 'santa': 4591, 'lincoln': 4592, 'bank': 4593, 'turnê': 4594, 'terreno': 4595, 'avaliado': 4596, 'acham': 4597, 'exibidos': 4598, 'levanta': 4599, 'tomo': 4600, 'abrigo': 4601, 'voucher': 4602, 'interferiu': 4603, 'incentivo': 4604, 'bloqueado': 4605, 'cambridge': 4606, 'qingdao': 4607, 'massa': 4608, 'grego': 4609, 'tailandês': 4610, 'facadas': 4611, 'interessou': 4612, 'itália': 4613, 'desarrumado': 4614, 'norte': 4615, 'rota': 4616, 'cantadas': 4617, 'espancou': 4618, 'continuasse': 4619, 'experimente': 4620, 'ordens': 4621, 'xingando': 4622, 'correntes': 4623, 'recife': 4624, 'tubarões': 4625, 'pertence': 4626, 'compre': 4627, 'magoei': 4628, 'filial': 4629, 'estudantil': 4630, 'receberam': 4631, 'palco': 4632, 'resistência': 4633, 'plantão': 4634, 'turismo': 4635, 'encontrálos': 4636, 'hóspedes': 4637, 'musical': 4638, 'funcionário': 4639, 'escadas': 4640, 'cerejas': 4641, 'frescas': 4642, 'lanchonete': 4643, 'ídolo': 4644, 'tomada': 4645, 'doar': 4646, 'fumava': 4647, 'compartimento': 4648, 'incorreto': 4649, 'esmalte': 4650, 'centrais': 4651, 'tradição': 4652, 'soltar': 4653, 'espontaneamente': 4654, 'aceitava': 4655, 'tinto': 4656, 'happy': 4657, 'experimentos': 4658, 'videogame': 4659, 'mandálo': 4660, 'manhãs': 4661, 'cutucou': 4662, 'enojar': 4663, 'encorajado': 4664, 'alimentar': 4665, 'assustaram': 4666, 'dispensar': 4667, 'maconha': 4668, 'cheiravam': 4669, 'lake': 4670, 'juntei': 4671, 'feridas': 4672, 'visse': 4673, 'ciúmes': 4674, 'verificando': 4675, 'yuri': 4676, 'operações': 4677, 'aparências': 4678, 'magníficos': 4679, 'atirou': 4680, 'texas': 4681, 'retirar': 4682, 'definir': 4683, 'burro': 4684, 'comparece': 4685, 'amígdalas': 4686, 'vírus': 4687, 'ameaçar': 4688, 'jean': 4689, 'legumes': 4690, 'soja': 4691, 'ostra': 4692, 'verduras': 4693, 'murchas': 4694, 'brotos': 4695, 'admitir': 4696, 'decisivo': 4697, 'madeira': 4698, 'movêlo': 4699, 'obrigações': 4700, 'voei': 4701, 'roedores': 4702, 'macacos': 4703, 'exóticos': 4704, 'merecimento': 4705, 'cante': 4706, 'atitudes': 4707, 'demissão': 4708, 'menstruação': 4709, 'senha': 4710, 'placa': 4711, 'eficiência': 4712, 'boliche': 4713, 'sarjeta': 4714, 'plena': 4715, 'presos': 4716, 'prestavam': 4717, 'discutido': 4718, 'ajudam': 4719, 'gastronomia': 4720, 'contatar': 4721, 'comitê': 4722, 'distrital': 4723, 'estrutura': 4724, 'executiva': 4725, 'samba': 4726, 'blake': 4727, 'reduzir': 4728, 'refrigerantes': 4729, 'teor': 4730, 'olímpica': 4731, 'tesouro': 4732, 'curiosidade': 4733, 'copenhague': 4734, 'repugnante': 4735, 'resgate': 4736, 'remar': 4737, 'ocasionalmente': 4738, 'bandas': 4739, 'pegado': 4740, 'pasta': 4741, 'gambá': 4742, 'nadou': 4743, 'ilustração': 4744, 'virem': 4745, 'capitão': 4746, 'tiros': 4747, 'geografia': 4748, 'gabam': 4749, 'escritores': 4750, 'equipamento': 4751, 'entrarei': 4752, 'planejava': 4753, 'envenenado': 4754, 'compareci': 4755, 'impacto': 4756, 'hollywood': 4757, 'acreditaram': 4758, 'fliperama': 4759, 'desonesto': 4760, 'responsáveis': 4761, 'justamente': 4762, 'morresse': 4763, 'errou': 4764, 'construída': 4765, 'enfrentamos': 4766, 'desnecessário': 4767, 'relaxamento': 4768, 'agradáveis': 4769, 'inveja': 4770, 'juramento': 4771, 'relaxantes': 4772, 'residência': 4773, 'fornecido': 4774, 'monopolizando': 4775, 'filosofias': 4776, 'nutricionais': 4777, 'irreal': 4778, 'privarse': 4779, 'hein': 4780, 'pedestres': 4781, 'massagem': 4782, 'detido': 4783, 'apareceram': 4784, 'burocrático': 4785, 'saiam': 4786, 'charlie': 4787, 'portas': 4788, 'babador': 4789, 'carrinho': 4790, 'atreveu': 4791, 'desejar': 4792, 'imundo': 4793, 'equivale': 4794, 'fiscal': 4795, '1982': 4796, 'impõe': 4797, 'lírios': 4798, 'frios': 4799, 'romper': 4800, 'mútuo': 4801, 'confortar': 4802, 'saíamos': 4803, 'rígidos': 4804, 'trabalham': 4805, 'relevantes': 4806, 'encontremos': 4807, 'ficasse': 4808, 'conformar': 4809, 'caçador': 4810, 'malucas': 4811, 'dissecar': 4812, 'darlene': 4813, 'lembranças': 4814, 'excitante': 4815, 'killer': 4816, 'visibilidade': 4817, 'violão': 4818, 'malibu': 4819, 'inquietação': 4820, 'checar': 4821, 'completar': 4822, 'torne': 4823, 'spray': 4824, 'ciclovia': 4825, 'específica': 4826, 'passam': 4827, 'túneis': 4828, 'matança': 4829, 'rara': 4830, 'estrangeiras': 4831, 'sorria': 4832, 'descascar': 4833, 'descascador': 4834, 'tirada': 4835, 'bemvindos': 4836, 'pregou': 4837, 'capricorniano': 4838, 'anne': 4839, 'satisfeita': 4840, 'coelhos': 4841, 'vire': 4842, 'significou': 4843, 'objetos': 4844, 'dividíamos': 4845, 'confesso': 4846, 'dançante': 4847, 'pêssego': 4848, 'assalto': 4849, 'escondi': 4850, 'fugido': 4851, 'terraço': 4852, 'atacada': 4853, 'desafio': 4854, 'garçonete': 4855, 'cancelou': 4856, 'palace': 4857, 'beijing': 4858, 'apontou': 4859, 'cintura': 4860, 'estreitou': 4861, 'mostreme': 4862, 'caranguejo': 4863, 'aumenta': 4864, 'instrução': 4865, 'antigas': 4866, 'derrame': 4867, 'derrotar': 4868, 'mesmas': 4869, 'pingente': 4870, 'íntimo': 4871, 'descobriu': 4872, 'imitar': 4873, 'comerciais': 4874, 'conhecermos': 4875, 'cercadinho': 4876, 'berço': 4877, 'fabulosa': 4878, 'beijou': 4879, 'leis': 4880, 'aprovar': 4881, 'fixos': 4882, 'neva': 4883, 'castanho': 4884, 'trabalhe': 4885, 'recorrente': 4886, 'ansiar': 4887, 'ginásio': 4888, 'imigrar': 4889, 'negro': 4890, 'cansativo': 4891, 'sobras': 4892, 'vazando': 4893, 'modesto': 4894, 'sairmos': 4895, '1200': 4896, 'envelhecer': 4897, 'dupla': 4898, 'poderes': 4899, 'oferecem': 4900, 'títulos': 4901, 'diretora': 4902, 'falam': 4903, 'decente': 4904, 'fumando': 4905, 'trens': 4906, 'atualizada': 4907, 'ajudava': 4908, 'custou': 4909, 'mountain': 4910, 'suma': 4911, 'apelo': 4912, 'forças': 4913, 'assiste': 4914, 'perde': 4915, 'servilo': 4916, 'pousada': 4917, 'lingadzi': 4918, 'cruas': 4919, 'lótus': 4920, 'faliu': 4921, 'exceção': 4922, 'composto': 4923, 'vaca': 4924, 'torrencial': 4925, 'gêmeas': 4926, 'nasceram': 4927, 'dizerem': 4928, 'resta': 4929, 'peru': 4930, 'conhecêlos': 4931, 'removidos': 4932, 'acreditei': 4933, 'deficiência': 4934, 'saliva': 4935, 'venderá': 4936, 'balas': 4937, 'tiramisu': 4938, 'dono': 4939, 'ilhas': 4940, 'aventuras': 4941, 'rumores': 4942, 'chiqueiro': 4943, 'origem': 4944, 'expressei': 4945, 'pesar': 4946, 'ocupadas': 4947, 'vindos': 4948, 'negociar': 4949, 'catálogo': 4950, 'blusas': 4951, 'vazio': 4952, 'combinam': 4953, 'chocante': 4954, 'interminável': 4955, 'condimentos': 4956, 'tubo': 4957, 'fígado': 4958, 'levará': 4959, 'porções': 4960, 'incerteza': 4961, 'compreensivo': 4962, 'poderemos': 4963, 'trancado': 4964, 'centavos': 4965, 'acordados': 4966, 'vulgar': 4967, 'cultivar': 4968, 'consertado': 4969, 'temperatura': 4970, 'gritei': 4971, 'esportivos': 4972, 'mercy': 4973, 'escuta': 4974, 'senhorio': 4975, 'prestativa': 4976, 'suburbana': 4977, 'devagar': 4978, 'procuravam': 4979, 'expulsar': 4980, 'trocálo': 4981, 'envolvia': 4982, 'culpada': 4983, 'fortune': 4984, 'descontos': 4985, 'saíssemos': 4986, 'impressionados': 4987, 'xingar': 4988, 'downsizing': 4989, 'amarrar': 4990, 'telefonemas': 4991, 'queijo': 4992, 'gota': 4993, 'mexicano': 4994, 'paulo': 4995, 'inconsciente': 4996, 'repetidamente': 4997, 'pertenço': 4998, 'suécia': 4999, 'bean': 5000, 'tratamentos': 5001, 'costelas': 5002, 'queimei': 5003, 'templo': 5004, 'manipulação': 5005, 'viriam': 5006, 'obtêlos': 5007, 'emergência': 5008, 'relaxada': 5009, 'dançarinos': 5010, 'observando': 5011, 'moral': 5012, 'brinquei': 5013, 'besteiras': 5014, 'ultraman': 5015, 'negligenciado': 5016, 'caiam': 5017, 'ignora': 5018, 'caminhávamos': 5019, 'estarão': 5020, 'impotência': 5021, 'descrita': 5022, 'vela': 5023, 'úteis': 5024, 'faladora': 5025, 'zangada': 5026, 'inspirações': 5027, 'presumindo': 5028, 'verdadeiras': 5029, 'piratas': 5030, 'lutou': 5031, 'procurou': 5032, 'esclarecer': 5033, 'incomodando': 5034, 'confie': 5035, 'negociações': 5036, 'siga': 5037, 'advogado': 5038, 'clubes': 5039, 'moleza': 5040, 'bondade': 5041, 'significado': 5042, 'fileira': 5043, 'faziam': 5044, 'reservada': 5045, 'enganei': 5046, 'afundou': 5047, 'expulso': 5048, 'barril': 5049, 'referindose': 5050, 'andam': 5051, 'enfermagem': 5052, 'autêntico': 5053, 'coquetéis': 5054, 'relaxante': 5055, 'pacífica': 5056, 'nervos': 5057, 'brigou': 5058, 'agüento': 5059, 'culpam': 5060, 'escondemos': 5061, 'quebradas': 5062, 'atacar': 5063, 'churrasqueira': 5064, 'armei': 5065, 'comprado': 5066, 'lavagem': 5067, 'merda': 5068, 'formar': 5069, 'expulsa': 5070, 'canção': 5071, 'concedida': 5072, 'celulares': 5073, 'japoneses': 5074, 'repassar': 5075, 'pintadas': 5076, 'syjc': 5077, 'sauna': 5078, 'errados': 5079, 'johnson': 5080, 'garanto': 5081, 'esfaqueado': 5082, 'atacando': 5083, 'fator': 5084, 'adicional': 5085, 'almoçamos': 5086, 'swing': 5087, 'acertou': 5088, 'bogey': 5089, 'birdie': 5090, 'poluída': 5091, 'panfleto': 5092, 'viveu': 5093, 'especialização': 5094, 'escrita': 5095, 'desgosto': 5096, 'vomitando': 5097, 'mergulhando': 5098, 'lápis': 5099, 'trancada': 5100, 'mesinha': 5101, 'honda': 5102, 'melhorias': 5103, 'estoque': 5104, 'danço': 5105, 'tempos': 5106, 'goma': 5107, 'claras': 5108, 'conceder': 5109, 'tabuleiro': 5110, 'imaginação': 5111, 'desligando': 5112, 'digame': 5113, 'primitiva': 5114, 'noivos': 5115, 'construção': 5116, 'pesado': 5117, 'deseje': 5118, 'cuidadoso': 5119, 'suspense': 5120, 'sequência': 5121, 'corporativo': 5122, 'poupar': 5123, 'usálos': 5124, 'domésticas': 5125, 'vivas': 5126, 'haveria': 5127, 'sacrificado': 5128, 'porcelana': 5129, 'turboalimentado': 5130, 'litros': 5131, 'potente': 5132, 'aproxima': 5133, 'bagunçar': 5134, 'desconsiderado': 5135, 'cuido': 5136, 'favorável': 5137, 'arquitetura': 5138, 'práticas': 5139, 'realizou': 5140, 'molestar': 5141, 'intrometido': 5142, 'dada': 5143, 'engravidar': 5144, 'comemoração': 5145, 'pedidos': 5146, 'concluir': 5147, 'entraram': 5148, 'susto': 5149, 'levaria': 5150, 'retornar': 5151, 'tigre': 5152, 'simpáticas': 5153, 'otimista': 5154, 'apreciamos': 5155, 'malásia': 5156, 'idoso': 5157, 'prisioneiros': 5158, 'center': 5159, 'brincado': 5160, 'ervas': 5161, 'raposa': 5162, 'leveio': 5163, 'cego': 5164, 'laboratório': 5165, 'recomeçar': 5166, 'quaisquer': 5167, 'alface': 5168, 'salas': 5169, 'coloquem': 5170, 'ajudeme': 5171, 'toalhas': 5172, 'artístico': 5173, 'matador': 5174, 'proponho': 5175, 'exigia': 5176, 'contamos': 5177, 'trataram': 5178, 'comportada': 5179, 'normais': 5180, 'poderosas': 5181, 'mencionada': 5182, 'cobrando': 5183, 'embarquei': 5184, 'yanu': 5185, 'senteime': 5186, 'tabaco': 5187, 'drive': 5188, 'latir': 5189, 'pulando': 5190, 'caído': 5191, 'reembolso': 5192, 'empurrando': 5193, 'milagre': 5194, 'varrer': 5195, 'comproume': 5196, 'trouxemos': 5197, 'rompeu': 5198, 'parecida': 5199, 'aspectos': 5200, 'tímida': 5201, 'gostos': 5202, 'individuais': 5203, 'gimtônica': 5204, 'guardachuva': 5205, 'vencido': 5206, 'atendente': 5207, 'atrai': 5208, 'convicção': 5209, 'aguentava': 5210, 'item': 5211, 'salvamento': 5212, 'deprimida': 5213, 'agredido': 5214, 'traje': 5215, 'regulamentos': 5216, 'curtindo': 5217, '1985': 5218, 'insultando': 5219, 'usaram': 5220, 'usálo': 5221, 'pazes': 5222, 'canoa': 5223, 'gramado': 5224, 'rachadura': 5225, 'seguiria': 5226, 'perguntaria': 5227, 'entregou': 5228, 'becker': 5229, 'burocratas': 5230, 'comprando': 5231, 'avenida': 5232, 'diego': 5233, 'aumentou': 5234, 'aonde': 5235, 'gêmeos': 5236, 'ficam': 5237, 'caçar': 5238, 'aprovou': 5239, 'malhar': 5240, 'feio': 5241, 'autêntica': 5242, 'cantava': 5243, 'filosofia': 5244, 'lisonjeado': 5245, 'requisitos': 5246, 'bares': 5247, 'conselheiros': 5248, 'timidez': 5249, 'entenderam': 5250, 'aplausos': 5251, 'pêra': 5252, 'webtracker': 5253, 'damas': 5254, 'jazz': 5255, 'eficiente': 5256, 'donald': 5257, 'maduro': 5258, 'íntima': 5259, 'margarita': 5260, 'escreve': 5261, 'assediar': 5262, 'deprimente': 5263, 'crescendo': 5264, 'derretendo': 5265, 'atravessou': 5266, 'megapixels': 5267, 'conquistar': 5268, 'comporta': 5269, 'canalha': 5270, 'pretos': 5271, 'passarela': 5272, 'relativamente': 5273, 'secretária': 5274, 'experiente': 5275, 'descobrirá': 5276, 'camarada': 5277, 'cozinhando': 5278, 'vazia': 5279, 'pareceme': 5280, 'desamparado': 5281, 'espirituoso': 5282, 'gratuita': 5283, 'calhas': 5284, 'entupidas': 5285, 'colidiu': 5286, 'reputação': 5287, 'mensal': 5288, 'culpoume': 5289, 'subúrbios': 5290, 'financeiras': 5291, 'tragicamente': 5292, 'alan': 5293, 'recessão': 5294, 'datas': 5295, 'determinada': 5296, 'possíveis': 5297, 'decidido': 5298, 'maluco': 5299, 'conversaram': 5300, 'desprezado': 5301, 'conexão': 5302, 'bancos': 5303, 'finanças': 5304, 'suposta': 5305, 'compraria': 5306, 'mantiveram': 5307, 'crocante': 5308, 'coberto': 5309, 'conservatório': 5310, 'mchesi': 5311, 'submetida': 5312, 'instruído': 5313, 'ofícios': 5314, 'embutida': 5315, 'digitais': 5316, 'percorrer': 5317, 'constante': 5318, 'acredita': 5319, 'lillehammer': 5320, 'aplicativos': 5321, 'lentos': 5322, 'mágica': 5323, 'exibindo': 5324, 'tola': 5325, 'combinei': 5326, 'pague': 5327, 'diminuir': 5328, 'maternidade': 5329, 'deitar': 5330, 'aceitaria': 5331, 'levaremos': 5332, 'brincadeiras': 5333, 'patrick': 5334, 'passasse': 5335, 'intermediário': 5336, 'derramou': 5337, 'berkeley': 5338, 'agredida': 5339, 'encheram': 5340, 'inauguração': 5341, 'encaminhamento': 5342, 'encaminhadas': 5343, 'dental': 5344, 'comício': 5345, 'vivido': 5346, 'razões': 5347, 'bochecha': 5348, 'entra': 5349, 'cheirava': 5350, 'abdominais': 5351, 'dividir': 5352, 'responder': 5353, '1978': 5354, 'calúnia': 5355, 'deixálos': 5356, 'falido': 5357, 'omitido': 5358, 'folha': 5359, 'vago': 5360, 'digno': 5361, 'envieme': 5362, 'apertar': 5363, 'humildade': 5364, 'hipócrita': 5365, 'calorosa': 5366, 'caloroso': 5367, 'capô': 5368, 'consultoria': 5369, 'tese': 5370, 'inferior': 5371, 'compramos': 5372, 'universidades': 5373, 'genética': 5374, 'esterco': 5375, 'sofre': 5376, 'ousei': 5377, 'lâminas': 5378, 'pósbarba': 5379, 'colônia': 5380, 'conseqüentemente': 5381, 'promoções': 5382, 'tagarelando': 5383, 'canadenses': 5384, 'gabando': 5385, 'voto': 5386, 'brisbane': 5387, 'perguntaram': 5388, 'perceptível': 5389, 'dirigimos': 5390, 'atacados': 5391, 'condolencias': 5392, 'trilhos': 5393, 'covardia': 5394, 'semelhantes': 5395, 'turístico': 5396, 'letivo': 5397, 'pulgas': 5398, 'telefônico': 5399, 'esforçado': 5400, 'camaradas': 5401, 'planetas': 5402, 'fedia': 5403, 'duradouro': 5404, 'digam': 5405, 'ocasiões': 5406, 'fuga': 5407, 'curioso': 5408, 'armou': 5409, 'cortesia': 5410, 'requintado': 5411, '1980': 5412, 'ritmo': 5413, 'jogam': 5414, 'refere': 5415, 'limonada': 5416, 'shorts': 5417, 'longos': 5418, 'chorou': 5419, 'importou': 5420, 'agrada': 5421, 'atrevimento': 5422, 'mundialmente': 5423, 'colocada': 5424, 'coletivo': 5425, 'curvou': 5426, 'postura': 5427, 'ponte': 5428, 'rúgbi': 5429, 'equipa': 5430, 'brigada': 5431, 'privadas': 5432, 'chocou': 5433, 'usam': 5434, 'atropelar': 5435, 'descuido': 5436, 'independência': 5437, 'tigela': 5438, 'solteira': 5439, 'cantada': 5440, 'danificou': 5441, 'fugiu': 5442, 'pilhas': 5443, 'desejamoslhe': 5444, 'recuperação': 5445, 'voltamos': 5446, 'comercial': 5447, 'estacionar': 5448, 'enviados': 5449, 'quênia': 5450, 'reino': 5451, 'unido': 5452, 'enganando': 5453, 'sueco': 5454, 'limparia': 5455, 'traído': 5456, 'fortemente': 5457, 'municipal': 5458, 'pressionada': 5459, 'recomendado': 5460, 'surpreendeu': 5461, 'atrasou': 5462, 'pergunte': 5463, 'instantaneamente': 5464, 'impecável': 5465, 'comprimidos': 5466, 'sujos': 5467, 'permitiu': 5468, 'protesto': 5469, 'prejudicado': 5470, 'indevidamente': 5471, 'ângulo': 5472, 'apavorados': 5473, 'reitor': 5474, 'integral': 5475, 'remota': 5476, 'estariam': 5477, 'bridge': 5478, 'pagam': 5479, 'recuperou': 5480, 'exalunos': 5481, 'hitler': 5482, 'lâmpadas': 5483, 'capas': 5484, 'almofada': 5485, 'cova': 5486, 'descontroladamente': 5487, 'desgraça': 5488, 'comunicação': 5489, 'civo': 5490, 'mangwana': 5491, 'baratear': 5492, '12000': 5493, 'atletismo': 5494, 'pôquer': 5495, 'formada': 5496, 'liberar': 5497, 'break': 5498, 'dance': 5499, 'votos': 5500, 'tapete': 5501, 'passava': 5502, 'compartilhando': 5503, 'provocou': 5504, 'barbara': 5505, 'lazer': 5506, 'públicas': 5507, 'arrogante': 5508, 'world': 5509, 'ferro': 5510, 'usaria': 5511, 'cozinheiro': 5512, 'anderson': 5513, 'escritos': 5514, 'extrema': 5515, 'anestesia': 5516, 'home': 5517, 'richie': 5518, 'achavam': 5519, 'maus': 5520, 'hábitos': 5521, 'provérbio': 5522, 'participação': 5523, 'noturno': 5524, 'vegetariana': 5525, 'pipa': 5526, 'revelar': 5527, 'rebatida': 5528, 'arremesso': 5529, 'colocálos': 5530, 'emily': 5531, 'arruinada': 5532, 'indiferente': 5533, 'dali': 5534, 'notificação': 5535, 'bêbadas': 5536, 'porco': 5537, 'derrubei': 5538, 'brancos': 5539, 'eletricidade': 5540, 'desconectado': 5541, 'patinar': 5542, 'acontecera': 5543, 'sangrava': 5544, 'sonhando': 5545, 'maratona': 5546, 'manteve': 5547, 'mordido': 5548, 'ameaçando': 5549, 'trabalhos': 5550, 'injustas': 5551, 'divertirem': 5552, 'reconciliamos': 5553, 'grelha': 5554, 'carvão': 5555, 'armada': 5556, 'repressão': 5557, 'agradecimento': 5558, 'ensinando': 5559, 'clínicos': 5560, 'sites': 5561, 'sorriso': 5562, 'fotógrafo': 5563, 'criada': 5564, 'comprálo': 5565, 'implicava': 5566, 'bandeira': 5567, 'atraentes': 5568, 'prince': 5569, 'dirá': 5570, 'violentamente': 5571, 'valentões': 5572, 'consigas': 5573, 'chung': 5574, 'testa': 5575, 'cozinhálos': 5576, 'insira': 5577, 'carga': 5578, 'incomodavam': 5579, 'insistiu': 5580, 'recuseime': 5581, 'moradores': 5582, 'arrombar': 5583, 'desistiram': 5584, 'dormimos': 5585, 'gestos': 5586, 'expressões': 5587, 'custado': 5588, 'repreendi': 5589, 'descansar': 5590, 'urgente': 5591, 'disfarçar': 5592, 'preguiça': 5593, 'habituais': 5594, 'travar': 5595, 'sinfônica': 5596, 'absorto': 5597, 'golfinho': 5598, 'raquete': 5599, 'sonhava': 5600, 'loucamente': 5601, 'gerou': 5602, 'aids': 5603, 'boxe': 5604, 'asiáticas': 5605, 'vendedor': 5606, 'ossos': 5607, 'mercadorias': 5608, 'extraoficialmente': 5609, 'confirmação': 5610, 'meiaidade': 5611, 'torneira': 5612, 'registrei': 5613, 'prorrogação': 5614, 'tomando': 5615, 'melhoria': 5616, 'torturam': 5617, 'diploma': 5618, 'método': 5619, 'permitimos': 5620, 'dormido': 5621, 'revi': 5622, 'fábricas': 5623, 'explorando': 5624, 'considerou': 5625, 'consecutivas': 5626, 'piqueniques': 5627, 'nomeação': 5628, 'alugálo': 5629, 'sanidade': 5630, 'educacionais': 5631, 'obscenos': 5632, 'pertences': 5633, 'tiram': 5634, 'exagerando': 5635, 'aprovados': 5636, 'coast': 5637, 'nuas': 5638, 'fizessem': 5639, 'ceia': 5640, 'oriental': 5641, 'triviais': 5642, 'alimentado': 5643, 'doenças': 5644, 'espiritismo': 5645, 'tranquei': 5646, 'fluir': 5647, 'criaram': 5648, 'casando': 5649, 'espancadas': 5650, 'adoraríamos': 5651, 'juntou': 5652, 'obras': 5653, 'atirando': 5654, 'concorde': 5655, 'finalizar': 5656, 'atrasadas': 5657, 'fornecem': 5658, 'huan': 5659, 'construído': 5660, '1930': 5661, 'absoluto': 5662, 'bilhões': 5663, 'examinador': 5664, 'envolvidas': 5665, 'estádio': 5666, 'precisará': 5667, 'painel': 5668, 'inadvertidamente': 5669, 'pobreza': 5670, 'familiarizado': 5671, 'ocorre': 5672, 'embaçada': 5673, 'drinque': 5674, 'tulipas': 5675, 'remédio': 5676, 'atenas': 5677, 'country': 5678, 'monetário': 5679, 'assistência': 5680, 'iniciante': 5681, 'expressar': 5682, 'casais': 5683, 'gravar': 5684, 'sogra': 5685, 'tratavam': 5686, 'sacar': 5687, 'paradas': 5688, 'macmillan': 5689, 'universitária': 5690, 'adicionou': 5691, 'lêlos': 5692, 'tomei': 5693, '18h30': 5694, 'cinzeiro': 5695, 'crimes': 5696, 'estatística': 5697, 'viraram': 5698, 'banheiros': 5699, 'tratam': 5700, 'rally': 5701, 'conduzido': 5702, 'helsinque': 5703, 'sorrir': 5704, 'cortasse': 5705, 'escurecendo': 5706, 'variar': 5707, 'bobby': 5708, 'figos': 5709, 'diarréia': 5710, 'principais': 5711, 'favoritas': 5712, 'levarei': 5713, 'abotoadura': 5714, 'prata': 5715, 'socos': 5716, 'nicotina': 5717, 'sentei': 5718, 'adianta': 5719, 'toleraríamos': 5720, 'afastando': 5721, 'chegava': 5722, 'balançando': 5723, 'suavemente': 5724, 'êxtase': 5725, 'enganada': 5726, 'armas': 5727, 'metralhadora': 5728, 'lançador': 5729, 'foguetes': 5730, 'míssil': 5731, 'antitanque': 5732, 'lançachamas': 5733, 'rudes': 5734, 'chegam': 5735, 'grand': 5736, 'jamais': 5737, 'movimentada': 5738, 'faixa': 5739, 'cobertor': 5740, 'tocálo': 5741, 'hotpot': 5742, 'contribuindo': 5743, 'convidamos': 5744, 'ritmos': 5745, 'limpa': 5746, 'reservadas': 5747, 'traseira': 5748, 'convés': 5749, 'lotados': 5750, 'alvo': 5751, 'ideais': 5752, 'criando': 5753, 'mantendo': 5754, 'jason': 5755, 'saíram': 5756, 'nozes': 5757, 'perderíamos': 5758, 'correspondido': 5759, 'tornozelo': 5760, 'faztudo': 5761, 'atuações': 5762, 'tranquilidade': 5763, 'simpática': 5764, 'fatos': 5765, 'degradante': 5766, 'bordos': 5767, 'vermelhos': 5768, 'assumindo': 5769, 'mergulhar': 5770, 'proporcionam': 5771, 'meiofio': 5772, 'chapéus': 5773, 'tônica': 5774, 'severamente': 5775, 'construir': 5776, 'desastre': 5777, 'intrometer': 5778, 'separou': 5779, 'cocktail': 5780, 'shanghai': 5781, 'carruagem': 5782, 'envielhe': 5783, 'oooo': 5784, 'corre': 5785, 'cênico': 5786, 'frescor': 5787, 'titanic': 5788, 'bênção': 5789, 'discorda': 5790, 'esquecêla': 5791, 'diárias': 5792, 'afetada': 5793, '49ers': 5794, 'descubra': 5795, 'crítica': 5796, 'voltasse': 5797, 'cozido': 5798, 'vestiu': 5799, 'ruidosamente': 5800, 'cujos': 5801, 'guiliners': 5802, 'destruiu': 5803, 'guardar': 5804, '2005': 5805, 'curtas': 5806, 'queridos': 5807, 'classificações': 5808, 'apresentei': 5809, 'boba': 5810, 'audiência': 5811, 'reúne': 5812, 'animação': 5813, 'sotaque': 5814, 'deusa': 5815, 'largar': 5816, 'mcgrath': 5817, 'relatado': 5818, 'descrevi': 5819, 'quebrando': 5820, 'arranjos': 5821, 'contadora': 5822, 'enfatizar': 5823, 'joias': 5824, 'hipocrisia': 5825, 'mudouse': 5826, 'congelada': 5827, 'escolhendo': 5828, 'escalas': 5829, 'raspar': 5830, 'níveis': 5831, 'ficaríamos': 5832, 'proibida': 5833, 'acontecia': 5834, 'taylor': 5835, 'assédio': 5836, 'planeta': 5837, 'estupro': 5838, 'falaram': 5839, 'obama': 5840, 'úmido': 5841, 'demora': 5842, 'campos': 5843, 'centímetros': 5844, 'admirar': 5845, 'acompanhálo': 5846, 'paula': 5847, 'leia': 5848, 'dúzia': 5849, 'agressões': 5850, 'características': 5851, 'ocorridos': 5852, 'diário': 5853, 'hello': 5854, 'latina': 5855, 'comunicado': 5856, 'produtividade': 5857, 'plantar': 5858, 'igualar': 5859, 'fingia': 5860, 'incluem': 5861, 'comentou': 5862, 'torça': 5863, 'pênis': 5864, 'chichiri': 5865, 'eventualmente': 5866, 'podres': 5867, 'mosquitos': 5868, 'previsões': 5869, 'geração': 5870, 'cemitério': 5871, 'muro': 5872, 'william': 5873, 'pressione': 5874, 'choveu': 5875, 'artes': 5876, 'brown': 5877, 'morei': 5878, 'cerebral': 5879, 'cinzas': 5880, 'qualificados': 5881, 'instituições': 5882, 'apoiaria': 5883, 'conhecem': 5884, 'chateada': 5885, 'magoada': 5886, 'convocado': 5887, 'escorregadio': 5888, 'assustar': 5889, 'philip': 5890, 'horntown': 5891, 'kong': 5892, 'seco': 5893, 'salve': 5894, 'orientador': 5895, 'juniores': 5896, 'coreia': 5897, 'condimento': 5898, 'latindo': 5899, 'insistir': 5900, 'espalhadas': 5901, 'expulsão': 5902, 'partindo': 5903, 'britânica': 5904, 'divertase': 5905, 'coquetel': 5906, 'wendy': 5907, 'desprezava': 5908, 'representantes': 5909, 'dançamos': 5910, 'dançam': 5911, 'gravada': 5912, 'desenhar': 5913, 'nevar': 5914, 'bebedeira': 5915, 'deixados': 5916, 'pertencendo': 5917, 'quartelgeneral': 5918, 'investido': 5919, 'calcinha': 5920, 'meias': 5921, 'cobre': 5922, 'cravo': 5923, 'impressos': 5924, 'luminárias': 5925, 'bourgas': 5926, 'plovdivbourgas': 5927, 'pareciame': 5928, 'gospel': 5929, 'crer': 5930, 'scooters': 5931, 'business': 5932, 'week': 5933, 'demonstrar': 5934, 'sororoty': 5935, 'explodiram': 5936, 'estrelas': 5937, 'pagos': 5938, 'ambiciosos': 5939, 'adorados': 5940, 'interrompeu': 5941, 'informandome': 5942, 'renal': 5943, 'deborah': 5944, 'woodlawn': 5945, 'apoiou': 5946, 'encontraríamos': 5947, 'dissuadir': 5948, 'perceba': 5949, 'trocando': 5950, 'fraldas': 5951, 'atestado': 5952, 'faltariam': 5953, 'ocupavam': 5954, 'despedidos': 5955, 'alugou': 5956, 'claborado': 5957, 'teletrabalho': 5958, 'this': 5959, 'part': 5960, 'gangorra': 5961, 'almocei': 5962, 'renda': 5963, 'ganhavam': 5964, 'recebiam': 5965, 'doações': 5966, 'tocha': 5967, 'convencer': 5968, 'vínculos': 5969, 'especioso': 5970, 'imperador': 5971, 'aceitarei': 5972, 'abutre': 5973, 'cobrança': 5974, 'patife': 5975, 'amplificadores': 5976, 'microfones': 5977, 'bateria': 5978, 'afaste': 5979, 'sandálias': 5980, 'calce': 5981, 'encontrarme': 5982, 'distúrbios': 5983, 'psicológicos': 5984, 'violetas': 5985, 'veleiro': 5986, 'pink': 5987, 'floyd': 5988, 'pilotado': 5989, 'eclipse': 5990, 'lanches': 5991, 'barulhenta': 5992, 'importem': 5993, 'cathy': 5994, 'convidea': 5995, 'comeram': 5996, 'beberam': 5997, 'foder': 5998, 'participassem': 5999, 'atrevo': 6000, 'fenda': 6001, 'exata': 6002, 'repreendendo': 6003, 'facilidade': 6004, 'cruéis': 6005, 'dobrou': 6006, 'bebermos': 6007, 'filipinas': 6008, 'ousava': 6009, 'amanhecer': 6010, 'adicionaram': 6011, 'xinguei': 6012, 'spice': 6013, 'girls': 6014, 'incerta': 6015, 'destruílo': 6016, 'abertamente': 6017, 'desrespeitadas': 6018, 'ignorou': 6019, 'anistia': 6020, 'cruelmente': 6021, 'rastejar': 6022, 'humilhação': 6023, 'eves': 6024, 'weekly': 6025, 'india': 6026, 'essay': 6027, 'pósgraduados': 6028, 'julgado': 6029, 'eminentes': 6030, 'maçanetas': 6031, 'decepcionava': 6032, 'reencontrando': 6033, 'adquiriu': 6034, 'excluída': 6035, 'brilhava': 6036, 'estragar': 6037, 'arrastar': 6038, 'ininteligível': 6039, 'descarrego': 6040, 'recomenda': 6041, 'gêmea': 6042, 'australia': 6043, 'evelyn': 6044, 'imagina': 6045, 'padeiro': 6046, 'beneficio': 6047, '1283': 6048, 'esquecêlo': 6049, 'tapeçaria': 6050, 'delicada': 6051, 'proveito': 6052, 'despejada': 6053, 'forçada': 6054, 'inspirador': 6055, 'mostram': 6056, 'copinho': 6057, 'jogálo': 6058, 'gucci': 6059, 'conseguiram': 6060, 'lamacenta': 6061, 'gostasse': 6062, 'recebêla': 6063, 'briggs': 6064, 'cowell': 6065, 'tediosamente': 6066, 'senis': 6067, 'fraturas': 6068, 'muletas': 6069, 'distintas': 6070, 'desiste': 6071, 'lisonjeando': 6072, 'inevitáveis': 6073, 'metrópole': 6074, 'desejável': 6075, 'psicológico': 6076, 'atordoado': 6077, 'pólos': 6078, 'adiantado': 6079, 'indesejados': 6080, 'aguente': 6081, 'gelar': 6082, 'ficarem': 6083, 'abrupto': 6084, 'assustei': 6085, 'afastaram': 6086, 'aproximaram': 6087, 'agressores': 6088, 'parabrisa': 6089, 'colares': 6090, 'frias': 6091, 'ativar': 6092, 'cumprimentálo': 6093, 'mostrálos': 6094, 'maliciosa': 6095, 'incluindome': 6096, 'maggie': 6097, 'negligências': 6098, 'italiana': 6099, 'kamuzu': 6100, 'college': 6101, 'nursing': 6102, 'disneyworld': 6103, 'nomeia': 6104, 'maltratou': 6105, 'instabilidade': 6106, 'nikki': 6107, 'mortes': 6108, 'madrinha': 6109, 'enviaram': 6110, 'redesenhou': 6111, 'lançamento': 6112, 'encaixo': 6113, 'lingerie': 6114, 'eretas': 6115, 'vara': 6116, 'excessivamente': 6117, 'etíope': 6118, 'meskerem': 6119, 'considerarei': 6120, 'imec': 6121, 'ingênuas': 6122, 'afetaram': 6123, 'executálo': 6124, 'jimmy': 6125, 'quedas': 6126, '1968': 6127, 'venderam': 6128, 'relutância': 6129, 'leitorado': 6130, 'nevou': 6131, 'cozinhou': 6132, 'leucemia': 6133, 'brincavam': 6134, 'abruptas': 6135, 'chegaria': 6136, 'hiphop': 6137, 'adversidades': 6138, 'tornem': 6139, 'corajosas': 6140, 'rapper': 6141, 'letras': 6142, 'vanilla': 6143, 'adição': 6144, 'falésia': 6145, 'cisnes': 6146, 'baía': 6147, 'ecografia': 6148, 'estratégia': 6149, 'inverter': 6150, 'romantico': 6151, 'desejando': 6152, 'enjoo': 6153, 'respondido': 6154, 'apaguei': 6155, 'porcaria': 6156, 'supersticiosa': 6157, 'glorioso': 6158, 'desanima': 6159, 'bangkok': 6160, 'perseguir': 6161, 'subirmos': 6162, 'proíbe': 6163, 'atraído': 6164, 'escrevêssemos': 6165, 'conversássemos': 6166, 'encontrássemos': 6167, 'corriam': 6168, 'insana': 6169, 'aproximação': 6170, 'ocasionais': 6171, 'crises': 6172, 'amendoins': 6173, 'seven': 6174, 'alegrando': 6175, 'antecipadamente': 6176, 'abusiva': 6177, 'pedilhe': 6178, 'humildemente': 6179, 'usasse': 6180, 'machado': 6181, 'intervieram': 6182, 'aguarda': 6183, 'coincidência': 6184, 'frigobar': 6185, 'sociologia': 6186, 'polinésio': 6187, 'invasões': 6188, 'matinais': 6189, 'luther': 6190, 'reflexo': 6191, 'deficiências': 6192, 'consciente': 6193, 'milênio': 6194, 'rafting': 6195, 'capotou': 6196, 'sugado': 6197, 'lembraria': 6198, 'morou': 6199, 'limpou': 6200, 'escurecer': 6201, 'rastejavam': 6202, 'perturbou': 6203, 'interferia': 6204, 'infundados': 6205, 'uísque': 6206, 'prometi': 6207, 'medem': 6208, 'amerika': 6209, 'mostrado': 6210, 'milagres': 6211, 'imitador': 6212, 'adultério': 6213, 'folhetos': 6214, 'distribuírem': 6215, 'rotina': 6216, 'apostei': 6217, 'convidada': 6218, 'mídia': 6219, 'sequestrada': 6220, 'prender': 6221, 'acalme': 6222, 'incerto': 6223, 'bronzeada': 6224, 'harvey': 6225, 'interestadual': 6226, 'lembrouse': 6227, 'sábia': 6228, 'fear': 6229, 'candidatei': 6230, 'nona': 6231, 'excitado': 6232, 'julho': 6233, 'revêlo': 6234, 'renovar': 6235, 'memórias': 6236, 'colada': 6237, 'noutro': 6238, 'povoado': 6239, 'trenó': 6240, 'rudolph': 6241, 'prancer': 6242, 'casássemos': 6243, 'aberturas': 6244, 'pagava': 6245, 'mensalidades': 6246, 'reunimos': 6247, 'relatou': 6248, 'livraria': 6249, 'amamentar': 6250, 'implicam': 6251, 'definindo': 6252, 'invadimos': 6253, 'angeles': 6254, 'vestida': 6255, 'vistas': 6256, 'africana': 6257, 'cupom': 6258, 'holocausto': 6259, 'rodadas': 6260, 'entrevistas': 6261, 'informaram': 6262, 'rodada': 6263, 'bastar': 6264, 'barulhento': 6265, 'malosa': 6266, 'chafurdava': 6267, 'hugh': 6268, 'encontrada': 6269, 'descobriuse': 6270, 'moveu': 6271, 'bruscamente': 6272, 'carreras': 6273, 'comprometidos': 6274, 'typhoon': 6275, 'deliberação': 6276, 'prateada': 6277, 'tons': 6278, 'trezentos': 6279, 'imerecida': 6280, 'captura': 6281, 'kanishka': 6282, 'procurálo': 6283, 'sairá': 6284, 'financeira': 6285, 'armazenados': 6286, 'mercearia': 6287, 'acreditado': 6288, 'gostem': 6289, 'geladeiras': 6290, 'esquimós': 6291, 'melhora': 6292, 'valorizei': 6293, 'cônjuge': 6294, 'reconfirmei': 6295, 'cederam': 6296, 'fones': 6297, 'jantando': 6298, 'demoradamente': 6299, 'pedirlhe': 6300, 'recomendasse': 6301, 'considerando': 6302, 'escreveume': 6303, 'grupos': 6304, 'têmpora': 6305, 'starbucks': 6306, 'contador': 6307, 'adicionarmos': 6308, '7h30': 6309, 'mexidos': 6310, 'moles': 6311, 'panquecas': 6312, 'leitelho': 6313, 'entendimento': 6314, 'arthurs': 6315, 'pass': 6316, 'granizo': 6317, 'geladas': 6318, 'abismos': 6319, 'íngremes': 6320, 'pendurado': 6321, 'moldura': 6322, 'segurála': 6323, 'demolida': 6324, 'embaraçoso': 6325, 'fixamente': 6326, 'telas': 6327, 'balconista': 6328, 'índio': 6329, 'frequentei': 6330, 'taberna': 6331, 'tutoriais': 6332, 'refletido': 6333, 'nesses': 6334, 'cerimônias': 6335, 'realizadas': 6336, 'redecorou': 6337, 'contratou': 6338, 'comprometedora': 6339, 'acústica': 6340, 'estraga': 6341, 'jennifer': 6342, 'levadas': 6343, 'reuniu': 6344, 'jurou': 6345, 'vazias': 6346, 'conteve': 6347, 'carregando': 6348, 'comprássemos': 6349, 'separadamente': 6350, 'compartilhamento': 6351, 'exnamorada': 6352, 'bobos': 6353, 'abordando': 6354, 'proposital': 6355, 'ciclomotor': 6356, 'vegas': 6357, 'desenvolver': 6358, 'brad': 6359, 'bush': 6360, 'iscas': 6361, 'varas': 6362, 'conectar': 6363, 'disquete': 6364, 'periférica': 6365, 'pensasse': 6366, 'respeitariam': 6367, 'quiserem': 6368, 'ashley': 6369, 'salvador': 6370, 'interessei': 6371, 'implícito': 6372, 'malestar': 6373, 'invadem': 6374, 'conhecessem': 6375, 'operadores': 6376, 'telemarketing': 6377, 'solicitadores': 6378, 'cota': 6379, 'adiantou': 6380, 'filiais': 6381, 'devastadas': 6382, 'atingindo': 6383, 'milha': 6384, 'tocaram': 6385, 'derramadas': 6386, 'sumiu': 6387, 'acadêmicos': 6388, 'limitações': 6389, 'ilimitados': 6390, 'enfermidade': 6391, 'recebamos': 6392, 'secretamente': 6393, 'tragam': 6394, 'procedimentos': 6395, 'formais': 6396, 'invicto': 6397, 'norman': 6398, 'histérico': 6399, 'parlamento': 6400, 'avisenos': 6401, 'expire': 6402, 'superlotadas': 6403, 'ensurdecedor': 6404, 'sacrifícios': 6405, 'repleto': 6406, 'comidas': 6407, 'lados': 6408, 'esperemos': 6409, 'próspero': 6410, 'interrupções': 6411, 'detestálo': 6412, 'romances': 6413, 'dickens': 6414, 'espetacular': 6415, 'odores': 6416, 'apresentandome': 6417, 'gravador': 6418, 'ouvilos': 6419, 'dizerlhe': 6420, 'pretexto': 6421, 'empoeirada': 6422, 'ultrapassar': 6423, 'cerâmica': 6424, 'descobre': 6425, 'roubam': 6426, 'injustificadas': 6427, 'compreender': 6428, 'ferver': 6429, 'duvida': 6430, 'justificativa': 6431, 'relativas': 6432, 'andei': 6433, 'pedimos': 6434, 'dadas': 6435, 'olímpico': 6436, 'asiático': 6437, 'olimpíada': 6438, 'búlgara': 6439, 'sandals': 6440, 'bessie': 6441, 'insatisfeita': 6442, 'anunciam': 6443, 'atendimento': 6444, 'esclarecido': 6445, 'festividades': 6446, 'trocadilho': 6447, 'suítes': 6448, 'testar': 6449, 'camiseta': 6450, 'promessas': 6451, 'procuram': 6452, 'ativos': 6453, 'saldo': 6454, 'breakdancing': 6455, 'avistei': 6456, 'diâmetro': 6457, 'travesseiro': 6458, 'martha': 6459, 'intolerável': 6460, 'esconderam': 6461, 'inquieto': 6462, 'gangues': 6463, 'velozes': 6464, 'opressor': 6465, 'oitocentos': 6466, 'históricos': 6467, 'aumentando': 6468, 'esquiava': 6469, 'squaw': 6470, 'valley': 6471, 'afundaram': 6472, '2012': 6473, 'substituído': 6474, 'participou': 6475, 'pintor': 6476, 'encomendou': 6477, 'apagado': 6478, 'apagamento': 6479, 'macs': 6480, 'telefonaram': 6481, 'louvor': 6482, 'invertido': 6483, 'forçados': 6484, 'colaborar': 6485, 'apreciei': 6486, 'kelly': 6487, 'tataravô': 6488, 'encomenda': 6489, 'tristezas': 6490, 'estadual': 6491, 'sybajaj': 6492, 'varreram': 6493, 'auxilia': 6494, 'comêlo': 6495, 'becky': 6496, 'arquibancadas': 6497, 'pegará': 6498, 'imoral': 6499, 'insuportável': 6500, 'produtiva': 6501, 'contávamos': 6502, 'nice': 6503, 'rotulados': 6504, 'coberturas': 6505, 'digitar': 6506, 'rodeado': 6507, 'riachos': 6508, 'fileiras': 6509, 'estacionados': 6510, 'iate': 6511, 'trazêlo': 6512, 'mona': 6513, 'caracterizaria': 6514, 'aparecesse': 6515, 'reclamamos': 6516, 'defendendo': 6517, 'apoplético': 6518, 'hemiparalisada': 6519, 'futura': 6520, 'nora': 6521, 'inchados': 6522, 'escuras': 6523, 'soltas': 6524, 'eliminar': 6525, 'cansaço': 6526, 'preguiçosa': 6527, 'contavam': 6528, 'revoltantes': 6529, 'caçando': 6530, 'amassadas': 6531, 'moldadas': 6532, 'chalé': 6533, 'lema': 6534, 'forex': 6535, 'mandei': 6536, 'explicando': 6537, 'deslizamento': 6538, 'gottenburg': 6539, 'derivamos': 6540, 'transeunte': 6541, 'decorridas': 6542, 'smelly': 6543, 'toes': 6544, 'eric': 6545, 'cultuado': 6546, 'merecer': 6547, 'condicionais': 6548, 'blogar': 6549, 'demoraram': 6550, 'garçons': 6551, 'recomendou': 6552, 'assado': 6553, 'pretende': 6554, 'frugalidade': 6555, 'economizará': 6556, 'postagem': 6557, 'blusa': 6558, 'beijada': 6559, 'outdoor': 6560, 'desajeitado': 6561, 'cenoura': 6562, 'esforcei': 6563, 'avançado': 6564, 'secador': 6565, 'whirlpool': 6566, 'lager': 6567, 'fabricado': 6568, 'four': 6569, 'chinatown': 6570, 'wrigley': 6571, 'field': 6572, 'pingava': 6573, 'corneta': 6574, 'discriminar': 6575, 'consideraram': 6576, 'sinaliza': 6577, 'ribero': 6578, 'setter': 6579, '6h30': 6580, 'meti': 6581, 'postes': 6582, 'divulgação': 6583, 'divulgada': 6584, 'recémnascido': 6585, 'tornasse': 6586, 'figurante': 6587, 'treinado': 6588, 'comete': 6589, 'ortográficos': 6590, 'moblogging': 6591, 'mobile': 6592, 'blogging': 6593, 'usuários': 6594, 'entradas': 6595, 'dispositivos': 6596, 'bordado': 6597, 'chutado': 6598, 'audições': 6599, 'entristecer': 6600, 'guanggho': 6601, 'caminhado': 6602, 'processuais': 6603, 'dolma': 6604, 'valerie': 6605, 'vestígios': 6606, 'juntarse': 6607, 'vivemos': 6608, 'amêndoas': 6609, 'deleite': 6610, 'dissesse': 6611, 'termino': 6612, 'sierra': 6613, 'nevada': 6614, '3000': 6615, 'atraseime': 6616, 'madruga': 6617, 'divertime': 6618, 'discado': 6619, 'chegaremos': 6620, 'danshui': 6621, 'servi': 6622, 'denunciou': 6623, 'delito': 6624, 'preparava': 6625, 'mística': 6626, 'derreti': 6627, 'omitiu': 6628, 'libras': 6629, 'trivial': 6630, 'intervenção': 6631, 'exprofessor': 6632, 'zalu': 6633, 'iogurte': 6634, 'beach': 6635, 'surfinusa': 6636, 'avassaladora': 6637, 'estragaram': 6638, 'encorajamento': 6639, 'chilumba': 6640, 'faleceram': 6641, 'anexo': 6642, 'superou': 6643, 'surgiram': 6644, 'seguros': 6645, 'escândalos': 6646, 'melbourne': 6647, 'qland': 6648, 'abracei': 6649, 'beliscar': 6650, 'inventou': 6651, 'desespero': 6652, 'compare': 6653, 'folclore': 6654, 'instrutora': 6655, 'tocava': 6656, 'direções': 6657, 'impaciência': 6658, 'score': 6659, 'pendurálo': 6660, 'califórnia': 6661, 'partimos': 6662, 'importavam': 6663, 'remoção': 6664, 'assessoria': 6665, 'horários': 6666, 'hondurenho': 6667, 'desacordo': 6668, 'mostrei': 6669, 'dístico': 6670, 'diamantes': 6671, 'bestseller': 6672, 'imensa': 6673, 'causam': 6674, 'pousou': 6675, 'oposto': 6676, 'acostamento': 6677, 'descia': 6678, 'expulsála': 6679, 'fabricam': 6680, 'permanentemente': 6681, 'roger': 6682, 'bastão': 6683, 'puxei': 6684, 'perguntandose': 6685, 'enguias': 6686, 'invisível': 6687, 'deixarmos': 6688, 'distrito': 6689, 'ferrovia': 6690, 'cênica': 6691, 'recinto': 6692, 'arrepiado': 6693, 'esquia': 6694, 'colóquio': 6695, 'rolante': 6696, 'convulsão': 6697, 'hamster': 6698, 'hannes': 6699, 'misericórdia': 6700, 'injeção': 6701, 'saque': 6702, 'deixamos': 6703, 'gook': 6704, 'desolado': 6705, 'sóciolingüísticas': 6706, 'rebaixado': 6707, 'relaxasse': 6708, 'corações': 6709, 'revelando': 6710, 'contigo': 6711, 'christine': 6712, 'realocado': 6713, 'milímetros': 6714, 'iniciantes': 6715, 'briguinha': 6716, 'evitava': 6717, 'preparamos': 6718, 'perceberia': 6719, 'desmoronou': 6720, 'incontrolavelmente': 6721, 'passouse': 6722, 'inexplicável': 6723, 'concentrarme': 6724, 'berinjela': 6725, 'instituição': 6726, 'freiras': 6727, 'mandavam': 6728, 'vinham': 6729, 'repugnância': 6730, 'agir': 6731, 'escreverei': 6732, 'rural': 6733, 'falhou': 6734, 'fundamento': 6735, 'vendêlo': 6736, 'exsuperiora': 6737, 'interação': 6738, 'limitado': 6739, 'apropriado': 6740, 'desistindo': 6741, 'lamentou': 6742, 'invocando': 6743, 'desproporcionalmente': 6744, 'acarreta': 6745, 'falecendo': 6746, 'dunas': 6747, 'escolherem': 6748, 'naqueles': 6749, 'conduzindo': 6750, 'pacientes': 6751, 'gatinhos': 6752, 'exibe': 6753, 'namorar': 6754, 'esplêndida': 6755, 'cassmate': 6756, 'habilitação': 6757, 'quilômetro': 6758, 'sífilis': 6759, 'resíduos': 6760, 'rugir': 6761, 'debbie': 6762, 'tronco': 6763, 'lait': 6764, 'latte': 6765, 'cappuccino': 6766, 'retos': 6767, 'master': 6768, 'atum': 6769, 'suspeita': 6770, 'redimensionálas': 6771, 'enviálas': 6772, 'tempestuoso': 6773, 'meditação': 6774, 'ligam': 6775, 'pacto': 6776, 'beberia': 6777, 'transformar': 6778, 'humanitariamente': 6779, 'beijálo': 6780, 'enfie': 6781, 'dissecção': 6782, 'preservados': 6783, 'aguarde': 6784, 'receberei': 6785, 'françois': 6786, 'truffaut': 6787, 'aparecia': 6788, 'desumanizador': 6789, 'cabeçada': 6790, 'trampolim': 6791, 'intercultural': 6792, 'conteilhes': 6793, 'pregiudice': 6794, 'dividia': 6795, 'plugue': 6796, 'perturbei': 6797, 'mina': 6798, 'ileso': 6799, 'sofresse': 6800, 'atirei': 6801, 'distribuindo': 6802, 'hesitou': 6803, 'like': 6804, 'saírem': 6805, 'ambivalente': 6806, 'punjab': 6807, 'matavam': 6808, 'agitação': 6809, 'compactos': 6810, 'projetados': 6811, 'duração': 6812, 'irem': 6813, 'deprimentes': 6814, 'juntando': 6815, 'gado': 6816, 'triller': 6817, 'desemprego': 6818, 'pavilhão': 6819, 'desportivo': 6820, 'dynasty': 6821, 'esperaria': 6822, 'confessar': 6823, 'janice': 6824, 'venham': 6825, 'tiramos': 6826, 'cantigas': 6827, 'inevitável': 6828, 'viajassem': 6829, 'music': 6830, 'gare': 6831, 'deploráveis': 6832, 'adiante': 6833, 'disposta': 6834, 'punem': 6835, 'detenção': 6836, 'sobrecarga': 6837, 'encobrilo': 6838, 'suprevisor': 6839, 'temíamos': 6840, 'engravidei': 6841, 'suicidarse': 6842, 'obtinha': 6843, 'pretextos': 6844, 'fervendo': 6845, 'excrementos': 6846, 'crise': 6847, 'indireta': 6848, 'atrasados': 6849, 'insistiram': 6850, 'seguisse': 6851, 'miao': 6852, 'tire': 6853, 'intercontinental': 6854, 'pearl': 6855, 'analisarei': 6856, 'retornarei': 6857, 'choramos': 6858, 'desesperadoramente': 6859, 'desinteressantes': 6860, 'blantyre': 6861, 'radiografias': 6862, 'confirmaram': 6863, 'incisar': 6864, 'cirúrgica': 6865, 'dramática': 6866, 'explica': 6867, 'coincidente': 6868, 'hilário': 6869, 'paranormais': 6870, 'coçando': 6871, 'estiquei': 6872, 'manta': 6873, 'fetais': 6874, 'tornaramse': 6875, 'fracos': 6876, 'fórceps': 6877, 'maximizar': 6878, 'jemmy': 6879, 'redate': 6880, 'flexível': 6881, 'esquecendo': 6882, 'destrancada': 6883, 'tambem': 6884, 'respondia': 6885, 'deixandome': 6886, 'abençoe': 6887, '1500': 6888, 'catering': 6889, 'durar': 6890, 'esfriar': 6891, 'chipata': 6892, 'armazenamento': 6893, 'coisinhas': 6894, 'desatualizada': 6895, 'perspectivas': 6896, 'comparável': 6897, 'constroem': 6898, 'colocam': 6899, 'bruxa': 6900, 'aplaudiu': 6901, 'conceito': 6902, 'nega': 6903, 'raquetes': 6904, 'comêla': 6905, 'restos': 6906, 'caixote': 6907, 'aposta': 6908, 'flácido': 6909, 'chamei': 6910, 'benson': 6911, 'hedges': 6912, 'sairemos': 6913, 'descrevendo': 6914, 'polar': 6915, 'provação': 6916, 'desliguei': 6917, 'farra': 6918, 'telefonado': 6919, 'humilhála': 6920, 'espancála': 6921, 'residências': 6922, 'centros': 6923, 'financeiros': 6924, 'apresentador': 6925, 'tendência': 6926, 'desmaiar': 6927, 'especificamente': 6928, 'vigor': 6929, 'acalentála': 6930, 'pedologia': 6931, 'thai': 6932, 'frito': 6933, 'tamarindo': 6934, 'malagueta': 6935, 'broto': 6936, 'tofu': 6937, 'guarnecido': 6938, 'amendoim': 6939, 'coentro': 6940, 'digestão': 6941, 'kiwis': 6942, 'desejasse': 6943, 'ocorreume': 6944, 'menuhin': 6945, 'descendente': 6946, 'imigrantes': 6947, 'russoamericanos': 6948, 'consciência': 6949, 'juventude': 6950, 'organizadores': 6951, 'entendemos': 6952, 'potencial': 6953, 'luminoso': 6954, 'frequentadores': 6955, 'comparecesse': 6956, 'anoscomo': 6957, 'abortou': 6958, 'livrou': 6959, 'feto': 6960, 'jogandoo': 6961, 'cosméticos': 6962, 'limpadores': 6963, 'hidratantes': 6964, 'convém': 6965, 'elogiaram': 6966, 'trancar': 6967, 'arruaceiros': 6968, 'intrometendo': 6969, 'afogou': 6970, 'river': 6971, 'perderam': 6972, 'quebracabeça': 6973, 'multifuncional': 6974, 'armazenar': 6975, 'gravações': 6976, 'caótica': 6977, 'mauritânia': 6978, 'cala': 6979, 'definhando': 6980, 'experimenteos': 6981, 'graduados': 6982, 'valores': 6983, 'esmagada': 6984, 'pastas': 6985, 'descida': 6986, 'suficientemente': 6987, 'pousamos': 6988, 'embarcamos': 6989, 'disneylândia': 6990, 'mickey': 6991, 'mouse': 6992, 'bien': 6993, 'habeas': 6994, 'espanol': 6995, 'restaurar': 6996, 'harmônico': 6997, 'chanel': 6998, 'sessenta': 6999, 'piscinas': 7000, 'punhado': 7001, 'cozidas': 7002, 'alcançarei': 7003, 'montar': 7004, 'provocada': 7005, 'prejudicada': 7006, 'inflamação': 7007, 'sarou': 7008, 'operálos': 7009, 'bárbara': 7010, 'admitida': 7011, 'terapia': 7012, 'glândulas': 7013, 'linfáticas': 7014, 'peçolhe': 7015, 'invernos': 7016, 'dolorosa': 7017, 'ingênua': 7018, 'avançadas': 7019, 'pressionar': 7020, 'envolvendo': 7021, 'amarrálo': 7022, 'anágua': 7023, 'curvo': 7024, 'carlton': 7025, 'brincou': 7026, 'formiga': 7027, 'viciados': 7028, 'viscoso': 7029, 'reaver': 7030, 'encerrando': 7031, 'adorava': 7032, 'agressiva': 7033, 'sujou': 7034, 'conferencista': 7035, 'detalhadamente': 7036, 'gramáticas': 7037, 'justificar': 7038, 'deitarse': 7039, 'respondidas': 7040, 'podermos': 7041, 'lavamos': 7042, 'kabwe': 7043, 'garotinha': 7044, 'chorava': 7045, 'chamava': 7046, 'caracol': 7047, 'horta': 7048, 'contacto': 7049, 'encheramme': 7050, 'suporte': 7051, 'documento': 7052, 'cuhk': 7053, 'carteiro': 7054, 'pressas': 7055, 'acalmou': 7056, 'puxado': 7057, 'pendurar': 7058, 'cola': 7059, 'notável': 7060, 'controlálo': 7061, 'indiretamente': 7062, 'football': 7063, 'gratificante': 7064, 'ganharíamos': 7065, 'blanca': 7066, 'amanha': 7067, 'protegêlo': 7068, 'derivar': 7069, 'flutuando': 7070, 'capturados': 7071, 'enfiando': 7072, 'tópico': 7073, 'controverso': 7074, 'discordei': 7075, 'argumentei': 7076, 'espetáculo': 7077, 'poesia': 7078, 'profissionalizante': 7079, 'mateus': 7080, 'participado': 7081, 'ativamente': 7082, 'inválido': 7083, 'telefonamos': 7084, 'carlsberg': 7085, 'premiação': 7086, 'retomar': 7087, 'cenas': 7088, 'bertoluchi': 7089, 'coreana': 7090, 'cesariana': 7091, 'sociológica': 7092, 'gabar': 7093, 'copiar': 7094, 'projetada': 7095, 'incluso': 7096, 'pescando': 7097, 'planeja': 7098, 'ressinto': 7099, 'melhore': 7100, 'favorece': 7101, 'gilly': 7102, 'lances': 7103, 'esforçar': 7104, 'compatíveis': 7105, 'potencialidade': 7106, 'edelweiss': 7107, 'maduros': 7108, 'macios': 7109, 'comem': 7110, 'bebem': 7111, 'derramados': 7112, 'navalha': 7113, 'mechwarrior': 7114, 'gráficos': 7115, 'condicionado': 7116, 'alcançável': 7117, 'amiguinho': 7118, 'terminaria': 7119, 'rebatidas': 7120, 'permitidos': 7121, 'banir': 7122, 'costumes': 7123, 'tomadas': 7124, 'precauções': 7125, 'recuso': 7126, 'argumentar': 7127, 'secundários': 7128, 'hostil': 7129, 'obstinado': 7130, 'sangria': 7131, 'hour': 7132, 'biquíni': 7133, 'pregaram': 7134, 'investimento': 7135, 'exato': 7136, 'pagueo': 7137, 'troy': 7138, 'hospedadas': 7139, 'francamente': 7140, 'maldosos': 7141, 'bitchiness': 7142, 'maliciosos': 7143, 'risos': 7144, 'diana': 7145, 'comemorei': 7146, 'vívido': 7147, 'cientes': 7148, 'gravidade': 7149, 'estando': 7150, '1330': 7151, 'backstreet': 7152, 'pica': 7153, 'bloqueadores': 7154, 'brasileiros': 7155, 'anteciparam': 7156, 'bloquear': 7157, 'adequada': 7158, 'círculo': 7159, 'hipoteca': 7160, 'fumei': 7161, 'madrugada': 7162, 'bolos': 7163, 'boeing': 7164, 'cárter': 7165, 'salt': 7166, 'city': 7167, 'justiça': 7168, 'segredos': 7169, 'elucidar': 7170, 'incomodei': 7171, 'largou': 7172, 'inspiração': 7173, 'prepareime': 7174, 'compromissos': 7175, 'transformado': 7176, 'paraplegia': 7177, 'sifilítica': 7178, 'úlceras': 7179, 'ofensivo': 7180, 'simpático': 7181, 'dizeres': 7182, 'reservando': 7183, 'uniformes': 7184, 'mana': 7185, 'inventa': 7186, 'esquema': 7187, 'voluntariado': 7188, 'kristin': 7189, 'maga': 7190, 'powerpoint': 7191, 'merdas': 7192, 'vaidoso': 7193, 'repintando': 7194, 'consultar': 7195, 'fatalmente': 7196, 'feridos': 7197, 'almoçou': 7198, 'celsius': 7199, 'luva': 7200, 'aprecia': 7201, 'desinteressante': 7202, 'fixo': 7203, 'misture': 7204, 'rostos': 7205, 'durma': 7206, 'indeterminado': 7207, 'hostel': 7208, 'registado': 7209, 'fulminante': 7210, 'divorciei': 7211, 'portavoz': 7212, 'desleal': 7213, 'rachel': 7214, 'estilista': 7215, 'confeitaria': 7216, 'devolvidas': 7217, 'procrastinadas': 7218, 'prometa': 7219, 'sentiame': 7220, 'aparelhos': 7221, 'competições': 7222, 'colocação': 7223, 'dormíamos': 7224, 'invadindo': 7225, 'juiz': 7226, 'delirar': 7227, 'bule': 7228, 'mandy': 7229, 'soporificação': 7230, 'encaixam': 7231, 'júlia': 7232, 'roberts': 7233, 'vandalismo': 7234, 'motivação': 7235, 'gerentes': 7236, 'solicitação': 7237, 'acomodação': 7238, 'atribuídos': 7239, 'rucher': 7240, 'influentes': 7241, 'benjamin': 7242, '4945939': 7243, 'temem': 7244, 'parecemos': 7245, 'horrorizado': 7246, 'microbiologia': 7247, 'buracos': 7248, 'placas': 7249, 'estabelecimento': 7250, 'extremidade': 7251, 'bureau': 7252, 'desobedeceu': 7253, 'fingindo': 7254, 'movimentado': 7255, 'maldição': 7256, 'azedo': 7257, 'irresistíveis': 7258, 'superprotetoras': 7259, 'bárbaro': 7260, 'pinto': 7261, 'sentava': 7262, 'pensem': 7263, 'esmagar': 7264, 'urinando': 7265, 'raro': 7266, 'eddy': 7267, 'reorganizamos': 7268, 'companheiros': 7269, 'preocupavam': 7270, 'liam': 7271, 'discutiam': 7272, 'duraria': 7273, 'evitavam': 7274, 'valorizar': 7275, 'juntado': 7276, 'observava': 7277, 'consultálos': 7278, 'diminuíam': 7279, 'comunitários': 7280, 'soado': 7281, 'robert': 7282, 'okay': 7283, 'ingestão': 7284, 'bebe': 7285, 'xarope': 7286, 'frutose': 7287, 'showroom': 7288, 'receberá': 7289, 'sofisticados': 7290, 'esportista': 7291, 'desejei': 7292, 'toquei': 7293, 'implodi': 7294, 'reprovados': 7295, 'ofegavam': 7296, 'masturbavam': 7297, 'espancada': 7298, 'humilhada': 7299, 'jatos': 7300, 'praticante': 7301, 'tree': 7302, 'good': 7303, 'mimarse': 7304, 'estatísticas': 7305, 'assustarme': 7306, 'transmissão': 7307, 'maçaneta': 7308, 'sobressalente': 7309, 'sintonizar': 7310, 'párachoque': 7311, 'brinquedo': 7312, 'previram': 7313, 'comeríamos': 7314, 'sumido': 7315, 'greg': 7316, 'dutton': 7317, 'sparrow': 7318, 'nadando': 7319, 'memorizando': 7320, 'elogiálo': 7321, 'avaliação': 7322, 'cavalgando': 7323, 'florestal': 7324, 'fumegantes': 7325, 'cambaleando': 7326, 'roçar': 7327, 'envio': 7328, 'espelho': 7329, 'visitado': 7330, 'dominado': 7331, 'reações': 7332, 'perguntandome': 7333, 'meta': 7334, 'imaginando': 7335, 'sorriu': 7336, 'brilho': 7337, 'encontrará': 7338, 'sarcasmo': 7339, 'comemorações': 7340, 'embrulhe': 7341, 'duvidaram': 7342, 'matálos': 7343, 'galo': 7344, 'drinks': 7345, 'meritíssimo': 7346, 'procissão': 7347, 'penitente': 7348, 'tendencioso': 7349, 'apagão': 7350, 'incitou': 7351, 'disposição': 7352, 'cisne': 7353, 'aquático': 7354, 'melancólica': 7355, 'ferias': 7356, 'influenciar': 7357, 'devidos': 7358, 'mimoh': 7359, 'mentalidade': 7360, 'galão': 7361, 'acrônimo': 7362, 'abraço': 7363, 'concordei': 7364, 'ignorei': 7365, 'princípios': 7366, 'extravagante': 7367, 'didático': 7368, 'caíram': 7369, 'surdos': 7370, 'sobrevivemos': 7371, 'arrependido': 7372, 'praticam': 7373, 'qigong': 7374, 'vivem': 7375, 'caçapas': 7376, 'enviarmos': 7377, 'harry': 7378, 'hospedamos': 7379, 'agente': 7380, 'louvre': 7381, 'maleducado': 7382, 'respeita': 7383, 'interpretou': 7384, 'ladrilhos': 7385, 'encomendar': 7386, 'clique': 7387, 'beneficiários': 7388, 'queixas': 7389, 'editar': 7390, 'navegador': 7391, 'farmhouse': 7392, 'receberia': 7393, 'alternativo': 7394, 'tesoura': 7395, 'desbaste': 7396, 'kingdom': 7397, 'sérias': 7398, 'nojentas': 7399, 'jornaleiro': 7400, 'mostro': 7401, 'penúltimo': 7402, 'secções': 7403, 'empregadores': 7404, 'dedicação': 7405, 'incompetente': 7406, 'insultaram': 7407, 'indelicados': 7408, 'coreiajizhou': 7409, 'castor': 7410, 'tíquete': 7411, 'impresso': 7412, 'citeme': 7413, 'fóbica': 7414, 'elevadores': 7415, 'piora': 7416, 'masturbando': 7417, 'gerona': 7418, 'camas': 7419, 'desconfortáveis': 7420, 'essencialmente': 7421, 'gerenciamento': 7422, 'procrastinando': 7423, 'voltará': 7424, 'babando': 7425, 'preenchendo': 7426, 'calculadora': 7427, 'batia': 7428, 'cavalheiro': 7429, 'subornar': 7430, 'andamento': 7431, 'recusa': 7432, 'temperamento': 7433, 'detestável': 7434, 'senilidade': 7435, 'mimada': 7436, 'liberaram': 7437, 'soubemos': 7438, 'psicologicamente': 7439, 'admiravam': 7440, 'desenfreado': 7441, 'desesperança': 7442, 'desconsolação': 7443, 'civil': 7444, 'encaixe': 7445, 'acariciavam': 7446, 'compreenda': 7447, 'ridícula': 7448, 'juros': 7449, 'ensopado': 7450, 'honrados': 7451, 'estuprar': 7452, 'solta': 7453, 'processála': 7454, 'provocações': 7455, 'bullying': 7456, 'recebesse': 7457, 'curtíssimo': 7458, 'padrinhos': 7459, 'terrina': 7460, 'odioso': 7461, 'melanie': 7462, 'brincávamos': 7463, 'nutritivo': 7464, 'manda': 7465, 'equipado': 7466, 'pianos': 7467, 'machão': 7468, 'bambinos': 7469, 'declararam': 7470, 'triunfal': 7471, 'janerik': 7472, 'wikstr': 7473, 'intoxicação': 7474, 'serial': 7475, 'subornando': 7476, 'sobressalentes': 7477, 'rebecca': 7478, 'abadia': 7479, 'westminster': 7480, 'enterradas': 7481, 'isaac': 7482, 'newton': 7483, 'matemático': 7484, 'winston': 7485, 'churchill': 7486, 'voadora': 7487, 'caiba': 7488, 'retorno': 7489, 'penthouse': 7490, 'caseime': 7491, 'economizou': 7492, 'prédios': 7493, 'vazios': 7494, 'machucála': 7495, 'montanhasrussas': 7496, 'kathleen': 7497, 'sopé': 7498, 'leste': 7499, 'enormes': 7500, 'incensário': 7501, 'perfumada': 7502, 'respeitam': 7503, 'exibicionista': 7504, 'espécies': 7505, 'florescendo': 7506, 'vier': 7507, 'qianmen': 7508, 'cortadas': 7509, 'impressionaram': 7510, 'manterá': 7511, 'rasgue': 7512, 'moderando': 7513, 'vejam': 7514, 'infundadas': 7515, 'saberá': 7516, 'enganadas': 7517, 'questionaríamos': 7518, 'suspeitei': 7519, 'pãozinho': 7520, 'preparálo': 7521, 'jing': 7522, 'dong': 7523, 'estressado': 7524, 'desenvolvimentos': 7525, 'empolgantes': 7526, 'amorosa': 7527, 'verões': 7528, 'criticado': 7529, 'competente': 7530, 'menstruou': 7531, 'band': 7532, 'cajadada': 7533, '6789777': 7534, 'mendigo': 7535, 'poltergeist': 7536, 'wellington': 7537, 'formam': 7538, 'discordar': 7539, 'pensavam': 7540, 'desfaria': 7541, 'filmar': 7542, 'reorganizados': 7543, 'organizados': 7544, 'reorganizaram': 7545, 'roubála': 7546, 'assistiam': 7547, 'impediam': 7548, 'finança': 7549, 'incutir': 7550, 'toefl': 7551, 'tornará': 7552, 'escorregava': 7553, 'rastro': 7554, 'atores': 7555, 'parti': 7556, 'aprenderá': 7557, 'admissões': 7558, 'cumulativa': 7559, 'assustálo': 7560, 'mancou': 7561, 'aproximeime': 7562, 'informei': 7563, 'princípio': 7564, 'entupido': 7565, 'abusavam': 7566, 'transportar': 7567, 'oxford': 7568, 'estratégias': 7569, 'peninsula': 7570, 'fotografias': 7571, 'ganancioso': 7572, 'precipício': 7573, 'bainha': 7574, 'baixou': 7575, 'bonecas': 7576, 'nordeste': 7577, 'oferecido': 7578, 'antihigiênico': 7579, 'antihigiênica': 7580, 'relutante': 7581, 'tacada': 7582, 'empurre': 7583, 'katherine': 7584, 'sashimi': 7585, 'importamos': 7586, 'relíquias': 7587, 'paralisada': 7588, 'engravidou': 7589, 'brinquedos': 7590, 'importam': 7591, 'prudential': 7592, 'campeão': 7593, 'desejada': 7594, 'abandonado': 7595, 'desenhado': 7596, 'idiomas': 7597, 'parabenizaram': 7598, 'impedido': 7599, 'socálo': 7600, 'ovelhas': 7601, 'lavanderia': 7602, 'encantadora': 7603, 'adoravel': 7604, 'falante': 7605, 'guardasse': 7606, 'holanda': 7607, 'dançávamos': 7608, 'estabelecido': 7609, 'aterrorizou': 7610, 'expulsou': 7611, 'desisto': 7612, 'moderada': 7613, 'joelho': 7614, 'yastrebetz': 7615, 'búlgaro': 7616, 'integraram': 7617, 'agradeceu': 7618, 'sentimental': 7619, 'atira': 7620, 'quarteirão': 7621, 'bandido': 7622, 'armado': 7623, 'probabilidades': 7624, 'jackpot': 7625, 'semestres': 7626, 'looks': 7627, 'frequentar': 7628, 'escute': 7629, 'anote': 7630, 'detalhados': 7631, 'consequência': 7632, 'reprimir': 7633, 'saudade': 7634, 'yeuks': 7635, 'apare': 7636, 'sobrancelhas': 7637, 'servisse': 7638, 'provocoua': 7639, 'utilizou': 7640, 'psych': 7641, 'modos': 7642, 'turista': 7643, 'talentosa': 7644, 'compositora': 7645, 'leslie': 7646, 'laura': 7647, 'passarmos': 7648, 'ausentar': 7649, 'pepino': 7650, 'bancada': 7651, 'suspeito': 7652, 'filtrada': 7653, 'purificada': 7654, 'latimer': 7655, 'ralos': 7656, 'esticar': 7657, 'confirmada': 7658, 'power': 7659, 'conversão': 7660, 'corta': 7661, 'grava': 7662, 'segmentos': 7663, 'cria': 7664, 'apanhando': 7665, 'começaríamos': 7666, 'junk': 7667, 'cruzeiros': 7668, 'cumprimentei': 7669, 'descaradas': 7670, 'irrevogavelmente': 7671, 'genetice': 7672, 'elétricos': 7673, 'nãofumantes': 7674, 'exercito': 7675, 'adivinhei': 7676, 'esconda': 7677, 'cobrimos': 7678, 'acirrada': 7679, 'tequila': 7680, 'suicidar': 7681, '20000': 7682, 'negociálo': 7683, 'fragrant': 7684, 'vistase': 7685, 'casualmente': 7686, 'maiô': 7687, 'atuei': 7688, 'inglesa': 7689, 'contatálo': 7690, '19831984': 7691, 'cercados': 7692, 'ameaçados': 7693, 'paramilitares': 7694, 'gols': 7695, 'internato': 7696, 'andy': 7697, 'judy': 7698, 'matricular': 7699, 'conduzir': 7700, 'científicas': 7701, 'genes': 7702, 'descoberta': 7703, 'amou': 7704, 'ressentimento': 7705, 'instruções': 7706, 'arrepiou': 7707, 'sangrenta': 7708, '19900': 7709, 'destilada': 7710, '2h30': 7711, 'vigilância': 7712, 'contribuirá': 7713, 'nacionalidade': 7714, 'indisposto': 7715, 'enlatados': 7716, 'rocha': 7717, 'baltimore': 7718, 'derrotou': 7719, 'escorria': 7720, 'emthis': 7721, 'tiroteio': 7722, 'deitamos': 7723, 'voadoras': 7724, 'patrulhas': 7725, 'rodésia': 7726, 'empurrei': 7727, 'falarem': 7728, 'imaturo': 7729, 'bombeiro': 7730, 'recitar': 7731, 'textos': 7732, 'aborrece': 7733, 'torturando': 7734, 'avaliar': 7735, 'enterrados': 7736, 'lojinha': 7737, 'dezenas': 7738, 'prémio': 7739, 'cachoeiras': 7740, 'enlouquecido': 7741, 'nomear': 7742, 'convidála': 7743, 'pronunciar': 7744, 'beterraba': 7745, 'cooper': 7746, 'consigamos': 7747, 'faculdades': 7748, 'negligenciou': 7749, 'zombar': 7750, 'tirava': 7751, 'fotocópias': 7752, 'volumes': 7753, 'aceitável': 7754, 'modernos': 7755, 'tardar': 7756, 'negociador': 7757, 'afirma': 7758, 'recreativo': 7759, 'necrófilo': 7760, 'zoofílico': 7761, 'estuprou': 7762, 'administra': 7763, 'examinei': 7764, 'panfletos': 7765, 'incluídos': 7766, 'exportações': 7767, 'criativa': 7768, 'adoeciam': 7769, 'aquecendo': 7770, 'orçamentos': 7771, 'qualidades': 7772, 'brigado': 7773, 'acelerei': 7774, 'movi': 7775, 'praticantes': 7776, 'inúteis': 7777, 'bisavô': 7778, 'cutie': 7779, 'estatuto': 7780, 'corar': 7781, 'insinuandose': 7782, 'escalão': 7783, 'enterro': 7784, '2001': 7785, 'zhengjun': 7786, 'ínterim': 7787, 'cerda': 7788, 'carregador': 7789, 'contribuirei': 7790, 'atualize': 7791, 'despreocupados': 7792, 'prático': 7793, 'convencionais': 7794, 'conseguirmos': 7795, 'carpete': 7796, 'hard': 7797, 'rockers': 7798, 'equipados': 7799, 'puramente': 7800, 'vulgares': 7801, 'setenta': 7802, 'beijando': 7803, 'cozinhei': 7804, 'medidor': 7805, 'planejou': 7806, 'tramando': 7807, 'recorrer': 7808, 'idades': 7809, 'ajudei': 7810, 'expliquei': 7811, 'sacudindo': 7812, 'aluguéis': 7813, 'furtiva': 7814, 'viscosa': 7815, 'lapa': 7816, 'ambulantes': 7817, 'malvestidos': 7818, 'conservada': 7819, 'alongamento': 7820, 'estagnadas': 7821, 'calçar': 7822, 'borracha': 7823, 'rodando': 7824, 'reprovaram': 7825, 'iniciou': 7826, 'complexa': 7827, 'referente': 7828, 'rompido': 7829, 'roxo': 7830, 'ataques': 7831, 'sucessivos': 7832, 'esquilo': 7833, 'deduções': 7834, 'somamse': 7835, 'traremos': 7836, 'tóquio': 7837, 'kyoto': 7838, 'armadilhas': 7839, 'ásperas': 7840, 'molhei': 7841, 'postar': 7842, 'mesquinhos': 7843, 'fumavam': 7844, 'brigavam': 7845, 'destruíram': 7846, 'turística': 7847, 'campbell': 7848, 'monstros': 7849, 'alegramos': 7850, 'pesquei': 7851, 'pulôveres': 7852, 'amassado': 7853, 'claros': 7854, 'convincente': 7855, 'convencidos': 7856, 'oração': 7857, 'ndirande': 7858, 'chirimba': 7859, 'covardes': 7860, 'abençoado': 7861, 'medula': 7862, 'sinos': 7863, 'mesinhas': 7864, 'imaginado': 7865, 'encontrava': 7866, 'declarado': 7867, 'tomate': 7868, 'florista': 7869, 'portadora': 7870, 'temendo': 7871, 'repreensões': 7872, 'minoria': 7873, 'prejudicar': 7874, 'falassem': 7875, 'deixassem': 7876, 'bebezinho': 7877, 'altofalante': 7878, 'filadélfia': 7879, 'densa': 7880, 'brinque': 7881, 'conhecerte': 7882, 'oferecemos': 7883, 'envioume': 7884, 'solte': 7885, 'freio': 7886, 'incompreendido': 7887, 'impulsivo': 7888, 'cutucoume': 7889, 'infinito': 7890, 'ignoro': 7891, 'fração': 7892, 'ameacei': 7893, 'esmurrálo': 7894, 'podar': 7895, 'sebe': 7896, 'adivinhe': 7897, 'designou': 7898, 'prazos': 7899, 'aproximam': 7900, 'artísticos': 7901, 'varrendo': 7902, 'avisandome': 7903, 'arranjarme': 7904, 'recusandose': 7905, 'dora': 7906, 'seriors': 7907, 'ajudado': 7908, 'atenciosa': 7909, 'rígida': 7910, 'acariciar': 7911, 'mova': 7912, 'estique': 7913, 'rigidamente': 7914, 'xingou': 7915, 'aquário': 7916, 'pagaria': 7917, 'necessária': 7918, 'montanhismo': 7919, 'complementar': 7920, 'recuperei': 7921, 'avisou': 7922, 'interrompia': 7923, 'moída': 7924, 'entediar': 7925, 'monopoliza': 7926, 'estreito': 7927, 'confrontados': 7928, 'rosnando': 7929, 'exigindo': 7930, 'hospitalizado': 7931, 'subsequente': 7932, 'acompanhada': 7933, 'erva': 7934, 'tiquetaque': 7935, 'recuperar': 7936, 'dinamite': 7937, 'mensalidade': 7938, 'atrapalhando': 7939, 'delirando': 7940, 'magoou': 7941, 'isolou': 7942, 'punho': 7943, 'jantava': 7944, 'lembrando': 7945, 'tomava': 7946, 'academicamente': 7947, 'mudeime': 7948, 'short': 7949, 'sussurrando': 7950, 'entendêlo': 7951, 'corro': 7952, 'acaricia': 7953, 'sopra': 7954, 'traduz': 7955, 'invoco': 7956, 'versículos': 7957, 'divertirei': 7958, 'profissionalizantes': 7959, 'pontual': 7960, 'prepararnos': 7961, 'surras': 7962, 'qualificar': 7963, 'seguradoras': 7964, 'madame': 7965, 'tussaud': 7966, 'dançava': 7967, 'suaves': 7968, 'licores': 7969, 'aplicativo': 7970, 'cobrou': 7971, 'lembreime': 7972, 'desafinado': 7973, 'caímos': 7974, 'gargalhada': 7975, 'canas': 7976, 'alcançamos': 7977, 'pósvenda': 7978, 'saberei': 7979, 'pegálo': 7980, 'vidrados': 7981, 'grite': 7982, 'nieghbours': 7983, 'chamaram': 7984, 'provocaram': 7985, 'explicava': 7986, 'enfrentava': 7987, 'irritação': 7988, 'acuseio': 7989, 'reviravolta': 7990, 'apaixonando': 7991, 'verônica': 7992, 'destruir': 7993, 'campanha': 7994, 'sabotar': 7995, 'autocarro': 7996, 'bago': 7997, 'isca': 7998, 'iniciei': 7999, 'sossego': 8000, 'inscreveu': 8001, 'cooperativa': 8002, 'inscrevi': 8003, 'distanciamento': 8004, 'irracionais': 8005, 'surreal': 8006, 'agenda': 8007, 'apertada': 8008, 'destilados': 8009, 'lembraram': 8010, 'marcas': 8011, 'óbvias': 8012, 'velhice': 8013, 'morro': 8014, 'sinais': 8015, 'carimbo': 8016, 'pagas': 8017, 'songshan': 8018, 'brunos': 8019, 'coceira': 8020, 'tonto': 8021, 'discotecas': 8022, 'agridoce': 8023, 'calmante': 8024, 'prometendo': 8025, 'taças': 8026, 'adicionadas': 8027, 'secar': 8028, 'derrubálos': 8029, 'joey': 8030, 'armazenálos': 8031, 'lounge': 8032, 'habitação': 8033, 'tílias': 8034, 'habitantes': 8035, 'pisos': 8036, 'namorei': 8037, 'exagerou': 8038, 'entregues': 8039, 'paramilitar': 8040, 'lacrimogéneo': 8041, 'intimidar': 8042, 'libertado': 8043, 'milo': 8044, 'energética': 8045, 'alegrar': 8046, 'demorei': 8047, 'judicial': 8048, 'sapato': 8049, 'atirado': 8050, 'atraída': 8051, 'conhecendo': 8052, 'precisou': 8053, 'overdose': 8054, 'pílulas': 8055, 'entregávamos': 8056, 'julgamentos': 8057, 'arden': 8058, 'qualificações': 8059, 'comsomol': 8060, 'snoop': 8061, 'dogg': 8062, 'unida': 8063, 'trouxeram': 8064, 'jackolanterna': 8065, 'seguranças': 8066, 'subquestões': 8067, 'decepcionálo': 8068, 'choramingando': 8069, 'tradicionalmente': 8070, 'comemorado': 8071, 'irritavam': 8072, 'metiam': 8073, 'tingidas': 8074, 'bernie': 8075, 'corresponderam': 8076, 'punindo': 8077, 'diagnósticos': 8078, 'ignorância': 8079, 'durará': 8080, 'windsurf': 8081, 'asfixia': 8082, 'emergindo': 8083, 'putrefação': 8084, 'apresso': 8085, 'kith': 8086, 'preferimos': 8087, 'bayer': 8088, 'jump': 8089, 'cloisonne': 8090, 'gostemos': 8091, 'cinemas': 8092, 'bucky': 8093, 'card': 8094, 'ingressando': 8095, 'economizarem': 8096, 'brooks': 8097, 'concluído': 8098, 'familiarizou': 8099, 'revigorante': 8100, 'entrevistar': 8101, 'examinada': 8102, 'especialistas': 8103, 'justificava': 8104, 'saberemos': 8105, 'nocauteado': 8106, 'recluso': 8107, 'ajudamos': 8108, 'resolvemos': 8109, 'floricultura': 8110, 'teclado': 8111, 'dobrável': 8112, 'reconhecimento': 8113, 'manual': 8114, 'préinstalado': 8115, 'bacalhau': 8116, 'mascotes': 8117, 'olímpicas': 8118, 'moscou': 8119, 'recordes': 8120, 'fuvest': 8121, 'faroeste': 8122, 'cowboys': 8123, 'índios': 8124, 'colonizadores': 8125, 'club': 8126, 'soda': 8127, 'obrigadoer': 8128, 'abajur': 8129, 'competidora': 8130, 'eiffel': 8131, 'micropower': 8132, 'fazêla': 8133, 'caller': 8134, 'namoro': 8135, 'ursinhos': 8136, 'acreditam': 8137, 'servia': 8138, 'cansou': 8139, 'mobília': 8140, 'chutei': 8141, 'atrevido': 8142, 'lutamos': 8143, 'sugar': 8144, 'revestimento': 8145, 'forsythia': 8146, 'jasmim': 8147, 'mata': 8148, 'slakers': 8149, 'vagando': 8150, 'bambu': 8151, 'bancadas': 8152, 'granito': 8153, 'combinando': 8154, 'pensionista': 8155, 'arrotar': 8156, 'sussurrei': 8157, 'esquisito': 8158, 'estejas': 8159, '9000': 8160, 'compareceram': 8161, 'regiões': 8162, 'selecionadas': 8163, 'lshs': 8164, 'conhecimentos': 8165, 'atualizados': 8166, 'dirijo': 8167, 'máquinas': 8168, 'confiáveis': 8169, 'fracassados': 8170, 'abrevie': 8171, 'vampiro': 8172, 'exibido': 8173, 'concedido': 8174, 'craque': 8175, 'tempinho': 8176, 'combine': 8177, 'baixar': 8178, 'macia': 8179, 'suculenta': 8180, 'cítrico': 8181, 'mergulhei': 8182, 'tvavni': 8183, 'fidgi': 8184, 'tolerante': 8185, 'sujando': 8186, 'caibam': 8187, 'sugere': 8188, 'incesto': 8189, 'zina': 8190, 'frasco': 8191, 'arrastando': 8192, 'atacassem': 8193, 'roubassem': 8194, 'apaixona': 8195, 'superestimarem': 8196, 'arcondicionado': 8197, 'organizarmos': 8198, 'relaxarem': 8199, 'wong': 8200, 'preferia': 8201, 'lanchinho': 8202, 'consistentes': 8203, 'amostra': 8204, 'discussões': 8205, 'encaracolado': 8206, 'afro': 8207, 'importarão': 8208, 'subornado': 8209, 'crescido': 8210, 'espiritualmente': 8211, 'orei': 8212, 'incenso': 8213, 'obtivesse': 8214, 'importei': 8215, 'enche': 8216, 'permite': 8217, 'aproximem': 8218, 'maldosa': 8219, 'avaliada': 8220, 'indicou': 8221, 'anormal': 8222, 'inconscientes': 8223, 'confundido': 8224, 'aguardamos': 8225, 'antecipada': 8226, 'confiamos': 8227, 'inquilinos': 8228, 'recolhido': 8229, 'adiaram': 8230, 'yale': 8231, 'usual': 8232, 'repreensão': 8233, 'abuso': 8234, 'mútuos': 8235, 'tapinhas': 8236, 'fumou': 8237, 'tranças': 8238, 'perdoável': 8239, 'tentaremos': 8240, 'sweetheart': 8241, 'adotando': 8242, 'exigiu': 8243, 'obrigados': 8244, 'lindsay': 8245, 'recomendála': 8246, 'registo': 8247, 'inglesas': 8248, 'recomendálo': 8249, 'graciosamente': 8250, 'vendoa': 8251, 'indira': 8252, 'ghandi': 8253, 'pensávamos': 8254, 'miséria': 8255, 'impera': 8256, 'amam': 8257, 'oradora': 8258, 'ausentou': 8259, 'vermos': 8260, 'infectado': 8261, 'daninhas': 8262, 'fragmento': 8263, 'evidência': 8264, 'condenar': 8265, 'sobrou': 8266, 'esfaquear': 8267, 'lousa': 8268, 'metas': 8269, 'insidiosamente': 8270, 'cagar': 8271, 'discordou': 8272, 'afastou': 8273, 'incomodava': 8274, 'contornamos': 8275, 'limpálo': 8276, 'subestime': 8277, 'desempenham': 8278, 'refrescante': 8279, 'evidentes': 8280, 'pepinos': 8281, 'tomates': 8282, 'cebolas': 8283, 'pimentão': 8284, 'errar': 8285, 'beringelas': 8286, 'cogumelos': 8287, 'aspargos': 8288, 'grelhe': 8289, 'ligeiramente': 8290, 'azeite': 8291, 'casuais': 8292, 'malhas': 8293, 'vestuário': 8294, 'freios': 8295, 'festivo': 8296, 'montamos': 8297, 'redobrar': 8298, 'negociação': 8299, 'mereceu': 8300, 'permitirá': 8301, 'viciado': 8302, 'sugeriram': 8303, 'daguins': 8304, 'respeitavam': 8305, 'agitar': 8306, 'harris': 8307, 'misteriosamente': 8308, 'causarlhes': 8309, 'mantenhase': 8310, 'encaixar': 8311, 'ignoreo': 8312, 'instalações': 8313, 'prendendo': 8314, 'impediu': 8315, 'álgebra': 8316, 'param': 8317, 'descongela': 8318, 'obra': 8319, 'requintada': 8320, 'tybsc': 8321, 'tensamente': 8322, 'passatempo': 8323, 'crueldades': 8324, 'prisões': 8325, 'sulistas': 8326, 'detalhadas': 8327, 'addison': 8328, 'estudou': 8329, 'jenson': 8330, 'suspeitamos': 8331, 'nashville': 8332, 'leilão': 8333, 'revelam': 8334, 'desgostava': 8335, 'aproveitou': 8336, 'apanhador': 8337, 'penduradas': 8338, 'náuseas': 8339, 'placenta': 8340, 'sangrei': 8341, 'psiquiátrico': 8342, 'podese': 8343, 'dependente': 8344, 'freelancer': 8345, 'mercadoria': 8346, 'compressor': 8347, 'rolou': 8348, 'intactas': 8349, 'cascas': 8350, 'gostavam': 8351, 'comprálos': 8352, 'tage': 8353, 'danielsson': 8354, 'pretendemos': 8355, 'igualdade': 8356, 'rasa': 8357, 'flutuador': 8358, 'vestes': 8359, 'suzie': 8360, 'privados': 8361, 'cashmere': 8362, 'explorada': 8363, 'economicamente': 8364, 'mantenhao': 8365, 'visite': 8366, 'dentária': 8367, 'agradecelo': 8368, 'banha': 8369, 'migalhas': 8370, 'avental': 8371, 'surgindo': 8372, 'superálos': 8373, 'sobremesas': 8374, 'brilharem': 8375, 'celibatário': 8376, 'proibia': 8377, 'estritamente': 8378, 'ferir': 8379, 'aplicação': 8380, 'desaparecem': 8381, 'colhendo': 8382, 'doíam': 8383, 'prestando': 8384, 'huanhuan': 8385, 'atura': 8386, 'agência': 8387, 'patrocinadora': 8388, 'promoverem': 8389, 'étnico': 8390, 'janus': 8391, 'dedicado': 8392, 'avisálo': 8393, 'chateadas': 8394, 'concederlhe': 8395, 'residente': 8396, 'milionésima': 8397, 'almoçava': 8398, 'gravetos': 8399, 'espantados': 8400, 'lembrança': 8401, 'intimação': 8402, 'abordagem': 8403, 'admite': 8404, 'preocupados': 8405, 'fariam': 8406, 'ajudo': 8407, 'pesadas': 8408, 'concordássemos': 8409, 'ajudaríamos': 8410, 'pudim': 8411, 'farmacêutico': 8412, 'hostis': 8413, 'desarmaremos': 8414, 'embalar': 8415, 'salsbury': 8416, 'acabem': 8417, 'descobertos': 8418, 'hanson': 8419, 'excolegas': 8420, 'livrei': 8421, 'nissan': 8422, 'sentaria': 8423, 'sombria': 8424, 'ameaçadora': 8425, 'denunciei': 8426, 'petrificado': 8427, 'concentrava': 8428, 'designara': 8429, 'aliás': 8430, 'dongle': 8431, 'respirando': 8432, 'realizando': 8433, 'enviando': 8434, 'ambulância': 8435, 'bobagens': 8436, 'varria': 8437, 'despejei': 8438, 'obedeceu': 8439, 'vencendo': 8440, 'uttar': 8441, 'pradesh': 8442, 'fundas': 8443, 'ruidosa': 8444, 'tribo': 8445, 'iniciamos': 8446, 'ensinou': 8447, 'mereça': 8448, 'traíram': 8449, 'levandoos': 8450, 'delicadas': 8451, 'repetindo': 8452, 'seguem': 8453, 'racionalizar': 8454, 'persuadilos': 8455, 'poliram': 8456, 'regent': 8457, 'incomode': 8458, 'fizera': 8459, 'incomodaram': 8460, 'ajudasse': 8461, 'chuvosa': 8462, 'pretendido': 8463, 'qualificálo': 8464, 'lembrarme': 8465, 'chatas': 8466, 'mexicana': 8467, 'brinquem': 8468, 'canteiros': 8469, 'destruam': 8470, 'barbear': 8471, 'rente': 8472, 'mario': 8473, 'missparker': 8474, 'pronúncia': 8475, 'granola': 8476, 'violando': 8477, 'protegido': 8478, 'resultava': 8479, 'molestando': 8480, 'irlandesa': 8481, 'ling': 8482, 'maltratados': 8483, 'reconhecido': 8484, 'insignificante': 8485, 'ocorrido': 8486, 'queixo': 8487, 'erguido': 8488, 'hepatite': 8489, 'sensível': 8490, 'boston': 8491, 'provoquei': 8492, 'certificar': 8493, 'pirulitos': 8494, 'gotas': 8495, 'quebradiça': 8496, 'toffee': 8497, 'traidor': 8498, 'malvado': 8499, 'absoluta': 8500, 'acumulado': 8501, 'sobrenome': 8502, 'provocava': 8503, 'friozinho': 8504, 'barriga': 8505, 'fiação': 8506, 'disjuntores': 8507, 'continuam': 8508, 'devolva': 8509, 'corporal': 8510, 'buda': 8511, 'ponteiro': 8512, 'barra': 8513, 'colorido': 8514, 'injustificadamente': 8515, 'preparativos': 8516, 'acusar': 8517, 'europeu': 8518, 'revidar': 8519, 'carol': 8520, 'preocupo': 8521, 'assino': 8522, 'periódicos': 8523, 'alienar': 8524, 'be407': 8525, 'esperem': 8526, 'saguão': 8527, 'jogue': 8528, 'vislumbrei': 8529, 'rido': 8530, 'changsha': 8531, 'coisinha': 8532, 'cutuquei': 8533, 'quebrálo': 8534, 'realizarem': 8535, 'resida': 8536, 'aliviados': 8537, 'apresentada': 8538, 'geléia': 8539, 'calda': 8540, 'controversa': 8541, 'seguintes': 8542, 'acrofobia': 8543, 'crônico': 8544, 'starscom': 8545, 'maçantes': 8546, 'enfrenta': 8547, 'glamour': 8548, 'fatia': 8549, 'sublocação': 8550, 'batemos': 8551, 'serviram': 8552, 'couveflor': 8553, 'assada': 8554, 'perderiam': 8555, 'despejou': 8556, 'divida': 8557, 'permitirei': 8558, 'adega': 8559, 'agredindo': 8560, 'defesa': 8561, 'resumir': 8562, 'piscar': 8563, 'ensineme': 8564, 'marstrand': 8565, 'pilar': 8566, 'logan': 8567, 'escondendo': 8568, 'foguete': 8569, 'espirituais': 8570, 'emocionais': 8571, 'atendidas': 8572, 'cumpre': 8573, 'conversam': 8574, 'soneca': 8575, 'apontando': 8576, 'malvados': 8577, 'internação': 8578, 'restringiu': 8579, 'trazidos': 8580, 'mataria': 8581, 'dançantes': 8582, 'irreais': 8583, 'tatuagem': 8584, 'maquiar': 8585, 'perguntoume': 8586, 'encaixou': 8587, 'deixaria': 8588, 'interrompêlos': 8589, 'lançamentos': 8590, 'decolou': 8591, 'humilhando': 8592, 'ofendendo': 8593, 'suposto': 8594, 'ouviram': 8595, 'caribe': 8596, 'cirurgião': 8597, 'colocála': 8598, 'nocivos': 8599, 'estourar': 8600, 'aquecedor': 8601, 'vigário': 8602, 'apertou': 8603, 'saudação': 8604, 'eletrônico': 8605, 'charmoso': 8606, 'seymour': 8607, 'allan': 8608, 'passes': 8609, 'mira': 8610, 'exigentes': 8611, 'abordado': 8612, 'escolhida': 8613, 'perdoado': 8614, 'baseia': 8615, 'incondicionalmente': 8616, 'perdão': 8617, 'azeitonas': 8618, 'sobrenatural': 8619, 'secundário': 8620, 'mágico': 8621, 'planejo': 8622, 'goleiro': 8623, 'dignidade': 8624, 'propuslhe': 8625, 'aborígine': 8626, 'adotada': 8627, 'racismo': 8628, 'estressar': 8629, 'tratálo': 8630, 'reclama': 8631, 'servida': 8632, 'diagnosticar': 8633, 'tios': 8634, 'nutricional': 8635, 'alimentálo': 8636, 'labrador': 8637, 'shepard': 8638, 'depositar': 8639, 'turbulência': 8640, 'levanteime': 8641, 'amarrados': 8642, 'soltos': 8643, 'aproximassem': 8644, 'leon': 8645, 'proporcionou': 8646, 'adequasse': 8647, 'subúrbio': 8648, 'queens': 8649, 'experimental': 8650, 'lorin': 8651, 'maazel': 8652, 'nobel': 8653, 'sedoso': 8654, 'exclusivo': 8655, 'alegava': 8656, 'defensiva': 8657, 'soldados': 8658, 'uvas': 8659, 'tedioso': 8660, 'façam': 8661, 'entendesse': 8662, 'repreendiam': 8663, 'limitada': 8664, 'exaustivamente': 8665, 'atuar': 8666, 'faltava': 8667, 'marcada': 8668, 'pastor': 8669, 'latiu': 8670, 'cobicei': 8671, 'recíprocos': 8672, '12h30': 8673, 'prejudicando': 8674, 'respondendo': 8675, 'incidentes': 8676, 'lateral': 8677, 'piorou': 8678, 'desligaram': 8679, 'permaneci': 8680, 'pertencíamos': 8681, 'pôrdosol': 8682, 'pulsação': 8683, 'acendeu': 8684, 'apagou': 8685, 'pastando': 8686, 'ordenhálos': 8687, 'operálo': 8688, 'guardiã': 8689, 'discuti': 8690, 'pings': 8691, 'maravilhado': 8692, 'compraram': 8693, 'substituir': 8694, 'sonharia': 8695, 'cortes': 8696, 'abertos': 8697, 'absurdas': 8698, 'carcaça': 8699, 'decodifiquem': 8700, 'clone': 8701, 'domínio': 8702, 'convidando': 8703, 'demonstração': 8704, 'bund': 8705, 'podido': 8706, 'logoff': 8707, 'global': 8708, 'preocupam': 8709, 'econômicas': 8710, 'amasse': 8711, 'expresso': 8712, 'inevitavelmente': 8713, 'extremos': 8714, 'entendoe': 8715, 'sociável': 8716, 'garantiu': 8717, 'implicado': 8718, 'incompetência': 8719, 'ovelha': 8720, 'cavalos': 8721, 'burros': 8722, 'estábulo': 8723, 'doméstico': 8724, 'souberam': 8725, 'travesso': 8726, 'legalmente': 8727, 'palavrinha': 8728, 'inteligência': 8729, 'sábados': 8730, 'quadras': 8731, 'juntese': 8732, 'cela': 8733, 'jacob': 8734, 'suportável': 8735, 'sutis': 8736, 'mostarda': 8737, 'maionese': 8738, 'ketchup': 8739, 'caviar': 8740, 'triângulos': 8741, 'gerenciáveis': 8742, 'manchem': 8743, 'sullivan': 8744, 'concorrendo': 8745, 'maori': 8746, 'intensamente': 8747, 'examinadores': 8748, 'malhumorada': 8749, 'polly': 8750, 'racial': 8751, 'arruinar': 8752, 'britânicos': 8753, 'artistas': 8754, 'criminosos': 8755, 'realeza': 8756, 'delhi': 8757, 'confirmando': 8758, 'atribuído': 8759, 'vizinhança': 8760, 'escorregar': 8761, 'verdadeiramente': 8762, 'necessariamente': 8763, 'abóbora': 8764, 'purê': 8765, 'recheio': 8766, 'botânico': 8767, 'repulsiva': 8768, 'rotterdam': 8769, 'assaltos': 8770, 'andamos': 8771, 'distante': 8772, 'caverna': 8773, 'profundidade': 8774, 'oxigênio': 8775, 'diminuiu': 8776, 'ameaçadoramente': 8777, 'mergulhadores': 8778, 'inflamada': 8779, 'postal': 8780, 'avançando': 8781, 'trancos': 8782, 'barrancos': 8783, 'dinâmica': 8784, 'cotovelos': 8785, 'erguidos': 8786, 'teclas': 8787, 'merecesse': 8788, 'consigam': 8789, 'convocados': 8790, 'exaltação': 8791, 'manobra': 8792, 'eliminado': 8793, 'visitandoa': 8794, 'apareça': 8795, 'aniversariante': 8796, 'comunicamos': 8797, 'inspirado': 8798, 'desligue': 8799, 'concluída': 8800, 'boxing': 8801, 'jogarem': 8802, 'investindo': 8803, 'recursos': 8804, 'possibilidades': 8805, 'descobertas': 8806, 'arrasa': 8807, 'maxine': 8808, 'noventa': 8809, 'cafona': 8810, 'sophia': 8811, 'sola': 8812, 'enviada': 8813, 'inspetor': 8814, 'risadas': 8815, 'enrugado': 8816, 'carter': 8817, 'egoisticamente': 8818, 'devoção': 8819, 'impulsos': 8820, 'ilegal': 8821, 'obtêm': 8822, 'bufê': 8823, 'cowley': 8824, 'aprovaram': 8825, 'inadequado': 8826, 'aterrissagem': 8827, 'diligente': 8828, 'dica': 8829, 'sentiremos': 8830, 'justin': 8831, 'fixar': 8832, 'intimidante': 8833, 'disselhes': 8834, 'capítulo': 8835, 'anger': 8836, 'imoralidade': 8837, 'palestrantes': 8838, 'coréia': 8839, 'morteiros': 8840, 'jipe': 8841, 'cruzei': 8842, 'raivosa': 8843, 'ventilador': 8844, 'tambor': 8845, 'limo': 8846, 'casey': 8847, 'corresponde': 8848, 'triangular': 8849, 'cricket': 8850, 'oralmente': 8851, 'greves': 8852, 'revolucionários': 8853, 'terremotos': 8854, 'terminaram': 8855, 'estuprando': 8856, 'filmando': 8857, 'empurrar': 8858, 'violenta': 8859, 'injustiças': 8860, 'petiscos': 8861, 'calendário': 8862, 'impressionada': 8863, 'meryl': 8864, 'streep': 8865, 'mandibular': 8866, 'detetives': 8867, 'zumbi': 8868, 'interessa': 8869, 'despachada': 8870, 'mamba': 8871, 'esquisita': 8872, 'trapaceiro': 8873, 'cadeia': 8874, 'marcia': 8875, 'tioavô': 8876, 'laços': 8877, 'biológicos': 8878, 'cumprimentou': 8879, 'muda': 8880, 'antiguidade': 8881, 'sprite': 8882, 'escrevesse': 8883, 'caça': 8884, 'negligenciar': 8885, 'estante': 8886, 'guiada': 8887, 'esperançoso': 8888, 'executálos': 8889, 'dallas': 8890, 'cereais': 8891, 'muesli': 8892, 'light': 8893, 'webber': 8894, 'eindhoven': 8895, 'hernan': 8896, 'nitsche': 8897, 'abusivo': 8898, 'discriminam': 8899, 'moramos': 8900, 'terminamos': 8901, 'comprem': 8902, 'usará': 8903, 'testemunhamos': 8904, 'cotidiana': 8905, 'arrastaram': 8906, 'transformados': 8907, 'polpa': 8908, 'apanhados': 8909, 'batedores': 8910, 'espancados': 8911, 'emma': 8912, 'biografia': 8913, 'schmidt': 8914, 'aquecido': 8915, 'coreanos': 8916, 'cultural': 8917, 'soche': 8918, 'perderem': 8919, 'rumo': 8920, 'fugiram': 8921, 'alegrias': 8922, 'ethan': 8923, 'mármore': 8924, 'túmulo': 8925, 'revestidas': 8926, 'gemas': 8927, 'esmeraldas': 8928, 'fivelake': 8929, 'strict': 8930, 'wall': 8931, 'exitus': 8932, 'dominantes': 8933, 'matilha': 8934, 'alsacianos': 8935, 'bloqueada': 8936, 'descrevem': 8937, 'cantam': 8938, 'pornografia': 8939, 'redigido': 8940, 'violação': 8941, 'barb': 8942, 'srdean': 8943, 'projetado': 8944, 'designers': 8945, 'compacto': 8946, 'dolorosamente': 8947, 'barulhentas': 8948, 'kandala': 8949, 'expressava': 8950, 'proximidade': 8951, 'assombrada': 8952, 'guarusa': 8953, 'transmitir': 8954, 'ansiosa': 8955, 'seita': 8956, 'religiosa': 8957, 'converter': 8958, 'truques': 8959, 'malignos': 8960, 'verifico': 8961, 'engordando': 8962, 'filtros': 8963, 'polarizadores': 8964, 'associando': 8965, 'beidaihe': 8966, 'gelado': 8967, 'congelariam': 8968, 'loiros': 8969, 'artesanato': 8970, 'básica': 8971, 'filmadora': 8972, 'contraparte': 8973, 'digitalmente': 8974, 'bebezão': 8975, 'prancha': 8976, 'kaohsiung': 8977, 'escrúpulos': 8978, 'cúmulo': 8979, 'laqueado': 8980, 'incorretamente': 8981, 'habilidosos': 8982, 'escoltar': 8983, 'começaremos': 8984, 'aplicável': 8985, 'cozidos': 8986, 'acessível': 8987, 'kenvir': 8988, 'amáveis': 8989, 'união': 8990, 'aceitariam': 8991, 'berlim': 8992, 'luapula': 8993, 'golo': 8994, 'conforme': 8995, 'reembolsado': 8996, 'maresia': 8997, 'salgada': 8998, 'interessadas': 8999, 'louça': 9000, 'acumular': 9001, 'separássemos': 9002, 'adequados': 9003, 'smoking': 9004, 'consecutivos': 9005, 'flutuamos': 9006, 'barítono': 9007, 'nijegen': 9008, 'devolveu': 9009, 'sobrevivido': 9010, 'popularidade': 9011, 'notálo': 9012, 'cuidamos': 9013, 'apressado': 9014, 'ecoando': 9015, 'crepitantes': 9016, 'bruxas': 9017, 'criatura': 9018, 'derrubou': 9019, 'ovni': 9020, 'leveme': 9021, 'garoar': 9022, 'indignado': 9023, 'imparcialidade': 9024, 'árbitros': 9025, 'irritaram': 9026, 'concordávamos': 9027, 'fred': 9028, 'estupradas': 9029, 'enervou': 9030, 'séptica': 9031, 'folheando': 9032, 'homossexuais': 9033, 'hóquei': 9034, 'cadete': 9035, 'armadas': 9036, 'nomeados': 9037, 'aluga': 9038, 'prestei': 9039, 'intensivo': 9040, 'insônia': 9041, 'ocasional': 9042, 'esfrie': 9043, 'imóvel': 9044, 'passavam': 9045, 'ciganos': 9046, 'tentavam': 9047, 'fisguei': 9048, 'kitwe': 9049, 'percebeu': 9050, 'cativantes': 9051, 'escova': 9052, 'cuspe': 9053, 'prósperos': 9054, 'dogmático': 9055, 'tremiam': 9056, 'treinando': 9057, 'discordamos': 9058, 'talak': 9059, 'panter': 9060, 'samosas': 9061, 'daal': 9062, 'relaxássemos': 9063, 'brancas': 9064, 'cuida': 9065, 'higiene': 9066, 'oleado': 9067, 'bagunçada': 9068, 'devolvia': 9069, 'refrigerante': 9070, 'iluminação': 9071, 'desceremos': 9072, 'organizada': 9073, 'passeava': 9074, 'defecasse': 9075, 'jogadas': 9076, 'órgãos': 9077, 'genitais': 9078, 'curálo': 9079, 'judeus': 9080, 'alemanha': 9081, 'nazista': 9082, 'livrorelatório': 9083, 'começado': 9084, 'fadiga': 9085, 'presumir': 9086, 'passaríamos': 9087, 'automaticamente': 9088, 'perseguição': 9089, 'créditos': 9090, 'pierce': 9091, 'brosnan': 9092, 'vergonhoso': 9093, 'imprimirei': 9094, 'perseguiam': 9095, 'carteiras': 9096, 'arrastadas': 9097, 'tremor': 9098, 'desocupar': 9099, 'ocupando': 9100, 'ocupar': 9101, 'hemorragias': 9102, 'intoxicadas': 9103, 'duvidosas': 9104, 'ecoativistas': 9105, 'manifestaramse': 9106, 'danúbio': 9107, 'várzea': 9108, 'adiálo': 9109, 'precisávamos': 9110, 'joes': 9111, 'falas': 9112, 'abraçar': 9113, 'tapinha': 9114, 'surpresas': 9115, 'implicadas': 9116, 'jaqueta': 9117, 'politécnico': 9118, 'entusiasmado': 9119, 'fernando': 9120, 'alonso': 9121, 'assume': 9122, 'socializo': 9123, 'bato': 9124, 'invenções': 9125, 'costumamos': 9126, 'decora': 9127, 'separálos': 9128, 'taverna': 9129, 'inspiradas': 9130, 'finlandeses': 9131, 'explodem': 9132, 'esquecem': 9133, 'contentamento': 9134, 'acorde': 9135, 'dorminhoco': 9136, 'venezuelana': 9137, 'aspirar': 9138, 'sectários': 9139, 'chocantes': 9140, 'privado': 9141, 'transforma': 9142, 'compreendido': 9143, 'estudarmos': 9144, 'prestarmos': 9145, 'memorização': 9146, 'meteorologista': 9147, 'tornarmos': 9148, 'taijiquan': 9149, 'esgrima': 9150, 'wushu': 9151, 'entranhas': 9152, 'porteiro': 9153, 'devolveremos': 9154, 'deixame': 9155, 'herdam': 9156, 'peculiar': 9157, 'marcados': 9158, 'telefonasse': 9159, 'senhoria': 9160, 'vomitado': 9161, 'subo': 9162, 'apostas': 9163, 'procurado': 9164, 'renoválo': 9165, 'substância': 9166, 'pegajosa': 9167, 'vinagre': 9168, 'cidra': 9169, 'jogála': 9170, 'revelou': 9171, 'inconsistente': 9172, 'luminosos': 9173, 'acariciava': 9174, 'adormecida': 9175, 'reprimidos': 9176, 'identificar': 9177, 'quebrasse': 9178, 'entusiástica': 9179, 'esbarrou': 9180, 'agarrar': 9181, 'descrença': 9182, 'ausentes': 9183, 'esnobe': 9184, 'verifica': 9185, 'tomarmos': 9186, 'convideio': 9187, 'prateleira': 9188, 'tapetes': 9189, 'gostosas': 9190, 'maquilhagem': 9191, 'afetaria': 9192, 'usurpados': 9193, 'coproprietários': 9194, 'ralph': 9195, 'cortiça': 9196, 'desligou': 9197, 'fusível': 9198, 'aproveitadores': 9199, 'arrojado': 9200, 'acreditarão': 9201, 'destaca': 9202, 'organizações': 9203, 'meticulosa': 9204, 'rigor': 9205, 'puniu': 9206, 'intoleráveis': 9207, 'didáticos': 9208, 'avança': 9209, 'doentio': 9210, 'degustação': 9211, 'trade': 9212, 'towers': 9213, 'chang': 9214, 'associado': 9215, 'interessados': 9216, 'arrumei': 9217, 'jantei': 9218, 'mentindo': 9219, 'organizo': 9220, 'escalação': 9221, 'possam': 9222, 'incomodadas': 9223, 'esquecidas': 9224, 'surgiu': 9225, 'egocêntrica': 9226, 'soco': 9227, 'refrescar': 9228, 'pagamos': 9229, 'definimos': 9230, 'obrigarem': 9231, 'tagarelam': 9232, 'reclamam': 9233, 'chegarei': 9234, 'assar': 9235, 'atreve': 9236, 'duvidar': 9237, 'manuais': 9238, 'batizado': 9239, 'bravos': 9240, 'mole': 9241, 'delinquentes': 9242, 'calado': 9243, 'futuras': 9244, 'insano': 9245, 'nuts': 9246, 'wacko': 9247, 'psicopata': 9248, 'simboliza': 9249, 'durmo': 9250, 'visível': 9251, 'focar': 9252, 'apressadamente': 9253, 'mostreo': 9254, 'investidores': 9255, 'preliminar': 9256, 'assembleia': 9257, 'visitante': 9258, 'violentos': 9259, 'nojentos': 9260, 'aceitado': 9261, 'estalando': 9262, 'arrotando': 9263, 'castigo': 9264, 'arranhões': 9265, 'ameaçaram': 9266, 'refugiados': 9267, 'famintos': 9268, 'salva': 9269, 'beldade': 9270, 'moblog': 9271, 'eufemismo': 9272, 'vocêmikemike': 9273, 'recompensou': 9274, 'globos': 9275, 'nestes': 9276, 'ramos': 9277, 'falecer': 9278, 'alça': 9279, 'alumínio': 9280, 'termais': 9281, 'elementares': 9282, 'margens': 9283, 'tamisa': 9284, 'estátua': 9285, 'boadicea': 9286, 'assistem': 9287, 'ouvem': 9288, 'consolidar': 9289, 'cuidadosamente': 9290, 'culturas': 9291, 'enviarei': 9292, 'fazendose': 9293, 'barrigas': 9294, 'chute': 9295, 'constatação': 9296, 'candidateime': 9297, 'conselheiro': 9298, 'galso': 9299, 'minorias': 9300, 'publicação': 9301, 'trimestral': 9302, 'publicados': 9303, 'jess': 9304, 'lucrar': 9305, 'marinheiros': 9306, 'tradições': 9307, 'fornecimento': 9308, 'zesco': 9309, 'camelo': 9310, 'pirâmides': 9311, 'repetilo': 9312, 'ressuscitação': 9313, 'cardiopulmonar': 9314, 'angie': 9315, 'acordálo': 9316, 'soprar': 9317, 'selvageria': 9318, 'seguiríamos': 9319, 'demorará': 9320, 'notará': 9321, 'mainstream': 9322, 'escutar': 9323, 'travando': 9324, 'entrevistado': 9325, 'cabeças': 9326, 'mordida': 9327, 'palmas': 9328, 'suadas': 9329, 'mendoza': 9330, 'deserto': 9331, 'fatura': 9332, 'funções': 9333, 'perturbadas': 9334, 'encontreme': 9335, 'divertiremos': 9336, 'sports': 9337, 'realizados': 9338, 'psiquiátricos': 9339, 'frieza': 9340, 'sinceridade': 9341, 'hospitais': 9342, 'shadowboxing': 9343, 'dick': 9344, 'aplicada': 9345, 'pools': 9346, 'privilegiada': 9347, 'desleais': 9348, 'enterrando': 9349, 'tragédia': 9350, 'station': 9351, 'mochileiro': 9352, 'limite': 9353, 'voltássemos': 9354, 'duvidava': 9355, 'probabilidade': 9356, 'justificada': 9357, 'cometeram': 9358, 'operadas': 9359, 'envergonhados': 9360, 'semáforos': 9361, 'ambientes': 9362, 'impuros': 9363, 'deitados': 9364, 'fritou': 9365, 'fajita': 9366, 'envoltório': 9367, 'assinarmos': 9368, 'venoso': 9369, 'introduzi': 9370, 'punção': 9371, 'inchaço': 9372, 'pedira': 9373, 'negligência': 9374, 'dividiu': 9375, 'obtivemos': 9376, 'lemos': 9377, 'urinou': 9378, 'músicatítulo': 9379, 'chou': 9380, 'incurável': 9381, 'substituíla': 9382, 'separo': 9383, 'circle': 9384, 'stuart': 9385, 'broca': 9386, 'produzindo': 9387, 'curtametragem': 9388, 'extravagantes': 9389, 'ganharão': 9390, 'pedem': 9391, 'educar': 9392, 'fabulosas': 9393, 'havaí': 9394, 'préuniversidade': 9395, 'exemplar': 9396, 'despencando': 9397, 'beijei': 9398, 'atlas': 9399, 'rússia': 9400, 'vasto': 9401, 'provável': 9402, 'levantará': 9403, 'seguidas': 9404, 'colecionava': 9405, 'amarela': 9406, 'pace': 9407, 'west': 9408, 'hang': 9409, 'pairgirl': 9410, 'banheira': 9411, 'revisar': 9412, 'entregálo': 9413, 'laválos': 9414, 'mastercard': 9415, 'superam': 9416, 'desvantagens': 9417, 'vendeu': 9418, 'únicos': 9419, 'garantida': 9420, 'visito': 9421, 'desperdiçando': 9422, 'creme': 9423, 'inspeção': 9424, 'capturar': 9425, 'check': 9426, 'mate': 9427, 'cortarei': 9428, 'doff': 9429, 'infecção': 9430, 'mostre': 9431, 'fingir': 9432, 'informálo': 9433, 'código': 9434, 'dígitos': 9435, 'tecla': 9436, 'sustenido': 9437, 'selecione': 9438, 'opção': 9439, 'selecionou': 9440, 'carregamento': 9441, 'evidentemente': 9442, 'manuseio': 9443, 'brusco': 9444, 'infelizes': 9445, 'divertia': 9446, 'transnacional': 9447, 'canoagem': 9448, 'ventos': 9449, 'talentoso': 9450, 'reencontrei': 9451, 'interrompiamme': 9452, 'tona': 9453, 'urina': 9454, 'chamasse': 9455, 'sucumbir': 9456, 'menosprezou': 9457, 'sozinhas': 9458, 'barreira': 9459, 'bach': 9460, 'chapados': 9461, 'beliches': 9462, 'escapamos': 9463, 'coreano': 9464, 'equilibrar': 9465, 'turísticas': 9466, 'assediou': 9467, 'apavoraram': 9468, 'faciais': 9469, 'zombando': 9470, 'provocando': 9471, 'obstáculos': 9472, 'atravessar': 9473, 'anuais': 9474, 'ganhos': 9475, 'mensais': 9476, 'excederam': 9477, 'comprimir': 9478, 'subjugada': 9479, 'odiava': 9480, 'revelador': 9481, 'ritz': 9482, 'constatado': 9483, 'autorização': 9484, 'conseguila': 9485, 'fotografia': 9486, 'louise': 9487, 'rumphi': 9488, 'repetição': 9489, 'slogans': 9490, 'racistas': 9491, 'fixaram': 9492, 'ec110': 9493, 'assistimos': 9494, 'pudessem': 9495, 'existir': 9496, 'pisando': 9497, 'prego': 9498, 'enferrujado': 9499, 'tétano': 9500, 'sincronia': 9501, 'sexista': 9502, 'esquiadores': 9503, 'austríacos': 9504, 'entrarmos': 9505, 'perigosas': 9506, 'aversão': 9507, 'aconselhamento': 9508, 'imputa': 9509, 'negativas': 9510, 'servilidade': 9511, 'conexões': 9512, 'traços': 9513, 'latidos': 9514, 'noturnos': 9515, 'circulando': 9516, 'inspirou': 9517, 'lucros': 9518, 'ajudaria': 9519, 'cortamos': 9520, 'aparamos': 9521, 'cavalgar': 9522, 'europeus': 9523, 'queimaroupa': 9524, 'bebi': 9525, 'ressaca': 9526, 'promove': 9527, 'crescimento': 9528, 'vísceras': 9529, 'nervosos': 9530, 'importado': 9531, 'atrasando': 9532, 'camponês': 9533, 'bocado': 9534, 'bétele': 9535, 'ventando': 9536, 'verificado': 9537, 'envergonhar': 9538, 'destaques': 9539, 'patrocino': 9540, 'guardião': 9541, 'sarcásticos': 9542, 'rebocando': 9543, 'rikkonen': 9544, 'voltas': 9545, 'confidencialmente': 9546, 'confirmado': 9547, 'declarados': 9548, 'permitiume': 9549, 'sentirme': 9550, 'legitimamente': 9551, 'derramada': 9552, 'mancha': 9553, 'murcharia': 9554, 'tradutora': 9555, 'pingar': 9556, 'válvula': 9557, 'defeituosa': 9558, 'dirija': 9559, 'doendo': 9560, 'partiremos': 9561, 'inadequadas': 9562, 'funcionárias': 9563, 'chamandonos': 9564, 'balanço': 9565, 'vertical': 9566, 'donna': 9567, 'vitalidade': 9568, 'cosmopolita': 9569, 'coloqueo': 9570, 'aspirador': 9571, 'originais': 9572, 'desfalcando': 9573, 'suprimentos': 9574, 'reivindicando': 9575, 'louças': 9576, 'pendura': 9577, 'puxou': 9578, 'desci': 9579, 'indefinido': 9580, 'assistíamos': 9581, 'pegos': 9582, 'pragas': 9583, 'lamentamos': 9584, 'gama': 9585, 'gorjetas': 9586, 'superando': 9587, 'arrumam': 9588, 'cestas': 9589, 'rodoviária': 9590, 'viemos': 9591, 'preparese': 9592, 'apresenta': 9593, 'tornaremos': 9594, 'puros': 9595, 'prefeitura': 9596, 'kasungu': 9597, 'esquis': 9598, 'ralharam': 9599, 'acusa': 9600, 'jubileu': 9601, 'ajuste': 9602, 'iluminálos': 9603, 'organizei': 9604, 'levantava': 9605, 'respeitou': 9606, 'entenderia': 9607, 'surpreender': 9608, 'injúria': 9609, 'desobedecem': 9610, 'explicou': 9611, 'provoque': 9612, 'pescadores': 9613, 'pegam': 9614, 'gaivotas': 9615, 'anzol': 9616, 'demorando': 9617, 'eternidade': 9618, 'navegação': 9619, 'espinhos': 9620, 'reclamei': 9621, 'noticiários': 9622, 'golfinhos': 9623, 'nadadores': 9624, 'rápidos': 9625, 'baladas': 9626, 'boates': 9627, 'conversas': 9628, 'falasse': 9629, 'explodiria': 9630, 'comunicar': 9631, 'lisonjeiro': 9632, 'indicação': 9633, 'fôdo': 9634, 'preferir': 9635, 'complicadas': 9636, 'arranhar': 9637, 'riscada': 9638, 'catherine': 9639, 'zetajones': 9640, 'impacientemente': 9641, 'senado': 9642, 'dizendome': 9643, 'moucos': 9644, 'barganhou': 9645, 'barras': 9646, 'bisbilhotam': 9647, 'destinado': 9648, 'dependesse': 9649, 'incorreta': 9650, 'obtido': 9651, 'expressaria': 9652, 'adversária': 9653, 'despertou': 9654, 'término': 9655, 'entenderiam': 9656, 'causei': 9657, 'desanime': 9658, 'levantouse': 9659, 'ocupou': 9660, 'envolvida': 9661, 'hospitaleira': 9662, 'pornográfica': 9663, 'apresentava': 9664, 'defecando': 9665, 'conteilhe': 9666, 'aceitasse': 9667, 'acabasse': 9668, 'mobilado': 9669, 'pormenores': 9670, 'submeter': 9671, 'ruptura': 9672, 'aliviou': 9673, 'carregado': 9674, 'carregavam': 9675, 'colhem': 9676, 'esquiam': 9677, 'quebrada': 9678, 'guardaroupas': 9679, 'olhava': 9680, 'vencêlo': 9681, 'proibiu': 9682, 'malentendido': 9683, 'acreditando': 9684, 'incorporação': 9685, 'castração': 9686, 'mostrada': 9687, 'cansados': 9688, 'divertiram': 9689, 'rímel': 9690, 'instante': 9691, 'visualizálo': 9692, 'caramba': 9693, 'aprovada': 9694, 'amando': 9695, 'virtualmente': 9696, 'perturbador': 9697, 'vidros': 9698, 'movia': 9699, 'reagiria': 9700, 'sobra': 9701, 'reencontrar': 9702, 'recolhendo': 9703, 'sacolas': 9704, 'expectativa': 9705, 'sarro': 9706, 'espichadas': 9707, 'caçadores': 9708, 'brutalmente': 9709, 'gráfico': 9710, 'órfã': 9711, 'desfigurada': 9712, 'hiroshima': 9713, 'converso': 9714, 'popidol': 9715, 'garanhão': 9716, 'função': 9717, 'noticia': 9718, 'casados': 9719, 'abalado': 9720, 'acreditarem': 9721, 'insultam': 9722, 'molduras': 9723, 'sofreram': 9724, 'engravidado': 9725, 'arranhada': 9726, 'voltarmos': 9727, 'elaborado': 9728, 'caldo': 9729, 'legalizar': 9730, 'cassinos': 9731, 'viesse': 9732, 'cobriria': 9733, '2333318828': 9734, 'tom861gmailcom': 9735, 'rascunho': 9736, 'reescrever': 9737, 'eloqüente': 9738, 'latim': 9739, 'custará': 9740, 'mencionarei': 9741, 'celebração': 9742, 'precisando': 9743, 'ousaria': 9744, 'cópia': 9745, 'ferryboat': 9746, 'daquilo': 9747, 'agradecêlo': 9748, 'generosa': 9749, 'granada': 9750, 'chelston': 9751, 'transando': 9752, 'vitimado': 9753, 'apropriada': 9754, 'imediata': 9755, 'convenientemente': 9756, 'eletrônicas': 9757, 'identificação': 9758, 'permitido': 9759, 'entrem': 9760, 'sorvo': 9761, 'cotovia': 9762, 'preenchido': 9763, 'classes': 9764, 'aprendendo': 9765, 'newhouse': 9766, 'vertigo': 9767, 'chutada': 9768, 'rufiões': 9769, 'darlhes': 9770, 'salvar': 9771, 'darlhe': 9772, 'ultraje': 9773, 'contribuintes': 9774, 'administradas': 9775, 'falidas': 9776, 'produziu': 9777, 'manto': 9778, 'vasculhar': 9779, 'mishanga': 9780, 'rouboume': 9781, 'entram': 9782, 'simulados': 9783, 'rasgaria': 9784, 'ofendido': 9785, 'visitála': 9786, 'teimosa': 9787, 'tocamos': 9788, 'clímax': 9789, 'semáforo': 9790, 'decapitação': 9791, 'distribuí': 9792, 'sobrecarregado': 9793, 'derivações': 9794, 'corrigilo': 9795, 'refletisse': 9796, 'detectou': 9797, '20h30': 9798, 'víamos': 9799, 'aleijado': 9800, 'trapos': 9801, 'impostor': 9802, 'abdômen': 9803, 'intoxicados': 9804, 'incitam': 9805, 'levantasse': 9806, 'tanzânia': 9807, 'existia': 9808, 'revelação': 9809, 'socialista': 9810, 'pensões': 9811, 'relacionálo': 9812, 'sartre': 9813, 'nauste': 9814, 'embotamento': 9815, 'autoconfiante': 9816, 'aprendemos': 9817, 'sangramento': 9818, 'resmungando': 9819, 'contígua': 9820, 'quarteto': 9821, 'nicklaus': 9822, 'habitualmente': 9823, 'copulava': 9824, 'inertes': 9825, 'tática': 9826, 'boicote': 9827, 'sulafricano': 9828, 'primário': 9829, 'conduzidos': 9830, 'urgentemente': 9831, 'mandaram': 9832, 'soprava': 9833, 'cumprido': 9834, 'cardriver': 9835, 'inter': 9836, 'thing': 9837, 'carpenter': 9838, 'pegandoa': 9839, 'danificar': 9840, 'envergonhou': 9841, 'tremer': 9842, 'verona': 9843, 'deramnos': 9844, 'aida': 9845, 'fascínio': 9846, 'representação': 9847, 'arena': 9848, 'soma': 9849, 'dolorido': 9850, 'mágoas': 9851, 'termostato': 9852, 'apaixonamos': 9853, 'estreia': 9854, 'ullevi': 9855, 'tratos': 9856, 'servidor': 9857, 'criminoso': 9858, 'vasa': 9859, 'aparecimento': 9860, 'prontosocorro': 9861, 'inchar': 9862, 'pátios': 9863, 'parecerem': 9864, 'desabafar': 9865, '15000': 9866, 'deparamos': 9867, 'gentis': 9868, 'opunha': 9869, 'apareceriam': 9870, 'facas': 9871, 'esvaziei': 9872, 'recipientes': 9873, 'latrinas': 9874, 'caminhões': 9875, 'enfrentando': 9876, 'campeãs': 9877, 'single': 9878, 'breasted': 9879, 'aventureiro': 9880, 'wayne': 9881, 'tutores': 9882, 'mudarse': 9883, 'green': 9884, 'trapacear': 9885, 'musculares': 9886, 'perderei': 9887, 'equipara': 9888, 'mecânicos': 9889, 'cansativa': 9890, 'apelido': 9891, 'empurram': 9892, 'hooray': 9893, 'birdies': 9894, 'disfarce': 9895, 'compralo': 9896, 'distorções': 9897, 'distorcidos': 9898, 'encanamento': 9899, 'criatividade': 9900, 'pediramme': 9901, 'mangochi': 9902, 'afundar': 9903, 'escravos': 9904, 'adorado': 9905, 'robôs': 9906, 'consulte': 9907, 'esculturas': 9908, 'olarias': 9909, 'áudio': 9910, 'tornandose': 9911, 'avisarei': 9912, 'contratempos': 9913, 'desigual': 9914, 'incentivado': 9915, 'grosseria': 9916, 'stora': 9917, 'hissingen': 9918, 'saltar': 9919, 'tocam': 9920, 'protegidos': 9921, 'competentes': 9922, 'imposto': 9923, 'valerefeição': 9924, 'infração': 9925, 'boletim': 9926, 'life': 9927, 'combinada': 9928, 'retornado': 9929, 'apaixonados': 9930, 'confrontei': 9931, 'conflitantes': 9932, 'cinematografia': 9933, 'dramáticas': 9934, 'visual': 9935, 'trilha': 9936, 'sonora': 9937, '6265551739': 9938, 'dizse': 9939, 'píton': 9940, 'baobá': 9941, 'apaixono': 9942, 'sorvetes': 9943, 'voou': 9944, 'caddie': 9945, 'subiu': 9946, 'localizálo': 9947, 'traumática': 9948, 'safena': 9949, 'quádrupla': 9950, 'levada': 9951, 'viveria': 9952, 'yangvocê': 9953, 'candy': 9954, 'battery': 9955, 'colcha': 9956, 'invadido': 9957, 'turquia': 9958, 'ernie': 9959, 'chende': 9960, 'técnica': 9961, 'baratos': 9962, 'pintei': 9963, 'elemento': 9964, 'subversivo': 9965, 'coloração': 9966, 'envie': 9967, 'crash': 9968, 'spyware': 9969, 'trojans': 9970, 'tropecei': 9971, 'especiarias': 9972, 'indianas': 9973, 'frita': 9974, 'anotar': 9975, 'desentendimentos': 9976, 'kankaanpss': 9977, 'obstáculo': 9978, 'desesperadora': 9979, 'crosta': 9980, 'fina': 9981, '2150': 9982, 'caddies': 9983, 'genial': 9984, 'justa': 9985, 'remoendo': 9986, 'informarei': 9987, 'importase': 9988, 'palavrão': 9989, 'cereja': 9990, 'resolvidos': 9991, 'imprensa': 9992, 'analisam': 9993, 'jornalístico': 9994, 'xinghai': 9995, 'descubro': 9996, 'empregada': 9997, 'deer': 9998, 'hunter': 9999, 'tratados': 10000, 'agradeceria': 10001, 'arranjado': 10002, 'malária': 10003, 'encanto': 10004, 'sofrida': 10005, 'vodka': 10006, 'martini': 10007, 'escondiame': 10008, 'habitável': 10009, 'paranóica': 10010, 'retenção': 10011, 'enviarem': 10012, 'serviu': 10013, 'úlcera': 10014, 'royal': 10015, 'restaurant': 10016, 'evitei': 10017, 'claroé': 10018, 'esperto': 10019, '1940': 10020, 'detetive': 10021, 'solucionavam': 10022, 'compassos': 10023, 'iniciais': 10024, 'sinfonia': 10025, 'tchaikovsdy': 10026, '15066688866': 10027, 'lucrativo': 10028, 'brutalizou': 10029, 'estômagos': 10030, 'retirando': 10031, 'intestinos': 10032, 'sproul': 10033, 'moonie': 10034, 'circulassem': 10035, 'sequestrassem': 10036, 'funcionava': 10037, 'irene': 10038, 'instalação': 10039, 'economizando': 10040, 'tornamos': 10041, 'tchecoslováquia': 10042, 'parquímetro': 10043, 'matadouro': 10044, 'especificar': 10045, 'dizerme': 10046, 'benidorm': 10047, 'moderadamente': 10048, 'meioirmão': 10049, 'substituílo': 10050, 'assando': 10051, 'pintas': 10052, 'pintamos': 10053, 'sorrateiros': 10054, 'febres': 10055, 'avisaremos': 10056, 'driebergen': 10057, 'nick': 10058, 'alugaram': 10059, 'condomínio': 10060, 'costumávamos': 10061, 'exercitou': 10062, 'simula': 10063, 'supermercados': 10064, 'telefonar': 10065, 'monge': 10066, 'assassinado': 10067, 'porcos': 10068, 'afetuoso': 10069, 'prestativo': 10070, 'moribunda': 10071, 'oferecerlhes': 10072, 'mandeios': 10073, 'facilidades': 10074, 'velhaco': 10075, 'entorte': 10076, 'sufocante': 10077, 'chora': 10078, 'grito': 10079, 'victor': 10080, 'danifiquei': 10081, 'gary': 10082, 'jiuzhaigou': 10083, 'caluniando': 10084, 'cowgirl': 10085, 'mountie': 10086, 'cheques': 10087, 'philimore': 10088, 'pretas': 10089, 'mistério': 10090, 'perturbando': 10091, 'reagisse': 10092, 'considerada': 10093, 'extorsão': 10094, 'imaculada': 10095, 'lagos': 10096, 'satisfaça': 10097, 'regra': 10098, 'divorciando': 10099, 'habilmente': 10100, 'ofende': 10101, 'adesivo': 10102, 'mascar': 10103, 'repressivas': 10104, 'permitem': 10105, 'otários': 10106, 'desanimador': 10107, 'tremendo': 10108, 'depende': 10109, 'mencionaram': 10110, 'infantilmente': 10111, 'walkman': 10112, 'estéreo': 10113, 'desconhecia': 10114, 'dourada': 10115, 'sanyu': 10116, 'democrática': 10117, 'distribuir': 10118, 'testemunhas': 10119, 'apoiaram': 10120, 'refletindo': 10121, 'fisioterapia': 10122, 'apropriadamente': 10123, 'espalhou': 10124, 'elogia': 10125, 'turmas': 10126, 'obedece': 10127, 'turistas': 10128, 'incluí': 10129, 'suculento': 10130, 'barricas': 10131, 'observa': 10132, 'lester': 10133, 'sortuda': 10134, 'aplicava': 10135, 'debatendo': 10136, 'correrá': 10137, 'bélgica': 10138, 'catástrofe': 10139, 'sinuosa': 10140, 'valiosos': 10141, 'mencionar': 10142, 'pseudonamorada': 10143, 'ardmore': 10144, 'kaikohe': 10145, 'bússolas': 10146, 'pilotos': 10147, 'despediram': 10148, 'desejaram': 10149, 'puxe': 10150, 'imitação': 10151, 'tampas': 10152, 'chovendo': 10153, 'diesel': 10154, 'pickup': 10155, 'alcancei': 10156, 'molhos': 10157, 'estalar': 10158, 'tremi': 10159, 'acessos': 10160, 'aguentou': 10161, 'lutaremos': 10162, 'chuvas': 10163, 'player': 10164, 'cobraram': 10165, 'coelho': 10166, 'agarrado': 10167, 'reagir': 10168, 'prevenir': 10169, 'entristecem': 10170, 'lenços': 10171, 'bordados': 10172, 'nijmegen': 10173, 'tatuado': 10174, 'iris': 10175, 'maustratos': 10176, 'conheceremos': 10177, 'desconectando': 10178, 'apitar': 10179, 'irrevogável': 10180, 'glamoroso': 10181, 'vividamente': 10182, 'coplain': 10183, 'malik': 10184, 'pressões': 10185, 'freqüência': 10186, 'abraçado': 10187, 'almanaque': 10188, 'indesejáveis': 10189, 'experimentando': 10190, 'danificadas': 10191, 'encargo': 10192, 'toaletes': 10193, 'sentíamos': 10194, 'sentidos': 10195, 'dúvidas': 10196, 'compatibilidade': 10197, 'dormiam': 10198, 'chaleira': 10199, 'aveia': 10200, 'soam': 10201, 'pijama': 10202, 'funcionado': 10203, 'editora': 10204, 'museus': 10205, 'examinando': 10206, 'motivacionais': 10207, 'adicionálos': 10208, 'escolhermos': 10209, '5558929': 10210, 'patrão': 10211, 'aspirinas': 10212, 'dobráveis': 10213, 'denegrindo': 10214, 'resistente': 10215, 'lendário': 10216, 'colisão': 10217, '110km': 10218, 'bandeiras': 10219, 'gold': 10220, 'rasgo': 10221, 'hino': 10222, 'cantado': 10223, 'fenômeno': 10224, 'desnecessariamente': 10225, 'importunar': 10226, 'notado': 10227, 'congestionado': 10228, 'oferecendome': 10229, 'incestuosos': 10230, 'penteados': 10231, 'achado': 10232, 'encaixa': 10233, 'profissão': 10234, 'desviou': 10235, 'valioso': 10236, 'pequenos': 10237, 'ligariam': 10238, 'giram': 10239, 'torno': 10240, 'arrancados': 10241, 'tombasse': 10242, 'afogasse': 10243, 'disparasse': 10244, 'colonos': 10245, 'proposto': 10246, 'chyne': 10247, 'cumprimentassem': 10248, 'calorosos': 10249, 'sinceros': 10250, 'claire': 10251, 'urologista': 10252, 'doloroso': 10253, 'lições': 10254, 'leonard': 10255, 'passávamos': 10256, 'quietos': 10257, 'narcisos': 10258, 'rockery': 10259, 'menores': 10260, 'afirmações': 10261, 'abrilo': 10262, 'definida': 10263, 'ensaios': 10264, 'oprimia': 10265, 'comermos': 10266, '1976': 10267, 'revolta': 10268, 'soweto': 10269, 'racista': 10270, 'gout': 10271, 'educacional': 10272, 'infernal': 10273, 'entenderá': 10274, 'terminasse': 10275, 'havido': 10276, 'gritava': 10277, 'ameaças': 10278, 'chilrear': 10279, 'omen': 10280, 'fechasse': 10281, 'ouvia': 10282, 'diabo': 10283, 'demônio': 10284, 'escolheria': 10285, 'molhado': 10286, 'sorrindo': 10287, 'amsterdã': 10288, 'endereços': 10289, 'respiratórias': 10290, 'florença': 10291, 'relatos': 10292, 'jogariam': 10293, 'mentido': 10294, '2002': 10295, 'jumbojato': 10296, 'acelerando': 10297, 'decolagem': 10298, 'freou': 10299, 'motores': 10300, 'aeronave': 10301, 'recepcionistas': 10302, 'demonstraram': 10303, 'corríamos': 10304, 'largála': 10305, 'vídeos': 10306, 'pornográficos': 10307, 'amoral': 10308, 'expondo': 10309, 'constrangimento': 10310, 'alameda': 10311, 'combinaria': 10312, 'hectares': 10313, 'inclinado': 10314, 'reconheceria': 10315, 'pétalas': 10316, 'caídas': 10317, 'escarlate': 10318, 'pêssegopêssego': 10319, 'distribuídas': 10320, 'layouts': 10321, 'pinheiros': 10322, 'ciprestes': 10323, 'pontilhados': 10324, 'silk': 10325, 'alimentando': 10326, 'prematuro': 10327, 'engasgou': 10328, 'nocautei': 10329, 'vietnã': 10330, 'pântano': 10331, 'fétida': 10332, 'estagnada': 10333, 'desanimoume': 10334, 'complementa': 10335, 'belogradchik': 10336, 'determinaram': 10337, 'complexos': 10338, 'isul': 10339, 'categoricamente': 10340, 'cheirando': 10341, 'antipornografia': 10342, 'mostradas': 10343, 'bobagem': 10344, 'encontreia': 10345, 'mudará': 10346, 'turku': 10347, 'vendida': 10348, 'repreendida': 10349, 'escapou': 10350, 'saltei': 10351, 'achamos': 10352, 'dános': 10353, 'experientes': 10354, 'sicília': 10355, 'dandome': 10356, 'moonlight': 10357, 'impressões': 10358, 'indecente': 10359, 'amarrado': 10360, 'amordaçado': 10361, 'calçados': 10362, 'conversou': 10363, 'imitava': 10364, 'levandoo': 10365, 'defacto': 10366, 'valerá': 10367, 'entenda': 10368, 'hamlet': 10369, 'acertado': 10370, 'laringe': 10371, 'advocacia': 10372, 'construtora': 10373, 'admitimos': 10374, 'ascensão': 10375, 'desafiou': 10376, 'fantasia': 10377, 'safada': 10378, 'molhar': 10379, 'égua': 10380, 'baús': 10381, 'pulseira': 10382, 'previsto': 10383, 'defeito': 10384, 'periquito': 10385, 'aleijadas': 10386, 'superhomem': 10387, 'disparando': 10388, 'limpado': 10389, 'kapenta': 10390, 'vermes': 10391, 'piorando': 10392, 'apoiála': 10393, 'pretendem': 10394, 'contratos': 10395, 'letra': 10396, 'cercar': 10397, 'idol': 10398, 'americana': 10399, 'patrocinados': 10400, 'organiza': 10401, 'malandro': 10402, 'endireitar': 10403, 'paro': 10404, 'despediu': 10405, 'mundanos': 10406, 'evacuar': 10407, 'saborosa': 10408, 'motins': 10409, 'nãomotins': 10410, 'democracia': 10411, 'lavará': 10412, 'vestidas': 10413, 'sydney': 10414, 'consumido': 10415, 'curatão': 10416, 'tortos': 10417, 'tocálos': 10418, 'descanse': 10419, 'vince': 10420, 'forneceremos': 10421, 'cachorrosquentes': 10422, 'acompanhamentos': 10423, 'aims': 10424, 'rapariga': 10425, 'desapontasse': 10426, 'propôs': 10427, 'grita': 10428, 'asfixiado': 10429, 'desesperado': 10430, 'energizado': 10431, 'cheirar': 10432, 'verdadeiros': 10433, 'apólice': 10434, 'castelos': 10435, 'centenários': 10436, 'configuramos': 10437, 'convideia': 10438, 'beijeia': 10439, 'solitária': 10440, 'espancaram': 10441, 'lunático': 10442, 'dignos': 10443, 'têlos': 10444, 'educada': 10445, 'supera': 10446, 'demanda': 10447, 'encontramse': 10448, 'desvantagem': 10449, 'pata': 10450, 'afastála': 10451, 'envolve': 10452, 'insatisfatório': 10453, 'reprovasse': 10454, 'precisaria': 10455, 'guerreiro': 10456, 'inimigo': 10457, 'pontes': 10458, 'chegarmos': 10459, 'matriculou': 10460, 'satisfazer': 10461, 'pisotear': 10462, 'associados': 10463, 'infelicidade': 10464, '9h10': 10465, 'guardei': 10466, 'panasonic': 10467, '13924774026': 10468, 'gênero': 10469, 'durão': 10470, 'soou': 10471, 'noticias': 10472, 'frutífera': 10473, 'sinceramente': 10474, 'cheiros': 10475, 'prépago': 10476, 'mataram': 10477, 'refém': 10478, 'virão': 10479, 'k100': 10480, 'mantive': 10481, 'resolvêlos': 10482, 'lambebotas': 10483, 'indefesas': 10484, 'refeito': 10485, 'universal': 10486, 'slot': 10487, 'apeteceme': 10488, 'sangrentos': 10489, 'contatava': 10490, 'marshmellows': 10491, 'torrados': 10492, 'suvenir': 10493, 'ladeira': 10494, 'evitála': 10495, 'traseiras': 10496, 'cambalhota': 10497, 'espiava': 10498, 'prejudicava': 10499, 'correspondiam': 10500, 'estragado': 10501, 'booze': 10502, 'recompensado': 10503, 'bowl': 10504, 'tchaub': 10505, 'selecionei': 10506, 'sofisticada': 10507, 'desesperadamente': 10508, 'hidratante': 10509, 'projetou': 10510, 'novatos': 10511, 'exibicionistas': 10512, 'pareceria': 10513, 'balão': 10514, 'impedida': 10515, 'apontada': 10516, 'problemática': 10517, 'adotou': 10518, 'traumático': 10519, 'ajudaram': 10520, 'resolveram': 10521, 'arrombada': 10522, 'ouvirse': 10523, 'vendemos': 10524, 'oitenta': 10525, 'slamdunks': 10526, 'jordan': 10527, 'editor': 10528, 'depreciativo': 10529, 'colunista': 10530, 'literária': 10531, 'licençagravidez': 10532, 'fragmentos': 10533, 'galerias': 10534, 'catedrais': 10535, 'estátuas': 10536, 'palácios': 10537, 'bistrôs': 10538, 'aconchegante': 10539, 'vapor': 10540, 'porção': 10541, 'colocandoa': 10542, 'arrancou': 10543, 'chutar': 10544, 'escorredor': 10545, 'criativas': 10546, 'aceitarem': 10547, 'ganhasse': 10548, 'respeitei': 10549, 'demonstrei': 10550, 'comunitária': 10551, 'escalarão': 10552, 'buscarte': 10553, 'tolice': 10554, '49er': 10555, 'destruí': 10556, 'grammy': 10557, 'awards': 10558, '1960': 10559, 'alfaiate': 10560, 'posar': 10561, 'processado': 10562, 'instantâneo': 10563, 'pombos': 10564, 'arábia': 10565, 'saudita': 10566, 'acertará': 10567, 'entregassem': 10568, 'videogames': 10569, 'vasculhava': 10570, 'esgoto': 10571, 'sufocava': 10572, 'paulista': 10573, 'oprimida': 10574, 'ajudála': 10575, 'enfia': 10576, 'rastrear': 10577, 'visitamos': 10578, 'barganha': 10579, 'dobro': 10580, 'margarida': 10581, 'dirige': 10582, 'topado': 10583, 'yavanna': 10584, 'yukky': 10585, 'pooh': 10586, 'ranho': 10587, 'sentem': 10588, 'planejada': 10589, 'incentivou': 10590, 'esfregar': 10591, 'atrativa': 10592, 'cenários': 10593, 'inesquecíveis': 10594, 'masturbação': 10595, 'navio': 10596, 'bombons': 10597, 'liangs': 10598, 'pecador': 10599, 'renunciar': 10600, 'desejos': 10601, 'prazeres': 10602, 'colidir': 10603, 'visitaram': 10604, 'tribal': 10605, 'kali': 10606, 'cortaram': 10607, 'combustíveis': 10608, 'aprendizado': 10609, 'trouxera': 10610, 'empolguei': 10611, 'enfrentam': 10612, 'classificar': 10613, 'fase': 10614, 'competitiva': 10615, 'drop': 10616, 'slip': 10617, 'softball': 10618, 'bhopal': 10619, 'enojei': 10620, 'conquistou': 10621, 'comemoramos': 10622, 'beija': 10623, 'desejolhe': 10624, 'zumbis': 10625, 'acariciálo': 10626, 'enfaticamente': 10627, 'sarna': 10628, 'lanterna': 10629, 'natimorto': 10630, 'decidia': 10631, 'autoritária': 10632, 'manipulam': 10633, 'encantadores': 10634, 'típica': 10635, 'bateram': 10636, 'perseguiram': 10637, 'tradicionais': 10638, 'passas': 10639, 'nozpecã': 10640, 'morango': 10641, 'baunilha': 10642, 'durian': 10643, 'prenderem': 10644, 'bills': 10645, 'seafood': 10646, 'cantei': 10647, 'grana': 10648, 'surdo': 10649, 'hiperativo': 10650, 'agarrou': 10651, 'apunhaloume': 10652, 'alimentares': 10653, 'cicatrizes': 10654, 'crescentes': 10655, 'guias': 10656, 'diagnosticado': 10657, 'nódulo': 10658, 'seios': 10659, 'oclusão': 10660, 'sucção': 10661, 'contínua': 10662, 'lavando': 10663, 'sonhar': 10664, 'começam': 10665, 'prestava': 10666, 'falhas': 10667, 'txybgmailcom': 10668, 'pegasse': 10669, 'desafiassem': 10670, 'apresentado': 10671, 'poona': 10672, 'tossiu': 10673, 'gaguejou': 10674, 'removeu': 10675, 'catarro': 10676, 'muco': 10677, 'resultantes': 10678, 'transferiuos': 10679, 'engolindo': 10680, 'obstrução': 10681, 'intestinal': 10682, 'esfregão': 10683, 'apresentála': 10684, 'contratamos': 10685, 'beneficiar': 10686, 'anjo': 10687, 'bilheteria': 10688, 'comandava': 10689, 'inexistente': 10690, 'indevida': 10691, 'severidade': 10692, 'imediato': 10693, 'guardálas': 10694, 'freezer': 10695, 'finlândia': 10696, 'zhuang': 10697, 'emprestei': 10698, 'sujar': 10699, 'manchado': 10700, 'bolachas': 10701, 'esguia': 10702, 'jantares': 10703, 'haven': 10704, 'intencional': 10705, 'fraqueza': 10706, 'peteca': 10707, 'ervacidreira': 10708, 'chip': 10709, 'viúva': 10710, 'darryl': 10711, 'ratos': 10712, 'esboçando': 10713, 'sprint': 10714, 'formulários': 10715, 'entenderei': 10716, 'embalado': 10717, 'arpejos': 10718, 'semicolcheia': 10719, 'terminam': 10720, 'torturado': 10721, 'cupping': 10722, 'máscara': 10723, 'experimentamos': 10724, 'magnitude': 10725, 'wenchman': 10726, 'proprietários': 10727, 'viro': 10728, 'apunhala': 10729, 'abandonadas': 10730, 'pixote': 10731, 'sossegar': 10732, 'vidas': 10733, 'pedicure': 10734, 'manicure': 10735, 'vesti': 10736, 'ânimo': 10737, 'usássemos': 10738, 'abria': 10739, 'cumprimentar': 10740, 'superlotação': 10741, 'pistas': 10742, 'iluminadas': 10743, 'aprende': 10744, 'incapazes': 10745, 'palmadas': 10746, 'carroceria': 10747, 'escrevemos': 10748, 'freud': 10749, 'exibida': 10750, 'absorvente': 10751, 'retirado': 10752, 'close': 10753, 'sobrevivesse': 10754, 'desprezar': 10755, 'suando': 10756, 'pegarem': 10757, 'levamos': 10758, 'constantes': 10759, 'tentativas': 10760, 'fracassadas': 10761, 'reconciliação': 10762, 'irreversibilidade': 10763, 'indesejada': 10764, 'prestada': 10765, 'implicações': 10766, 'chico': 10767, 'condutor': 10768, 'tropeçou': 10769, 'molestou': 10770, 'penetração': 10771, 'estreiteza': 10772, 'tocadiscos': 10773, 'barack': 10774, 'stephanie': 10775, 'responderia': 10776, 'twinkles': 10777, 'summer': 10778, 'plástica': 10779, 'sujeitinho': 10780, 'socou': 10781, 'traseiro': 10782, 'territórios': 10783, 'aldeias': 10784, 'límpida': 10785, 'refletia': 10786, 'sentarme': 10787, 'molharam': 10788, 'colorida': 10789, 'drin': 10790, 'raciocinar': 10791, 'deume': 10792, 'posicionese': 10793, 'taco': 10794, 'acertea': 10795, 'tradutor': 10796, 'admiração': 10797, 'rebanho': 10798, 'subestimadas': 10799, 'esbarrei': 10800, 'embaleos': 10801, 'asas': 10802, 'comprasse': 10803, 'emprestálos': 10804, 'brutal': 10805, 'enojam': 10806, 'expus': 10807, 'irritações': 10808, 'andou': 10809, 'divertidas': 10810, 'amaldiçoe': 10811, 'musse': 10812, 'garfos': 10813, 'touchdown': 10814, 'definitiva': 10815, 'paravam': 10816, 'brincadeira': 10817, 'estabelecendose': 10818, 'terminará': 10819, 'vendeuo': 10820, 'lord': 10821, 'gray': 10822, 'justificável': 10823, 'psycho': 10824, 'hitchcock': 10825, 'esgotem': 10826, 'caia': 10827, 'prepare': 10828, 'kitty': 10829, 'paddock': 10830, 'afirmava': 10831, 'intimidado': 10832, 'companheirismo': 10833, 'empire': 10834, 'state': 10835, 'building': 10836, 'observador': 10837, 'adoraram': 10838, 'mórbidas': 10839, 'falecimento': 10840, 'esquecemos': 10841, 'costurar': 10842, 'migrar': 10843, 'desenvolvido': 10844, 'desaparecer': 10845, 'armagedom': 10846, 'meteorológicos': 10847, 'precedentes': 10848, 'avalanche': 10849, 'relatada': 10850, 'alpes': 10851, 'nevasca': 10852, 'meiooeste': 10853, 'canceladas': 10854, 'equador': 10855, 'afetou': 10856, 'usina': 10857, 'hidrelétrica': 10858, 'fornece': 10859, 'chile': 10860, 'registrou': 10861, 'vírgula': 10862, 'richter': 10863, 'perdas': 10864, 'relatadas': 10865, 'divulgaram': 10866, 'faltam': 10867, 'zaire': 10868, 'acompanhála': 10869, 'faltar': 10870, 'corretos': 10871, 'simpáticos': 10872, 'prestativos': 10873, 'caroço': 10874, 'aderir': 10875, 'traindo': 10876, 'ligaria': 10877, 'convocou': 10878, 'executivos': 10879, 'lacuna': 10880, 'evitado': 10881, 'kinsey': 10882, 'séculos': 10883, 'roseira': 10884, 'impuseram': 10885, 'pedestre': 10886, 'mrsmith': 10887, 'resolvi': 10888, 'relatar': 10889, 'revoltado': 10890, 'laceração': 10891, 'escleral': 10892, 'exclusiva': 10893, 'protetores': 10894, 'sargento': 10895, 'reboque': 10896, 'trator': 10897, 'ginecológica': 10898, 'falsearam': 10899, 'sentirem': 10900, 'history': 10901, 'channel': 10902, 'vencedores': 10903, 'toca': 10904, 'lixeira': 10905, 'joanna': 10906, 'triplo': 10907, 'beliche': 10908, 'burritos': 10909, 'quesadillas': 10910, 'guacamole': 10911, 'jalapenos': 10912, 'gule': 10913, 'wamkulu': 10914, 'bloqueou': 10915, 'pegaram': 10916, 'copiando': 10917, 'bancárias': 10918, 'alteradas': 10919, 'encerradas': 10920, 'aspirações': 10921, 'gerada': 10922, 'amizades': 10923, 'experimentado': 10924, 'economizado': 10925, 'gostará': 10926, 'exige': 10927, 'autorizado': 10928, 'atenderemos': 10929, 'coalhada': 10930, 'faltei': 10931, 'limpos': 10932, 'arrumados': 10933, 'insinuou': 10934, 'bando': 10935, 'voltarão': 10936, 'iugoslávia': 10937, 'endereçada': 10938, 'intencionalmente': 10939, 'nomeadamente': 10940, 'slide': 10941, 'projetor': 10942, 'geada': 10943, 'bravura': 10944, 'apaziguou': 10945, 'obtenção': 10946, 'amassada': 10947, 'trabalhou': 10948, 'ignoraram': 10949, 'thorn': 10950, 'birds': 10951, 'tolos': 10952, 'controlada': 10953, 'mijando': 10954, 'lingüística': 10955, 'neuroanatomia': 10956, 'critiquei': 10957, 'arbitrárias': 10958, 'mentia': 10959, 'giovanni': 10960, 'hordas': 10961, 'enfiei': 10962, 'cobertas': 10963, 'cedro': 10964, 'sequóia': 10965, 'construílo': 10966, 'grãos': 10967, 'individual': 10968, 'questionáveis': 10969, 'compatível': 10970, 'batalha': 10971, 'porcelanas': 10972, 'dobrar': 10973, 'receita': 10974, 'indiana': 10975, 'grávidas': 10976, 'ilegitimamente': 10977, 'fracassar': 10978, 'mundano': 10979, 'subsidiado': 10980, 'secondary': 10981, 'marys': 10982, 'diurno': 10983, 'derrubada': 10984, 'perturbava': 10985, 'parasse': 10986, 'clínico': 10987, 'verbal': 10988, 'colete': 10989, 'criou': 10990, 'desordem': 10991, 'suposições': 10992, 'tianqiao': 10993, 'acrobacias': 10994, 'deslumbrálo': 10995, 'condenados': 10996, 'necessários': 10997, 'vingar': 10998, 'animese': 10999, 'decepcione': 11000, 'cometemos': 11001, 'inclui': 11002, 'domina': 11003, 'tacos': 11004, 'boris': 11005, 'realista': 11006, 'voador': 11007, 'montei': 11008, 'cacho': 11009, 'gerência': 11010, 'demitiu': 11011, 'fofoqueira': 11012, 'marítima': 11013, 'pesadelos': 11014, 'adicionasse': 11015, 'gratidão': 11016, 'cruzou': 11017, 'esbarrar': 11018, 'portamalas': 11019, 'davam': 11020, 'jogaram': 11021, 'misturaram': 11022, 'chefes': 11023, 'enganarem': 11024, 'horóscopo': 11025, 'precisas': 11026, 'envia': 11027, 'prevendo': 11028, 'amplamente': 11029, 'alinhadas': 11030, 'diária': 11031, 'desmoronando': 11032, 'judicialmente': 11033, 'ajudapara': 11034, 'choraram': 11035, 'coveiro': 11036, 'reprovadas': 11037, 'cresceram': 11038, 'confundiu': 11039, 'associoume': 11040, 'picantes': 11041, 'tiger': 11042, 'woods': 11043, 'encantador': 11044, 'virado': 11045, 'ilustrador': 11046, 'folheio': 11047, 'noto': 11048, 'regional': 11049, 'recusouse': 11050, 'subsídio': 11051, 'burocráticas': 11052, 'desfrute': 11053, 'indicar': 11054, 'proteção': 11055, 'despertada': 11056, 'cobraremos': 11057, 'repreendio': 11058, 'interferir': 11059, 'arrozais': 11060, 'chovido': 11061, 'ignoraria': 11062, 'arrozal': 11063, 'gatos': 11064, 'liberei': 11065, 'mill': 11066, 'obrigatório': 11067, 'provocam': 11068, 'cortinas': 11069, 'inquilino': 11070, 'rejeitaram': 11071, 'aguenta': 11072, 'perseverança': 11073, 'otimo': 11074, 'tumor': 11075, 'borrow': 11076, 'pathos': 11077, 'fimdesemana': 11078, 'aguentaria': 11079, 'abismo': 11080, 'unir': 11081, 'mundos': 11082, 'histérica': 11083, 'cegueira': 11084, 'tragao': 11085, 'comprarmos': 11086, 'jantarmos': 11087, 'assediado': 11088, 'invés': 11089, 'lushun': 11090, 'falls': 11091, 'noção': 11092, 'profissionais': 11093, 'admito': 11094, 'jantou': 11095, 'ferroviárias': 11096, 'arranjar': 11097, 'cegas': 11098, 'pôlderes': 11099, 'solitários': 11100, 'fantasias': 11101, 'assustadoras': 11102, 'internacionais': 11103, 'escalamos': 11104, 'jardins': 11105, 'representada': 11106, 'medicação': 11107, 'elefante': 11108, 'africano': 11109, 'assina': 11110, 'rodovias': 11111, 'qualificação': 11112, 'bombas': 11113, 'chow': 11114, 'mein': 11115, 'graham': 11116, 'dominálo': 11117, 'tornado': 11118, 'fuso': 11119, 'voado': 11120, 'atleta': 11121, 'convidandoo': 11122, 'produziram': 11123, 'tripé': 11124, 'evita': 11125, 'simon': 11126, 'heart': 11127, 'will': 11128, 'ouviste': 11129, 'consternação': 11130, 'gritaram': 11131, 'fossando': 11132, 'bitucas': 11133, 'revoltante': 11134, 'mantêlas': 11135, 'ocupam': 11136, 'recebêlos': 11137, 'razoáveis': 11138, 'configuração': 11139, 'ocidentalizaram': 11140, 'carrega': 11141, 'corporação': 11142, 'ohhhh': 11143, 'represa': 11144, 'resgatamos': 11145, 'nadadeiras': 11146, 'literaturas': 11147, 'partiria': 11148, 'saindose': 11149, 'tendia': 11150, 'forçaram': 11151, 'ordenaram': 11152, 'conto': 11153, 'chat': 11154, 'atrevida': 11155, 'predestinada': 11156, 'alimento': 11157, 'apartheid': 11158, 'procurarei': 11159, 'famosas': 11160, 'sarampo': 11161, 'químicos': 11162, 'solteirona': 11163, 'bispo': 11164, 'capture': 11165, 'grão': 11166, 'bico': 11167, 'curry': 11168, 'brainstorm': 11169, 'aquamedic': 11170, 'incluída': 11171, 'ensolarados': 11172, 'vendedores': 11173, 'contraoferta': 11174, 'infinitamente': 11175, 'elaboraram': 11176, 'convencendo': 11177, 'satânica': 11178, 'cabra': 11179, 'astrológico': 11180, 'psicóloga': 11181, 'devolvam': 11182, 'imortais': 11183, 'prefeririam': 11184, '4000': 11185, 'cobaia': 11186, 'apoiar': 11187, 'convulsivamente': 11188, 'acusada': 11189, 'esbanjado': 11190, 'teórico': 11191, 'caseiras': 11192, 'gordura': 11193, 'impede': 11194, 'roleta': 11195, 'russa': 11196, 'cervos': 11197, 'quentes': 11198, 'estudávamos': 11199, 'fartos': 11200, 'frustração': 11201, 'desatento': 11202, 'abandonar': 11203, 'sabonete': 11204, 'redação': 11205, 'polegadas': 11206, 'esteio': 11207, 'acumulouse': 11208, 'anexados': 11209, 'segurálos': 11210, 'matasse': 11211, 'dariam': 11212, 'sarcástica': 11213, 'julgar': 11214, 'honestas': 11215, 'prejudicadas': 11216, 'cuidasse': 11217, 'atravesse': 11218, 'ferrovias': 11219, 'solicitado': 11220, 'verificador': 11221, 'pernoitamos': 11222, 'motéis': 11223, 'celebremos': 11224, 'exigente': 11225, 'thxbye': 11226, 'kisssssssssss': 11227, 'precárias': 11228, 'penúria': 11229, 'postigos': 11230, 'inalar': 11231, 'digite': 11232, 'transferir': 11233, '10000': 11234, 'wildlife': 11235, 'foundation': 11236, 'compareça': 11237, 'caprichoso': 11238, 'instáveis': 11239, 'realização': 11240, 'acostumar': 11241, 'sentarei': 11242, 'pessimista': 11243, 'atrasava': 11244, 'estarmos': 11245, 'ligaremos': 11246, 'alexander': 11247, 'expandiram': 11248, 'trimestre': 11249, 'danificada': 11250, 'condução': 11251, 'contenos': 11252, 'manchas': 11253, 'tranca': 11254, 'espesso': 11255, 'métodos': 11256, 'renomado': 11257, 'hematoma': 11258, 'entregador': 11259, 'adeptos': 11260, 'detêm': 11261, 'deslocam': 11262, 'spring': 11263, 'resisto': 11264, 'antecipar': 11265, 'maliciosamente': 11266, 'supõese': 11267, 'hesitaram': 11268, 'capcioso': 11269, 'deixarão': 11270, 'saem': 11271, 'juvenil': 11272, 'instrutores': 11273, 'desatualizadas': 11274, 'discordávamos': 11275, 'descontente': 11276, 'subordinados': 11277, 'ofereci': 11278, 'hospedálo': 11279, 'acomodálos': 11280, 'ahhs': 11281, 'propina': 11282, 'fingiram': 11283, 'afogando': 11284, 'cuidaria': 11285, 'intermunicipal': 11286, 'suado': 11287, 'yuans': 11288, 'enfiou': 11289, 'venta': 11290, 'houses': 11291, 'perdoeme': 11292, 'surpreendêlo': 11293, 'impetuosidade': 11294, 'beliscam': 11295, 'oferecendo': 11296, 'candidatado': 11297, 'abandonados': 11298, 'ajudálos': 11299, 'irlanda': 11300, 'acomodando': 11301, 'rita': 11302, 'irmãozinho': 11303, 'assustadores': 11304, 'sorrateiramente': 11305, 'colonial': 11306, 'descartou': 11307, 'ocorrendo': 11308, 'viceversa': 11309, 'temperamentos': 11310, 'parecidos': 11311, 'remando': 11312, 'satisfatórios': 11313, 'mudálo': 11314, 'contravenção': 11315, 'elogiava': 11316, 'sementes': 11317, 'fertilizante': 11318, 'voila': 11319, 'jardinagem': 11320, 'crescida': 11321, 'bakshi': 11322, 'crescem': 11323, 'sentouse': 11324, 'angústia': 11325, 'verruga': 11326, 'congelou': 11327, 'ligálo': 11328, 'fatiado': 11329, 'subgerente': 11330, 'deputados': 11331, 'tomaram': 11332, 'liberdades': 11333, 'assistiríamos': 11334, 'veríamos': 11335, 'aeromoça': 11336, 'ursinho': 11337, 'pelúcia': 11338, 'arrependimento': 11339, 'mansa': 11340, 'jantasse': 11341, 'desumana': 11342, 'torturar': 11343, 'chili': 11344, 'qualificaram': 11345, 'picando': 11346, 'esqueço': 11347, 'internada': 11348, 'crescerem': 11349, 'tornarão': 11350, 'furiosa': 11351, 'dalai': 11352, 'avançados': 11353, 'enforcado': 11354, 'interpretado': 11355, 'convulsões': 11356, 'genuíno': 11357, 'helder': 11358, 'esquadrão': 11359, 'dormer': 11360, 'promovidos': 11361, 'seargents': 11362, 'sargentos': 11363, 'pistola': 11364, 'revólver': 11365, 'alvos': 11366, 'alcance': 11367, 'recurso': 11368, 'voltarem': 11369, 'apavorado': 11370, 'pete': 11371, 'norma': 11372, 'enrique': 11373, 'iglesias': 11374, 'escadaria': 11375, 'sentou': 11376, 'slogan': 11377, 'cofre': 11378, 'pularia': 11379, 'acompanhando': 11380, 'bushas': 11381, 'curativos': 11382, 'tolas': 11383, 'encarregado': 11384, 'inquérito': 11385, 'samuel': 11386, 'juncos': 11387, 'suicidou': 11388, 'hubert': 11389, 'trazêlos': 11390, 'admirava': 11391, 'kings': 11392, 'pavel': 11393, 'bure': 11394, 'defensores': 11395, 'conseguem': 11396, 'bofetada': 11397, 'pendurados': 11398, 'kathy': 11399, 'ioga': 11400, 'tornava': 11401, 'piores': 11402, 'cópias': 11403, 'lancheiras': 11404, 'explicasse': 11405, 'amordaceme': 11406, 'elegantes': 11407, 'prematuramente': 11408, 'colecionadores': 11409, 'kristy': 11410, 'computação': 11411, 'gancho': 11412, 'salválo': 11413, 'atributos': 11414, 'interpretados': 11415, 'bali': 11416, 'gates': 11417, 'paisana': 11418, 'capotado': 11419, 'questionado': 11420, 'afeto': 11421, 'form': 11422, 'atinge': 11423, 'tratará': 11424, 'maquiando': 11425, 'mímicos': 11426, 'adoece': 11427, 'orientações': 11428, 'miseravelmente': 11429, 'comparava': 11430, 'chamados': 11431, 'cuspem': 11432, 'intrometa': 11433, 'devolvido': 11434, 'apoiador': 11435, 'nasci': 11436, 'nadador': 11437, 'nado': 11438, 'recusasse': 11439, 'disser': 11440, 'prolongada': 11441, 'digna': 11442, 'despedi': 11443, 'desenvolvendo': 11444, 'canetas': 11445, 'danese': 11446, 'queimaria': 11447, 'enevoado': 11448, '11000': 11449, 'saberão': 11450, 'comprarem': 11451, 'causava': 11452, 'procure': 11453, 'gregas': 11454, 'mandheling': 11455, 'santos': 11456, 'prejudicial': 11457, 'poxa': 11458, 'forenses': 11459, 'escondida': 11460, 'serviria': 11461, 'corporation': 11462, 'rejeitados': 11463, 'séria': 11464, 'desempenharam': 11465, 'elizabeth': 11466, 'construiu': 11467, 'marinha': 11468, 'espanhola': 11469, '1588': 11470, 'thatcher': 11471, 'desenvolvemos': 11472, 'subida': 11473, 'fairbanks': 11474, 'paranóia': 11475, 'hemorragia': 11476, 'caixão': 11477, 'fran': 11478, 'wilde': 11479, 'netos': 11480, 'duplas': 11481, 'marcaram': 11482, 'creio': 11483, 'noruega': 11484, 'ocultos': 11485, 'wood': 11486, 'residencial': 11487, 'chamativas': 11488, 'desafiadores': 11489, 'reperbahn': 11490, 'implorar': 11491, 'suculentos': 11492, 'trégua': 11493, 'ruído': 11494, 'resistir': 11495, 'separarse': 11496, 'abusado': 11497, 'mendy': 11498, 'audiovisual': 11499, 'zombarias': 11500, 'empurrões': 11501, 'acertando': 11502, '1979': 11503, 'observarei': 11504, 'criadas': 11505, 'caixões': 11506, 'ábacos': 11507, 'conchas': 11508, 'búzios': 11509, 'preciosos': 11510, 'trajes': 11511, 'dramáticos': 11512, 'ágatas': 11513, 'leques': 11514, 'instrumentos': 11515, 'minúsculos': 11516, 'entalhes': 11517, 'raízes': 11518, 'raras': 11519, 'navios': 11520, 'gina': 11521, 'adam': 11522, 'original': 11523, 'perderse': 11524, 'básicas': 11525, 'diriam': 11526, 'sacola': 11527, 'lançaram': 11528, 'mísseis': 11529, 'nucleares': 11530, 'excita': 11531, 'ingênuo': 11532, 'soubessem': 11533, 'kwacha': 11534, 'encontreime': 11535, 'expressaram': 11536, 'discriminatórias': 11537, 'download': 11538, 'interrelações': 11539, 'mesquinha': 11540, 'dísticos': 11541, 'trocou': 11542, 'papuanova': 11543, 'guiné': 11544, 'difere': 11545, 'antagônicos': 11546, 'levava': 11547, 'calamidade': 11548, 'mexicanos': 11549, 'tolerantes': 11550, 'configurar': 11551, 'lutadores': 11552, 'defesas': 11553, 'kingsize': 11554, 'bourbon': 11555, 'reagia': 11556, 'trocamos': 11557, 'estremecer': 11558, 'veteranos': 11559, 'repreender': 11560, 'supostamente': 11561, 'lanka': 11562, 'adotaram': 11563, 'buscálos': 11564, 'excepcionalmente': 11565, 'recomendações': 11566, 'trainee': 11567, 'gestão': 11568, 'classificou': 11569, 'sugadores': 11570, 'sacudir': 11571, 'grudam': 11572, 'sugam': 11573, 'entro': 11574, 'textura': 11575, 'cremosa': 11576, 'zombies': 11577, 'playstation': 11578, 'gump': 11579, 'perdoálo': 11580, 'decepcionei': 11581, 'derramei': 11582, 'testando': 11583, 'ameaçador': 11584, 'encontrando': 11585, 'pátio': 11586, 'lavei': 11587, 'enxugálo': 11588, 'indefinidamente': 11589, 'elaborar': 11590, 'condicionamento': 11591, 'aconchegar': 11592, 'trarei': 11593, 'enfeitiçado': 11594, 'abalou': 11595, 'planta': 11596, 'obediente': 11597, 'excepcional': 11598, 'bluetooth': 11599, 'recusome': 11600, 'josh': 11601, 'msce': 11602, 'victoria': 11603, 'desfrutado': 11604, 'imensamente': 11605, 'curtos': 11606, 'victoriaá': 11607, 'coral': 11608, 'apareci': 11609, 'solista': 11610, 'show5': 11611, 'restava': 11612, 'indescritível': 11613, 'queimaduras': 11614, 'grosseiro': 11615, 'influenciou': 11616, 'imperfeito': 11617, 'testemunhar': 11618, 'sádicos': 11619, 'aguaceiro': 11620, 'responderiam': 11621, 'rikshaw': 11622, 'quartel': 11623, 'queimados': 11624, 'independente': 11625, 'iniciação': 11626, 'considera': 11627, 'muralha': 11628, 'atração': 11629, 'comêlos': 11630, 'pauline': 11631, 'regata': 11632, 'remo': 11633, 'expandindo': 11634, 'exibir': 11635, 'elogiar': 11636, 'arrastado': 11637, 'acontecimentos': 11638, 'negaram': 11639, 'decepcionam': 11640, 'cumpro': 11641, 'acordos': 11642, 'exagerei': 11643, 'pairando': 11644, 'borboleta': 11645, 'fraser': 11646, 'submerso': 11647, 'virtual': 11648, 'transformam': 11649, 'tambores': 11650, 'feriados': 11651, 'viessem': 11652, 'excluído': 11653, 'querendo': 11654, 'interurbana': 11655, 'tossir': 11656, 'espirrar': 11657, 'tossindo': 11658, 'atrito': 11659, 'ally': 11660, 'mabel': 11661, 'mumm': 11662, 'definidas': 11663, 'pretensiosas': 11664, 'assumiu': 11665, 'teoria': 11666, 'provinham': 11667, 'fortuitas': 11668, 'percentual': 11669, 'julguei': 11670, 'vasos': 11671, 'admitiu': 11672, 'salvando': 11673, 'saenger': 11674, 'theatre': 11675, 'oprimido': 11676, 'aparecem': 11677, 'experimenta': 11678, 'rolar': 11679, 'matagal': 11680, 'paralisante': 11681, 'moralmente': 11682, 'cristão': 11683, 'libertar': 11684, 'perdoar': 11685, 'fedor': 11686, 'manifestações': 11687, 'listrado': 11688, 'indicadora': 11689, 'précombinado': 11690, 'encontrála': 11691, 'misturada': 11692, 'produtivo': 11693, 'morris': 11694, 'mesada': 11695, 'únicas': 11696, 'sessões': 11697, 'c119': 11698, 'avisos': 11699, 'epiléptico': 11700, 'crosscountry': 11701, 'publicaram': 11702, 'subsidiária': 11703, 'kafue': 11704, 'cortada': 11705, 'lascas': 11706, 'repreende': 11707, 'sintonizo': 11708, 'anexado': 11709, 'previamente': 11710, 'alertado': 11711, 'estupros': 11712, 'garotinho': 11713, 'arquivo': 11714, 'maltratava': 11715, 'falsidade': 11716, 'mexase': 11717, 'choveria': 11718, 'pesquisando': 11719, 'gatilho': 11720, 'preparação': 11721, 'marciais': 11722, 'cascalho': 11723, 'raio': 11724, 'prepara': 11725, 'bellow': 11726, 'entregao': 11727, 'terminarmos': 11728, 'riram': 11729, 'confia': 11730, 'compreende': 11731, 'descansando': 11732, 'gutttenburg': 11733, 'escolhi': 11734, 'aficionados': 11735, 'adivinhou': 11736, 'passeando': 11737, 'aparece': 11738, 'provoca': 11739, 'farpa': 11740, 'insistente': 11741, 'pumas': 11742, 'insufláveis': 11743, 'espreguiçadeira': 11744, 'teto': 11745, 'estrelada': 11746, 'participam': 11747, 'paraolimpíadas': 11748, 'ofensa': 11749, 'trigêmeos': 11750, 'idênticos': 11751, 'engolilos': 11752, 'pressentimento': 11753, 'inscreveria': 11754, 'arbustos': 11755, 'razoavelmente': 11756, 'acidentados': 11757, 'weiya': 11758, 'lawson': 11759, 'surgir': 11760, 'ocorrerá': 11761}\n"
          ],
          "name": "stdout"
        }
      ]
    },
    {
      "cell_type": "code",
      "metadata": {
        "colab_type": "code",
        "id": "JdLoxz0qneN_",
        "colab": {}
      },
      "source": [
        "# alguns processamentos adicionais para normalizar os dados\n",
        "max_sequence_length = 500\n",
        "X_train_pad = sequence.pad_sequences(X_train, maxlen=max_sequence_length)\n",
        "X_test_pad = sequence.pad_sequences(X_test, maxlen=max_sequence_length)"
      ],
      "execution_count": 70,
      "outputs": []
    },
    {
      "cell_type": "code",
      "metadata": {
        "id": "h1E_T4fu4409",
        "colab_type": "code",
        "colab": {
          "base_uri": "https://localhost:8080/",
          "height": 34
        },
        "outputId": "eccaba8b-0b43-4746-e6fd-264afa189305"
      },
      "source": [
        "print(labels_classes)"
      ],
      "execution_count": 71,
      "outputs": [
        {
          "output_type": "stream",
          "text": [
            "['alegria', 'desgosto', 'medo', 'raiva', 'tristeza']\n"
          ],
          "name": "stdout"
        }
      ]
    },
    {
      "cell_type": "code",
      "metadata": {
        "colab_type": "code",
        "id": "WL_87K1VneOF",
        "colab": {
          "base_uri": "https://localhost:8080/",
          "height": 90
        },
        "outputId": "86566704-5528-4c7b-be35-4ab2222b6ecb"
      },
      "source": [
        "%%time\n",
        "# Criando o modelo\n",
        "\n",
        "#gru_output_size = 128\n",
        "embedding_vecor_length = 300\n",
        "model = Sequential()\n",
        "model.add(Embedding(input_dim=vocab_size, input_length=max_sequence_length, output_dim=embedding_vecor_length))\n",
        "model.add(SpatialDropout1D(0.3))\n",
        "#model.add(Bidirectional(GRU(units=gru_output_size, dropout=0.2, recurrent_dropout=0.2)))\n",
        "model.add(LSTM(128, dropout=0.3, recurrent_dropout=0.3))\n",
        "#model.add(Dropout(0.2))\n",
        "#model.add(Dense(64, activation='relu'))\n",
        "model.add(Dense(len(labels_classes), activation='softmax'))\n",
        "model.compile(loss='categorical_crossentropy', optimizer='adam', metrics=['categorical_accuracy'])\n",
        "#model.compile(loss='binary_crossentropy', optimizer='adam', metrics=['accuracy'])"
      ],
      "execution_count": 72,
      "outputs": [
        {
          "output_type": "stream",
          "text": [
            "WARNING:tensorflow:Layer lstm will not use cuDNN kernel since it doesn't meet the cuDNN kernel criteria. It will use generic GPU kernel as fallback when running on GPU\n",
            "CPU times: user 699 ms, sys: 185 ms, total: 884 ms\n",
            "Wall time: 862 ms\n"
          ],
          "name": "stdout"
        }
      ]
    },
    {
      "cell_type": "code",
      "metadata": {
        "colab_type": "code",
        "id": "S5yRx6OcneOJ",
        "colab": {
          "base_uri": "https://localhost:8080/",
          "height": 316
        },
        "outputId": "a8d0c076-634c-49cb-da66-a20cb6cae3a5"
      },
      "source": [
        "print(model.summary())"
      ],
      "execution_count": 73,
      "outputs": [
        {
          "output_type": "stream",
          "text": [
            "Model: \"sequential\"\n",
            "_________________________________________________________________\n",
            "Layer (type)                 Output Shape              Param #   \n",
            "=================================================================\n",
            "embedding (Embedding)        (None, 500, 300)          3528600   \n",
            "_________________________________________________________________\n",
            "spatial_dropout1d (SpatialDr (None, 500, 300)          0         \n",
            "_________________________________________________________________\n",
            "lstm (LSTM)                  (None, 128)               219648    \n",
            "_________________________________________________________________\n",
            "dense (Dense)                (None, 5)                 645       \n",
            "=================================================================\n",
            "Total params: 3,748,893\n",
            "Trainable params: 3,748,893\n",
            "Non-trainable params: 0\n",
            "_________________________________________________________________\n",
            "None\n"
          ],
          "name": "stdout"
        }
      ]
    },
    {
      "cell_type": "code",
      "metadata": {
        "colab_type": "code",
        "id": "RCwWvGHSneOL",
        "colab": {
          "base_uri": "https://localhost:8080/",
          "height": 87
        },
        "outputId": "63df2df3-6a39-4333-8696-6a67384c5b1b"
      },
      "source": [
        "%%time\n",
        "loss, accuracy = model.evaluate(X_train_pad, y_train_enc, verbose=1)\n",
        "print('Training Accuracy is {}'.format(accuracy*100))"
      ],
      "execution_count": 74,
      "outputs": [
        {
          "output_type": "stream",
          "text": [
            "459/459 [==============================] - 56s 121ms/step - loss: 1.6002 - categorical_accuracy: 0.4276\n",
            "Training Accuracy is 42.761677503585815\n",
            "CPU times: user 55.7 s, sys: 562 ms, total: 56.3 s\n",
            "Wall time: 56.6 s\n"
          ],
          "name": "stdout"
        }
      ]
    },
    {
      "cell_type": "code",
      "metadata": {
        "colab_type": "code",
        "id": "mXJY5XBPneOM",
        "colab": {}
      },
      "source": [
        "# cria um checkpoint para salvar os pesos do melhor modelo encontrado no trainamento\n",
        "checkpointer = ModelCheckpoint(filepath='rnn.best.hdf5', verbose=1, save_best_only=True)\n",
        "# detecta quando parar\n",
        "es = EarlyStopping(monitor='val_categorical_accuracy', patience=4, mode='max', verbose=1)"
      ],
      "execution_count": 76,
      "outputs": []
    },
    {
      "cell_type": "code",
      "metadata": {
        "colab_type": "code",
        "id": "deqgPHT3neOO",
        "colab": {
          "base_uri": "https://localhost:8080/",
          "height": 424
        },
        "outputId": "3dc40284-7dc0-46ac-fb21-a92ccf20cffe"
      },
      "source": [
        "%%time\n",
        "hist = model.fit(X_train_pad, y_train_enc, validation_data=(X_test_pad, y_test_enc), epochs=5, callbacks=[checkpointer, es], batch_size=128) # batch_size=64,"
      ],
      "execution_count": 77,
      "outputs": [
        {
          "output_type": "stream",
          "text": [
            "Epoch 1/5\n",
            "115/115 [==============================] - ETA: 0s - loss: 0.9377 - categorical_accuracy: 0.6820\n",
            "Epoch 00001: val_loss improved from inf to 0.77489, saving model to rnn.best.hdf5\n",
            "115/115 [==============================] - 212s 2s/step - loss: 0.9377 - categorical_accuracy: 0.6820 - val_loss: 0.7749 - val_categorical_accuracy: 0.7367\n",
            "Epoch 2/5\n",
            "115/115 [==============================] - ETA: 0s - loss: 0.6013 - categorical_accuracy: 0.7965\n",
            "Epoch 00002: val_loss improved from 0.77489 to 0.66261, saving model to rnn.best.hdf5\n",
            "115/115 [==============================] - 216s 2s/step - loss: 0.6013 - categorical_accuracy: 0.7965 - val_loss: 0.6626 - val_categorical_accuracy: 0.7838\n",
            "Epoch 3/5\n",
            "115/115 [==============================] - ETA: 0s - loss: 0.3929 - categorical_accuracy: 0.8741\n",
            "Epoch 00003: val_loss improved from 0.66261 to 0.65812, saving model to rnn.best.hdf5\n",
            "115/115 [==============================] - 216s 2s/step - loss: 0.3929 - categorical_accuracy: 0.8741 - val_loss: 0.6581 - val_categorical_accuracy: 0.7940\n",
            "Epoch 4/5\n",
            "115/115 [==============================] - ETA: 0s - loss: 0.2782 - categorical_accuracy: 0.9188\n",
            "Epoch 00004: val_loss did not improve from 0.65812\n",
            "115/115 [==============================] - 217s 2s/step - loss: 0.2782 - categorical_accuracy: 0.9188 - val_loss: 0.7176 - val_categorical_accuracy: 0.7930\n",
            "Epoch 5/5\n",
            "115/115 [==============================] - ETA: 0s - loss: 0.2108 - categorical_accuracy: 0.9396\n",
            "Epoch 00005: val_loss did not improve from 0.65812\n",
            "115/115 [==============================] - 220s 2s/step - loss: 0.2108 - categorical_accuracy: 0.9396 - val_loss: 0.7701 - val_categorical_accuracy: 0.7900\n",
            "CPU times: user 25min 42s, sys: 3min 45s, total: 29min 27s\n",
            "Wall time: 18min 11s\n"
          ],
          "name": "stdout"
        }
      ]
    },
    {
      "cell_type": "code",
      "metadata": {
        "colab_type": "code",
        "id": "0R0xmsljneOP",
        "colab": {
          "base_uri": "https://localhost:8080/",
          "height": 295
        },
        "outputId": "da202a43-083f-4bd6-be02-e6b0f97b90c1"
      },
      "source": [
        "plt.plot(hist.history['loss'], label='train')\n",
        "plt.plot(hist.history['val_loss'], label='test')\n",
        "plt.legend()\n",
        "plt.title('model loss')\n",
        "plt.ylabel('loss')\n",
        "plt.xlabel('epoch')\n",
        "plt.show()"
      ],
      "execution_count": 78,
      "outputs": [
        {
          "output_type": "display_data",
          "data": {
            "image/png": "[encoded data removed]",
            "text/plain": [
              "<Figure size 432x288 with 1 Axes>"
            ]
          },
          "metadata": {
            "tags": [],
            "needs_background": "light"
          }
        }
      ]
    },
    {
      "cell_type": "code",
      "metadata": {
        "colab_type": "code",
        "id": "oxHjnwBKneOR",
        "colab": {
          "base_uri": "https://localhost:8080/",
          "height": 295
        },
        "outputId": "52fe0bb9-4216-4e25-a977-6c5ba28ee1f6"
      },
      "source": [
        "plt.plot(hist.history['categorical_accuracy'], label='train')\n",
        "plt.plot(hist.history['val_categorical_accuracy'], label='test')\n",
        "plt.legend()\n",
        "plt.title('model accuracy')\n",
        "plt.ylabel('accuracy')\n",
        "plt.xlabel('epoch')\n",
        "plt.show()"
      ],
      "execution_count": 79,
      "outputs": [
        {
          "output_type": "display_data",
          "data": {
            "image/png": "[encoded data removed]",
            "text/plain": [
              "<Figure size 432x288 with 1 Axes>"
            ]
          },
          "metadata": {
            "tags": [],
            "needs_background": "light"
          }
        }
      ]
    },
    {
      "cell_type": "code",
      "metadata": {
        "colab_type": "code",
        "id": "CR8Sb4YAneOS",
        "colab": {}
      },
      "source": [
        "#model.save('rnn.h5')"
      ],
      "execution_count": null,
      "outputs": []
    },
    {
      "cell_type": "code",
      "metadata": {
        "colab_type": "code",
        "id": "03mgi5O5neOU",
        "colab": {
          "base_uri": "https://localhost:8080/",
          "height": 406
        },
        "outputId": "3fe6987d-06e5-4933-9d1d-c2678de48024"
      },
      "source": [
        "# avalia o modelo\n",
        "score = model.evaluate(X_test_pad, y_test_enc)\n",
        "print(\"\\nAcurácia: \", score[-1])\n",
        "\n",
        "# verifica as predições\n",
        "print(\"\\nPredições:\")\n",
        "pred = model.predict_proba(X_test_pad)\n",
        "print(pred)"
      ],
      "execution_count": 80,
      "outputs": [
        {
          "output_type": "stream",
          "text": [
            "197/197 [==============================] - 25s 125ms/step - loss: 0.7701 - categorical_accuracy: 0.7900\n",
            "\n",
            "Acurácia:  0.7900095582008362\n",
            "\n",
            "Predições:\n",
            "WARNING:tensorflow:From <ipython-input-80-afff5ee5dfd8>:7: Sequential.predict_proba (from tensorflow.python.keras.engine.sequential) is deprecated and will be removed after 2021-01-01.\n",
            "Instructions for updating:\n",
            "Please use `model.predict()` instead.\n",
            "[[9.99897361e-01 1.46347156e-05 7.32642457e-06 4.54412257e-05\n",
            "  3.52215138e-05]\n",
            " [8.26584637e-01 2.18453724e-02 1.15931574e-02 1.27399728e-01\n",
            "  1.25770727e-02]\n",
            " [9.90285933e-01 4.71468316e-04 1.57761708e-04 2.23251525e-03\n",
            "  6.85231760e-03]\n",
            " ...\n",
            " [9.73115087e-01 4.31838585e-03 4.75717429e-03 4.74758400e-03\n",
            "  1.30618038e-02]\n",
            " [9.31206942e-01 1.09524075e-02 9.56918672e-03 2.25361083e-02\n",
            "  2.57353745e-02]\n",
            " [1.00650704e-02 2.80752897e-01 6.68063089e-02 5.39004728e-02\n",
            "  5.88475287e-01]]\n"
          ],
          "name": "stdout"
        }
      ]
    },
    {
      "cell_type": "markdown",
      "metadata": {
        "id": "m6vGs_wn441g",
        "colab_type": "text"
      },
      "source": [
        "### RNN com LSTM + Word Embeddings Pré-Treinadas"
      ]
    },
    {
      "cell_type": "code",
      "metadata": {
        "id": "G0MSeBYb441h",
        "colab_type": "code",
        "colab": {
          "base_uri": "https://localhost:8080/",
          "height": 125
        },
        "outputId": "fdf1f918-d701-4051-9a1b-0687f0e735c6"
      },
      "source": [
        "%%time\n",
        "wget.download('http://143.107.183.175:22980/download.php?file=embeddings/word2vec/skip_s300.zip')\n",
        "\n",
        "with zipfile.ZipFile('skip_s300.zip', 'r') as file:\n",
        "  file.extractall()\n",
        "\n",
        "from gensim.models import KeyedVectors\n",
        "# Fonte: http://www.nilc.icmc.usp.br/nilc/index.php/repositorio-de-word-embeddings-do-nilc\n",
        "\n",
        "try:\n",
        "    word_vectors_300\n",
        "except NameError:\n",
        "    print('loading word_vectors skip_s300.txt')\n",
        "    word_vectors = word_vectors_300 = KeyedVectors.load_word2vec_format('skip_s300.txt', binary=False)\n",
        "    EMBEDDING_DIM = 300"
      ],
      "execution_count": 81,
      "outputs": [
        {
          "output_type": "stream",
          "text": [
            "loading word_vectors skip_s300.txt\n"
          ],
          "name": "stdout"
        },
        {
          "output_type": "stream",
          "text": [
            "/usr/local/lib/python3.6/dist-packages/smart_open/smart_open_lib.py:254: UserWarning: This function is deprecated, use smart_open.open instead. See the migration notes for details: https://github.com/RaRe-Technologies/smart_open/blob/master/README.rst#migrating-to-the-new-open-function\n",
            "  'See the migration notes for details: %s' % _MIGRATION_NOTES_URL\n"
          ],
          "name": "stderr"
        },
        {
          "output_type": "stream",
          "text": [
            "CPU times: user 3min 56s, sys: 9.68 s, total: 4min 6s\n",
            "Wall time: 11min 27s\n"
          ],
          "name": "stdout"
        }
      ]
    },
    {
      "cell_type": "code",
      "metadata": {
        "id": "T_LwLzHL441j",
        "colab_type": "code",
        "colab": {}
      },
      "source": [
        "# Preparando matriz embedding\n",
        "word_index = tokenizer_keras.word_index\n",
        "vocabulary_size = min(len(word_index)+1, vocab_size)\n",
        "embedding_matrix = np.zeros((vocabulary_size, EMBEDDING_DIM))\n",
        "for word, i in word_index.items():\n",
        "    if i >= vocab_size:\n",
        "        continue\n",
        "    try:\n",
        "        embedding_vector = word_vectors[word]\n",
        "        embedding_matrix[i] = embedding_vector\n",
        "    except KeyError:\n",
        "        embedding_matrix[i]=np.random.normal(0,np.sqrt(0.25),EMBEDDING_DIM)"
      ],
      "execution_count": 82,
      "outputs": []
    },
    {
      "cell_type": "code",
      "metadata": {
        "id": "jb8LOUmb441k",
        "colab_type": "code",
        "colab": {
          "base_uri": "https://localhost:8080/",
          "height": 281
        },
        "outputId": "ed1f62b1-0d5c-439d-f9e3-53cd5691012e"
      },
      "source": [
        "print('EMBEDDING_DIM', EMBEDDING_DIM)\n",
        "print('vocabulary_size', vocabulary_size)\n",
        "print('embedding_matrix', embedding_matrix)"
      ],
      "execution_count": 83,
      "outputs": [
        {
          "output_type": "stream",
          "text": [
            "EMBEDDING_DIM 300\n",
            "vocabulary_size 11762\n",
            "embedding_matrix [[ 0.          0.          0.         ...  0.          0.\n",
            "   0.        ]\n",
            " [ 0.06486    -0.235111   -0.054545   ... -0.210254   -0.091862\n",
            "   0.14789701]\n",
            " [ 0.02961    -0.106587    0.29595101 ... -0.31621099  0.085867\n",
            "   0.099205  ]\n",
            " ...\n",
            " [-0.066371   -0.32743999 -0.199082   ... -0.264386   -0.31326601\n",
            "  -0.034625  ]\n",
            " [ 0.162461   -0.037902    0.13376001 ...  0.25483999  0.082408\n",
            "   0.061019  ]\n",
            " [-0.023454   -0.036739   -0.042249   ... -0.310343   -0.215425\n",
            "  -0.0302    ]]\n"
          ],
          "name": "stdout"
        }
      ]
    },
    {
      "cell_type": "code",
      "metadata": {
        "id": "X1-BQmK2441m",
        "colab_type": "code",
        "colab": {
          "base_uri": "https://localhost:8080/",
          "height": 90
        },
        "outputId": "799aed14-3940-4b07-cd2c-5d93d2d2a5b6"
      },
      "source": [
        "%%time\n",
        "# cria o modelo\n",
        "#top_words = 5000\n",
        "#gru_output_size = 128\n",
        "embedding_vecor_length = 300\n",
        "#hidden_size = 500\n",
        "model2 = Sequential()\n",
        "model2.add(Embedding(vocab_size, input_length=max_sequence_length, output_dim=EMBEDDING_DIM, weights=[embedding_matrix], trainable=False))\n",
        "model2.add(LSTM(128, dropout=0.3, recurrent_dropout=0.3))\n",
        "#model2.add(Dropout(0.2))\n",
        "model2.add(Dense(len(labels_classes), activation='softmax'))\n",
        "model2.compile(loss='categorical_crossentropy', optimizer='adam', metrics=['categorical_accuracy'])\n",
        "#model2.compile(loss='binary_crossentropy', optimizer='adam', metrics=['accuracy'])"
      ],
      "execution_count": 84,
      "outputs": [
        {
          "output_type": "stream",
          "text": [
            "WARNING:tensorflow:Layer lstm_1 will not use cuDNN kernel since it doesn't meet the cuDNN kernel criteria. It will use generic GPU kernel as fallback when running on GPU\n",
            "CPU times: user 228 ms, sys: 24.9 ms, total: 253 ms\n",
            "Wall time: 235 ms\n"
          ],
          "name": "stdout"
        }
      ]
    },
    {
      "cell_type": "code",
      "metadata": {
        "id": "PnijzzK6441o",
        "colab_type": "code",
        "colab": {
          "base_uri": "https://localhost:8080/",
          "height": 281
        },
        "outputId": "7a3811bd-6f26-4750-9124-5d63633a9601"
      },
      "source": [
        "print(model2.summary())"
      ],
      "execution_count": 85,
      "outputs": [
        {
          "output_type": "stream",
          "text": [
            "Model: \"sequential_1\"\n",
            "_________________________________________________________________\n",
            "Layer (type)                 Output Shape              Param #   \n",
            "=================================================================\n",
            "embedding_1 (Embedding)      (None, 500, 300)          3528600   \n",
            "_________________________________________________________________\n",
            "lstm_1 (LSTM)                (None, 128)               219648    \n",
            "_________________________________________________________________\n",
            "dense_1 (Dense)              (None, 5)                 645       \n",
            "=================================================================\n",
            "Total params: 3,748,893\n",
            "Trainable params: 220,293\n",
            "Non-trainable params: 3,528,600\n",
            "_________________________________________________________________\n",
            "None\n"
          ],
          "name": "stdout"
        }
      ]
    },
    {
      "cell_type": "code",
      "metadata": {
        "id": "9GDVG6Op441p",
        "colab_type": "code",
        "colab": {
          "base_uri": "https://localhost:8080/",
          "height": 87
        },
        "outputId": "f7d104a8-10eb-407c-9384-669a89b6ef43"
      },
      "source": [
        "%%time\n",
        "loss, accuracy = model2.evaluate(X_train_pad, y_train_enc, verbose=1)\n",
        "print('Training Accuracy is {}'.format(accuracy*100))"
      ],
      "execution_count": 86,
      "outputs": [
        {
          "output_type": "stream",
          "text": [
            "459/459 [==============================] - 57s 125ms/step - loss: 1.6128 - categorical_accuracy: 0.2504\n",
            "Training Accuracy is 25.039207935333252\n",
            "CPU times: user 57.5 s, sys: 256 ms, total: 57.7 s\n",
            "Wall time: 57.9 s\n"
          ],
          "name": "stdout"
        }
      ]
    },
    {
      "cell_type": "code",
      "metadata": {
        "id": "xv6ponza441r",
        "colab_type": "code",
        "colab": {}
      },
      "source": [
        "# cria um checkpoint para salvar os pesos do melhor modelo encontrado no trainamento\n",
        "checkpointer = ModelCheckpoint(filepath='rnn_embeddings.best.hdf5', verbose=1, save_best_only=True)\n",
        "# detecta quando parar\n",
        "es = EarlyStopping(monitor='val_categorical_accuracy', patience=4, mode='max', verbose=1)"
      ],
      "execution_count": 87,
      "outputs": []
    },
    {
      "cell_type": "code",
      "metadata": {
        "id": "xIMZN2Hq441s",
        "colab_type": "code",
        "colab": {
          "base_uri": "https://localhost:8080/",
          "height": 424
        },
        "outputId": "8cd4a7a3-a4f6-4d50-ed3e-9ecac15aeb72"
      },
      "source": [
        "%%time\n",
        "hist = model2.fit(X_train_pad, y_train_enc, validation_data=(X_test_pad, y_test_enc), epochs=5, callbacks=[checkpointer, es], batch_size=128) # batch_size=64,"
      ],
      "execution_count": 88,
      "outputs": [
        {
          "output_type": "stream",
          "text": [
            "Epoch 1/5\n",
            "115/115 [==============================] - ETA: 0s - loss: 0.9342 - categorical_accuracy: 0.6919\n",
            "Epoch 00001: val_loss improved from inf to 0.75473, saving model to rnn_embeddings.best.hdf5\n",
            "115/115 [==============================] - 186s 2s/step - loss: 0.9342 - categorical_accuracy: 0.6919 - val_loss: 0.7547 - val_categorical_accuracy: 0.7389\n",
            "Epoch 2/5\n",
            "115/115 [==============================] - ETA: 0s - loss: 0.7064 - categorical_accuracy: 0.7583\n",
            "Epoch 00002: val_loss improved from 0.75473 to 0.70306, saving model to rnn_embeddings.best.hdf5\n",
            "115/115 [==============================] - 190s 2s/step - loss: 0.7064 - categorical_accuracy: 0.7583 - val_loss: 0.7031 - val_categorical_accuracy: 0.7560\n",
            "Epoch 3/5\n",
            "115/115 [==============================] - ETA: 0s - loss: 0.6586 - categorical_accuracy: 0.7784\n",
            "Epoch 00003: val_loss improved from 0.70306 to 0.67610, saving model to rnn_embeddings.best.hdf5\n",
            "115/115 [==============================] - 188s 2s/step - loss: 0.6586 - categorical_accuracy: 0.7784 - val_loss: 0.6761 - val_categorical_accuracy: 0.7673\n",
            "Epoch 4/5\n",
            "115/115 [==============================] - ETA: 0s - loss: 0.6296 - categorical_accuracy: 0.7841\n",
            "Epoch 00004: val_loss improved from 0.67610 to 0.66437, saving model to rnn_embeddings.best.hdf5\n",
            "115/115 [==============================] - 189s 2s/step - loss: 0.6296 - categorical_accuracy: 0.7841 - val_loss: 0.6644 - val_categorical_accuracy: 0.7749\n",
            "Epoch 5/5\n",
            "115/115 [==============================] - ETA: 0s - loss: 0.6036 - categorical_accuracy: 0.7950\n",
            "Epoch 00005: val_loss improved from 0.66437 to 0.64739, saving model to rnn_embeddings.best.hdf5\n",
            "115/115 [==============================] - 186s 2s/step - loss: 0.6036 - categorical_accuracy: 0.7950 - val_loss: 0.6474 - val_categorical_accuracy: 0.7833\n",
            "CPU times: user 23min 17s, sys: 2min 59s, total: 26min 16s\n",
            "Wall time: 15min 48s\n"
          ],
          "name": "stdout"
        }
      ]
    },
    {
      "cell_type": "code",
      "metadata": {
        "id": "CTseM4KB441t",
        "colab_type": "code",
        "colab": {
          "base_uri": "https://localhost:8080/",
          "height": 295
        },
        "outputId": "63dd9936-a918-4b60-8fc7-8a98aa72cb72"
      },
      "source": [
        "plt.plot(hist.history['loss'], label='train')\n",
        "plt.plot(hist.history['val_loss'], label='test')\n",
        "plt.legend()\n",
        "plt.title('model loss')\n",
        "plt.ylabel('loss')\n",
        "plt.xlabel('epoch')\n",
        "plt.show()"
      ],
      "execution_count": 89,
      "outputs": [
        {
          "output_type": "display_data",
          "data": {
            "image/png": "[encoded data removed]",
            "text/plain": [
              "<Figure size 432x288 with 1 Axes>"
            ]
          },
          "metadata": {
            "tags": [],
            "needs_background": "light"
          }
        }
      ]
    },
    {
      "cell_type": "code",
      "metadata": {
        "id": "71Zlw_kR441u",
        "colab_type": "code",
        "colab": {
          "base_uri": "https://localhost:8080/",
          "height": 295
        },
        "outputId": "696f23ca-7e65-4487-c552-f7165276ac3b"
      },
      "source": [
        "plt.plot(hist.history['categorical_accuracy'], label='train')\n",
        "plt.plot(hist.history['val_categorical_accuracy'], label='test')\n",
        "plt.legend()\n",
        "plt.title('model accuracy')\n",
        "plt.ylabel('accuracy')\n",
        "plt.xlabel('epoch')\n",
        "plt.show()"
      ],
      "execution_count": 90,
      "outputs": [
        {
          "output_type": "display_data",
          "data": {
            "image/png": "[encoded data removed]",
            "text/plain": [
              "<Figure size 432x288 with 1 Axes>"
            ]
          },
          "metadata": {
            "tags": [],
            "needs_background": "light"
          }
        }
      ]
    },
    {
      "cell_type": "code",
      "metadata": {
        "id": "Wz1LG7of441x",
        "colab_type": "code",
        "colab": {}
      },
      "source": [
        "#model.save('rnn_embeddings.h5')"
      ],
      "execution_count": null,
      "outputs": []
    },
    {
      "cell_type": "code",
      "metadata": {
        "id": "iikd1TtO4411",
        "colab_type": "code",
        "colab": {
          "base_uri": "https://localhost:8080/",
          "height": 228
        },
        "outputId": "29b1da61-2d00-4e45-be89-dcec635fbfb5"
      },
      "source": [
        "# avalia o modelo\n",
        "score = model2.evaluate(X_test_pad, y_test_enc)\n",
        "print(\"\\nAcurácia: \", score[-1])\n",
        "\n",
        "# verifica as predições\n",
        "print(\"\\nPredições:\")\n",
        "pred = model2.predict_proba(X_test_pad)\n",
        "print(pred)"
      ],
      "execution_count": 91,
      "outputs": [
        {
          "output_type": "stream",
          "text": [
            "197/197 [==============================] - 25s 126ms/step - loss: 0.6474 - categorical_accuracy: 0.7833\n",
            "\n",
            "Acurácia:  0.7833280563354492\n",
            "\n",
            "Predições:\n",
            "[[9.8682797e-01 7.3855207e-04 2.4140756e-04 8.1332056e-03 4.0588961e-03]\n",
            " [5.8991235e-01 6.4598210e-02 1.9275595e-02 2.7614826e-01 5.0065640e-02]\n",
            " [8.5612243e-01 3.6903560e-02 2.1770326e-03 7.8193389e-02 2.6603624e-02]\n",
            " ...\n",
            " [8.7306732e-01 1.1853614e-02 1.2370457e-02 3.5380524e-02 6.7328133e-02]\n",
            " [8.9993489e-01 1.5109094e-02 1.0034780e-02 3.3836074e-02 4.1085199e-02]\n",
            " [2.6051578e-01 1.4614101e-01 2.0173633e-01 1.9795164e-01 1.9365527e-01]]\n"
          ],
          "name": "stdout"
        }
      ]
    },
    {
      "cell_type": "markdown",
      "metadata": {
        "id": "G-9sYrJdFScx",
        "colab_type": "text"
      },
      "source": [
        "### RESUMO\n",
        "\n",
        "Comparação entre Algoritmos:<br>\n",
        "\n",
        "| ALGORITMO    | % ACURÁCIA |\n",
        "| :--- | ---: | \n",
        "| Naive Bayes | 78,94 | \n",
        "| SVM | 77,27 (BoW) ~ 78,05 (TFIDF) | \n",
        "| Regressão Logística | 79,19 (BoW) ~ 79,96 (TFIDF) | \n",
        "| RNN + LSTM | 79,00 | \n",
        "| RNN + LSTM + Word Embeddings | 78,33 | \n",
        "<br>"
      ]
    },
    {
      "cell_type": "markdown",
      "metadata": {
        "id": "WC-47BHmRIMz",
        "colab_type": "text"
      },
      "source": [
        "Neste trabalho, o algoritmo de redes neurais recorrentes não obteve acurácias significantemente superiores, como era esperado. Na verdade, todos os algoritmos apresentaram acurácias bem semelhantes. Ainda que fossem definidas mais épocas, resultados melhores não apareciam. Minha hipótese é que a limitação na melhora do desempenho está relacionada ao dataset. Há um claro desbalanceamento do dataset e seria necessário um trabalho em equilibrar as frequências de cada classe de emoção. Além disso, também é muito provável continuar com remoção de palavras mais significativas, definindo-as como stopwords em um trabalho recorrente de pré-processamento dos textos."
      ]
    },
    {
      "cell_type": "code",
      "metadata": {
        "id": "FZGxRyS64413",
        "colab_type": "code",
        "colab": {}
      },
      "source": [
        ""
      ],
      "execution_count": null,
      "outputs": []
    },
    {
      "cell_type": "code",
      "metadata": {
        "id": "ohAg4cW8442I",
        "colab_type": "code",
        "colab": {}
      },
      "source": [
        ""
      ],
      "execution_count": null,
      "outputs": []
    }
  ]
}